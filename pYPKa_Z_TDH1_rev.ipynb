{
 "cells": [
  {
   "cell_type": "markdown",
   "metadata": {},
   "source": [
    "# pYPKa_Z_TDH1_rev\n",
    "\n",
    "This plasmid is the same as [pYPKa_Z_TDH1](pYPKa_Z_TDH1.ipynb) but with the insert inverted\n",
    "\n",
    "\n",
    "###Freezer ID\n",
    "    Strain#..: ?\n",
    "    Box......: ?\n",
    "    Position.: ?\n",
    "\n",
    "Importing the [pydna](https://pypi.python.org/pypi/pydna/) package.\n",
    "Pydna is [open source](https://github.com/BjornFJohansson/pydna), documentated [here](http://pydna.readthedocs.org/en/latest/) and has a support [forum](https://groups.google.com/forum/#!forum/pydna) as well as a publication:\n",
    "\n",
    "[Pereira F, Azevedo F, Carvalho Â, Ribeiro GF, Budde MW, Johansson B: Pydna: a simulation and documentation tool for DNA assembly strategies using python. BMC Bioinformatics 2015, 16:142.](http://www.biomedcentral.com/1471-2105/16/142/abstract)"
   ]
  },
  {
   "cell_type": "code",
   "execution_count": 21,
   "metadata": {
    "collapsed": true
   },
   "outputs": [],
   "source": [
    "import pydna\n",
    "from pydna import ipynb_importer"
   ]
  },
  {
   "cell_type": "markdown",
   "metadata": {},
   "source": [
    "Read the cloning vector from a local file [file](pYPKa.gb), description of [pYPKa](pYPKa.ipynb)."
   ]
  },
  {
   "cell_type": "code",
   "execution_count": 22,
   "metadata": {
    "collapsed": true
   },
   "outputs": [],
   "source": [
    "pYPKa = pydna.read(\"pYPKa.gb\")"
   ]
  },
  {
   "cell_type": "markdown",
   "metadata": {},
   "source": [
    "This vector should be a circular 3128 bp DNA molecule."
   ]
  },
  {
   "cell_type": "code",
   "execution_count": 23,
   "metadata": {
    "collapsed": false
   },
   "outputs": [
    {
     "data": {
      "text/plain": [
       "Dseqrecord(o3128)"
      ]
     },
     "execution_count": 23,
     "metadata": {},
     "output_type": "execute_result"
    }
   ],
   "source": [
    "pYPKa"
   ]
  },
  {
   "cell_type": "markdown",
   "metadata": {},
   "source": [
    "The circular seguid checksum of pYPKa should be\n",
    "\n",
    "```aV1eIrzOiCjvw01yvKkxDXHKLMk```"
   ]
  },
  {
   "cell_type": "code",
   "execution_count": 24,
   "metadata": {
    "collapsed": false
   },
   "outputs": [
    {
     "data": {
      "text/plain": [
       "aV1eIrzOiCjvw01yvKkxDXHKLMk"
      ]
     },
     "execution_count": 24,
     "metadata": {},
     "output_type": "execute_result"
    }
   ],
   "source": [
    "pYPKa.cseguid()"
   ]
  },
  {
   "cell_type": "markdown",
   "metadata": {},
   "source": [
    "Importing the restriction enzyme to be used for cloning from Biopython.\n",
    "[ZraI](http://rebase.neb.com/rebase/enz/ZraI.html)"
   ]
  },
  {
   "cell_type": "code",
   "execution_count": 25,
   "metadata": {
    "collapsed": true
   },
   "outputs": [],
   "source": [
    "from Bio.Restriction import ZraI"
   ]
  },
  {
   "cell_type": "markdown",
   "metadata": {},
   "source": [
    "This enzyme should cut only once in pYPKa."
   ]
  },
  {
   "cell_type": "code",
   "execution_count": 26,
   "metadata": {
    "collapsed": true
   },
   "outputs": [],
   "source": [
    "pYPKa_ZraI = pYPKa.linearize(ZraI)"
   ]
  },
  {
   "cell_type": "markdown",
   "metadata": {},
   "source": [
    "The template below comes from a Genbank [record](http://www.ncbi.nlm.nih.gov/nuccore/BK006941.2).\n",
    "Access to Genbank is needed in order to download the template.\n",
    "If you execute this script, change the email address below to your own.\n",
    "Always tell Genbank who you are, when using their web service."
   ]
  },
  {
   "cell_type": "code",
   "execution_count": 27,
   "metadata": {
    "collapsed": true
   },
   "outputs": [],
   "source": [
    "gb = pydna.Genbank(\"bjornjobb@gmail.com\")"
   ]
  },
  {
   "cell_type": "markdown",
   "metadata": {},
   "source": [
    "The template is downloaded from Genbank below."
   ]
  },
  {
   "cell_type": "code",
   "execution_count": 28,
   "metadata": {
    "collapsed": true
   },
   "outputs": [],
   "source": [
    "template = gb.nucleotide(\"BK006943.2 REGION: 337038..338270\")"
   ]
  },
  {
   "cell_type": "markdown",
   "metadata": {},
   "source": [
    "The template is a 267 bp linear DNA fragment."
   ]
  },
  {
   "cell_type": "code",
   "execution_count": 29,
   "metadata": {
    "collapsed": false
   },
   "outputs": [
    {
     "data": {
      "text/plain": [
       "Dseqrecord(-1233)"
      ]
     },
     "execution_count": 29,
     "metadata": {},
     "output_type": "execute_result"
    }
   ],
   "source": [
    "template"
   ]
  },
  {
   "cell_type": "markdown",
   "metadata": {},
   "source": [
    "The insert has the sequence shown below."
   ]
  },
  {
   "cell_type": "code",
   "execution_count": 30,
   "metadata": {
    "collapsed": false
   },
   "outputs": [
    {
     "data": {
      "text/plain": [
       "'AAAAGCTCGACCTTAAATAAGGTGAAGATGTGGTTCTCTGTTCTTTCAACATCTCGATATTTAACTTTTCGTTTGGCATTATAGTGTTATACATAACAATATCTAGATTTCAGTAGAAGACTTTTGCGTAAGTTATAACGAACTAAACAAGCAAGAGGTAAAATACGATATAGTAAGAAGCTCAAGTGCTAAAACTTTTTTTCTCTACGAAAGGAGGAATAGCATATGGTTTTCTTCCCTTTTACAGTGCTTCGGAAAAGCACAGCGTTGTCCAAGGGAACAATTTTTCTTCAAGTTAATGCATAAGAAATATCTTTTTTTATGTTTAGCTAAGTAAAAGCAGCTTGGAGTAAAAAAAAAAATGAGTAAATTTCTCGATGGATTAGTTTCTCACAGGTAACATAACAAAAACCAAGAAAAGCCCGCTTCTGAAAACTACAGTTGACTTGTATGCTAAAGGGCCAGACTAATGGGAGGAGAAAAAGAAACGAATGTATATGCTCATTTACACTCTATATCACCATATGGAGGATAAGTTGGGCTGAGCTTCTGATCCAATTTATTCTATCCATTAGTTGCTGATATGTCCCACCAGCCAACACTTGATAGTATCTACTCGCCATTCACTTCCAGCAGCGCCAGTAGGGTTGTTGAGCTTAGTAAAAATGTGCGCACCACAAGCCTACATGACTCCACGTCACATGAAACCACACCGTGGGGCCTTGTTGCGCTAGGAATAGGATATGCGACGAAGACGCTTCTGCTTAGTAACCACACCACATTTTCAGGGGGTCGATCTGCTTGCTTCCTTTACTGTCACGAGCGGCCCATAATCGCGCTTTTTTTTTAAAAGGCGCGAGACAGCAAACAGGAAGCTCGGGTTTCAACCTTCGGAGTGGTCGCAGATCTGGAGACTGGATCTTTACAATACAGTAAGGCAAGCCACCATCTGCTTCTTAGGTGCATGCGACGGTATCCACGTGCAGAACAACATAGTCTGAAGAAGGGGGGGAGGAGCATGTTCATTCTCTGTAGCAGTAAGAGCTTGGTGATAATGACCAAAACTGGAGTCTCGAAATCATATAAATAGACAATATATTTTCACACAATGAGATTTGTAGTACAGTTCTATTCTCTCTCTTGCATAAATAAGAAATTCATCAAGAACTTGGTTTGATATTTCACCAACACACACAAAAAACAGTACTTCACTAAATTTACACACAAAACAAA'"
      ]
     },
     "execution_count": 30,
     "metadata": {},
     "output_type": "execute_result"
    }
   ],
   "source": [
    "str(template.seq)"
   ]
  },
  {
   "cell_type": "markdown",
   "metadata": {},
   "source": [
    "Two primers are used to amplify the insert:"
   ]
  },
  {
   "cell_type": "code",
   "execution_count": 31,
   "metadata": {
    "collapsed": false
   },
   "outputs": [
    {
     "data": {
      "text/plain": [
       "Dseqrecord(-1246)"
      ]
     },
     "execution_count": 31,
     "metadata": {},
     "output_type": "execute_result"
    }
   ],
   "source": [
    "f,r = pydna.parse(\"\"\">547_ScTDH1tpf (27-mer)\n",
    "                     ttaaatAAAAGCTCGACCTTAAATAAG\n",
    "                     >653_ScTDH1tpr_PacI\n",
    "                     taattaaTTTGTTTTGTGTGTAAATTTAG\"\"\", ds=False)\n",
    "\n",
    "insert = pydna.pcr(f, r, template)\n",
    "insert"
   ]
  },
  {
   "cell_type": "markdown",
   "metadata": {},
   "source": [
    "The primers anneal on the template like this."
   ]
  },
  {
   "cell_type": "code",
   "execution_count": 32,
   "metadata": {
    "collapsed": false
   },
   "outputs": [
    {
     "data": {
      "text/plain": [
       "      5AAAAGCTCGACCTTAAATAAG...CTAAATTTACACACAAAACAAA3\n",
       "                               |||||||||||||||||||||| tm 44.2 (dbd) 55.4\n",
       "                              3GATTTAAATGTGTGTTTTGTTTaattaat5\n",
       "5ttaaatAAAAGCTCGACCTTAAATAAG3\n",
       "       ||||||||||||||||||||| tm 46.2 (dbd) 57.6\n",
       "      3TTTTCGAGCTGGAATTTATTC...GATTTAAATGTGTGTTTTGTTT5"
      ]
     },
     "execution_count": 32,
     "metadata": {},
     "output_type": "execute_result"
    }
   ],
   "source": [
    "insert.figure()"
   ]
  },
  {
   "cell_type": "markdown",
   "metadata": {},
   "source": [
    "A recombinant plasmid is formed by ligating the insert PCR product to the linear vector."
   ]
  },
  {
   "cell_type": "code",
   "execution_count": 33,
   "metadata": {
    "collapsed": true
   },
   "outputs": [],
   "source": [
    "plasmid = (pYPKa_ZraI + insert.rc()).looped()"
   ]
  },
  {
   "cell_type": "markdown",
   "metadata": {},
   "source": [
    "The plasmid sequence is rotated so that the origin is in the same position as for the cloning vector sequence."
   ]
  },
  {
   "cell_type": "code",
   "execution_count": 34,
   "metadata": {
    "collapsed": true
   },
   "outputs": [],
   "source": [
    "pYPKa_Z_TDH1_rev = plasmid.synced(pYPKa)"
   ]
  },
  {
   "cell_type": "code",
   "execution_count": 35,
   "metadata": {
    "collapsed": false
   },
   "outputs": [
    {
     "data": {
      "text/plain": [
       "D8abxjpwv03qaCdXDn6T8JZYjR4"
      ]
     },
     "execution_count": 35,
     "metadata": {},
     "output_type": "execute_result"
    }
   ],
   "source": [
    "pYPKa_Z_TDH1_rev.cseguid()"
   ]
  },
  {
   "cell_type": "markdown",
   "metadata": {},
   "source": [
    "The file is named pYPKa_Z_TDH1_rev"
   ]
  },
  {
   "cell_type": "code",
   "execution_count": 36,
   "metadata": {
    "collapsed": false
   },
   "outputs": [],
   "source": [
    "pYPKa_Z_TDH1_rev.name = \"pYPKa_Z_TDH1_rev\"\n",
    "pYPKa_Z_TDH1_rev.description = \"pYPKa_Z_TDH1_rev\""
   ]
  },
  {
   "cell_type": "markdown",
   "metadata": {},
   "source": [
    "Stamp sequence with cSEGUID checksum"
   ]
  },
  {
   "cell_type": "code",
   "execution_count": 37,
   "metadata": {
    "collapsed": false
   },
   "outputs": [
    {
     "data": {
      "text/plain": [
       "cSEGUID_D8abxjpwv03qaCdXDn6T8JZYjR4_2015-07-15T14:48:41.562768"
      ]
     },
     "execution_count": 37,
     "metadata": {},
     "output_type": "execute_result"
    }
   ],
   "source": [
    "pYPKa_Z_TDH1_rev.stamp()"
   ]
  },
  {
   "cell_type": "markdown",
   "metadata": {},
   "source": [
    "Write sequence to a local file."
   ]
  },
  {
   "cell_type": "code",
   "execution_count": 38,
   "metadata": {
    "collapsed": false
   },
   "outputs": [
    {
     "data": {
      "text/markdown": [
       "###[pYPKa_Z_TDH1_rev](pYPKa_Z_TDH1_rev.gb)"
      ],
      "text/plain": [
       "<IPython.core.display.Markdown object>"
      ]
     },
     "execution_count": 38,
     "metadata": {},
     "output_type": "execute_result"
    }
   ],
   "source": [
    "pYPKa_Z_TDH1_rev.write(\"pYPKa_Z_TDH1_rev.gb\")"
   ]
  },
  {
   "cell_type": "markdown",
   "metadata": {},
   "source": [
    "### Download [pYPKa_Z_TDH1_rev](pYPKa_Z_TDH1_rev.gb)"
   ]
  },
  {
   "cell_type": "code",
   "execution_count": 39,
   "metadata": {
    "collapsed": false
   },
   "outputs": [
    {
     "data": {
      "text/plain": [
       "cSEGUID_D8abxjpwv03qaCdXDn6T8JZYjR4"
      ]
     },
     "execution_count": 39,
     "metadata": {},
     "output_type": "execute_result"
    }
   ],
   "source": [
    "import pydna\n",
    "reloaded = pydna.read(\"pYPKa_Z_TDH1_rev.gb\")\n",
    "reloaded.verify_stamp()"
   ]
  }
 ],
 "metadata": {
  "kernelspec": {
   "display_name": "Python 2",
   "language": "python",
   "name": "python2"
  },
  "language_info": {
   "codemirror_mode": {
    "name": "ipython",
    "version": 2
   },
   "file_extension": ".py",
   "mimetype": "text/x-python",
   "name": "python",
   "nbconvert_exporter": "python",
   "pygments_lexer": "ipython2",
   "version": "2.7.10"
  }
 },
 "nbformat": 4,
 "nbformat_minor": 0
}
