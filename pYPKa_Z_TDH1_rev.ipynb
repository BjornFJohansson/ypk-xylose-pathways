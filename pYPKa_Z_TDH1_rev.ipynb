{
 "cells": [
  {
   "cell_type": "markdown",
   "metadata": {},
   "source": [
    "# pYPKa_Z_TDH1_rev\n",
    "\n",
    "This plasmid is the same as [pYPKa_Z_TDH1](pYPKa_Z_TDH1.ipynb) but with the insert inverted\n",
    "\n",
    "\n",
    "###Freezer ID\n",
    "    Strain#..: ?\n",
    "    Box......: ?\n",
    "    Position.: ?\n",
    "\n",
    "Importing the [pydna](https://pypi.python.org/pypi/pydna/) package.\n",
    "Pydna is [open source](https://github.com/BjornFJohansson/pydna), documentated [here](http://pydna.readthedocs.org/en/latest/) and has a support [forum](https://groups.google.com/forum/#!forum/pydna) as well as a publication:\n",
    "\n",
    "[Pereira F, Azevedo F, Carvalho Â, Ribeiro GF, Budde MW, Johansson B: Pydna: a simulation and documentation tool for DNA assembly strategies using python. BMC Bioinformatics 2015, 16:142.](http://www.biomedcentral.com/1471-2105/16/142/abstract)"
   ]
  },
  {
   "cell_type": "code",
   "execution_count": 1,
   "metadata": {
    "collapsed": true
   },
   "outputs": [],
   "source": [
    "from pydna.all import *"
   ]
  },
  {
   "cell_type": "markdown",
   "metadata": {},
   "source": [
    "Read the cloning vector from a local file [file](pYPKa.gb), description of [pYPKa](pYPKa.ipynb)."
   ]
  },
  {
   "cell_type": "code",
   "execution_count": 2,
   "metadata": {
    "collapsed": true
   },
   "outputs": [],
   "source": [
    "pYPKa =read(\"pYPKa.gb\")"
   ]
  },
  {
   "cell_type": "markdown",
   "metadata": {},
   "source": [
    "This vector should be a circular 3128 bp DNA molecule."
   ]
  },
  {
   "cell_type": "code",
   "execution_count": 3,
   "metadata": {
    "collapsed": false
   },
   "outputs": [
    {
     "data": {
      "text/html": [
       "<a href='pYPKa.gb' target='_blank'>pYPKa.gb</a><br>"
      ],
      "text/plain": [
       "File(3128bp TmU_6uVdgKq5aQhTpHux7dVk9J8)(o3128)"
      ]
     },
     "execution_count": 3,
     "metadata": {},
     "output_type": "execute_result"
    }
   ],
   "source": [
    "pYPKa"
   ]
  },
  {
   "cell_type": "markdown",
   "metadata": {},
   "source": [
    "The circular seguid checksum of pYPKa should be\n",
    "\n",
    "```aV1eIrzOiCjvw01yvKkxDXHKLMk```"
   ]
  },
  {
   "cell_type": "code",
   "execution_count": 4,
   "metadata": {
    "collapsed": false
   },
   "outputs": [
    {
     "data": {
      "text/plain": [
       "aV1eIrzOiCjvw01yvKkxDXHKLMk"
      ]
     },
     "execution_count": 4,
     "metadata": {},
     "output_type": "execute_result"
    }
   ],
   "source": [
    "pYPKa.cseguid()"
   ]
  },
  {
   "cell_type": "markdown",
   "metadata": {},
   "source": [
    "Importing the restriction enzyme to be used for cloning from Biopython.\n",
    "[ZraI](http://rebase.neb.com/rebase/enz/ZraI.html)"
   ]
  },
  {
   "cell_type": "code",
   "execution_count": 5,
   "metadata": {
    "collapsed": true
   },
   "outputs": [],
   "source": [
    "from Bio.Restriction import ZraI"
   ]
  },
  {
   "cell_type": "markdown",
   "metadata": {},
   "source": [
    "This enzyme should cut only once in pYPKa."
   ]
  },
  {
   "cell_type": "code",
   "execution_count": 6,
   "metadata": {
    "collapsed": true
   },
   "outputs": [],
   "source": [
    "pYPKa_ZraI = pYPKa.linearize(ZraI)"
   ]
  },
  {
   "cell_type": "markdown",
   "metadata": {},
   "source": [
    "The template below comes from a Genbank [record](http://www.ncbi.nlm.nih.gov/nuccore/BK006941.2).\n",
    "Access to Genbank is needed in order to download the template.\n",
    "If you execute this script, change the email address below to your own.\n",
    "Always tell Genbank who you are, when using their web service."
   ]
  },
  {
   "cell_type": "code",
   "execution_count": 7,
   "metadata": {
    "collapsed": true
   },
   "outputs": [],
   "source": [
    "gb =Genbank(\"bjornjobb@gmail.com\")"
   ]
  },
  {
   "cell_type": "markdown",
   "metadata": {},
   "source": [
    "The template is downloaded from Genbank below."
   ]
  },
  {
   "cell_type": "code",
   "execution_count": 8,
   "metadata": {
    "collapsed": true
   },
   "outputs": [],
   "source": [
    "template = gb.nucleotide(\"BK006943.2 REGION: 337038..338270\")"
   ]
  },
  {
   "cell_type": "markdown",
   "metadata": {},
   "source": [
    "The template is a 267 bp linear DNA fragment."
   ]
  },
  {
   "cell_type": "code",
   "execution_count": 9,
   "metadata": {
    "collapsed": false
   },
   "outputs": [
    {
     "data": {
      "text/html": [
       "<a href='https://www.ncbi.nlm.nih.gov/nuccore/BK006943.2 ?from=337038&to=338270&strand=1' target='_blank'>BK006943.2  337038-338270</a>"
      ],
      "text/plain": [
       "Gbank(BK006943.2  337038-338270)(-1233)"
      ]
     },
     "execution_count": 9,
     "metadata": {},
     "output_type": "execute_result"
    }
   ],
   "source": [
    "template"
   ]
  },
  {
   "cell_type": "markdown",
   "metadata": {},
   "source": [
    "The insert has the sequence shown below."
   ]
  },
  {
   "cell_type": "code",
   "execution_count": 10,
   "metadata": {
    "collapsed": false
   },
   "outputs": [
    {
     "data": {
      "text/plain": [
       "AAAAGCTCGACCTTAAATAAGGTGAAGATGTGGTTCTCTGTTCTTTCAACATCTCGATATTTAACTTTTCGTTTGGCATTATAGTGTTATACATAACAATATCTAGATTTCAGTAGAAGACTTTTGCGTAAGTTATAACGAACTAAACAAGCAAGAGGTAAAATACGATATAGTAAGAAGCTCAAGTGCTAAAACTTTTTTTCTCTACGAAAGGAGGAATAGCATATGGTTTTCTTCCCTTTTACAGTGCTTCGGAAAAGCACAGCGTTGTCCAAGGGAACAATTTTTCTTCAAGTTAATGCATAAGAAATATCTTTTTTTATGTTTAGCTAAGTAAAAGCAGCTTGGAGTAAAAAAAAAAATGAGTAAATTTCTCGATGGATTAGTTTCTCACAGGTAACATAACAAAAACCAAGAAAAGCCCGCTTCTGAAAACTACAGTTGACTTGTATGCTAAAGGGCCAGACTAATGGGAGGAGAAAAAGAAACGAATGTATATGCTCATTTACACTCTATATCACCATATGGAGGATAAGTTGGGCTGAGCTTCTGATCCAATTTATTCTATCCATTAGTTGCTGATATGTCCCACCAGCCAACACTTGATAGTATCTACTCGCCATTCACTTCCAGCAGCGCCAGTAGGGTTGTTGAGCTTAGTAAAAATGTGCGCACCACAAGCCTACATGACTCCACGTCACATGAAACCACACCGTGGGGCCTTGTTGCGCTAGGAATAGGATATGCGACGAAGACGCTTCTGCTTAGTAACCACACCACATTTTCAGGGGGTCGATCTGCTTGCTTCCTTTACTGTCACGAGCGGCCCATAATCGCGCTTTTTTTTTAAAAGGCGCGAGACAGCAAACAGGAAGCTCGGGTTTCAACCTTCGGAGTGGTCGCAGATCTGGAGACTGGATCTTTACAATACAGTAAGGCAAGCCACCATCTGCTTCTTAGGTGCATGCGACGGTATCCACGTGCAGAACAACATAGTCTGAAGAAGGGGGGGAGGAGCATGTTCATTCTCTGTAGCAGTAAGAGCTTGGTGATAATGACCAAAACTGGAGTCTCGAAATCATATAAATAGACAATATATTTTCACACAATGAGATTTGTAGTACAGTTCTATTCTCTCTCTTGCATAAATAAGAAATTCATCAAGAACTTGGTTTGATATTTCACCAACACACACAAAAAACAGTACTTCACTAAATTTACACACAAAACAAA"
      ]
     },
     "execution_count": 10,
     "metadata": {},
     "output_type": "execute_result"
    }
   ],
   "source": [
    "str(template.seq)"
   ]
  },
  {
   "cell_type": "markdown",
   "metadata": {},
   "source": [
    "Two primers are used to amplify the insert:"
   ]
  },
  {
   "cell_type": "code",
   "execution_count": 11,
   "metadata": {
    "collapsed": false
   },
   "outputs": [
    {
     "data": {
      "text/html": [
       "Amplicon(1246)"
      ],
      "text/plain": [
       "Amplicon(1246)"
      ]
     },
     "execution_count": 11,
     "metadata": {},
     "output_type": "execute_result"
    }
   ],
   "source": [
    "f,r =parse(\"\"\">547_ScTDH1tpf (27-mer)\n",
    "                     ttaaatAAAAGCTCGACCTTAAATAAG\n",
    "                     >653_ScTDH1tpr_PacI\n",
    "                     taattaaTTTGTTTTGTGTGTAAATTTAG\"\"\", ds=False)\n",
    "\n",
    "insert =pcr(f, r, template)\n",
    "insert"
   ]
  },
  {
   "cell_type": "markdown",
   "metadata": {},
   "source": [
    "The primers anneal on the template like this."
   ]
  },
  {
   "cell_type": "code",
   "execution_count": 12,
   "metadata": {
    "collapsed": false
   },
   "outputs": [
    {
     "data": {
      "text/plain": [
       "      5AAAAGCTCGACCTTAAATAAG...CTAAATTTACACACAAAACAAA3\n",
       "                               |||||||||||||||||||||| tm 49.5 (dbd) 55.4\n",
       "                              3GATTTAAATGTGTGTTTTGTTTaattaat5\n",
       "5ttaaatAAAAGCTCGACCTTAAATAAG3\n",
       "       ||||||||||||||||||||| tm 51.8 (dbd) 57.6\n",
       "      3TTTTCGAGCTGGAATTTATTC...GATTTAAATGTGTGTTTTGTTT5"
      ]
     },
     "execution_count": 12,
     "metadata": {},
     "output_type": "execute_result"
    }
   ],
   "source": [
    "insert.figure()"
   ]
  },
  {
   "cell_type": "markdown",
   "metadata": {},
   "source": [
    "A recombinant plasmid is formed by ligating the insert PCR product to the linear vector."
   ]
  },
  {
   "cell_type": "code",
   "execution_count": 13,
   "metadata": {
    "collapsed": true
   },
   "outputs": [],
   "source": [
    "plasmid = (pYPKa_ZraI + insert.rc()).looped()"
   ]
  },
  {
   "cell_type": "markdown",
   "metadata": {},
   "source": [
    "The plasmid sequence is rotated so that the origin is in the same position as for the cloning vector sequence."
   ]
  },
  {
   "cell_type": "code",
   "execution_count": 14,
   "metadata": {
    "collapsed": true
   },
   "outputs": [],
   "source": [
    "pYPKa_Z_TDH1_rev = plasmid.synced(pYPKa)"
   ]
  },
  {
   "cell_type": "code",
   "execution_count": 15,
   "metadata": {
    "collapsed": false
   },
   "outputs": [
    {
     "data": {
      "text/plain": [
       "D8abxjpwv03qaCdXDn6T8JZYjR4"
      ]
     },
     "execution_count": 15,
     "metadata": {},
     "output_type": "execute_result"
    }
   ],
   "source": [
    "pYPKa_Z_TDH1_rev.cseguid()"
   ]
  },
  {
   "cell_type": "markdown",
   "metadata": {},
   "source": [
    "The file is named pYPKa_Z_TDH1_rev"
   ]
  },
  {
   "cell_type": "code",
   "execution_count": 16,
   "metadata": {
    "collapsed": false
   },
   "outputs": [],
   "source": [
    "pYPKa_Z_TDH1_rev.name = \"pYPKa_Z_TDH1_rev\"\n",
    "pYPKa_Z_TDH1_rev.description = \"pYPKa_Z_TDH1_rev\""
   ]
  },
  {
   "cell_type": "markdown",
   "metadata": {},
   "source": [
    "Stamp sequence with cSEGUID checksum"
   ]
  },
  {
   "cell_type": "code",
   "execution_count": 17,
   "metadata": {
    "collapsed": false
   },
   "outputs": [
    {
     "data": {
      "text/plain": [
       "cSEGUID_D8abxjpwv03qaCdXDn6T8JZYjR4"
      ]
     },
     "execution_count": 17,
     "metadata": {},
     "output_type": "execute_result"
    }
   ],
   "source": [
    "pYPKa_Z_TDH1_rev.stamp()"
   ]
  },
  {
   "cell_type": "markdown",
   "metadata": {},
   "source": [
    "Write sequence to a local file."
   ]
  },
  {
   "cell_type": "code",
   "execution_count": 18,
   "metadata": {
    "collapsed": false
   },
   "outputs": [
    {
     "data": {
      "text/html": [
       "<font face=monospace><a href='pYPKa_Z_TDH1_rev.gb' target='_blank'>pYPKa_Z_TDH1_rev.gb</a></font><br>"
      ]
     },
     "metadata": {},
     "output_type": "display_data"
    }
   ],
   "source": [
    "pYPKa_Z_TDH1_rev.write(\"pYPKa_Z_TDH1_rev.gb\")"
   ]
  },
  {
   "cell_type": "markdown",
   "metadata": {},
   "source": [
    "### Download [pYPKa_Z_TDH1_rev](pYPKa_Z_TDH1_rev.gb)"
   ]
  },
  {
   "cell_type": "code",
   "execution_count": 19,
   "metadata": {
    "collapsed": false
   },
   "outputs": [],
   "source": [
    "from pydna.all import *\n",
    "reloaded =read(\"pYPKa_Z_TDH1_rev.gb\")\n",
    "assert reloaded.cseguid() in reloaded.definition"
   ]
  }
 ],
 "metadata": {
  "kernelspec": {
   "display_name": "Python 3",
   "language": "python",
   "name": "python3"
  },
  "language_info": {
   "codemirror_mode": {
    "name": "ipython",
    "version": 3
   },
   "file_extension": ".py",
   "mimetype": "text/x-python",
   "name": "python",
   "nbconvert_exporter": "python",
   "pygments_lexer": "ipython3",
   "version": "3.6.3"
  }
 },
 "nbformat": 4,
 "nbformat_minor": 0
}
