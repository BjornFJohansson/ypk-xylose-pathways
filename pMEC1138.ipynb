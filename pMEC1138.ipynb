{
 "cells": [
  {
   "cell_type": "markdown",
   "metadata": {
    "collapsed": true
   },
   "source": [
    "# pMEC1138\n",
    "\n",
    "This vector expresses eight genes and was assembled from the eight single gene expression cassettes below:\n",
    "\n",
    "Gene | Enzyme | Acronym | Cassette\n",
    "-------------------------------------------------- |-------------------|---|-----|\n",
    "[SsXYL1](http://www.ncbi.nlm.nih.gov/gene/4839234) |D-xylose reductase |XR | [pYPK0_TEF1tp_PsXYL1_N272D_TDH3tp](pYPK0_TEF1tp_PsXYL1_N272D_TDH3tp.ipynb)\n",
    "[SsXYL2](http://www.ncbi.nlm.nih.gov/gene/4852013) |xylitol dehydrogenase |XDH | [pYPK0_TDH3tp_PsXYL2_PGI1tp](pYPK0_TDH3tp_PsXYL2_PGI1tp.ipynb)\n",
    "[ScXKS1](http://www.yeastgenome.org/locus/S000003426/overview) |Xylulokinase |XK | [pYPK0_PGI1tp_ScXKS1_FBA1tp](pYPK0_PGI1tp_ScXKS1_FBA1tp.ipynb)\n",
    "[ScTAL1](http://www.yeastgenome.org/locus/S000004346/overview) |Transaldolase |tal1p | [pYPK0_FBA1tp_ScTAL1_PDC1tp](pYPK0_FBA1tp_ScTAL1_PDC1tp.ipynb)\n",
    "[ScTKL1](http://www.yeastgenome.org/locus/S000006278/overview) |Transketolase |TKL | [pYPK0_PDC1tp_ScTKL1_RPS19btp](pYPK0_PDC1tp_ScTKL1_RPS19btp.ipynb)\n",
    "[ScRPE1](http://www.yeastgenome.org/locus/S000003657/overview) |xylitol dehydrogenase |RPE | [pYPK0_RPS19btp_ScRPE1_RPS19atp](pYPK0_RPS19btp_ScRPE1_RPS19atp.ipynb)\n",
    "[ScRKI1](http://www.yeastgenome.org/locus/S000005621/overview) |Xylulokinase |RKI | [pYPK0_RPS19atp_ScRKI1_TPI1tp](pYPK0_RPS19atp_ScRKI1_TPI1tp.ipynb)\n",
    "[CiGXF1](http://mic.sgmjournals.org/content/154/6/1646.full) |Transaldolase |GXF | [pYPK0_TPI1tp_CiGXF1_ENO2tp](pYPK0_TPI1tp_CiGXF1_ENO2tp.ipynb)\n"
   ]
  },
  {
   "cell_type": "markdown",
   "metadata": {},
   "source": [
    "    TEF1tp_XR_N272D_TPI1tp\n",
    "                    TPI1tp_XDH_PDC1tp\n",
    "                               PDC1tp_XK_FBA1tp\n",
    "                                         FBA1tp_TAL1_PDC1tp\n",
    "\n",
    "\n",
    "    PDC1tp_ScTKL1_RPS19btp\n",
    "                  RPS19btp_ScRPE1_RPS19atp\n",
    "                                  RPS19atp_ScRKI1_TPI1tp\n",
    "                                                  TPI1tp_CiGXF1_ENO2tp\n",
    "\n"
   ]
  },
  {
   "cell_type": "markdown",
   "metadata": {},
   "source": [
    "[pMEC1135](pMEC1135.ipynb)\n",
    "[pMEC1137](pMEC1137.ipynb)"
   ]
  },
  {
   "cell_type": "code",
   "execution_count": 1,
   "metadata": {
    "collapsed": true
   },
   "outputs": [],
   "source": [
    "import pydna"
   ]
  },
  {
   "cell_type": "code",
   "execution_count": 2,
   "metadata": {
    "collapsed": true
   },
   "outputs": [],
   "source": [
    "from pydna import ipynb_importer"
   ]
  },
  {
   "cell_type": "code",
   "execution_count": 16,
   "metadata": {
    "collapsed": false
   },
   "outputs": [],
   "source": [
    "from pMEC1135 import cas1, cas2, cas3, p409"
   ]
  },
  {
   "cell_type": "code",
   "execution_count": 15,
   "metadata": {
    "collapsed": false
   },
   "outputs": [],
   "source": [
    "from pMEC1137 import p1 as p5, cas2 as cas6, cas3 as cas7, cas4 as cas8, p625, p647, p413"
   ]
  },
  {
   "cell_type": "code",
   "execution_count": 17,
   "metadata": {
    "collapsed": false
   },
   "outputs": [],
   "source": [
    "cas4 = pydna.pcr(p409, p625, p4)"
   ]
  },
  {
   "cell_type": "code",
   "execution_count": 18,
   "metadata": {
    "collapsed": false
   },
   "outputs": [],
   "source": [
    "cas5 = pydna.pcr(p413, p647, p5)"
   ]
  },
  {
   "cell_type": "code",
   "execution_count": 19,
   "metadata": {
    "collapsed": true
   },
   "outputs": [],
   "source": [
    "pYPK0 = pydna.read(\"pYPK0.gb\")"
   ]
  },
  {
   "cell_type": "code",
   "execution_count": 20,
   "metadata": {
    "collapsed": false
   },
   "outputs": [
    {
     "name": "stdout",
     "output_type": "stream",
     "text": [
      "pYPK0 cSEGUID_qSJ95NM815X60yBy4l6iI69a_Dw_2015-05-09T06:06:22.550085\n"
     ]
    },
    {
     "data": {
      "text/plain": [
       "qSJ95NM815X60yBy4l6iI69a_Dw"
      ]
     },
     "execution_count": 20,
     "metadata": {},
     "output_type": "execute_result"
    }
   ],
   "source": [
    "print pYPK0.description\n",
    "pYPK0.cseguid()"
   ]
  },
  {
   "cell_type": "code",
   "execution_count": 21,
   "metadata": {
    "collapsed": true
   },
   "outputs": [],
   "source": [
    "from Bio.Restriction import ZraI, AjiI, EcoRV"
   ]
  },
  {
   "cell_type": "code",
   "execution_count": 22,
   "metadata": {
    "collapsed": false
   },
   "outputs": [],
   "source": [
    "pYPK0_E_Z, stuffer = pYPK0.cut((EcoRV, ZraI))"
   ]
  },
  {
   "cell_type": "code",
   "execution_count": 23,
   "metadata": {
    "collapsed": false
   },
   "outputs": [
    {
     "data": {
      "text/plain": [
       "(Dseqrecord(-5681),\n",
       " Amplicon(2432),\n",
       " Amplicon(2889),\n",
       " Amplicon(3532),\n",
       " Amplicon(2693),\n",
       " Amplicon(3723),\n",
       " Amplicon(2005),\n",
       " Amplicon(2022),\n",
       " Amplicon(2906))"
      ]
     },
     "execution_count": 23,
     "metadata": {},
     "output_type": "execute_result"
    }
   ],
   "source": [
    "pYPK0_E_Z, cas1, cas2, cas3, cas4, cas5, cas6, cas7, cas8"
   ]
  },
  {
   "cell_type": "code",
   "execution_count": 24,
   "metadata": {
    "collapsed": false
   },
   "outputs": [],
   "source": [
    "asm = pydna.Assembly( (pYPK0_E_Z, cas1, cas2, cas3, cas4, cas5, cas6, cas7, cas8) , limit = 61)"
   ]
  },
  {
   "cell_type": "code",
   "execution_count": 25,
   "metadata": {
    "collapsed": false
   },
   "outputs": [
    {
     "data": {
      "text/plain": [
       "Assembly:\n",
       "Sequences........................: [5681] [2432] [2889] [3532] [2693] [3723] [2005] [2022] [2906]\n",
       "Sequences with shared homologies.: [5681] [2432] [2906] [2889] [3532] [2693] [3723] [2005] [2022]\n",
       "Homology limit (bp)..............: 61\n",
       "Number of overlaps...............: 10\n",
       "Nodes in graph(incl. 5' & 3')....: 12\n",
       "Only terminal overlaps...........: No\n",
       "Circular products................: [22594] [21228] [1366]\n",
       "Linear products..................: [23607] [23563] [23306] [23238] [23233] [23190] [23151] [22692] [22655] [22241] [22197] [21940] [21872] [21867] [21824] [21785] [21725] [21514] [21430] [21326] [21289] [20972] [20719] [20479] [20397] [20359] [20345] [20246] [20148] [20064] [19606] [19353] [19113] [19096] [19031] [18995] [18979] [18880] [18542] [18430] [18348] [17730] [17629] [17605] [17514] [17176] [17072] [17064] [16982] [16818] [16208] [15911] [15829] [15706] [15556] [15452] [15352] [14842] [14762] [14760] [14663] [14545] [14484] [14463] [13986] [13734] [13652] [13476] [13396] [13297] [13118] [13042] [13037] [12943] [12711] [12368] [12286] [12110] [11931] [11676] [11577] [11400] [11318] [11166] [11067] [10860] [10588] [10211] [10192] [10034] [9952] [9800] [9701] [9222] [9177] [8864] [8526] [8335] [8278] [8179] [8015] [7498] [7457] [7128] [6912] [6813] [6554] [6455] [5780] [5698] [5581] [5447] [5408] [5188] [5089] [4609] [4414] [4332] [3470] [3388] [3371] [2104] [1923] [1013] [969] [712] [644] [639] [596] [557] [98] [61]"
      ]
     },
     "execution_count": 25,
     "metadata": {},
     "output_type": "execute_result"
    }
   ],
   "source": [
    "asm"
   ]
  },
  {
   "cell_type": "code",
   "execution_count": 29,
   "metadata": {
    "collapsed": false
   },
   "outputs": [],
   "source": [
    "candidate = asm.circular_products[0]"
   ]
  },
  {
   "cell_type": "code",
   "execution_count": null,
   "metadata": {
    "collapsed": false
   },
   "outputs": [],
   "source": [
    "candidate.small_fig()"
   ]
  },
  {
   "cell_type": "code",
   "execution_count": 39,
   "metadata": {
    "collapsed": false
   },
   "outputs": [],
   "source": [
    "pw = candidate.synced(pYPK0)"
   ]
  },
  {
   "cell_type": "code",
   "execution_count": 40,
   "metadata": {
    "collapsed": false
   },
   "outputs": [
    {
     "data": {
      "text/plain": [
       "22594"
      ]
     },
     "execution_count": 40,
     "metadata": {},
     "output_type": "execute_result"
    }
   ],
   "source": [
    "len(pw)"
   ]
  },
  {
   "cell_type": "code",
   "execution_count": 41,
   "metadata": {
    "collapsed": false
   },
   "outputs": [
    {
     "data": {
      "text/plain": [
       "iy47I_X3O5lQr_JPkGfFqiYYnZI"
      ]
     },
     "execution_count": 41,
     "metadata": {},
     "output_type": "execute_result"
    }
   ],
   "source": [
    "pw.cseguid()"
   ]
  },
  {
   "cell_type": "code",
   "execution_count": 42,
   "metadata": {
    "collapsed": false
   },
   "outputs": [
    {
     "data": {
      "text/plain": [
       "cSEGUID_iy47I_X3O5lQr_JPkGfFqiYYnZI_2015-05-11T09:12:07.191236"
      ]
     },
     "execution_count": 42,
     "metadata": {},
     "output_type": "execute_result"
    }
   ],
   "source": [
    "pw.name = \"pMEC1138\"\n",
    "pw.description=\"pYPK0_TEF1tp_XR_N272D_TPI1tp_XDH_PDC1tp_XK_FBA1tp_TAL1_PDC1tpPDC1tp_ScTKL1_RPS19btp_ScRPE1_RPS19atp_ScRKI1_TPI1tp_CiGXF1_ENO2tp (alternative name pYPK0_8)\"\n",
    "pw.stamp()"
   ]
  },
  {
   "cell_type": "code",
   "execution_count": 43,
   "metadata": {
    "collapsed": false
   },
   "outputs": [
    {
     "data": {
      "text/plain": [
       "'pYPK0_TEF1tp_XR_N272D_TPI1tp_XDH_PDC1tp_XK_FBA1tp_TAL1_PDC1tpPDC1tp_ScTKL1_RPS19btp_ScRPE1_RPS19atp_ScRKI1_TPI1tp_CiGXF1_ENO2tp (alternative name pYPK0_8) cSEGUID_iy47I_X3O5lQr_JPkGfFqiYYnZI_2015-05-11T09:12:07.191236'"
      ]
     },
     "execution_count": 43,
     "metadata": {},
     "output_type": "execute_result"
    }
   ],
   "source": [
    "pw.description"
   ]
  },
  {
   "cell_type": "code",
   "execution_count": 44,
   "metadata": {
    "collapsed": false
   },
   "outputs": [
    {
     "name": "stdout",
     "output_type": "stream",
     "text": [
      "Sequence change\n",
      "pMEC1138_OLD.gb 22614 bp seguid Psy1VAoFvzZ8l6ePjR836NX6d78\n",
      "pMEC1138.gb 22594 bp seguid rctDgebDoox992JFcEGJV61c6Rk\n",
      "\n"
     ]
    },
    {
     "name": "stderr",
     "output_type": "stream",
     "text": [
      "/home/bjorn/anaconda/envs/bjorn/lib/python2.7/site-packages/Bio/SeqIO/InsdcIO.py:438: BiopythonWarning: Annotation 'pYPK0_TEF1tp_XR_N272D_TPI1tp_XDH_PDC1tp_XK_FBA1tp_TAL1_PDC1tpPDC1tp_ScTKL1_RPS19btp_ScRPE1_RPS19atp_ScRKI1_TPI1tp_CiGXF1_ENO2tp' too long for '' line\n",
      "  BiopythonWarning)\n"
     ]
    }
   ],
   "source": [
    "pw.write(\"pMEC1138.gb\")"
   ]
  },
  {
   "cell_type": "markdown",
   "metadata": {
    "collapsed": false
   },
   "source": [
    "###[DOWNLOAD](pMEC1138.gb)"
   ]
  },
  {
   "cell_type": "code",
   "execution_count": 47,
   "metadata": {
    "collapsed": true
   },
   "outputs": [],
   "source": [
    "reloaded = pydna.read(\"pMEC1138.gb\")"
   ]
  },
  {
   "cell_type": "code",
   "execution_count": 48,
   "metadata": {
    "collapsed": false
   },
   "outputs": [
    {
     "data": {
      "text/plain": [
       "iy47I_X3O5lQr_JPkGfFqiYYnZI"
      ]
     },
     "execution_count": 48,
     "metadata": {},
     "output_type": "execute_result"
    }
   ],
   "source": [
    "reloaded.cseguid()"
   ]
  },
  {
   "cell_type": "code",
   "execution_count": 49,
   "metadata": {
    "collapsed": false
   },
   "outputs": [
    {
     "data": {
      "text/plain": [
       "' pYPK0_TEF1tp_XR_N272D_TPI1tp_XDH_PDC1tp_XK_FBA1tp_TAL1_PDC1tpPDC1tp_ScTKL1_RPS19btp_ScRPE1_RPS19atp_ScRKI1_TPI1tp_CiGXF1_ENO2tp (alternative name pYPK0_8) cSEGUID_iy47I_X3O5lQr_JPkGfFqiYYnZI_2015-05-11T09:12:07.191236'"
      ]
     },
     "execution_count": 49,
     "metadata": {},
     "output_type": "execute_result"
    }
   ],
   "source": [
    "reloaded.description"
   ]
  },
  {
   "cell_type": "code",
   "execution_count": 50,
   "metadata": {
    "collapsed": false
   },
   "outputs": [
    {
     "data": {
      "text/plain": [
       "22594"
      ]
     },
     "execution_count": 50,
     "metadata": {},
     "output_type": "execute_result"
    }
   ],
   "source": [
    "len(reloaded)"
   ]
  },
  {
   "cell_type": "code",
   "execution_count": null,
   "metadata": {
    "collapsed": true
   },
   "outputs": [],
   "source": []
  }
 ],
 "metadata": {
  "kernelspec": {
   "display_name": "Python 2",
   "language": "python",
   "name": "python2"
  },
  "language_info": {
   "codemirror_mode": {
    "name": "ipython",
    "version": 2
   },
   "file_extension": ".py",
   "mimetype": "text/x-python",
   "name": "python",
   "nbconvert_exporter": "python",
   "pygments_lexer": "ipython2",
   "version": "2.7.9"
  }
 },
 "nbformat": 4,
 "nbformat_minor": 0
}
