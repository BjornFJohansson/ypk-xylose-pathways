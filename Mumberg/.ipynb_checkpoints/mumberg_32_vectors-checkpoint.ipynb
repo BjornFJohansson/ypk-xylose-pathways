{
 "cells": [
  {
   "cell_type": "markdown",
   "metadata": {},
   "source": [
    "# Mumberg 32 expression vectors\n",
    "\n",
    "This pydna notebook automatically assembles the sequences of the 32 expression \n",
    "vectors described in\n",
    "\n",
    "[Mumberg,D., Müller,R. and Funk,M. (1995) Yeast vectors for the controlled \n",
    "expression of heterologous proteins in different genetic backgrounds. \n",
    "Gene, 156, 119–122.](http://www.sciencedirect.com/science/article/pii/0378111995000377)\n",
    "\n",
    "\n",
    "These plasmids were made from the pRS series of yeast vectors.\n",
    "\n",
    "a [XhoI - KpnI fragment of the ScCYC1 terminator] was cloned using the same sites in pRS416\n",
    "resulting in p416CYC1t\n",
    "\n",
    "PCR generated SacI - XbaI promoter fragments of  ScTDH3pr, ScTEF1pr, ScADH1pr and ScCYC1pr promoters \n",
    "were cloned using the same sites resulting in:\n",
    "\n",
    "    p416GPD sequenced SacI,XbaI,XhoI,KpnI are unique\n",
    "    p416TEF sequenced SacI,XbaI,XhoI,KpnI are unique\n",
    "    p416ADH\n",
    "    p416CYC sequenced SacI,XbaI,KpnI are unique\n",
    "\n",
    "The SacI - KpnI promoter + terminator fragment was transferred to other pRS vectors using a strategy that is \n",
    "undisclosed in the paper. \n",
    "\n",
    "    ScTDH3pr-ScCYC1t\n",
    "    ScTEF1pr-ScCYC1t\n",
    "    ScADH1pr-ScCYC1t\n",
    "    ScCYC1pr-ScCYC1t\n",
    "\n",
    "Probably SacI - KpnI were used. In the case of pRS423 and pRS425, there are \n",
    "two KpnI sites, so maybe a partial cut was used?\n",
    "\n",
    "                            this part is the opposite direction in the paper (this version here is correct!)\n",
    "                               <--------------->\n",
    "    mcs:\n",
    "         7 SpeI      19 SmaI     31 EcoRI    43 HindIII           64 XhoI\n",
    "    1 XbaI      13 BamHI    25 PstI     37 EcoRV    49 ClaI  58 SalI\n",
    "    |     |     |     |     |     |     |     |     |        |     |     \n",
    "    TCTAGAACTAGTGGATCCCCCGGGCTGCAGGAATTCGATATCAAGCTTATCGATACCGTCGACCTCGAG\n",
    "    TCTAGAACTAGTGGATCCCCCGGGCTGCAGC...|\n",
    "                              ---------\n",
    "                              |...GAATTCGATATCAAGCTTATCGATACCGTCG\t\t\t    \n",
    "\t\t\n",
    "\n",
    "\t\t\t\t\t\t\t\t\t\t\t\t\t   \n",
    "    TCTAGAACTAGTGGATCCCCCGGGCTGCAGAatggttttcggtaacaggca\n",
    "\n",
    "           ccgttcggtctttagatagttaaGAATTCGATATCAAGCTTATCGATACCGTCGACCTCGAG\n",
    "\n",
    "    >primerfw\n",
    "    TCTAGAACTAGTGGATCCCCCGGGCTGCAGA...\n",
    "    >primerrev\n",
    "    CGACGGTATCGATAAGCTTGATATCGAATTC...\n",
    "\n",
    "                XbaI SpeI BamHI SmaI PstI EcoRI\tEcoRV HindIII ClaI SalI XhoI\n",
    "\n",
    "    p413 HIS3\tXbaI SpeI BamHI SmaI      EcoRI EcoRV         ClaI SalI XhoI\n",
    "    p414 TRP1\tXbaI SpeI BamHI SmaI PstI EcoRI               ClaI SalI XhoI\n",
    "    p415 LEU2\tXbaI SpeI BamHI SmaI PstI             HindIII      SalI XhoI\n",
    "    p416 URA3\tXbaI SpeI BamHI SmaI      EcoRI       HindIII ClaI SalI XhoI\n",
    "\n",
    "    p423 HIS3 \t     SpeI BamHI SmaI \t  EcoRI\tEcoRV         ClaI SalI XhoI\n",
    "    p424 TRP1        SpeI BamHI SmaI PstI EcoRI               ClaI SalI XhoI\n",
    "    p425 LEU2        SpeI BamHI SmaI PstI       \t  HindIII      SalI XhoI\n",
    "    p426 URA3        SpeI BamHI SmaI      EcoRI       HindIII ClaI SalI XhoI\n",
    "\n",
    "XbaI only unique in   p41XXXX (All centromeric vectors, but no episomal vectors)\n",
    "XhoI is not unique in p4XXCYC1 (any vector with ScCYC1 promoter)\n",
    "\n",
    "    M#  vector\t\t\tori         marker\n",
    "    --  -------  \n",
    "    M1\tp413GPD \t\tCEN6/ARSH4 \tHIS3\n",
    "    M2\tp423GPD \t\t 2 um\t\tHIS3\n",
    "    M3\tp414GPD \t\tCEN6/ARSH4 \tTRP1\n",
    "    M4\tp424GPD \t\t 2 um\t\tTRP1\n",
    "    M5\tp415GPD \t\tCEN6/ARSH4 \tLEU2\n",
    "    M6\tp425GPD \t\t 2 um\t\tLEU2\n",
    "    M7\tp416GPD \t\tCEN6/ARSH4 \tURA3 sequenced http://www.ncbi.nlm.nih.gov/nuccore/82548122\n",
    "    M8\tp426GPD \t\t 2 um\t\tURA3 sequenced http://www.ncbi.nlm.nih.gov/nuccore/76496266\n",
    "    M9\tp413TEF \t\tCEN6/ARSH4 \tHIS3\n",
    "    M10\tp423TEF \t\t 2 um\t\tHIS3\n",
    "    M11\tp414TEF \t\tCEN6/ARSH4 \tTRP1\n",
    "    M12\tp424TEF \t\t 2 um\t\tTRP1\n",
    "    M13\tp415TEF \t\tCEN6/ARSH4 \tLEU2\n",
    "    M14\tp425TEF \t\t 2 um\t\tLEU2\n",
    "    M15\tp416TEF \t\tCEN6/ARSH4 \tURA3 sequenced http://www.ncbi.nlm.nih.gov/nuccore/124365231\n",
    "    M16\tp426TEF \t\t 2 um\t\tURA3 assemb\n",
    "    M17\tp413ADH \t\tCEN6/ARSH4 \tHIS3\n",
    "    M18\tp423ADH \t\t 2 um\t\tHIS3\n",
    "    M19\tp414ADH \t\tCEN6/ARSH4 \tTRP1\n",
    "    M20\tp424ADH \t\t 2 um\t\tTRP1\n",
    "    M21\tp415ADH \t\tCEN6/ARSH4 \tLEU2\n",
    "    M22\tp425ADH \t\t 2 um\t\tLEU2 <-bad, not sold from ATCC anymore\n",
    "    M23\tp416ADH \t\tCEN6/ARSH4 \tURA3\n",
    "    M24\tp426ADH \t\t 2 um\t\tURA3\n",
    "    M25\tp413CYC \t\tCEN6/ARSH4 \tHIS3\n",
    "    M26\tp423CYC \t\t 2 um\t\tHIS3\n",
    "    M27\tp414CYC \t\tCEN6/ARSH4 \tTRP1\n",
    "    M28\tp424CYC \t\t 2 um\t\tTRP1\n",
    "    M29\tp415CYC \t\tCEN6/ARSH4 \tLEU2\n",
    "    M30\tp425CYC \t\t 2 um\t\tLEU2\n",
    "    M31\tp416CYC \t\tCEN6/ARSH4 \tURA3 sequenced\n",
    "    M32\tp426CYC\t\t \t2 um\t\tURA3"
   ]
  },
  {
   "cell_type": "code",
   "execution_count": 2,
   "metadata": {
    "collapsed": true
   },
   "outputs": [],
   "source": [
    "import pydna\n",
    "gb = pydna.Genbank(\"bjornjobb@gmail.com\")\n",
    "\n",
    "# The DNA fragments below were obtained from Saccharomyces Genome Database\n",
    "# www.sgd.org\n",
    "\n",
    "\n",
    "cyc1term = pydna.Dseqrecord(\"ctcgagtcatgtaattagttatgtcacgcttacattcacgccctccccccacat\"\n",
    "                            \"ccgctctaaccgaaaaggaaggagttagacaacctgaagtctaggtccctattt\"\n",
    "                            \"atttttttatagttatgttagtattaagaacgttatttatatttcaaatttttc\"\n",
    "                            \"ttttttttctgtacagacgcgtgtacgcatgtaacattatactgaaaaccttgc\"\n",
    "                            \"ttgagaaggttttgggacgctcgaaggctttaatttgcggccggtaccn\")\n",
    "\n",
    "tefprom = pydna.Dseqrecord(\"gagctcatagcttcaaaatgtttctactccttttttactcttccagattttctcgga\"\n",
    "                           \"ctccgcgcatcgccgtaccacttcaaaacacccaagcacagcatactaaatttcccc\"\n",
    "                           \"tctttcttcctctagggtgtcgttaattacccgtactaaaggtttggaaaagaaaaa\"\n",
    "                           \"agagaccgcctcgtttctttttcttcgtcgaaaaaggcaataaaaatttttatcacg\"\n",
    "                           \"tttctttttcttgaaaattttttttttgatttttttctctttcgatgacctcccatt\"\n",
    "                           \"gatatttaagttaataaacggtcttcaatttctcaagtttcagtttcatttttcttg\"\n",
    "                           \"ttctattacaactttttttacttcttgctcattagaaagaaagcatagcaatctaat\"\n",
    "                           \"ctaagttttctaga\")\n",
    "\n",
    "cycprom = pydna.Dseqrecord(\"gagctcatttggcgagcgttggttggtggatcaagcccacgcgtaggcaatcctcga\"\n",
    "                           \"gcagatccgccaggcgtgtatatatagcgtggatggccaggcaactttagtgctgac\"\n",
    "                           \"acatacaggcatatatatatgtgtgcgacgacacatgatcatatggcatgcatgtgc\"\n",
    "                           \"tctgtatgtatataaaactcttgttttcttcttttctctaaatattctttccttata\"\n",
    "                           \"cattaggacctttgcagcataaattactatacttctatagacacgcaaacacaaata\"\n",
    "                           \"cacacactaatctaga\")\n",
    "\n",
    "adhprom = pydna.Dseqrecord(\"gagctcTAAAACAAGAAGAGGGTTGACTACATCACGATGAGGGGGATCGAAGAAATG\"\n",
    "                           \"ATGGTAAATGAAATAGGAAATCAAGGAGCATGAAGGCAAAAGACAAATATAAGGGTC\"\n",
    "                           \"GAACGAAAAATAAAGTGAAAAGTGTTGATATGATGTATTTGGCTTTGCGGCGCCGAA\"\n",
    "                           \"AAAACGAGTTTACGCAATTGCACAATCATGCTGACTCTGTGGCGGACCCGCGCTCTT\"\n",
    "                           \"GCCGGCCCGGCGATAACGCTGGGCGTGAGGCTGTGCCCGGCGGAGTTTTTTGCGCCT\"\n",
    "                           \"GCATTTTCCAAGGTTTACCCTGCGCTAAGGGGCGAGATTGGAGAAGCAATAAGAATG\"\n",
    "                           \"CCGGTTGGGGTTGCGATGATGACGACCACGACAACTGGTGTCATTATTTAAGTTGCC\"\n",
    "                           \"GAAAGAACCTGAGTGCATTTGCAACATGAGTATACTAGAAGAATGAGCCAAGACTTG\"\n",
    "                           \"CGAGACGCGAGTTTGCCGGTGGTGCGAACAATAGAGCGACCATGACCTTGAAGGTGA\"\n",
    "                           \"GACGCGCATAACCGCTAGAGTACTTTGAAGAGGAAACAGCAATAGGGTTGCTACCAG\"\n",
    "                           \"TATAAATAGACAGGTACATACAACACTGGAAATGGTTGTCTGTTTGAGTACGCTTTC\"\n",
    "                           \"AATTCATTTGGGTGTGCACTTTATTATGTTACAATATGGAAGGGAACTTTACACTTC\"\n",
    "                           \"TCCTATGCACATATATTAATTAAAGTCCAATGCTAGTAGAGAAGGGGGGTAACACCC\"\n",
    "                           \"CTCCGCGCTCTTTTCCGATTTTTTTCTAAACCGTGGAATATTTCGGATATCCTTTTG\"\n",
    "                           \"TTGTTTCCGGGTGTACAATATGGACTTCCTCTTTTCTGGCAACCAAACCCATACATC\"\n",
    "                           \"GGGATTCCTATAATACCTTCGTTGGTCTCCCTAACATGTAGGTGGCGGAGGGGAGAT\"\n",
    "                           \"ATACAATAGAACAGATACCAGACAAGACATAATGGGCTAAACAAGACTACACCAATT\"\n",
    "                           \"ACACTGCCTCATTGATGGTGGTACATAACGAACTAATACTGTAGCCCTAGACTTGAT\"\n",
    "                           \"AGCCATCATCATATCGAAGTTTCACTACCCTTTTTCCATTTGCCATCTATTGAAGTA\"\n",
    "                           \"ATAATAGGCGCATGCAACTTCTTTTCTTTTTTTTTCTTTTCTCTCTCCCCCGTTGTT\"\n",
    "                           \"GTCTCACCATATCCGCAATGACAAAAAAATGATGGAAGACACTAAAGGAAAAAATTA\"\n",
    "                           \"ACGACAAAGACAGCACCAACAGATGTCGTTGTTCCAGAGCTGATGAGGGGTATCTCG\"\n",
    "                           \"AAGCACACGAAACTTTTTCCTTCCTTCATTCACGCACACTACTCTCTAATGAGCAAC\"\n",
    "                           \"GGTATACGGCCTTCCTTCCAGTTACTTGAATTTGAAATAAAAAAAAGTTTGCTGTCT\"\n",
    "                           \"TGCTATCAAGTATAAATAGACCTGCAATTATTAATCTTTTGTTTCCTCGTCATTGTT\"\n",
    "                           \"CTCGTTCCCTTTCTTCCTTGTTTCTTTTTCTGCACAATATTTCAAGCTATACCAAGC\"\n",
    "                           \"ATACAATCAACTATCTCATATACAtctaga\")\n",
    "\n",
    "gpdprom = pydna.Dseqrecord(\"gagctcagtttatcattatcaatactcgccatttcaaagaatacgtaaataattaat\"\n",
    "                           \"agtagtgattttcctaactttatttagtcaaaaaattagccttttaattctgctgta\"\n",
    "                           \"acccgtacatgcccaaaatagggggcgggttacacagaatatataacatcgtaggtg\"\n",
    "                           \"tctgggtgaacagtttattcctggcatccactaaatataatggagcccgctttttaa\"\n",
    "                           \"gctggcatccagaaaaaaaaagaatcccagcaccaaaatattgttttcttcaccaac\"\n",
    "                           \"catcagttcataggtccattctcttagcgcaactacagagaacaggggcacaaacag\"\n",
    "                           \"gcaaaaaacgggcacaacctcaatggagtgatgcaacctgcctggagtaaatgatga\"\n",
    "                           \"cacaaggcaattgacccacgcatgtatctatctcattttcttacaccttctattacc\"\n",
    "                           \"ttctgctctctctgatttggaaaaagctgaaaaaaaaggttgaaaccagttccctga\"\n",
    "                           \"aattattcccctacttgactaataagtatataaagacggtaggtattgattgtaatt\"\n",
    "                           \"ctgtaaatctatttcttaaacttcttaaattctacttttatagttagtctttttttt\"\n",
    "                           \"agttttaaaacaccagaacttagtttcgacggattctaga\")"
   ]
  },
  {
   "cell_type": "code",
   "execution_count": 3,
   "metadata": {
    "collapsed": false
   },
   "outputs": [],
   "source": [
    "from Bio.Restriction import XhoI, KpnI, SacI, XbaI\n",
    "\n",
    "# The Mumberg vectors depend on these pRS plasmids\n",
    "\n",
    "pRS413 = gb.nucleotide(\"U03447\")\n",
    "pRS414 = gb.nucleotide(\"U03448\")\n",
    "pRS415 = gb.nucleotide(\"U03449\")\n",
    "pRS416 = gb.nucleotide(\"U03450\")\n",
    "\n",
    "pRS423 = gb.nucleotide(\"U03454\")\n",
    "pRS424 = gb.nucleotide(\"U03453\")\n",
    "pRS425 = gb.nucleotide(\"U03452\")\n",
    "pRS426 = gb.nucleotide(\"U03451\")"
   ]
  },
  {
   "cell_type": "code",
   "execution_count": 4,
   "metadata": {
    "collapsed": true
   },
   "outputs": [],
   "source": [
    "# The CYC1 terminator was cloned in pRS416 using XhoI and KpnI\n",
    "\n",
    "p416cyc1term = ( pRS416.cut(XhoI, KpnI).pop(0).rc() + cyc1term.cut(XhoI, KpnI)[1] ).looped()\n",
    "\n",
    "# The p416cyc1term was opened using SacI and XbaI\n",
    "\n",
    "bb, stuffer = p416cyc1term.cut(SacI, XbaI)\n",
    "\n",
    "# Each promoter was cloned in front of the CYC1 terminator\n",
    "\n",
    "\n",
    "p416GPD = ( bb + gpdprom.cut(SacI, XbaI)[1] ).looped().synced(\"gacgaaagggcctcgtgatacgccta\")\n",
    "p416TEF = ( bb + tefprom.cut(SacI, XbaI)[1] ).looped().synced(\"gacgaaagggcctcgtgatacgccta\")\n",
    "p416ADH = ( bb + adhprom.cut(SacI, XbaI)[1] ).looped().synced(\"gacgaaagggcctcgtgatacgccta\")\n",
    "p416CYC = ( bb + cycprom.cut(SacI, XbaI)[1] ).looped().synced(\"gacgaaagggcctcgtgatacgccta\")"
   ]
  },
  {
   "cell_type": "code",
   "execution_count": 5,
   "metadata": {
    "collapsed": false
   },
   "outputs": [
    {
     "data": {
      "text/markdown": [
       "###[p416CYC](p416CYC.gb)"
      ],
      "text/plain": [
       "<IPython.core.display.Markdown object>"
      ]
     },
     "execution_count": 5,
     "metadata": {},
     "output_type": "execute_result"
    }
   ],
   "source": [
    "# Write the first four plamids to files \n",
    "\n",
    "p416GPD.write(\"p416GPD.gb\")\n",
    "p416TEF.write(\"p416TEF.gb\")\n",
    "p416ADH.write(\"p416ADH.gb\")\n",
    "p416CYC.write(\"p416CYC.gb\")"
   ]
  },
  {
   "cell_type": "code",
   "execution_count": 6,
   "metadata": {
    "collapsed": true
   },
   "outputs": [],
   "source": [
    "# cut out each type of promoter\n",
    "\n",
    "gpdcyc  = p416GPD.cut(SacI, KpnI).pop()\n",
    "gpdcyc.name = \"GPD\"\n",
    "tefcyc  = p416TEF.cut(SacI, KpnI).pop()\n",
    "tefcyc.name = \"TEF\"\n",
    "adhcyc  = p416ADH.cut(SacI, KpnI).pop()\n",
    "adhcyc.name = \"ADH\"\n",
    "cyccyc  = p416CYC.cut(SacI, KpnI).pop()\n",
    "cyccyc.name = \"CYC\""
   ]
  },
  {
   "cell_type": "code",
   "execution_count": 13,
   "metadata": {
    "collapsed": false
   },
   "outputs": [],
   "source": [
    "from IPython.display import FileLink\n",
    "\n",
    "cassettes = [ gpdcyc, tefcyc, adhcyc, cyccyc ]\n",
    "pRS       = [ pRS413, pRS423, pRS414, pRS424, pRS415, pRS425, pRS426 ]\n",
    "             \n",
    "for cassette in cassettes:\n",
    "    for v in pRS: \n",
    "        pl = (v.cut(SacI, KpnI).pop(0).rc() + cassette ).looped().synced(\"gacgaaagggcctcgtgatacgccta\")\n",
    "        new_name = \"p{no}{prom}.gb\".format(no = v.name[3:], prom = cassette.name)\n",
    "        pl.write(new_name)\n",
    "        if new_name ==\"p426GPD.gb\":\n",
    "            p426GPD=pl"
   ]
  },
  {
   "cell_type": "markdown",
   "metadata": {},
   "source": [
    "##DOWNLOAD\n",
    "\n",
    "[\tp413GPD\t](\tp413GPD.gb\t)\n",
    "[\tp423GPD\t](\tp423GPD.gb\t)\n",
    "[\tp414GPD\t](\tp414GPD.gb\t)\n",
    "[\tp424GPD\t](\tp424GPD.gb\t)\n",
    "[\tp415GPD\t](\tp415GPD.gb\t)\n",
    "[\tp425GPD\t](\tp425GPD.gb\t)\n",
    "[\tp426GPD\t](\tp426GPD.gb\t)\n",
    "\n",
    "[\tp413TEF\t](\tp413TEF.gb\t)\n",
    "[\tp423TEF\t](\tp423TEF.gb\t)\n",
    "[\tp414TEF\t](\tp414TEF.gb\t)\n",
    "[\tp424TEF\t](\tp424TEF.gb\t)\n",
    "[\tp415TEF\t](\tp415TEF.gb\t)\n",
    "[\tp425TEF\t](\tp425TEF.gb\t)\n",
    "[\tp426TEF\t](\tp426TEF.gb\t)\n",
    "\n",
    "[\tp413ADH\t](\tp413ADH.gb\t)\n",
    "[\tp423ADH\t](\tp423ADH.gb\t)\n",
    "[\tp414ADH\t](\tp414ADH.gb\t)\n",
    "[\tp424ADH\t](\tp424ADH.gb\t)\n",
    "[\tp415ADH\t](\tp415ADH.gb\t)\n",
    "[\tp425ADH\t](\tp425ADH.gb\t)\n",
    "[\tp426ADH\t](\tp426ADH.gb\t)\n",
    "\n",
    "[\tp413CYC\t](\tp413CYC.gb\t)\n",
    "[\tp423CYC\t](\tp423CYC.gb\t)\n",
    "[\tp414CYC\t](\tp414CYC.gb\t)\n",
    "[\tp424CYC\t](\tp424CYC.gb\t)\n",
    "[\tp415CYC\t](\tp415CYC.gb\t)\n",
    "[\tp425CYC\t](\tp425CYC.gb\t)\n",
    "[\tp426CYC\t](\tp426CYC.gb\t)\n"
   ]
  },
  {
   "cell_type": "code",
   "execution_count": 7,
   "metadata": {
    "collapsed": true
   },
   "outputs": [],
   "source": [
    "# download four of the sequences available from genbank\n",
    "\n",
    "p416GPD_genbank = gb.nucleotide(\"DQ269148\")\n",
    "p426GPD_genbank = gb.nucleotide(\"DQ019861\").looped() # This Genbank record is linear although it describes a circular plasmid\n",
    "p416TEF_genbank = gb.nucleotide(\"EF210199\")\n",
    "p416CYC_genbank = gb.nucleotide(\"EF210198\")"
   ]
  },
  {
   "cell_type": "code",
   "execution_count": 8,
   "metadata": {
    "collapsed": false
   },
   "outputs": [
    {
     "name": "stdout",
     "output_type": "stream",
     "text": [
      "done!\n"
     ]
    }
   ],
   "source": [
    "# verify that the sequences made here and the ones \n",
    "# available from genbank are equivalent\n",
    "\n",
    "assert pydna.eq(p416GPD_genbank, p416GPD)\n",
    "assert pydna.eq(p416TEF_genbank, p416TEF)\n",
    "assert pydna.eq(p416CYC_genbank, p416CYC)\n",
    "assert pydna.eq(p426GPD_genbank, p426GPD)\n",
    "\n",
    "print \"done!\""
   ]
  }
 ],
 "metadata": {
  "kernelspec": {
   "display_name": "Python 2",
   "language": "python",
   "name": "python2"
  },
  "language_info": {
   "codemirror_mode": {
    "name": "ipython",
    "version": 2
   },
   "file_extension": ".py",
   "mimetype": "text/x-python",
   "name": "python",
   "nbconvert_exporter": "python",
   "pygments_lexer": "ipython2",
   "version": "2.7.10"
  }
 },
 "nbformat": 4,
 "nbformat_minor": 0
}
