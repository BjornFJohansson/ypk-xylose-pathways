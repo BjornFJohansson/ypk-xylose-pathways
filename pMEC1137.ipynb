{
 "cells": [
  {
   "cell_type": "markdown",
   "metadata": {},
   "source": [
    "# pMEC1137\n",
    "\n",
    "This vector expresses four genes and was assembled from four single gene expression cassettes:\n",
    "\n",
    "Gene | Enzyme | Acronym | Cassette\n",
    "-------------------------------------------------- |-------------------|---|-----|\n",
    "[ScTKL1](http://www.yeastgenome.org/locus/S000006278/overview) |Transketolase |TKL | [pYPK0_PDC1tp_ScTKL1_RPS19btp](pYPK0_PDC1tp_ScTKL1_RPS19btp.ipynb)\n",
    "[ScRPE1](http://www.yeastgenome.org/locus/S000003657/overview) |xylitol dehydrogenase |RPE | [pYPK0_RPS19btp_ScRPE1_RPS19atp](pYPK0_RPS19btp_ScRPE1_RPS19atp.ipynb)\n",
    "[ScRKI1](http://www.yeastgenome.org/locus/S000005621/overview) |Xylulokinase |RKI | [pYPK0_RPS19atp_ScRKI1_TPI1tp](pYPK0_RPS19atp_ScRKI1_TPI1tp.ipynb)\n",
    "[CiGXF1](http://mic.sgmjournals.org/content/154/6/1646.full) |Transaldolase |GXF | [pYPK0_TPI1tp_CiGXF1_ENO2tp](pYPK0_TPI1tp_CiGXF1_ENO2tp.ipynb)\n"
   ]
  },
  {
   "cell_type": "markdown",
   "metadata": {},
   "source": [
    "[Yeast Pathway Kit Standard Primers](ypk_std_primers.ipynb)"
   ]
  },
  {
   "cell_type": "markdown",
   "metadata": {},
   "source": [
    "    PDC1tp_ScTKL1_RPS19btp\n",
    "                  RPS19btp_ScRPE1_RPS19atp\n",
    "                                  RPS19atp_ScRKI1_TPI1tp\n",
    "                                                  TPI1tp_CiGXF1_ENO2tp\n",
    "                                                        \n",
    "    pYPK0-PDC1-ScTKL1-RPS19b-ScRPE1-RPS19a-ScRKI1-TPI1-CiGXF1-ScENO2\n",
    "\n"
   ]
  },
  {
   "cell_type": "code",
   "execution_count": 6,
   "metadata": {
    "collapsed": true
   },
   "outputs": [],
   "source": [
    "import pydna\n",
    "from pydna import ipynb_importer"
   ]
  },
  {
   "cell_type": "code",
   "execution_count": 7,
   "metadata": {
    "collapsed": false
   },
   "outputs": [],
   "source": [
    "from ypk_std_primers import p166, p167, p567, p568"
   ]
  },
  {
   "cell_type": "code",
   "execution_count": 8,
   "metadata": {
    "collapsed": false
   },
   "outputs": [],
   "source": [
    "pYPK0 = pydna.read(\"pYPK0.gb\")"
   ]
  },
  {
   "cell_type": "code",
   "execution_count": 9,
   "metadata": {
    "collapsed": false
   },
   "outputs": [
    {
     "name": "stdout",
     "output_type": "stream",
     "text": [
      "pYPK0 cSEGUID_qSJ95NM815X60yBy4l6iI69a_Dw_2015-05-09T06:06:22.550085\n"
     ]
    },
    {
     "data": {
      "text/plain": [
       "qSJ95NM815X60yBy4l6iI69a_Dw"
      ]
     },
     "execution_count": 9,
     "metadata": {},
     "output_type": "execute_result"
    }
   ],
   "source": [
    "print pYPK0.description\n",
    "pYPK0.cseguid()"
   ]
  },
  {
   "cell_type": "code",
   "execution_count": 10,
   "metadata": {
    "collapsed": true
   },
   "outputs": [],
   "source": [
    "from Bio.Restriction import ZraI, AjiI, EcoRV"
   ]
  },
  {
   "cell_type": "code",
   "execution_count": 11,
   "metadata": {
    "collapsed": false
   },
   "outputs": [],
   "source": [
    "p417,p626 = pydna.parse('''>417_ScTEF1tpf (30-mer)\n",
    "                     TTAAATAACAATGCATACTTTGTACGTTCA\n",
    "                     >626_ScTEF1tpr_PacI (35-mer)\n",
    "                     taattaaTTTGTAATTAAAACTTAGATTAGATTGC''', ds=False)\n",
    "\n",
    "p415,p623 = pydna.parse(''' >415_ScTDH3tpf (29-mer)\n",
    "                      TTAAATAATAAAAAACACGCTTTTTCAGT\n",
    "                      >623_ScTDH3tpr_PacI (33-mer)\n",
    "                      taattaaTTTGTTTGTTTATGTGTGTTTATTCG''', ds=False)\n",
    "\n",
    "p549,p622 = pydna.parse(''' >549_ScPGI1tpf (27-mer)\n",
    "                      ttaaatAATTCAGTTTTCTGACTGAGT\n",
    "                      >622_ScPGI1tpr_PacI (28-mer)\n",
    "                      taattaaTTTTAGGCTGGTATCTTGATT''', ds=False)\n",
    "\n",
    "p409,p624 = pydna.parse('''>409_ScFBA1tpf (37-mer)\n",
    "                     TTAAATAATAACAATACTGACAGTACTAAATAATTGC\n",
    "                     >624_ScFBA1tpr_PacI (29-mer)\n",
    "                     taattaaTTTGAATATGTATTACTTGGTT''', ds=False)\n",
    "\n",
    "p411, p413, p419, p537, p539, p621, p625, p647, p648, p651, p652, p660  = pydna.parse('''\n",
    ">411_ScENO2tpf (23-mer)\n",
    "TTAAATACGCGGCGTTATGTCAC\n",
    ">413_ScPDC1tpf (24-mer)\n",
    "TTAAATAAGGGTAGCCTCCCCATA\n",
    ">419_ScTPI1tpf (32-mer)\n",
    "TTAAATTGTTTAAAGATTACGGATATTTAACT\n",
    ">537_ScRPS19btpf (27-mer)\n",
    "ttaaatCTTTATTATCTTTGGTTCTAT\n",
    ">539_ScRPS19atpf (26-mer)\n",
    "ttaaatTTTTACTCTATTTGTCGATC\n",
    ">621_ScTPI1tpr_PacI (35-mer)\n",
    "taattaaTTTTAGTTTATGTATGTGTTTTTTGTAG \n",
    ">625_ScPDC1tpr_PacI (34-mer)\n",
    "taattaaTTTGATTGATTTGACTGTGTTATTTTG\n",
    ">647_ScRPS19btpr_PacI\n",
    "taattaaCTTTATTATCTTTGGTTCTAT\n",
    ">648_ScRPS19btpf2\n",
    "ttaaatTCTAGTATGGTTTGAAACCT\n",
    ">651_ScRPS19atpr_PacI\n",
    "taattaaTTTTACTCTATTTGTCGATC\n",
    ">652_ScRPS19atpf2\n",
    "ttaaatGTTAACTGAAATGAAAATTT\n",
    ">660_ScENO2tpr_PacI\n",
    "taattaaTTATTATTGTATGTTATAGTATTAGTTGCTTG''')"
   ]
  },
  {
   "cell_type": "code",
   "execution_count": 12,
   "metadata": {
    "collapsed": true
   },
   "outputs": [],
   "source": [
    "p1 = pydna.read(\"pYPK0_PDC1tp_ScTKL1_RPS19btp.gb\")\n",
    "p2 = pydna.read(\"pYPK0_RPS19btp_ScRPE1_RPS19atp.gb\")\n",
    "p3 = pydna.read(\"pYPK0_RPS19atp_ScRKI1_TPI1tp.gb\")\n",
    "p4 = pydna.read(\"pYPK0_TPI1tp_CiGXF1_ENO2tp.gb\")"
   ]
  },
  {
   "cell_type": "code",
   "execution_count": 13,
   "metadata": {
    "collapsed": false
   },
   "outputs": [],
   "source": [
    "cas1  = pydna.pcr( p167, p647, p1)\n",
    "cas2  = pydna.pcr( p648, p651, p2)\n",
    "cas3  = pydna.pcr( p652, p621, p3)\n",
    "cas4  = pydna.pcr( p419, p166, p4)"
   ]
  },
  {
   "cell_type": "code",
   "execution_count": 14,
   "metadata": {
    "collapsed": false
   },
   "outputs": [],
   "source": [
    "pYPK0_E_Z, stuffer = pYPK0.cut((EcoRV, ZraI))"
   ]
  },
  {
   "cell_type": "code",
   "execution_count": 15,
   "metadata": {
    "collapsed": false
   },
   "outputs": [
    {
     "data": {
      "text/plain": [
       "(Amplicon(3821), Amplicon(2005), Amplicon(2022), Amplicon(2906))"
      ]
     },
     "execution_count": 15,
     "metadata": {},
     "output_type": "execute_result"
    }
   ],
   "source": [
    "cas1, cas2, cas3, cas4"
   ]
  },
  {
   "cell_type": "code",
   "execution_count": 16,
   "metadata": {
    "collapsed": false
   },
   "outputs": [],
   "source": [
    "asm = pydna.Assembly( [pYPK0_E_Z, cas1, cas2, cas3, cas4] , limit = 61)"
   ]
  },
  {
   "cell_type": "code",
   "execution_count": 17,
   "metadata": {
    "collapsed": false
   },
   "outputs": [
    {
     "data": {
      "text/plain": [
       "Assembly:\n",
       "Sequences........................: [5681] [3821] [2005] [2022] [2906]\n",
       "Sequences with shared homologies.: [5681] [3821] [2906] [2005] [2022]\n",
       "Homology limit (bp)..............: 61\n",
       "Number of overlaps...............: 6\n",
       "Nodes in graph(incl. 5' & 3')....: 8\n",
       "Only terminal overlaps...........: No\n",
       "Circular products................: [14484] [13118] [1366]\n",
       "Linear products..................: [15123] [15080] [15041] [14582] [14545] [13757] [13714] [13675] [13615] [13216] [13179] [12249] [12235] [12136] [11400] [11318] [10869] [10770] [10034] [9952] [9404] [8962] [8526] [7596] [6652] [6553] [5780] [5698] [5286] [5187] [4414] [4332] [3470] [3388] [3371] [2104] [1923] [639] [596] [557] [98] [61]"
      ]
     },
     "execution_count": 17,
     "metadata": {},
     "output_type": "execute_result"
    }
   ],
   "source": [
    "asm"
   ]
  },
  {
   "cell_type": "code",
   "execution_count": 18,
   "metadata": {
    "collapsed": false
   },
   "outputs": [],
   "source": [
    "candidate = asm.circular_products[0]"
   ]
  },
  {
   "cell_type": "code",
   "execution_count": 19,
   "metadata": {
    "collapsed": false
   },
   "outputs": [
    {
     "data": {
      "text/plain": [
       " -|pYKP0|98\n",
       "|        \\/\n",
       "|        /\\\n",
       "|        98|3821bp_PCR_prod|639\n",
       "|                           \\/\n",
       "|                           /\\\n",
       "|                           639|2005bp_PCR_prod|553\n",
       "|                                               \\/\n",
       "|                                               /\\\n",
       "|                                               553|2022bp_PCR_prod|596\n",
       "|                                                                   \\/\n",
       "|                                                                   /\\\n",
       "|                                                                   596|2906bp_PCR_prod|61\n",
       "|                                                                                       \\/\n",
       "|                                                                                       /\\\n",
       "|                                                                                       61-\n",
       "|                                                                                          |\n",
       " ------------------------------------------------------------------------------------------"
      ]
     },
     "execution_count": 19,
     "metadata": {},
     "output_type": "execute_result"
    }
   ],
   "source": [
    "candidate.figure()"
   ]
  },
  {
   "cell_type": "code",
   "execution_count": 20,
   "metadata": {
    "collapsed": true
   },
   "outputs": [],
   "source": [
    "pw = candidate.synced(\"tcgcgcgtttcggtgatgacggtgaaaacctctg\")"
   ]
  },
  {
   "cell_type": "code",
   "execution_count": 21,
   "metadata": {
    "collapsed": false
   },
   "outputs": [
    {
     "name": "stdout",
     "output_type": "stream",
     "text": [
      "14484\n"
     ]
    },
    {
     "data": {
      "text/plain": [
       "m0xMQs_8lEPU395640FMaHI23HI"
      ]
     },
     "execution_count": 21,
     "metadata": {},
     "output_type": "execute_result"
    }
   ],
   "source": [
    "print len(pw)\n",
    "pw.cseguid()"
   ]
  },
  {
   "cell_type": "code",
   "execution_count": 22,
   "metadata": {
    "collapsed": false
   },
   "outputs": [
    {
     "data": {
      "text/plain": [
       "cSEGUID_m0xMQs_8lEPU395640FMaHI23HI_2015-05-10T20:52:00.159350"
      ]
     },
     "execution_count": 22,
     "metadata": {},
     "output_type": "execute_result"
    }
   ],
   "source": [
    "pw.name = \"pMEC1137\"\n",
    "pw.description=\" pYPK0-PDC1-ScTKL1-RPS19b-ScRPE1-RPS19a-ScRKI1-TPI1-CiGXF1-ScENO2\"\n",
    "pw.stamp()"
   ]
  },
  {
   "cell_type": "code",
   "execution_count": 23,
   "metadata": {
    "collapsed": true
   },
   "outputs": [],
   "source": [
    "pw.write(\"pMEC1137.gb\")"
   ]
  },
  {
   "cell_type": "markdown",
   "metadata": {},
   "source": [
    "##[Download](pMEC1137.gb)"
   ]
  },
  {
   "cell_type": "code",
   "execution_count": 24,
   "metadata": {
    "collapsed": false
   },
   "outputs": [
    {
     "name": "stdout",
     "output_type": "stream",
     "text": [
      "m0xMQs_8lEPU395640FMaHI23HI\n",
      "pYPK0-PDC1-ScTKL1-RPS19b-ScRPE1-RPS19a-ScRKI1-TPI1-CiGXF1-ScENO2 cSEGUID_m0xMQs_8lEPU395640FMaHI23HI_2015-05-10T13:34:16.058678\n"
     ]
    }
   ],
   "source": [
    "import pydna\n",
    "reloaded = pydna.read(\"pMEC1137.gb\")\n",
    "print reloaded.cseguid() \n",
    "print reloaded.description"
   ]
  },
  {
   "cell_type": "code",
   "execution_count": null,
   "metadata": {
    "collapsed": true
   },
   "outputs": [],
   "source": []
  }
 ],
 "metadata": {
  "kernelspec": {
   "display_name": "Python 2",
   "language": "python",
   "name": "python2"
  },
  "language_info": {
   "codemirror_mode": {
    "name": "ipython",
    "version": 2
   },
   "file_extension": ".py",
   "mimetype": "text/x-python",
   "name": "python",
   "nbconvert_exporter": "python",
   "pygments_lexer": "ipython2",
   "version": "2.7.9"
  }
 },
 "nbformat": 4,
 "nbformat_minor": 0
}
