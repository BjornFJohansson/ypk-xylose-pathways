{
 "cells": [
  {
   "cell_type": "markdown",
   "metadata": {},
   "source": [
    "# Construction of pYPK0_TEF1tp_PsXYL1_N272D_TDH3tp (pMEC1127)\n",
    "\n",
    "[pYPKa_Z_TEF1tp](pYPKa_Z_TEF1tp.ipynb)\n",
    "\n",
    "[pYPKa_E_TDH3tp](pYPKa_E_TDH3tp.ipynb)"
   ]
  },
  {
   "cell_type": "markdown",
   "metadata": {},
   "source": [
    "This vector is identical to pMEC1126 (pYPK0_TEF1tp_PsXYL1_TDH3tp) but for a N272D mutation in the XYL1 reading frame."
   ]
  },
  {
   "cell_type": "code",
   "execution_count": 4,
   "metadata": {
    "collapsed": false
   },
   "outputs": [],
   "source": [
    "import pydna\n",
    "from pydna import ipynb_importer"
   ]
  },
  {
   "cell_type": "code",
   "execution_count": 88,
   "metadata": {
    "collapsed": true
   },
   "outputs": [],
   "source": [
    "pYPK0_TEF1tp_PsXYL1_TDH3tp = pydna.read(\"pYPK0_TEF1tp_PsXYL1_TDH3tp.gb\")"
   ]
  },
  {
   "cell_type": "code",
   "execution_count": 60,
   "metadata": {
    "collapsed": false
   },
   "outputs": [
    {
     "data": {
      "text/plain": [
       "8015"
      ]
     },
     "execution_count": 60,
     "metadata": {},
     "output_type": "execute_result"
    }
   ],
   "source": [
    "len(pYPK0_TEF1tp_PsXYL1_TDH3tp)"
   ]
  },
  {
   "cell_type": "code",
   "execution_count": 6,
   "metadata": {
    "collapsed": false
   },
   "outputs": [
    {
     "data": {
      "text/html": [
       "<iframe src=http://www.ncbi.nlm.nih.gov/pmc/articles/PMC2988607 width=100% height=250></iframe>"
      ],
      "text/plain": [
       "<IPython.core.display.HTML object>"
      ]
     },
     "execution_count": 6,
     "metadata": {},
     "output_type": "execute_result"
    }
   ],
   "source": [
    "from IPython.display import HTML\n",
    "HTML('<iframe src=http://www.ncbi.nlm.nih.gov/pmc/articles/PMC2988607 width=100% height=250></iframe>')"
   ]
  },
  {
   "cell_type": "code",
   "execution_count": 10,
   "metadata": {
    "collapsed": false
   },
   "outputs": [
    {
     "data": {
      "text/plain": [
       "+----------+-----------+-------+------+--------+--------------+-------------+------+\n",
       "| Feature# | Direction | Start | End  | Length | id           | type        | orf? |\n",
       "+----------+-----------+-------+------+--------+--------------+-------------+------+\n",
       "| 0        |    -->    |  432  | 530  |     98 | <unknown id> | overlap     |  no  |\n",
       "| 1        |    -->    |  530  | 560  |     30 | <unknown id> | misc        |  no  |\n",
       "| 2        |    -->    |  537  | 1116 |    579 | <unknown id> | promoter    |  no  |\n",
       "| 3        |    -->    |  537  | 560  |     23 | <unknown id> | primer_bind |  no  |\n",
       "| 4        |    <--    |  1088 | 1116 |     28 | <unknown id> | primer_bind |  no  |\n",
       "| 5        |    <--    |  1088 | 1123 |     35 | <unknown id> | misc        |  no  |\n",
       "| 6        |    -->    |  1123 | 1161 |     38 | <unknown id> | overlap     |  no  |\n",
       "| 7        |    -->    |  1163 | 2120 |    957 | <unknown id> | gene        | yes  |\n",
       "| 8        |    -->    |  1163 | 2120 |    957 | <unknown id> | CDS         | yes  |\n",
       "| 9        |    -->    |  1163 | 1189 |     26 | <unknown id> | primer_bind |  no  |\n",
       "| 10       |    <--    |  2094 | 2120 |     26 | <unknown id> | primer_bind |  no  |\n",
       "| 11       |    <--    |  2094 | 2158 |     64 | <unknown id> | misc        |  no  |\n",
       "| 12       |    -->    |  2123 | 2158 |     35 | <unknown id> | overlap     |  no  |\n",
       "| 13       |    -->    |  2159 | 2857 |    698 | <unknown id> | promoter    |  no  |\n",
       "| 14       |    -->    |  2159 | 2181 |     22 | <unknown id> | primer_bind |  no  |\n",
       "| 15       |    <--    |  2831 | 2857 |     26 | <unknown id> | primer_bind |  no  |\n",
       "| 16       |    <--    |  2831 | 2864 |     33 | <unknown id> | misc        |  no  |\n",
       "| 17       |    -->    |  2864 | 2925 |     61 | <unknown id> | overlap     |  no  |\n",
       "| 18       |    <--    |  2901 | 2925 |     24 | <unknown id> | primer_bind |  no  |\n",
       "| 19       |    <--    |  2901 | 2925 |     24 | <unknown id> | misc        |  no  |\n",
       "| 20       |    -->    |  3565 | 3566 |      1 | <unknown id> | rep_origin  |  no  |\n",
       "| 21       |    <--    |  4309 | 5113 |    804 | <unknown id> | misc        | yes  |\n",
       "| 22       |    <--    |  6961 | 7620 |    659 | <unknown id> | CDS         |  no  |\n",
       "+----------+-----------+-------+------+--------+--------------+-------------+------+"
      ]
     },
     "execution_count": 10,
     "metadata": {},
     "output_type": "execute_result"
    }
   ],
   "source": [
    "pYPK0_TEF1tp_PsXYL1_TDH3tp.list_features()"
   ]
  },
  {
   "cell_type": "code",
   "execution_count": 11,
   "metadata": {
    "collapsed": true
   },
   "outputs": [],
   "source": [
    "xyl1 = pYPK0_TEF1tp_PsXYL1_TDH3tp.extract_feature(8)"
   ]
  },
  {
   "cell_type": "code",
   "execution_count": 43,
   "metadata": {
    "collapsed": false
   },
   "outputs": [],
   "source": [
    "wt_protein_seq = str(xyl1.seq.translate())"
   ]
  },
  {
   "cell_type": "code",
   "execution_count": 44,
   "metadata": {
    "collapsed": false
   },
   "outputs": [
    {
     "name": "stdout",
     "output_type": "stream",
     "text": [
      "MPSIKLNSGYDMPAVGFGCWKVDVDTCSEQIYRAIKTGYRLFDGAEDYANEKLVGAGVKKAIDEGIVKREDLFLTSKLWNNYHHPDNVEKALNRTLSDLQVDYVDLFLIHFPVTFKFVPLEEKYPPGFYCGKGDNFDYEDVPILETWKALEKLVKAGKIRSIGVSNFPGALLLDLLRGATIKPSVLQVEHHPYLQQPRLIEFAQSRGIAVTAYSSFGPQSFVELNQGRALNTSPLFENETIKAIAAKHGKSPAQVLLRWSSQRGIAIIPKSNTVPRLLENKDVNSFDLDEQDFADIAKLDINLRFNDPWDWDKIPIFV*\n"
     ]
    }
   ],
   "source": [
    "print wt_protein_seq"
   ]
  },
  {
   "cell_type": "code",
   "execution_count": 45,
   "metadata": {
    "collapsed": false
   },
   "outputs": [
    {
     "name": "stdout",
     "output_type": "stream",
     "text": [
      "N\n"
     ]
    }
   ],
   "source": [
    "print wt_protein_seq[271]"
   ]
  },
  {
   "cell_type": "code",
   "execution_count": 49,
   "metadata": {
    "collapsed": false
   },
   "outputs": [
    {
     "data": {
      "text/plain": [
       "ExactPosition(1163)"
      ]
     },
     "execution_count": 49,
     "metadata": {},
     "output_type": "execute_result"
    }
   ],
   "source": [
    "pYPK0_TEF1tp_PsXYL1_TDH3tp.features[8].location.start"
   ]
  },
  {
   "cell_type": "code",
   "execution_count": 53,
   "metadata": {
    "collapsed": false
   },
   "outputs": [],
   "source": [
    "codon = pYPK0_TEF1tp_PsXYL1_TDH3tp[1163+271*3:1163+271*3+3]"
   ]
  },
  {
   "cell_type": "code",
   "execution_count": 56,
   "metadata": {
    "collapsed": false
   },
   "outputs": [
    {
     "name": "stdout",
     "output_type": "stream",
     "text": [
      "AAC\n",
      "N\n"
     ]
    }
   ],
   "source": [
    "print codon.seq\n",
    "print codon.seq.translate()"
   ]
  },
  {
   "cell_type": "code",
   "execution_count": 65,
   "metadata": {
    "collapsed": false
   },
   "outputs": [],
   "source": [
    "candidate = (pYPK0_TEF1tp_PsXYL1_TDH3tp[:1163+271*3]+pydna.Dseqrecord(\"GAC\")+pYPK0_TEF1tp_PsXYL1_TDH3tp[1163+271*3+3:]).looped()\n"
   ]
  },
  {
   "cell_type": "code",
   "execution_count": 99,
   "metadata": {
    "collapsed": false
   },
   "outputs": [],
   "source": [
    "new_feature = pYPK0_TEF1tp_PsXYL1_TDH3tp.features[8]\n",
    "new_feature.qualifiers = {\"label\":\"PsXYL1_N272D\"}\n",
    "candidate.features.append(new_feature)"
   ]
  },
  {
   "cell_type": "code",
   "execution_count": 100,
   "metadata": {
    "collapsed": false
   },
   "outputs": [
    {
     "data": {
      "text/plain": [
       "Dseqrecord(o8015)"
      ]
     },
     "execution_count": 100,
     "metadata": {},
     "output_type": "execute_result"
    }
   ],
   "source": [
    "candidate"
   ]
  },
  {
   "cell_type": "code",
   "execution_count": 101,
   "metadata": {
    "collapsed": false
   },
   "outputs": [
    {
     "data": {
      "text/plain": [
       "Y_e9Pjnu1AMSxxIPez6jXh8kvUU"
      ]
     },
     "execution_count": 101,
     "metadata": {},
     "output_type": "execute_result"
    }
   ],
   "source": [
    "candidate.cseguid()"
   ]
  },
  {
   "cell_type": "code",
   "execution_count": 103,
   "metadata": {
    "collapsed": false
   },
   "outputs": [],
   "source": [
    "candidate.id = \"pMEC1127\"\n",
    "#candidate.description = \"pYPK0_TEF1tp_PsXYL1_N272D_TDH3tp\"\n",
    "candidate.stamp()"
   ]
  },
  {
   "cell_type": "code",
   "execution_count": 104,
   "metadata": {
    "collapsed": true
   },
   "outputs": [],
   "source": [
    "candidate.write(\"pYPK0_TEF1tp_PsXYL1_N272D_TDH3tp.gb\")"
   ]
  },
  {
   "cell_type": "markdown",
   "metadata": {},
   "source": [
    "##Download sequence\n",
    "\n",
    "[pYPK0_TEF1tp_PsXYL1_N272D_TDH3tp](pYPK0_TEF1tp_PsXYL1_N272D_TDH3tp.gb)"
   ]
  },
  {
   "cell_type": "code",
   "execution_count": 105,
   "metadata": {
    "collapsed": false
   },
   "outputs": [],
   "source": [
    "reloaded = pydna.read(\"pYPK0_TEF1tp_PsXYL1_N272D_TDH3tp.gb\")"
   ]
  },
  {
   "cell_type": "code",
   "execution_count": 106,
   "metadata": {
    "collapsed": false
   },
   "outputs": [
    {
     "data": {
      "text/plain": [
       "Y_e9Pjnu1AMSxxIPez6jXh8kvUU"
      ]
     },
     "execution_count": 106,
     "metadata": {},
     "output_type": "execute_result"
    }
   ],
   "source": [
    "reloaded.cseguid()"
   ]
  },
  {
   "cell_type": "code",
   "execution_count": 107,
   "metadata": {
    "collapsed": false
   },
   "outputs": [
    {
     "data": {
      "text/plain": [
       "'pYPK0_TEF1tp_PsXYL1_N272D_TDH3tp cSEGUID_Y_e9Pjnu1AMSxxIPez6jXh8kvUU_2015-05-09T17:11:02.960827'"
      ]
     },
     "execution_count": 107,
     "metadata": {},
     "output_type": "execute_result"
    }
   ],
   "source": [
    "candidate.description"
   ]
  }
 ],
 "metadata": {
  "kernelspec": {
   "display_name": "Python 2",
   "language": "python",
   "name": "python2"
  },
  "language_info": {
   "codemirror_mode": {
    "name": "ipython",
    "version": 2
   },
   "file_extension": ".py",
   "mimetype": "text/x-python",
   "name": "python",
   "nbconvert_exporter": "python",
   "pygments_lexer": "ipython2",
   "version": "2.7.9"
  }
 },
 "nbformat": 4,
 "nbformat_minor": 0
}
