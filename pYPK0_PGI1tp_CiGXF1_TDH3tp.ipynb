{
 "metadata": {
  "signature": "sha256:2d4244fdfb946173f7a93fcf6299f9e82c4954b6bf0c7ddc00e00e4ea7f89f3d"
 },
 "nbformat": 3,
 "nbformat_minor": 0,
 "worksheets": [
  {
   "cells": [
    {
     "cell_type": "code",
     "collapsed": false,
     "input": [
      "from pydna import ipynb_importer"
     ],
     "language": "python",
     "metadata": {},
     "outputs": [],
     "prompt_number": 1
    },
    {
     "cell_type": "code",
     "collapsed": false,
     "input": [
      "#!/usr/bin/env python\n",
      "\n",
      "from pydna import pcr\n",
      "from pydna import parse\n",
      "from pydna import Genbank\n",
      "from pydna import Assembly\n",
      "from pydna import Dseqrecord\n",
      "\n",
      "p577,p578,p468,p467,p567,p568 =    parse('''>577        \n",
      "                                            gttctgatcctcgagcatcttaagaattc                                                \n",
      "                                            >578          \n",
      "                                            gttcttgtctcattgccacattcataagt\n",
      "                                            >468\n",
      "                                            gtcgaggaacgccaggttgcccact\n",
      "                                            >467 \n",
      "                                            ATTTAAatcctgatgcgtttgtctgcacaga\n",
      "                                            >567\n",
      "                                            GTcggctgcaggtcactagtgag\n",
      "                                            >568\n",
      "                                            GTGCcatctgtgcagacaaacg''')\n",
      "                                            \n",
      "from Bio.Restriction import ZraI, AjiI, EcoRV\n",
      "\n",
      "from pYPKpw import pYPKpw\n",
      "\n",
      "pYPKpw_lin = pYPKpw.linearize(EcoRV)\n",
      "\n",
      "from pYPKa_Z_PGI1tp import pYPKa_Z_PGI1tp as first\n",
      "from pYPKa_A_CiGXF1 import pYPKa_A_CiGXF1 as middle\n",
      "from pYPKa_E_TDH3tp import pYPKa_E_TDH3tp as last                                                                               \n",
      "\n",
      "first  = pcr( p577, p567, first)\n",
      "middle = pcr( p468, p467, middle)\n",
      "last   = pcr( p568, p578, last)\n",
      "\n",
      "asm = Assembly((pYPKpw_lin, first, middle, last), limit=31)\n",
      "\n",
      "pYPK0_PGI1tp_CiGXF1_TDH3tp = asm.circular_products[0].synced(\"tcgcgcgtttcggtgatgacggtgaaaacctctg\")"
     ],
     "language": "python",
     "metadata": {},
     "outputs": [],
     "prompt_number": 2
    },
    {
     "cell_type": "code",
     "collapsed": false,
     "input": [
      "pYPK0_PGI1tp_CiGXF1_TDH3tp.write(\"pYPK0_PGI1tp_CiGXF1_TDH3tp.gb\")"
     ],
     "language": "python",
     "metadata": {},
     "outputs": [],
     "prompt_number": 3
    },
    {
     "cell_type": "markdown",
     "metadata": {},
     "source": [
      "##Download sequence\n",
      "\n",
      "[pYPK0_PGI1tp_CiGXF1_TDH3tp](pYPK0_PGI1tp_CiGXF1_TDH3tp.gb)"
     ]
    }
   ],
   "metadata": {}
  }
 ]
}