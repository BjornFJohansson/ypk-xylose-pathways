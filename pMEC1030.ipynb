{
 "cells": [
  {
   "cell_type": "markdown",
   "metadata": {
    "deletable": true,
    "editable": true
   },
   "source": [
    "# Construction of the pMEC1030 vector\n",
    "\n",
    "The pMEC1030 is a version of the pSU0 vector where the single EcoRV site has been removed by site directed mutagenesis. The pSU0 plasmid was described in by [Iizasa Nagano 2006](http://www.biotechniques.com/BiotechniquesJournal/2006/January/Highly-efficient-yeast-based-in-vivo-DNA-cloning-of-multiple-DNA-fragments-and-the-simultaneous-construction-of-yeast-Escherichia-coli-shuttle-vectors/biotechniques-45641.html). The abstract is available from [Pubmed](http://www.ncbi.nlm.nih.gov/pubmed/16454044). The pSU0 sequence is available from [Genbank](http://www.ncbi.nlm.nih.gov/nuccore/84570488).\n",
    "\n",
    "The pSU0 plasmid has the following structure ![pSU0](pSU0.jpg \"This figure is from the paper above\")\n"
   ]
  },
  {
   "cell_type": "code",
   "execution_count": 1,
   "metadata": {
    "collapsed": false,
    "deletable": true,
    "editable": true
   },
   "outputs": [
    {
     "data": {
      "text/html": [
       "<iframe src=http://www.ncbi.nlm.nih.gov/pubmed?LinkName=nuccore_pubmed&from_uid=84570488 width=100% height=250></iframe>"
      ],
      "text/plain": [
       "<IPython.core.display.HTML object>"
      ]
     },
     "execution_count": 1,
     "metadata": {},
     "output_type": "execute_result"
    }
   ],
   "source": [
    "from IPython.display import HTML\n",
    "HTML('<iframe src=http://www.ncbi.nlm.nih.gov/pubmed?LinkName=nuccore_pubmed&from_uid=84570488 width=100% height=250></iframe>')"
   ]
  },
  {
   "cell_type": "code",
   "execution_count": 2,
   "metadata": {
    "collapsed": false,
    "deletable": true,
    "editable": true
   },
   "outputs": [],
   "source": [
    "from pydna.all import *"
   ]
  },
  {
   "cell_type": "markdown",
   "metadata": {
    "deletable": true,
    "editable": true
   },
   "source": [
    "The insert comes from a Genbank [record](http://www.ncbi.nlm.nih.gov/nuccore/84570488).\n",
    "Access to Genbank is needed in order to download the template.\n",
    "If you execute this script, change the email address below to your own.\n",
    "Always tell Genbank who you are, when using the service."
   ]
  },
  {
   "cell_type": "code",
   "execution_count": 3,
   "metadata": {
    "collapsed": false,
    "deletable": true,
    "editable": true
   },
   "outputs": [],
   "source": [
    "gb =Genbank(\"bjornjobbb@gmail.com\")"
   ]
  },
  {
   "cell_type": "code",
   "execution_count": 4,
   "metadata": {
    "collapsed": false,
    "deletable": true,
    "editable": true
   },
   "outputs": [],
   "source": [
    "pSU0 = gb.nucleotide(\"AB215109.1\")"
   ]
  },
  {
   "cell_type": "markdown",
   "metadata": {
    "deletable": true,
    "editable": true
   },
   "source": [
    "The first feature is removed for practical reasons since it covers the whole sequence."
   ]
  },
  {
   "cell_type": "code",
   "execution_count": 5,
   "metadata": {
    "collapsed": false,
    "deletable": true,
    "editable": true
   },
   "outputs": [],
   "source": [
    "pSU0.features = pSU0.features[1:]"
   ]
  },
  {
   "cell_type": "markdown",
   "metadata": {
    "deletable": true,
    "editable": true
   },
   "source": [
    "pSU0 is a circular DNA molecule with 4398 bp. The cseguid checksum should be ```fzXVMVR4-lIsvU_eXXMG10U18s4```."
   ]
  },
  {
   "cell_type": "code",
   "execution_count": 6,
   "metadata": {
    "collapsed": false,
    "deletable": true,
    "editable": true
   },
   "outputs": [
    {
     "data": {
      "text/plain": [
       "fzXVMVR4-lIsvU_eXXMG10U18s4"
      ]
     },
     "execution_count": 6,
     "metadata": {},
     "output_type": "execute_result"
    }
   ],
   "source": [
    "pSU0.cseguid()"
   ]
  },
  {
   "cell_type": "code",
   "execution_count": 7,
   "metadata": {
    "collapsed": false,
    "deletable": true,
    "editable": true
   },
   "outputs": [
    {
     "data": {
      "text/html": [
       "<a href='https://www.ncbi.nlm.nih.gov/nuccore/AB215109.1?from=&to=&strand=1' target='_blank'>AB215109.1</a>"
      ],
      "text/plain": [
       "Gbank(AB215109.1)(o4398)"
      ]
     },
     "execution_count": 7,
     "metadata": {},
     "output_type": "execute_result"
    }
   ],
   "source": [
    "pSU0"
   ]
  },
  {
   "cell_type": "code",
   "execution_count": 8,
   "metadata": {
    "collapsed": false,
    "deletable": true,
    "editable": true
   },
   "outputs": [],
   "source": [
    "from Bio.Restriction import EcoRV"
   ]
  },
  {
   "cell_type": "markdown",
   "metadata": {
    "deletable": true,
    "editable": true
   },
   "source": [
    "The pSU0 has one EcoRV site which we would like to remove, since the Yeast Pathway Kit relies on unique [EcoRV](http://rebase.neb.com/rebase/enz/EcoRV.html), [AjiI](http://rebase.neb.com/rebase/enz/AjiI.html) and [ZraI](http://rebase.neb.com/rebase/enz/ZraI.html) sites. One linear fragment is formed when digested by EcoRV:"
   ]
  },
  {
   "cell_type": "code",
   "execution_count": 9,
   "metadata": {
    "collapsed": false,
    "deletable": true,
    "editable": true
   },
   "outputs": [
    {
     "data": {
      "text/plain": [
       "[Dseqrecord(-4398)]"
      ]
     },
     "execution_count": 9,
     "metadata": {},
     "output_type": "execute_result"
    }
   ],
   "source": [
    "pSU0.cut(EcoRV)"
   ]
  },
  {
   "cell_type": "markdown",
   "metadata": {
    "deletable": true,
    "editable": true
   },
   "source": [
    "Two primers were designed for the specific removal of EcoRV through PCR amplification and susequent yeast transformation of the linear PCR product. The PCR product has two 50 bp intramolecular repeats at both ends of the molcule which are repaired into a circular molecule with the same size as the original vector.  "
   ]
  },
  {
   "cell_type": "code",
   "execution_count": 10,
   "metadata": {
    "collapsed": false,
    "deletable": true,
    "editable": true
   },
   "outputs": [],
   "source": [
    "primers =parse('''\n",
    ">470_pSU0f-dEcoRV (50-mer)\n",
    "gtttactaaaaacacatgtggatattttgactgatttttccatggagggc\n",
    "\n",
    ">469_pSU0r-dEcoRV (50-mer)\n",
    "gccctccatggaaaaatcagtcaaaatatccacatgtgtttttagtaaac''', ds=False)"
   ]
  },
  {
   "cell_type": "code",
   "execution_count": 11,
   "metadata": {
    "collapsed": false,
    "deletable": true,
    "editable": true
   },
   "outputs": [],
   "source": [
    "pSU0_EcoRV =pcr(primers, pSU0)"
   ]
  },
  {
   "cell_type": "markdown",
   "metadata": {
    "deletable": true,
    "editable": true
   },
   "source": [
    "The figure below show the location of the primers on the circular template."
   ]
  },
  {
   "cell_type": "code",
   "execution_count": 12,
   "metadata": {
    "collapsed": false,
    "deletable": true,
    "editable": true
   },
   "outputs": [
    {
     "data": {
      "text/plain": [
       "                          5ttgactgatttttccatggagggc...gtttactaaaaacacatgtggatat3\n",
       "                                                      ||||||||||||||||||||||||| tm 53.1 (dbd) 58.2\n",
       "                                                     3caaatgatttttgtgtacacctataaaactgactaaaaaggtacctcccg5\n",
       "5gtttactaaaaacacatgtggatattttgactgatttttccatggagggc3\n",
       "                           |||||||||||||||||||||||| tm 60.8 (dbd) 71.8\n",
       "                          3aactgactaaaaaggtacctcccg...caaatgatttttgtgtacacctata5"
      ]
     },
     "execution_count": 12,
     "metadata": {},
     "output_type": "execute_result"
    }
   ],
   "source": [
    "pSU0_EcoRV.figure()"
   ]
  },
  {
   "cell_type": "markdown",
   "metadata": {
    "deletable": true,
    "editable": true
   },
   "source": [
    "The DNA is processed in vivo to produce 5' cohesive ends."
   ]
  },
  {
   "cell_type": "code",
   "execution_count": 13,
   "metadata": {
    "collapsed": false,
    "deletable": true,
    "editable": true
   },
   "outputs": [],
   "source": [
    "from pydna.dseq import Dseq\n",
    "pSU0_EcoRV_proc =Dseqrecord(Dseq(pSU0_EcoRV.seq.watson[50:], pSU0_EcoRV.seq.crick[50:]))"
   ]
  },
  {
   "cell_type": "markdown",
   "metadata": {
    "deletable": true,
    "editable": true
   },
   "source": [
    "The figure below shows the cohesive ends."
   ]
  },
  {
   "cell_type": "code",
   "execution_count": 14,
   "metadata": {
    "collapsed": false,
    "deletable": true,
    "editable": true
   },
   "outputs": [
    {
     "data": {
      "text/plain": [
       "Dseq(-4448)\n",
       "          ACAG..ATTTGTTT..gggc\n",
       "caaa..CCCGTGTC..TAAA          "
      ]
     },
     "execution_count": 14,
     "metadata": {},
     "output_type": "execute_result"
    }
   ],
   "source": [
    "pSU0_EcoRV_proc.seq"
   ]
  },
  {
   "cell_type": "markdown",
   "metadata": {
    "deletable": true,
    "editable": true
   },
   "source": [
    "The plasmid is cirularized _in-vivo_ after transformation to yeast."
   ]
  },
  {
   "cell_type": "code",
   "execution_count": 15,
   "metadata": {
    "collapsed": false,
    "deletable": true,
    "editable": true
   },
   "outputs": [],
   "source": [
    "pMEC1030 = pSU0_EcoRV_proc.looped().synced(\"ggatccatcggaattcatattgaaaaagga\")"
   ]
  },
  {
   "cell_type": "markdown",
   "metadata": {
    "deletable": true,
    "editable": true
   },
   "source": [
    "The pMEC1030 has no EcoRV site as expected."
   ]
  },
  {
   "cell_type": "code",
   "execution_count": 16,
   "metadata": {
    "collapsed": false,
    "deletable": true,
    "editable": true
   },
   "outputs": [
    {
     "data": {
      "text/plain": [
       "[]"
      ]
     },
     "execution_count": 16,
     "metadata": {},
     "output_type": "execute_result"
    }
   ],
   "source": [
    "pMEC1030.cut(EcoRV)"
   ]
  },
  {
   "cell_type": "code",
   "execution_count": 17,
   "metadata": {
    "collapsed": false,
    "deletable": true,
    "editable": true
   },
   "outputs": [],
   "source": [
    "pMEC1030.add_feature(2741,3545, label= \"URA3\")"
   ]
  },
  {
   "cell_type": "code",
   "execution_count": 18,
   "metadata": {
    "collapsed": false,
    "deletable": true,
    "editable": true
   },
   "outputs": [
    {
     "data": {
      "text/plain": [
       "cSEGUID_bg67Zek8TFW0rvcIs6-d4X6cV_w"
      ]
     },
     "execution_count": 18,
     "metadata": {},
     "output_type": "execute_result"
    }
   ],
   "source": [
    "pMEC1030.stamp()"
   ]
  },
  {
   "cell_type": "code",
   "execution_count": 19,
   "metadata": {
    "collapsed": true,
    "deletable": true,
    "editable": true
   },
   "outputs": [],
   "source": [
    "pMEC1030.add_feature(3625,4307, label = \"ColE1 origin\", type=\"rep_origin\")\n",
    "pMEC1030.add_feature(234, 893, label = \"AmpR\", type=\"CDS\")"
   ]
  },
  {
   "cell_type": "code",
   "execution_count": 20,
   "metadata": {
    "collapsed": true,
    "deletable": true,
    "editable": true
   },
   "outputs": [],
   "source": [
    "pMEC1030.name = \"pMEC1030\""
   ]
  },
  {
   "cell_type": "code",
   "execution_count": 21,
   "metadata": {
    "collapsed": false,
    "deletable": true,
    "editable": true
   },
   "outputs": [
    {
     "data": {
      "text/html": [
       "<font face=monospace><a href='pMEC1030.gb' target='_blank'>pMEC1030.gb</a></font><br>"
      ]
     },
     "metadata": {},
     "output_type": "display_data"
    }
   ],
   "source": [
    "pMEC1030.write(\"pMEC1030.gb\")"
   ]
  },
  {
   "cell_type": "code",
   "execution_count": 22,
   "metadata": {
    "collapsed": false,
    "deletable": true,
    "editable": true
   },
   "outputs": [
    {
     "data": {
      "text/plain": [
       "cSEGUID_bg67Zek8TFW0rvcIs6-d4X6cV_w"
      ]
     },
     "execution_count": 22,
     "metadata": {},
     "output_type": "execute_result"
    }
   ],
   "source": [
    "from pydna.all import *\n",
    "reloaded =read(\"pMEC1030.gb\")\n",
    "reloaded.verify_stamp()"
   ]
  }
 ],
 "metadata": {
  "kernelspec": {
   "display_name": "Python 3",
   "language": "python",
   "name": "python3"
  },
  "language_info": {
   "codemirror_mode": {
    "name": "ipython",
    "version": 3
   },
   "file_extension": ".py",
   "mimetype": "text/x-python",
   "name": "python",
   "nbconvert_exporter": "python",
   "pygments_lexer": "ipython3",
   "version": "3.5.2"
  }
 },
 "nbformat": 4,
 "nbformat_minor": 0
}
