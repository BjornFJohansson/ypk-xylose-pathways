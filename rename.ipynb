{
 "cells": [
  {
   "cell_type": "code",
   "execution_count": 1,
   "metadata": {
    "collapsed": false
   },
   "outputs": [],
   "source": [
    "import os\n",
    "import codecs"
   ]
  },
  {
   "cell_type": "code",
   "execution_count": null,
   "metadata": {
    "collapsed": false
   },
   "outputs": [],
   "source": [
    "for f in os.listdir(\".\"):\n",
    "    head, tail = os.path.splitext(f)\n",
    "    if head.endswith(\"tp\"):\n",
    "        newname = head[:-2].replace(\"tp_\", \"_\")+tail\n",
    "        \n",
    "        \n",
    "        with open(f, \"rb\") as fl:t = fl.read()   #, \"utf8\" \n",
    "            \n",
    "        t = t.replace(\"tp \", \" \").replace(\"tp_\", \"_\").replace(\"tp (\",\"   (\").replace(\"tp]\", \"]\").replace(\"tp.\",\".\").replace(\"tp\\n\",\"\\n\")\n",
    "            \n",
    "        with open(newname, \"wb\") as fl:t = fl.write(t)\n",
    "        print newname"
   ]
  },
  {
   "cell_type": "code",
   "execution_count": 15,
   "metadata": {
    "collapsed": false
   },
   "outputs": [
    {
     "name": "stdout",
     "output_type": "stream",
     "text": [
      "pYPK0_TDH1_HIS3_ENO2.ipynb\n",
      "pYPK0_TPI1_HIS3_ENO2.ipynb\n",
      "pYPK0_RPS19b_ScRPE1_RPS19a.ipynb\n",
      "pYPK0_RPS19a_ScRKI1_TPI1.ipynb\n",
      "pYPK0_RPS19b_HIS3_RPS19a.ipynb\n",
      "pYPK0_PDC1_ScTKL1_RPS19b.ipynb\n",
      "pYPK0_PDC1_HIS3_RPS19b.ipynb\n",
      "pYPK0_PGI1_HIS3_FBA1.ipynb\n",
      "pYPK0_TEF1_PsXYL1_N272D_TDH3.ipynb\n",
      "pYPK0_PGI1_ScXKS1_FBA1.ipynb\n",
      "pYPK0_TDH3_HIS3_PGI1.ipynb\n",
      "pYPK0_HIS3.ipynb\n",
      "pYPK0_TPI1_CiGXF1_ENO2.ipynb\n",
      "pYPK0_TDH3_PsXYL2_PGI1.ipynb\n",
      "pYPK0_TEF1_PsXYL1_TDH3.ipynb\n",
      "pYPK0_PGI1_CiGXF1_TDH3.ipynb\n",
      "pYPK0_RPS19a_HIS3_TPI1.ipynb\n",
      "pYPK0_PGI1_HIS3_TDH3.ipynb\n",
      "pYPK0_FBA1_ScTAL1_PDC1.ipynb\n",
      "pYPK0_RPS19b_HIS3_TDH1.ipynb\n",
      "pYPK0_FBA1_HIS3_PDC1.ipynb\n",
      "pYPK0_TEF1_HIS3_TDH3.ipynb\n"
     ]
    }
   ],
   "source": [
    "for f in os.listdir(\".\"):\n",
    "    head, tail = os.path.splitext(f)\n",
    "    if \"pYPK0\" in head and \".ipynb\" in tail:\n",
    "        if head == \"pYPK0\":\n",
    "            continue\n",
    "        print head+tail\n",
    "        with open(f, \"rb\") as fl: t = fl.read()        \n",
    "        \n",
    "        t = t.replace(\"tp \", \" \").replace(\"tp_\", \"_\").replace(\"tp (\",\"   (\").replace(\"tp]\", \"]\").replace(\"tp.\",\".\").replace(\"tp\\n\",\"\\n\")\n",
    "\n",
    "        with open(f, \"wb\") as fl:t = fl.write(t)"
   ]
  },
  {
   "cell_type": "code",
   "execution_count": 21,
   "metadata": {
    "collapsed": false
   },
   "outputs": [
    {
     "name": "stdout",
     "output_type": "stream",
     "text": [
      "pMEC1136.ipynb\n",
      "pMEC1137.ipynb\n",
      "pMEC1138.ipynb\n",
      "pMEC1139.ipynb\n",
      "pMEC1135.ipynb\n"
     ]
    }
   ],
   "source": [
    "for f in os.listdir(\".\"):\n",
    "    head, tail = os.path.splitext(f)\n",
    "    if head.startswith(\"pMEC11\"):\n",
    "        print f\n",
    "        with open(f, \"rb\") as fl: t = fl.read()\n",
    "        t = t.replace(\"tp \", \" \").replace(\"tp_\", \"_\").replace(\"tp (\",\"   (\").replace(\"tp]\", \"]\").replace(\"tp.\",\".\").replace(\"tp\\n\",\"\\n\")\n",
    "        with open(f, \"wb\") as fl:t = fl.write(t)\n"
   ]
  },
  {
   "cell_type": "code",
   "execution_count": null,
   "metadata": {
    "collapsed": true
   },
   "outputs": [],
   "source": []
  }
 ],
 "metadata": {
  "kernelspec": {
   "display_name": "Python 2",
   "language": "python",
   "name": "python2"
  },
  "language_info": {
   "codemirror_mode": {
    "name": "ipython",
    "version": 2
   },
   "file_extension": ".py",
   "mimetype": "text/x-python",
   "name": "python",
   "nbconvert_exporter": "python",
   "pygments_lexer": "ipython2",
   "version": "2.7.10"
  }
 },
 "nbformat": 4,
 "nbformat_minor": 0
}
