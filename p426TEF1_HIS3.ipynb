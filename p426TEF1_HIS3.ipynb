{
 "cells": [
  {
   "cell_type": "markdown",
   "metadata": {},
   "source": [
    "#p426TEF1_HIS3"
   ]
  },
  {
   "cell_type": "code",
   "execution_count": 1,
   "metadata": {
    "collapsed": true
   },
   "outputs": [],
   "source": [
    "import pydna"
   ]
  },
  {
   "cell_type": "code",
   "execution_count": 2,
   "metadata": {
    "collapsed": false
   },
   "outputs": [],
   "source": [
    "p426TEF1 = pydna.read(\"./Mumberg/p426TEF.gb\")"
   ]
  },
  {
   "cell_type": "code",
   "execution_count": 3,
   "metadata": {
    "collapsed": false
   },
   "outputs": [
    {
     "data": {
      "text/html": [
       "<a href='./Mumberg/p426TEF.gb' target='_blank'>./Mumberg/p426TEF.gb</a><br>"
      ],
      "text/plain": [
       "File(-)(o6352)"
      ]
     },
     "execution_count": 3,
     "metadata": {},
     "output_type": "execute_result"
    }
   ],
   "source": [
    "p426TEF1"
   ]
  },
  {
   "cell_type": "code",
   "execution_count": 4,
   "metadata": {
    "collapsed": false
   },
   "outputs": [],
   "source": [
    "pYPKa_A_HIS3 = pydna.read(\"pYPKa_A_ScHIS3.gb\")"
   ]
  },
  {
   "cell_type": "code",
   "execution_count": 5,
   "metadata": {
    "collapsed": true
   },
   "outputs": [],
   "source": [
    "f, r = pydna.parse('''\n",
    ">HIS3_mum_fwd \n",
    "TCTAGAACTAGTGGATCCCCCGGGCTGCAGGAAAATGACAGAGCAGAAAGCC\n",
    ">HIS3_mum_rev \n",
    "CTCGAGGTCGACGGTATCGATAAGCTTGATATCGAATTCTACATAAGAACACCTTTGGTGGAG''', ds=False)"
   ]
  },
  {
   "cell_type": "code",
   "execution_count": 6,
   "metadata": {
    "collapsed": false
   },
   "outputs": [],
   "source": [
    "HIS3_prod = pydna.pcr(f,r, pYPKa_A_HIS3)"
   ]
  },
  {
   "cell_type": "code",
   "execution_count": 7,
   "metadata": {
    "collapsed": false
   },
   "outputs": [],
   "source": [
    "from Bio.Restriction import EcoRI\n",
    "p426TEF1_lin = p426TEF1.linearize(EcoRI)"
   ]
  },
  {
   "cell_type": "code",
   "execution_count": 8,
   "metadata": {
    "collapsed": false
   },
   "outputs": [],
   "source": [
    "asm = pydna.Assembly((p426TEF1_lin, HIS3_prod))"
   ]
  },
  {
   "cell_type": "code",
   "execution_count": 9,
   "metadata": {
    "collapsed": false
   },
   "outputs": [
    {
     "data": {
      "text/plain": [
       "Assembly:\n",
       "Sequences........................: [6356] [735]\n",
       "Sequences with shared homologies.: [6356] [735]\n",
       "Homology limit (bp)..............: 25\n",
       "Number of overlaps...............: 2\n",
       "Nodes in graph(incl. 5' & 3')....: 4\n",
       "Only terminal overlaps...........: No\n",
       "Circular products................: [7018]\n",
       "Linear products..................: [7056] [7053] [38] [35]"
      ]
     },
     "execution_count": 9,
     "metadata": {},
     "output_type": "execute_result"
    }
   ],
   "source": [
    "asm"
   ]
  },
  {
   "cell_type": "code",
   "execution_count": 10,
   "metadata": {
    "collapsed": false
   },
   "outputs": [
    {
     "data": {
      "text/plain": [
       " -|na|33\n",
       "|     \\/\n",
       "|     /\\\n",
       "|     33|735bp_PCR_prod|38\n",
       "|                       \\/\n",
       "|                       /\\\n",
       "|                       38-\n",
       "|                          |\n",
       " --------------------------"
      ]
     },
     "execution_count": 10,
     "metadata": {},
     "output_type": "execute_result"
    }
   ],
   "source": [
    "candidate = asm.circular_products[0]\n",
    "candidate.figure()"
   ]
  },
  {
   "cell_type": "code",
   "execution_count": 11,
   "metadata": {
    "collapsed": true
   },
   "outputs": [],
   "source": [
    "final = candidate.synced(p426TEF1)"
   ]
  },
  {
   "cell_type": "code",
   "execution_count": 12,
   "metadata": {
    "collapsed": false
   },
   "outputs": [
    {
     "data": {
      "text/html": [
       "<font face=monospace><a href='p426TEF1_HIS3.gb' target='_blank'>p426TEF1_HIS3.gb</a></font><br>"
      ]
     },
     "metadata": {},
     "output_type": "display_data"
    }
   ],
   "source": [
    "final.write(\"p426TEF1_HIS3.gb\")"
   ]
  },
  {
   "cell_type": "code",
   "execution_count": 13,
   "metadata": {
    "collapsed": true
   },
   "outputs": [],
   "source": []
  }
 ],
 "metadata": {
  "kernelspec": {
   "display_name": "Python 3",
   "language": "python",
   "name": "python3"
  },
  "language_info": {
   "codemirror_mode": {
    "name": "ipython",
    "version": 3
   },
   "file_extension": ".py",
   "mimetype": "text/x-python",
   "name": "python",
   "nbconvert_exporter": "python",
   "pygments_lexer": "ipython3",
   "version": "3.5.2"
  }
 },
 "nbformat": 4,
 "nbformat_minor": 0
}
