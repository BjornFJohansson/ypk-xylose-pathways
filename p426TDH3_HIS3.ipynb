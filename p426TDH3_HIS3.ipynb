{
 "cells": [
  {
   "cell_type": "markdown",
   "metadata": {},
   "source": [
    "#p426TDH3_HIS3"
   ]
  },
  {
   "cell_type": "code",
   "execution_count": 10,
   "metadata": {
    "collapsed": true
   },
   "outputs": [],
   "source": [
    "import pydna"
   ]
  },
  {
   "cell_type": "code",
   "execution_count": 11,
   "metadata": {
    "collapsed": true
   },
   "outputs": [],
   "source": [
    "p426TDH3 = pydna.read(\"./Mumberg/p426GPD.gb\")"
   ]
  },
  {
   "cell_type": "code",
   "execution_count": 12,
   "metadata": {
    "collapsed": false
   },
   "outputs": [
    {
     "data": {
      "text/plain": [
       "Dseqrecord(o6606)"
      ]
     },
     "execution_count": 12,
     "metadata": {},
     "output_type": "execute_result"
    }
   ],
   "source": [
    "p426TDH3"
   ]
  },
  {
   "cell_type": "code",
   "execution_count": 13,
   "metadata": {
    "collapsed": false
   },
   "outputs": [],
   "source": [
    "pYPKa_A_HIS3 = pydna.read(\"pYPKa_A_ScHIS3.gb\")"
   ]
  },
  {
   "cell_type": "code",
   "execution_count": 14,
   "metadata": {
    "collapsed": true
   },
   "outputs": [],
   "source": [
    "f, r = pydna.parse('''\n",
    ">HIS3_mum_fwd \n",
    "TCTAGAACTAGTGGATCCCCCGGGCTGCAGGAAAATGACAGAGCAGAAAGCC\n",
    ">HIS3_mum_rev \n",
    "CTCGAGGTCGACGGTATCGATAAGCTTGATATCGAATTCTACATAAGAACACCTTTGGTGGAG''', ds=False)"
   ]
  },
  {
   "cell_type": "code",
   "execution_count": 15,
   "metadata": {
    "collapsed": false
   },
   "outputs": [],
   "source": [
    "HIS3_prod = pydna.pcr(f,r, pYPKa_A_HIS3)"
   ]
  },
  {
   "cell_type": "code",
   "execution_count": 18,
   "metadata": {
    "collapsed": false
   },
   "outputs": [],
   "source": [
    "from Bio.Restriction import EcoRI\n",
    "p426TDH3_lin = p426TDH3.linearize(EcoRI)"
   ]
  },
  {
   "cell_type": "code",
   "execution_count": 19,
   "metadata": {
    "collapsed": false
   },
   "outputs": [],
   "source": [
    "asm = pydna.Assembly((p426TDH3_lin, HIS3_prod))"
   ]
  },
  {
   "cell_type": "code",
   "execution_count": 20,
   "metadata": {
    "collapsed": false
   },
   "outputs": [
    {
     "data": {
      "text/plain": [
       "Assembly:\n",
       "Sequences........................: [6610] [735]\n",
       "Sequences with shared homologies.: [6610] [735]\n",
       "Homology limit (bp)..............: 25\n",
       "Number of overlaps...............: 2\n",
       "Nodes in graph(incl. 5' & 3')....: 4\n",
       "Only terminal overlaps...........: No\n",
       "Circular products................: [7272]\n",
       "Linear products..................: [7310] [7307] [38] [35]"
      ]
     },
     "execution_count": 20,
     "metadata": {},
     "output_type": "execute_result"
    }
   ],
   "source": [
    "asm"
   ]
  },
  {
   "cell_type": "code",
   "execution_count": 21,
   "metadata": {
    "collapsed": false
   },
   "outputs": [
    {
     "data": {
      "text/plain": [
       " -|na|33\n",
       "|     \\/\n",
       "|     /\\\n",
       "|     33|735bp_PCR_prod|38\n",
       "|                       \\/\n",
       "|                       /\\\n",
       "|                       38-\n",
       "|                          |\n",
       " --------------------------"
      ]
     },
     "execution_count": 21,
     "metadata": {},
     "output_type": "execute_result"
    }
   ],
   "source": [
    "candidate = asm.circular_products[0]\n",
    "candidate.figure()"
   ]
  },
  {
   "cell_type": "code",
   "execution_count": 22,
   "metadata": {
    "collapsed": true
   },
   "outputs": [],
   "source": [
    "final = candidate.synced(p426TDH3)"
   ]
  },
  {
   "cell_type": "code",
   "execution_count": 23,
   "metadata": {
    "collapsed": false
   },
   "outputs": [
    {
     "data": {
      "text/markdown": [
       "###[p426TDH3_HIS3](p426TDH3_HIS3.gb)"
      ],
      "text/plain": [
       "<IPython.core.display.Markdown object>"
      ]
     },
     "execution_count": 23,
     "metadata": {},
     "output_type": "execute_result"
    }
   ],
   "source": [
    "final.write(\"p426TDH3_HIS3.gb\")"
   ]
  },
  {
   "cell_type": "code",
   "execution_count": null,
   "metadata": {
    "collapsed": true
   },
   "outputs": [],
   "source": []
  }
 ],
 "metadata": {
  "kernelspec": {
   "display_name": "Python 2",
   "language": "python",
   "name": "python2"
  },
  "language_info": {
   "codemirror_mode": {
    "name": "ipython",
    "version": 2
   },
   "file_extension": ".py",
   "mimetype": "text/x-python",
   "name": "python",
   "nbconvert_exporter": "python",
   "pygments_lexer": "ipython2",
   "version": "2.7.10"
  }
 },
 "nbformat": 4,
 "nbformat_minor": 0
}
