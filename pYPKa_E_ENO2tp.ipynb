{
 "cells": [
  {
   "cell_type": "markdown",
   "metadata": {},
   "source": [
    "# pYPKa_E_ENO2tp\n",
    "###Freezer ID\n",
    "    Strain#..: ?\n",
    "    Box......: ?\n",
    "    Position.: ?\n",
    "\n",
    "Importing the [pydna](https://pypi.python.org/pypi/pydna/) package.\n",
    "Pydna is [open source](https://github.com/BjornFJohansson/pydna), documentated [here](http://pydna.readthedocs.org/en/latest/) and has a support [forum](https://groups.google.com/forum/#!forum/pydna) as well as a publication:\n",
    "\n",
    "[Pereira F, Azevedo F, Carvalho Â, Ribeiro GF, Budde MW, Johansson B: Pydna: a simulation and documentation tool for DNA assembly strategies using python. BMC Bioinformatics 2015, 16:142.](http://www.biomedcentral.com/1471-2105/16/142/abstract)"
   ]
  },
  {
   "cell_type": "code",
   "execution_count": 21,
   "metadata": {
    "collapsed": true
   },
   "outputs": [],
   "source": [
    "import pydna\n",
    "from pydna import ipynb_importer"
   ]
  },
  {
   "cell_type": "markdown",
   "metadata": {},
   "source": [
    "Read the cloning vector from a local file [file](pYPKa.gb), description of [pYPKa](pYPKa.ipynb)."
   ]
  },
  {
   "cell_type": "code",
   "execution_count": 22,
   "metadata": {
    "collapsed": true
   },
   "outputs": [],
   "source": [
    "pYPKa = pydna.read(\"pYPKa.gb\")"
   ]
  },
  {
   "cell_type": "markdown",
   "metadata": {},
   "source": [
    "This vector should be a circular 3128 bp DNA molecule."
   ]
  },
  {
   "cell_type": "code",
   "execution_count": 23,
   "metadata": {
    "collapsed": false
   },
   "outputs": [
    {
     "data": {
      "text/plain": [
       "Dseqrecord(o3128)"
      ]
     },
     "execution_count": 23,
     "metadata": {},
     "output_type": "execute_result"
    }
   ],
   "source": [
    "pYPKa"
   ]
  },
  {
   "cell_type": "markdown",
   "metadata": {},
   "source": [
    "The circular seguid checksum of pYPKa should be\n",
    "\n",
    "```aV1eIrzOiCjvw01yvKkxDXHKLMk```"
   ]
  },
  {
   "cell_type": "code",
   "execution_count": 24,
   "metadata": {
    "collapsed": false
   },
   "outputs": [
    {
     "data": {
      "text/plain": [
       "aV1eIrzOiCjvw01yvKkxDXHKLMk"
      ]
     },
     "execution_count": 24,
     "metadata": {},
     "output_type": "execute_result"
    }
   ],
   "source": [
    "pYPKa.cseguid()"
   ]
  },
  {
   "cell_type": "markdown",
   "metadata": {},
   "source": [
    "Importing the restriction enzyme to be used for cloning from Biopython.\n",
    "[EcoRV](http://rebase.neb.com/rebase/enz/EcoRV.html)"
   ]
  },
  {
   "cell_type": "code",
   "execution_count": 25,
   "metadata": {
    "collapsed": true
   },
   "outputs": [],
   "source": [
    "from Bio.Restriction import EcoRV"
   ]
  },
  {
   "cell_type": "markdown",
   "metadata": {},
   "source": [
    "This enzyme should cut only once in pYPKa."
   ]
  },
  {
   "cell_type": "code",
   "execution_count": 26,
   "metadata": {
    "collapsed": true
   },
   "outputs": [],
   "source": [
    "pYPKa_EcoRV = pYPKa.linearize(EcoRV)"
   ]
  },
  {
   "cell_type": "markdown",
   "metadata": {},
   "source": [
    "The template below comes from a Genbank [record](http://www.ncbi.nlm.nih.gov/nuccore/BK006944.2).\n",
    "Access to Genbank is needed in order to download the template.\n",
    "If you execute this script, change the email address below to your own.\n",
    "Always tell Genbank who you are, when using their web service."
   ]
  },
  {
   "cell_type": "code",
   "execution_count": 27,
   "metadata": {
    "collapsed": true
   },
   "outputs": [],
   "source": [
    "gb = pydna.Genbank(\"bjornjobb@gmail.com\")"
   ]
  },
  {
   "cell_type": "markdown",
   "metadata": {},
   "source": [
    "The template is downloaded from Genbank below."
   ]
  },
  {
   "cell_type": "code",
   "execution_count": 28,
   "metadata": {
    "collapsed": true
   },
   "outputs": [],
   "source": [
    "template = gb.nucleotide(\"BK006934.2 REGION: 450807..451326\")"
   ]
  },
  {
   "cell_type": "markdown",
   "metadata": {},
   "source": [
    "The template is a 630 bp linear DNA fragment."
   ]
  },
  {
   "cell_type": "code",
   "execution_count": 29,
   "metadata": {
    "collapsed": false
   },
   "outputs": [
    {
     "data": {
      "text/plain": [
       "Dseqrecord(-520)"
      ]
     },
     "execution_count": 29,
     "metadata": {},
     "output_type": "execute_result"
    }
   ],
   "source": [
    "template"
   ]
  },
  {
   "cell_type": "markdown",
   "metadata": {},
   "source": [
    "The insert has the sequence shown below."
   ]
  },
  {
   "cell_type": "code",
   "execution_count": 30,
   "metadata": {
    "collapsed": false
   },
   "outputs": [
    {
     "data": {
      "text/plain": [
       "'ACGCGGCGTTATGTCACTAACGACGTGCACCAACTTGCGGAAAGTGGAATCCCGTTCCAAAACTGGCATCCACTAATTGATACATCTACACACCGCACGCCTTTTTTCTGAAGCCCACTTTCGTGGACTTTGCCATATGCAAAATTCATGAAGTGTGATACCAAGTCAGCATACACCTCACTAGGGTAGTTTCTTTGGTTGTATTGATCATTTGGTTCATCGTGGTTCATTAATTTTTTTTCTCCATTGCTTTCTGGCTTTGATCTTACTATCATTTGGATTTTTGTCGAAGGTTGTAGAATTGTATGTGACAAGTGGCACCAAGCATATATAAAAAAAAAAAGCATTATCTTCCTACCAGAGTTGATTGTTAAAAACGTATTTATAGCAAACGCAATTGTAATTAATTCTTATTTTGTATCTTTTCTTCCCTTGTCTCAATCTTTTATTTTTATTTTATTTTTCTTTTCTTAGTTTCTTTCATAACACCAAGCAACTAATACTATAACATACAATAATA'"
      ]
     },
     "execution_count": 30,
     "metadata": {},
     "output_type": "execute_result"
    }
   ],
   "source": [
    "str(template.seq)"
   ]
  },
  {
   "cell_type": "markdown",
   "metadata": {},
   "source": [
    "The seguid checksum of the template should be\n",
    "\n",
    "```Id7sVh9ay2868fWm4Lms3Uyh5Ig```"
   ]
  },
  {
   "cell_type": "code",
   "execution_count": 31,
   "metadata": {
    "collapsed": false
   },
   "outputs": [
    {
     "data": {
      "text/plain": [
       "Qa7R-fzB2K-Im3PxIBbFg7iaDEY"
      ]
     },
     "execution_count": 31,
     "metadata": {},
     "output_type": "execute_result"
    }
   ],
   "source": [
    "template.seguid()"
   ]
  },
  {
   "cell_type": "markdown",
   "metadata": {},
   "source": [
    "Two primers are used to amplify the insert:"
   ]
  },
  {
   "cell_type": "code",
   "execution_count": 32,
   "metadata": {
    "collapsed": true
   },
   "outputs": [],
   "source": [
    "f,r = pydna.parse(\"\"\">411_ScENO2tpf (23-mer)\n",
    "                     TTAAATACGCGGCGTTATGTCAC\n",
    "                     >452_ScENO2tpr_FspAI (39-mer)\n",
    "                     GCGCATTTATTATTGTATGTTATAGTATTAGTTGCTTGG\"\"\", ds=False)\n",
    "\n",
    "insert = pydna.pcr(f, r, template)"
   ]
  },
  {
   "cell_type": "markdown",
   "metadata": {},
   "source": [
    "The primers anneal on the template like this."
   ]
  },
  {
   "cell_type": "code",
   "execution_count": 33,
   "metadata": {
    "collapsed": false
   },
   "outputs": [
    {
     "data": {
      "text/plain": [
       "      5ACGCGGCGTTATGTCAC...CCAAGCAACTAATACTATAACATACAATAATA3\n",
       "                           |||||||||||||||||||||||||||||||| tm 51.0 (dbd) 61.0\n",
       "                          3GGTTCGTTGATTATGATATTGTATGTTATTATTTACGCG5\n",
       "5TTAAATACGCGGCGTTATGTCAC3\n",
       "       ||||||||||||||||| tm 52.6 (dbd) 65.3\n",
       "      3TGCGCCGCAATACAGTG...GGTTCGTTGATTATGATATTGTATGTTATTAT5"
      ]
     },
     "execution_count": 33,
     "metadata": {},
     "output_type": "execute_result"
    }
   ],
   "source": [
    "insert.figure()"
   ]
  },
  {
   "cell_type": "markdown",
   "metadata": {},
   "source": [
    "A recombinant plasmid is formed by ligating the insert PCR product to the linear vector."
   ]
  },
  {
   "cell_type": "code",
   "execution_count": 34,
   "metadata": {
    "collapsed": true
   },
   "outputs": [],
   "source": [
    "plasmid = (pYPKa_EcoRV + insert).looped()"
   ]
  },
  {
   "cell_type": "markdown",
   "metadata": {},
   "source": [
    "The plasmid sequence is rotated so that the origin is in the same position as for the cloning vector sequence."
   ]
  },
  {
   "cell_type": "code",
   "execution_count": 35,
   "metadata": {
    "collapsed": true
   },
   "outputs": [],
   "source": [
    "pYPKa_E_FBA1tp = plasmid.synced(pYPKa)"
   ]
  },
  {
   "cell_type": "markdown",
   "metadata": {},
   "source": [
    "Calculate cseguid checksum for the resulting plasmid. Should be\n",
    "\n",
    "```-kQzfQl5flgxrCF5WlENekL2OI0```"
   ]
  },
  {
   "cell_type": "code",
   "execution_count": 36,
   "metadata": {
    "collapsed": false
   },
   "outputs": [
    {
     "data": {
      "text/plain": [
       "FdJ9OEz2UrPe1uMY8CGs45XX2NI"
      ]
     },
     "execution_count": 36,
     "metadata": {},
     "output_type": "execute_result"
    }
   ],
   "source": [
    "pYPKa_E_FBA1tp.cseguid()"
   ]
  },
  {
   "cell_type": "markdown",
   "metadata": {},
   "source": [
    "The file is named pYPKa_E_FBA1tp"
   ]
  },
  {
   "cell_type": "code",
   "execution_count": 37,
   "metadata": {
    "collapsed": true
   },
   "outputs": [],
   "source": [
    "pYPKa_E_FBA1tp.name = \"pYPKa_E_FBA1tp\"\n",
    "pYPKa_E_FBA1tp.description = \"pYPKa_E_FBA1tp\""
   ]
  },
  {
   "cell_type": "markdown",
   "metadata": {},
   "source": [
    "Stamp sequence with cSEGUID checksum"
   ]
  },
  {
   "cell_type": "code",
   "execution_count": 38,
   "metadata": {
    "collapsed": false
   },
   "outputs": [
    {
     "data": {
      "text/plain": [
       "cSEGUID_FdJ9OEz2UrPe1uMY8CGs45XX2NI_2015-05-27T15:14:17.224244"
      ]
     },
     "execution_count": 38,
     "metadata": {},
     "output_type": "execute_result"
    }
   ],
   "source": [
    "pYPKa_E_FBA1tp.stamp()"
   ]
  },
  {
   "cell_type": "markdown",
   "metadata": {},
   "source": [
    "Write sequence to a local file."
   ]
  },
  {
   "cell_type": "code",
   "execution_count": 39,
   "metadata": {
    "collapsed": false
   },
   "outputs": [
    {
     "name": "stdout",
     "output_type": "stream",
     "text": [
      "Sequence changed!\n",
      "pYPKa_E_FBA1tp_OLD.gb 3772 bp seguid W0UvyQskRsKxWdT39Q7pBP7Oxhw\n",
      "pYPKa_E_FBA1tp.gb     3661 bp seguid LgZXNEPXnnvndMVq2tNltz7hGzc\n",
      "\n"
     ]
    }
   ],
   "source": [
    "pYPKa_E_FBA1tp.write(\"pYPKa_E_FBA1tp.gb\")"
   ]
  },
  {
   "cell_type": "markdown",
   "metadata": {},
   "source": [
    "### Download [pYPKa_E_FBA1tp](pYPKa_E_FBA1tp.gb)"
   ]
  },
  {
   "cell_type": "code",
   "execution_count": 40,
   "metadata": {
    "collapsed": false
   },
   "outputs": [
    {
     "data": {
      "text/plain": [
       "cSEGUID_FdJ9OEz2UrPe1uMY8CGs45XX2NI"
      ]
     },
     "execution_count": 40,
     "metadata": {},
     "output_type": "execute_result"
    }
   ],
   "source": [
    "import pydna\n",
    "reloaded = pydna.read(\"pYPKa_E_FBA1tp.gb\")\n",
    "reloaded.verify_stamp()"
   ]
  },
  {
   "cell_type": "code",
   "execution_count": null,
   "metadata": {
    "collapsed": true
   },
   "outputs": [],
   "source": []
  }
 ],
 "metadata": {
  "kernelspec": {
   "display_name": "Python 2",
   "language": "python",
   "name": "python2"
  },
  "language_info": {
   "codemirror_mode": {
    "name": "ipython",
    "version": 2
   },
   "file_extension": ".py",
   "mimetype": "text/x-python",
   "name": "python",
   "nbconvert_exporter": "python",
   "pygments_lexer": "ipython2",
   "version": "2.7.9"
  }
 },
 "nbformat": 4,
 "nbformat_minor": 0
}
