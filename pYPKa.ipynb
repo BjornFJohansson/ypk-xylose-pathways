{
 "cells": [
  {
   "cell_type": "markdown",
   "metadata": {},
   "source": [
    "#Construction of the pYPKa vector\n",
    "The pYPKa is a version of the pCAPs vector where a unique [AjiI](http://rebase.neb.com/rebase/enz/AjiI.html) site has been created by site directed mutagenesis and a AcsI site removed [AcsI](http://rebase.neb.com/rebase/enz/AcsI.html). The pCAPs plasmid was described by [Schlieper et al. 1998](http://www.ncbi.nlm.nih.gov/pubmed/9514792) (see below) The abstract is available from Pubmed. The pCAPs sequence is available from Genbank:"
   ]
  },
  {
   "cell_type": "code",
   "execution_count": 1,
   "metadata": {
    "collapsed": false
   },
   "outputs": [
    {
     "data": {
      "text/html": [
       "<iframe src=http://www.ncbi.nlm.nih.gov/pubmed/9514792 width=100% height=250></iframe>"
      ],
      "text/plain": [
       "<IPython.core.display.HTML object>"
      ]
     },
     "execution_count": 1,
     "metadata": {},
     "output_type": "execute_result"
    }
   ],
   "source": [
    "from IPython.display import HTML\n",
    "HTML('<iframe src=http://www.ncbi.nlm.nih.gov/pubmed/9514792 width=100% height=250></iframe>')"
   ]
  },
  {
   "cell_type": "markdown",
   "metadata": {},
   "source": [
    "Importing the [pydna](https://pypi.python.org/pypi/pydna/) package.\n",
    "Pydna is [open source](https://github.com/BjornFJohansson/pydna), documentated [here](http://pydna.readthedocs.org/en/latest/) and has a support [forum](https://groups.google.com/forum/#!forum/pydna) as well as a publication:\n",
    "\n",
    "[Pereira F, Azevedo F, Carvalho Â, Ribeiro GF, Budde MW, Johansson B: Pydna: a simulation and documentation tool for DNA assembly strategies using python. BMC Bioinformatics 2015, 16:142.](http://www.biomedcentral.com/1471-2105/16/142/abstract)"
   ]
  },
  {
   "cell_type": "code",
   "execution_count": 2,
   "metadata": {
    "collapsed": false
   },
   "outputs": [],
   "source": [
    "import pydna"
   ]
  },
  {
   "cell_type": "markdown",
   "metadata": {},
   "source": [
    "The plasmid backbone sequence comes from a Genbank [record](http://www.ncbi.nlm.nih.gov/nuccore/AJ001614).\n",
    "Access to Genbank is needed in order to download the template.\n",
    "If you execute this script, change the email address below to your own.\n",
    "Always tell Genbank who you are, when using the service."
   ]
  },
  {
   "cell_type": "code",
   "execution_count": 2,
   "metadata": {
    "collapsed": false
   },
   "outputs": [],
   "source": [
    "gb = pydna.Genbank(\"bjornjobbb@gmail.com\")"
   ]
  },
  {
   "cell_type": "code",
   "execution_count": 3,
   "metadata": {
    "collapsed": false
   },
   "outputs": [],
   "source": [
    "pCAPs = gb.nucleotide(\"AJ001614.1\")"
   ]
  },
  {
   "cell_type": "code",
   "execution_count": null,
   "metadata": {
    "collapsed": true
   },
   "outputs": [],
   "source": [
    "pCAPS cseguid shoud be ```S6GoB_Z13VCfGDTEqNclu4It614```"
   ]
  },
  {
   "cell_type": "code",
   "execution_count": 4,
   "metadata": {
    "collapsed": false
   },
   "outputs": [
    {
     "data": {
      "text/plain": [
       "S6GoB_Z13VCfGDTEqNclu4It614"
      ]
     },
     "execution_count": 4,
     "metadata": {},
     "output_type": "execute_result"
    }
   ],
   "source": [
    "pCAPs.cseguid()"
   ]
  },
  {
   "cell_type": "markdown",
   "metadata": {},
   "source": [
    "The first feature is removed for practical reasons since it covers the whole sequence."
   ]
  },
  {
   "cell_type": "code",
   "execution_count": 5,
   "metadata": {
    "collapsed": false
   },
   "outputs": [],
   "source": [
    "pCAPs.features = pCAPs.features [1:]"
   ]
  },
  {
   "cell_type": "markdown",
   "metadata": {},
   "source": [
    "The sequence to be mutated is contained withing the subsequence below:"
   ]
  },
  {
   "cell_type": "code",
   "execution_count": 6,
   "metadata": {
    "collapsed": false
   },
   "outputs": [
    {
     "name": "stdout",
     "output_type": "stream",
     "text": [
      "TTCTCACTAGTGACCTGCAGCCGGCGCGCCATCTGTGCAGACAAACGCA\n"
     ]
    }
   ],
   "source": [
    "print str(pCAPs[555:604].seq)"
   ]
  },
  {
   "cell_type": "code",
   "execution_count": 7,
   "metadata": {
    "collapsed": false
   },
   "outputs": [
    {
     "name": "stdout",
     "output_type": "stream",
     "text": [
      "CACGTC\n",
      "False\n"
     ]
    }
   ],
   "source": [
    "from Bio.Restriction import AjiI\n",
    "print AjiI.site\n",
    "print AjiI.is_palindromic()"
   ]
  },
  {
   "cell_type": "markdown",
   "metadata": {},
   "source": [
    "## Outline of the mutation strategy\n",
    "\n",
    "pCAPs sequence\n",
    "\n",
    "    TTCTCACTAGTGACCTGCAGCCGGCGCGCCATCTGTGCAGACAAACGCA   watson  \n",
    "    AAGAGTGATCACTGGACGTCGGCCGCGCGGTAGACACGTCTGTTTGCGT   crick\n",
    "                       <---ArgAla---\n",
    "\n",
    "Two aminoacids in the CRP coding sequence are indicated in the crick strand of pCAPs.\n",
    "\n",
    "\n",
    "Primers annealing to template\n",
    "                            \n",
    "    TTCTCACTAGTGACCTGCAGCCGGCGCGCCATCTGTGCAGACAAACGCA\n",
    "      |||||||||||||||||||||\n",
    "      gagtgatcactggacgtcggcTG\n",
    "                             GTGCcatctgtgcagacaaacg\n",
    "                                |||||||||||||||||||\n",
    "    AAGAGTGATCACTGGACGTCGGCCGCGCGGTAGACACGTCTGTTTGCGT\n",
    "    \n",
    "Resulting mutated seqence in pYPKa:    \n",
    "                                \n",
    "    ttctcactagtgacctgcagccgACGTGccatctgtgcagacaaacgca   watson\n",
    "    aagagtgatcactggacgtcggcTGCACggtagacacgtctgtttgcgt   crick\n",
    "                          ------                        AjiI site\n",
    "    \n",
    "                       <---ArgAla---\n",
    "    \n",
    "    \n",
    "The mutation is silent, the codons formed in the CRP orf on the crick strand encode the same aminoacids\n",
    "    \n",
    "          Ala Arg\n",
    "    \n",
    "    pCAPS gcg cgg\n",
    "    \n",
    "    pYPKa gca cgt\n",
    "   "
   ]
  },
  {
   "cell_type": "code",
   "execution_count": 8,
   "metadata": {
    "collapsed": false
   },
   "outputs": [],
   "source": [
    "primers = pydna.parse('''>568_pCAPsAjiIR (22-mer)\n",
    "                         GTGCcatctgtgcagacaaacg\n",
    "\n",
    "                         >567_pCAPsAjiIF (23-mer)\n",
    "                         GTcggctgcaggtcactagtgag''', ds=False)"
   ]
  },
  {
   "cell_type": "code",
   "execution_count": 9,
   "metadata": {
    "collapsed": false
   },
   "outputs": [],
   "source": [
    "pYPKa = pydna.pcr(primers, pCAPs).looped().synced(pCAPs)"
   ]
  },
  {
   "cell_type": "code",
   "execution_count": 10,
   "metadata": {
    "collapsed": false
   },
   "outputs": [
    {
     "data": {
      "text/plain": [
       "cSEGUID_aV1eIrzOiCjvw01yvKkxDXHKLMk_2015-05-08T16:41:28.034624"
      ]
     },
     "execution_count": 10,
     "metadata": {},
     "output_type": "execute_result"
    }
   ],
   "source": [
    "pYPKa.stamp()"
   ]
  },
  {
   "cell_type": "code",
   "execution_count": 12,
   "metadata": {
    "collapsed": false
   },
   "outputs": [],
   "source": [
    "pYPKa.name = \"pYPKa\""
   ]
  },
  {
   "cell_type": "code",
   "execution_count": 14,
   "metadata": {
    "collapsed": false
   },
   "outputs": [],
   "source": [
    "pYPKa.write(\"pYPKa.gb\")"
   ]
  },
  {
   "cell_type": "markdown",
   "metadata": {},
   "source": [
    "### Download\n",
    "[pYPKa](pYPKa.gb)"
   ]
  },
  {
   "cell_type": "code",
   "execution_count": 15,
   "metadata": {
    "collapsed": true
   },
   "outputs": [],
   "source": [
    "reloaded = pydna.read(\"pYPKa.gb\")"
   ]
  },
  {
   "cell_type": "code",
   "execution_count": 19,
   "metadata": {
    "collapsed": false
   },
   "outputs": [
    {
     "data": {
      "text/plain": [
       "LOCUS       pYPKa                   3128 bp    DNA     circular UNK 08-MAY-2015\n",
       "DEFINITION  Product_568_pCAPsAjiIR (22-mer)_567_pCAPsAjiIF (23-mer)\n",
       "            cSEGUID_aV1eIrzOiCjvw01yvKkxDXHKLMk_2015-05-08T16:41:28.034624\n",
       "ACCESSION   3128bp TmU_6uVdgKq5aQhTpHux7dVk9J8\n",
       "VERSION     3128bp TmU_6uVdgKq5aQhTpHux7dVk9J8\n",
       "KEYWORDS    .\n",
       "SOURCE      \n",
       "  ORGANISM  . .\n",
       "            .\n",
       "FEATURES             Location/Qualifiers\n",
       "     primer_bind     complement(558..578)\n",
       "                     /note=\"567_pCAPsAjiIF\"\n",
       "                     /ApEinfo_revcolor=\"red\"\n",
       "                     /ApEinfo_fwdcolor=\"green\"\n",
       "     misc            complement(558..580)\n",
       "                     /label=\"567_pCAPsAjiIF\"\n",
       "     misc            581..602\n",
       "                     /label=\"568_pCAPsAjiIR\"\n",
       "     primer_bind     583..602\n",
       "                     /note=\"568_pCAPsAjiIR\"\n",
       "                     /ApEinfo_revcolor=\"red\"\n",
       "                     /ApEinfo_fwdcolor=\"green\"\n",
       "     rep_origin      1313\n",
       "                     /direction=BOTH\n",
       "     gene            complement(2072..2932)\n",
       "                     /gene=\"bla\"\n",
       "     CDS             complement(2072..2932)\n",
       "                     /product=\"beta-lactamase\"\n",
       "                     /codon_start=1\n",
       "                     /transl_table=11\n",
       "                     /db_xref=\"GI:2769263\"\n",
       "                     /db_xref=\"GOA:Q79DR3\"\n",
       "                     /db_xref=\"HSSP:P62593\"\n",
       "                     /db_xref=\"InterPro:IPR000871\"\n",
       "                     /db_xref=\"InterPro:IPR001466\"\n",
       "                     /db_xref=\"InterPro:IPR012338\"\n",
       "                     /db_xref=\"UniProtKB/TrEMBL:Q79DR3\"\n",
       "                     /translation=\"MSIQHFRVALIPFFAAFCLPVFAHPETLVKVKDAEDQLGARVGYI\n",
       "                     ELDLNSGKILESFRPEERFPMMSTFKVLLCGAVLSRIDAGQEQLGRRIHYSQNDLVEYS\n",
       "                     PVTEKHLTDGMTVRELCSAAITMSDNTAANLLLTTIGGPKELTAFLHNMGDHVTRLDRW\n",
       "                     EPELNEAIPNDERDTTMPVAMATTLRKLLTGELLTLASRQQLIDWMEADKVAGPLLRSA\n",
       "                     LPAGWFIADKSGAGERGSRGIIAALGPDGKPSRIVVIYTTGSQATMDERNRQIAEIGAS\n",
       "                     LIKHW\"\n",
       "                     /gene=\"bla\"\n",
       "                     /protein_id=\"CAA04868.1\"\n",
       "ORIGIN\n",
       "        1 tcgcgcgttt cggtgatgac ggtgaaaacc tctgacacat gcagctcccg gagacggtca\n",
       "       61 cagcttgtct gtaagcggat gccgggagca gacaagcccg tcagggcgcg tcagcgggtg\n",
       "      121 ttggcgggtg tcggggctgg cttaactatg cggcatcaga gcagattgta ctgagagtgc\n",
       "      181 accatagatc ctgaggatcg gggtgataaa tcagtctgcg ccacatcggg ggaaacaaaa\n",
       "      241 tggcgcgaga tctaaaaaaa aaggctccaa aaggagcctt tcgcgctacc aggtaacgcg\n",
       "      301 ccactccgac gggattaacg agtgccgtaa acgacgatgg ttttaccgtg tgcggagatc\n",
       "      361 aggttctgat cctcgagcat cttaagaatt cgtcccacgg tttgtctaga gcagccgaca\n",
       "      421 atctggccaa tttcctgacg ggtaattttg atttgcatgc cgtccgggtg agtcatagcg\n",
       "      481 tctggttgtt ttgccagatt cagcagagtc tgtgcaatgc ggccgctgac gtcgaggaac\n",
       "      541 gccaggttgc ccactttctc actagtgacc tgcagccgac gtgccatctg tgcagacaaa\n",
       "      601 cgcatcagga tatccggatt tacctgaatc aattggcgaa attttttgta cgaaatttca\n",
       "      661 gccacttcac aggcggtttt cgcacgtacc catgcgctac gttcctggcc ctcttcaaac\n",
       "      721 aggcccagtt cgccaataaa atcaccctga ttcagatagg agaggatcat ttctttaccc\n",
       "      781 tcttcgtctt tgatcagcac tgccacagag cctttaacga tgtagtacag cgtttccgct\n",
       "      841 ttttcaccct ggtgaataag cgtgctcttg gatgggtact tatgaatgtg gcaatgagac\n",
       "      901 aagaaccatt cgagagtagg atccgtttga ggtttaccaa gtaccataag atccttaaat\n",
       "      961 ttttattatc tagctagatg ataatattat atcaagaatt gtacctgaaa gcaaataaat\n",
       "     1021 tttttatctg gcttaactat gcggcatcag agcagattgt actgagagtg caccatatgc\n",
       "     1081 ggtgtgaaat accgcacaga tgcgtaagga gaaaataccg catcaggcgc tcttccgctt\n",
       "     1141 cctcgctcac tgactcgctg cgctcggtcg ttcggctgcg gcgagcggta tcagctcact\n",
       "     1201 caaaggcggt aatacggtta tccacagaat caggggataa cgcaggaaag aacatgtgag\n",
       "     1261 caaaaggcca gcaaaaggcc aggaaccgta aaaaggccgc gttgctggcg tttttccata\n",
       "     1321 ggctccgccc ccctgacgag catcacaaaa atcgacgctc aagtcagagg tggcgaaacc\n",
       "     1381 cgacaggact ataaagatac caggcgtttc cccctggaag ctccctcgtg cgctctcctg\n",
       "     1441 ttccgaccct gccgcttacc ggatacctgt ccgcctttct cccttcggga agcgtggcgc\n",
       "     1501 tttctcatag ctcacgctgt aggtatctca gttcggtgta ggtcgttcgc tccaagctgg\n",
       "     1561 gctgtgtgca cgaacccccc gttcagcccg accgctgcgc cttatccggt aactatcgtc\n",
       "     1621 ttgagtccaa cccggtaaga cacgacttat cgccactggc agcagccact ggtaacagga\n",
       "     1681 ttagcagagc gaggtatgta ggcggtgcta cagagttctt gaagtggtgg cctaactacg\n",
       "     1741 gctacactag aaggacagta tttggtatct gcgctctgct gaagccagtt accttcggaa\n",
       "     1801 aaagagttgg tagctcttga tccggcaaac aaaccaccgc tggtagcggt ggtttttttg\n",
       "     1861 tttgcaagca gcagattacg cgcagaaaaa aaggatctca agaagatcct ttgatctttt\n",
       "     1921 ctacggggtc tgacgctcag tggaacgaaa actcacgtta agggattttg gtcatgagat\n",
       "     1981 tatcaaaaag gatcttcacc tagatccttt taaattaaaa atgaagtttt aaatcaatct\n",
       "     2041 aaagtatata tgagtaaact tggtctgaca gttaccaatg cttaatcagt gaggcaccta\n",
       "     2101 tctcagcgat ctgtctattt cgttcatcca tagttgcctg actccccgtc gtgtagataa\n",
       "     2161 ctacgatacg ggagggctta ccatctggcc ccagtgctgc aatgataccg cgagacccac\n",
       "     2221 gctcaccggc tccagattta tcagcaataa accagccagc cggaagggcc gagcgcagaa\n",
       "     2281 gtggtcctgc aactttatcc gcctccatcc agtctattaa ttgttgccgg gaagctagag\n",
       "     2341 taagtagttc gccagttaat agtttgcgca acgttgttgc cattgctaca ggcatcgtgg\n",
       "     2401 tgtcacgctc gtcgtttggt atggcttcat tcagctccgg ttcccaacga tcaaggcgag\n",
       "     2461 ttacatgatc ccccatgttg tgcaaaaaag cggttagctc cttcggtcct ccgatcgttg\n",
       "     2521 tcagaagtaa gttggccgca gtgttatcac tcatggttat ggcagcactg cataattctc\n",
       "     2581 ttactgtcat gccatccgta agatgctttt ctgtgactgg tgagtactca accaagtcat\n",
       "     2641 tctgagaata gtgtatgcgg cgaccgagtt gctcttgccc ggcgtcaata cgggataata\n",
       "     2701 ccgcgccaca tagcagaact ttaaaagtgc tcatcattgg aaaacgttct tcggggcgaa\n",
       "     2761 aactctcaag gatcttaccg ctgttgagat ccagttcgat gtaacccact cgtgcaccca\n",
       "     2821 actgatcttc agcatctttt actttcacca gcgtttctgg gtgagcaaaa acaggaaggc\n",
       "     2881 aaaatgccgc aaaaaaggga ataagggcga cacggaaatg ttgaatactc atactcttcc\n",
       "     2941 tttttcaata ttattgaagc atttatcagg gttattgtct catgagcgga tacatatttg\n",
       "     3001 aatgtattta gaaaaataaa caaatagggg ttccgcgcac atttccccga aaagtgccac\n",
       "     3061 ctgctaagaa accattatta tcatgacatt aacctataaa aataggcgta tcacgaggcc\n",
       "     3121 ctttcgtc\n",
       "//"
      ]
     },
     "execution_count": 19,
     "metadata": {},
     "output_type": "execute_result"
    }
   ],
   "source": [
    "reloaded.format(\"gb\")"
   ]
  },
  {
   "cell_type": "code",
   "execution_count": null,
   "metadata": {
    "collapsed": true
   },
   "outputs": [],
   "source": []
  }
 ],
 "metadata": {
  "kernelspec": {
   "display_name": "Python 2",
   "language": "python",
   "name": "python2"
  },
  "language_info": {
   "codemirror_mode": {
    "name": "ipython",
    "version": 2
   },
   "file_extension": ".py",
   "mimetype": "text/x-python",
   "name": "python",
   "nbconvert_exporter": "python",
   "pygments_lexer": "ipython2",
   "version": "2.7.9"
  }
 },
 "nbformat": 4,
 "nbformat_minor": 0
}
