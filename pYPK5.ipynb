{
 "cells": [
  {
   "cell_type": "markdown",
   "metadata": {
    "deletable": true,
    "editable": true
   },
   "source": [
    "# pYPK5\n",
    "\n",
    "Cassette MX4 amplififcação:\n",
    "\n",
    " - primers 477 e 531\n",
    " - template pAG32.\n",
    "\n",
    "Cassette 2u amplificação:\n",
    "\n",
    " - primers 534 e 535\n",
    " - template pYPK0\n",
    "\n",
    "pYPK0 digerido com StuI."
   ]
  },
  {
   "cell_type": "code",
   "execution_count": 1,
   "metadata": {
    "collapsed": true,
    "deletable": true,
    "editable": true
   },
   "outputs": [],
   "source": [
    "from pydna.all import *"
   ]
  },
  {
   "cell_type": "code",
   "execution_count": 2,
   "metadata": {
    "collapsed": true,
    "deletable": true,
    "editable": true
   },
   "outputs": [],
   "source": [
    "pYPK0 = read(\"pYPK0.gb\")"
   ]
  },
  {
   "cell_type": "code",
   "execution_count": 3,
   "metadata": {
    "collapsed": false,
    "deletable": true,
    "editable": true
   },
   "outputs": [],
   "source": [
    "githubuser=\"BjornFJohansson\"\n",
    "gistid = \"c5424b7ebbf553c52053\"\n",
    "x=download_text('https://gist.githubusercontent.com/{u}/{gid}/raw'.format(u=githubuser, gid=gistid))\n",
    "pAG32 =read(x)"
   ]
  },
  {
   "cell_type": "code",
   "execution_count": 4,
   "metadata": {
    "collapsed": false,
    "deletable": true,
    "editable": true
   },
   "outputs": [
    {
     "data": {
      "text/plain": [
       "ttCV-qk-4UzU8BkVhaswwqdfGlg"
      ]
     },
     "execution_count": 4,
     "metadata": {},
     "output_type": "execute_result"
    }
   ],
   "source": [
    "pAG32.cseguid()"
   ]
  },
  {
   "cell_type": "markdown",
   "metadata": {
    "deletable": true,
    "editable": true
   },
   "source": [
    "[pAG32 sequence](https://gist.github.com/BjornFJohansson/c5424b7ebbf553c52053)"
   ]
  },
  {
   "cell_type": "code",
   "execution_count": 5,
   "metadata": {
    "collapsed": true,
    "deletable": true,
    "editable": true
   },
   "outputs": [],
   "source": [
    "p477, p531, p535, p534=parse(''' \n",
    ">477_bleMX4r\n",
    "agtggaacgaaaactcacgttaagggattttggtcatgaggagctcgttttcga\n",
    "\n",
    ">531_pSU1_MX4f (67-mer)\n",
    "taattctcatctttgacagcttatcatcgataagtccccgccgggtc\n",
    "\n",
    ">535_pSU0_2u_Fwd (21-mer)\n",
    "taactgtcagaccaagtttac\n",
    "\n",
    ">534_pSU0_2u_rev (27-mer)\n",
    "ttatcgatgataagctgtcaaagatga''')"
   ]
  },
  {
   "cell_type": "code",
   "execution_count": 6,
   "metadata": {
    "collapsed": true,
    "deletable": true,
    "editable": true
   },
   "outputs": [],
   "source": [
    "hygmarker = pcr(p477, p531, pAG32)"
   ]
  },
  {
   "cell_type": "code",
   "execution_count": 7,
   "metadata": {
    "collapsed": true,
    "deletable": true,
    "editable": true
   },
   "outputs": [],
   "source": [
    "two_micron =pcr(p534, p535, pYPK0)"
   ]
  },
  {
   "cell_type": "code",
   "execution_count": 8,
   "metadata": {
    "collapsed": true,
    "deletable": true,
    "editable": true
   },
   "outputs": [],
   "source": [
    "from Bio.Restriction import StuI"
   ]
  },
  {
   "cell_type": "code",
   "execution_count": 9,
   "metadata": {
    "collapsed": false,
    "deletable": true,
    "editable": true
   },
   "outputs": [
    {
     "data": {
      "text/plain": [
       "(Dseqrecord(-4982), Dseqrecord(-780))"
      ]
     },
     "execution_count": 9,
     "metadata": {},
     "output_type": "execute_result"
    }
   ],
   "source": [
    "stuffer,vect = pYPK0.cut(StuI)\n",
    "vect, stuffer"
   ]
  },
  {
   "cell_type": "code",
   "execution_count": 10,
   "metadata": {
    "collapsed": false,
    "deletable": true,
    "editable": true
   },
   "outputs": [],
   "source": [
    "asm=Assembly([vect, hygmarker, two_micron, vect])"
   ]
  },
  {
   "cell_type": "code",
   "execution_count": 11,
   "metadata": {
    "collapsed": false,
    "deletable": true,
    "editable": true
   },
   "outputs": [
    {
     "data": {
      "text/plain": [
       "## Assembly object ##\n",
       "fragments....: 4982bp 1721bp 1619bp 4982bp\n",
       "limit(bp)....: 25\n",
       "G.nodes......: 12\n",
       "algorithm....: common_sub_strings\n",
       "linear(9)....: -11409 -11281 -11153 -5224 -5110 -5096 -4982 -4968\n",
       "circular(3)..: o6427 o6299 o6171"
      ]
     },
     "execution_count": 11,
     "metadata": {},
     "output_type": "execute_result"
    }
   ],
   "source": [
    "asm"
   ]
  },
  {
   "cell_type": "code",
   "execution_count": 12,
   "metadata": {
    "collapsed": false,
    "deletable": true,
    "editable": true
   },
   "outputs": [
    {
     "data": {
      "text/plain": [
       "(Contig(o6427), Contig(o6299), Contig(o6171))"
      ]
     },
     "execution_count": 12,
     "metadata": {},
     "output_type": "execute_result"
    }
   ],
   "source": [
    "x,y,z = asm.circular_products\n",
    "x,y,z"
   ]
  },
  {
   "cell_type": "markdown",
   "metadata": {
    "deletable": true,
    "editable": true
   },
   "source": [
    "The larger recombination product x (7219 bp) contains the \n",
    "pYPK0 vector two times in a row\n",
    "the product we want is the y sequence (6299bp) see below.\n",
    "\n",
    "    x:\n",
    "     -|1619bp_PCR_prod|1505\n",
    "    |                  \\/\n",
    "    |                  /\\\n",
    "    |                  1505|pYPK0|66\n",
    "    |                             \\/\n",
    "    |                             /\\\n",
    "    |                             66|pYPK0|41\n",
    "    |                                      \\/\n",
    "    |                                      /\\\n",
    "    |                                      41|1721bp_PCR_pr_rc|33\n",
    "    |                                                          \\/\n",
    "    |                                                          /\\\n",
    "    |                                                          33-\n",
    "    |                                                             |\n",
    "     -------------------------------------------------------------\n",
    "\n",
    "\n",
    "    y:\n",
    "     -|1619bp_PCR_prod|66\n",
    "    |                  \\/\n",
    "    |                  /\\\n",
    "    |                  66|pYPK0|41\n",
    "    |                           \\/\n",
    "    |                           /\\\n",
    "    |                           41|1721bp_PCR_pr_rc|33\n",
    "    |                                               \\/\n",
    "    |                                               /\\\n",
    "    |                                               33-\n",
    "    |                                                  |\n",
    "     --------------------------------------------------"
   ]
  },
  {
   "cell_type": "code",
   "execution_count": 13,
   "metadata": {
    "collapsed": false,
    "deletable": true,
    "editable": true
   },
   "outputs": [
    {
     "data": {
      "text/plain": [
       " -|name|41\n",
       "|       \\/\n",
       "|       /\\\n",
       "|       41|1721bp_PCR_pr_rc|33\n",
       "|                           \\/\n",
       "|                           /\\\n",
       "|                           33|1619bp_PCR_prod|66\n",
       "|                                              \\/\n",
       "|                                              /\\\n",
       "|                                              66-\n",
       "|                                                 |\n",
       " -------------------------------------------------"
      ]
     },
     "execution_count": 13,
     "metadata": {},
     "output_type": "execute_result"
    }
   ],
   "source": [
    "x.figure()"
   ]
  },
  {
   "cell_type": "code",
   "execution_count": 14,
   "metadata": {
    "collapsed": true,
    "deletable": true,
    "editable": true
   },
   "outputs": [],
   "source": [
    "pYPK5 = y.synced(pYPK0)"
   ]
  },
  {
   "cell_type": "code",
   "execution_count": 15,
   "metadata": {
    "collapsed": false
   },
   "outputs": [
    {
     "data": {
      "text/plain": [
       "6299"
      ]
     },
     "execution_count": 15,
     "metadata": {},
     "output_type": "execute_result"
    }
   ],
   "source": [
    "len(pYPK5)"
   ]
  },
  {
   "cell_type": "code",
   "execution_count": 16,
   "metadata": {
    "collapsed": false,
    "deletable": true,
    "editable": true
   },
   "outputs": [
    {
     "data": {
      "text/plain": [
       "bYXaKaxDTMFN5_B-QWoDqATVAb0"
      ]
     },
     "execution_count": 16,
     "metadata": {},
     "output_type": "execute_result"
    }
   ],
   "source": [
    "pYPK5.cseguid()"
   ]
  },
  {
   "cell_type": "code",
   "execution_count": 17,
   "metadata": {
    "collapsed": false,
    "deletable": true,
    "editable": true
   },
   "outputs": [
    {
     "data": {
      "text/plain": [
       "cSEGUID_bYXaKaxDTMFN5_B-QWoDqATVAb0"
      ]
     },
     "execution_count": 17,
     "metadata": {},
     "output_type": "execute_result"
    }
   ],
   "source": [
    "pYPK5.locus = \"pYPK5\"\n",
    "pYPK5.stamp()"
   ]
  },
  {
   "cell_type": "code",
   "execution_count": 18,
   "metadata": {
    "collapsed": false,
    "deletable": true,
    "editable": true
   },
   "outputs": [
    {
     "data": {
      "text/html": [
       "<font face=monospace><a href='pYPK5.gb' target='_blank'>pYPK5.gb</a></font><br>"
      ]
     },
     "metadata": {},
     "output_type": "display_data"
    }
   ],
   "source": [
    "pYPK5.write(\"pYPK5.gb\")"
   ]
  },
  {
   "cell_type": "code",
   "execution_count": 19,
   "metadata": {
    "collapsed": false,
    "deletable": true,
    "editable": true
   },
   "outputs": [],
   "source": [
    "from pydna.all import *\n",
    "r =read(\"pYPK5.gb\")\n",
    "assert r.cseguid() in r.definition"
   ]
  }
 ],
 "metadata": {
  "kernelspec": {
   "display_name": "Python 3",
   "language": "python",
   "name": "python3"
  },
  "language_info": {
   "codemirror_mode": {
    "name": "ipython",
    "version": 3
   },
   "file_extension": ".py",
   "mimetype": "text/x-python",
   "name": "python",
   "nbconvert_exporter": "python",
   "pygments_lexer": "ipython3",
   "version": "3.6.3"
  }
 },
 "nbformat": 4,
 "nbformat_minor": 2
}
