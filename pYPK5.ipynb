{
 "cells": [
  {
   "cell_type": "markdown",
   "metadata": {},
   "source": [
    "#pYPK5\n",
    "\n",
    "Cassette MX4 amplififcação:\n",
    "\n",
    " - primers 477 e 531\n",
    " - template pAG32.\n",
    "\n",
    "Cassette 2u amplificação:\n",
    "\n",
    " - primers 534 e 535\n",
    " - template pYPK0\n",
    "\n",
    "pYPK0 digerido com StuI."
   ]
  },
  {
   "cell_type": "code",
   "execution_count": 1,
   "metadata": {
    "collapsed": false
   },
   "outputs": [],
   "source": [
    "import pydna\n",
    "\n",
    "pYPK0 = pydna.read(\"pYPK0.gb\")\n",
    "\n",
    "import requests\n",
    "gistid = \"c5424b7ebbf553c52053\"\n",
    "r = requests.get('https://api.github.com/gists/'+gistid)\n",
    "pAG32 = pydna.read(r.json()[\"files\"].values().pop()[\"content\"])"
   ]
  },
  {
   "cell_type": "markdown",
   "metadata": {},
   "source": [
    "[pAG32 sequence](https://gist.github.com/BjornFJohansson/c5424b7ebbf553c52053)"
   ]
  },
  {
   "cell_type": "code",
   "execution_count": 2,
   "metadata": {
    "collapsed": true
   },
   "outputs": [],
   "source": [
    "p477, p531, p535, p534= pydna.parse(''' \n",
    ">477_bleMX4r\n",
    "agtggaacgaaaactcacgttaagggattttggtcatgaggagctcgttttcga\n",
    "\n",
    ">531_pSU1_MX4f (67-mer)\n",
    "taattctcatctttgacagcttatcatcgataagtccccgccgggtc\n",
    "\n",
    ">535_pSU0_2u_Fwd (21-mer)\n",
    "taactgtcagaccaagtttac\n",
    "\n",
    ">534_pSU0_2u_rev (27-mer)\n",
    "ttatcgatgataagctgtcaaagatga''')\n",
    "\n",
    "hygmarker = pydna.pcr(p477, p531, pAG32)\n",
    "\n",
    "two_micron = pydna.pcr(p534, p535, pYPK0)\n",
    "\n",
    "from Bio.Restriction import StuI\n",
    "\n",
    "vect, stuffer = pYPK0.cut(StuI)\n",
    "\n",
    "asm=pydna.Assembly([hygmarker, two_micron, vect])"
   ]
  },
  {
   "cell_type": "code",
   "execution_count": 3,
   "metadata": {
    "collapsed": false
   },
   "outputs": [
    {
     "data": {
      "text/plain": [
       "Assembly:\n",
       "Sequences........................: [1721] [1619] [4982]\n",
       "Sequences with shared homologies.: [1721] [1619] [1619] [1721] [4982] [4982]\n",
       "Homology limit (bp)..............: 25\n",
       "Number of overlaps...............: 9\n",
       "Nodes in graph(incl. 5' & 3')....: 8\n",
       "Only terminal overlaps...........: No\n",
       "Circular products................: [7219] [6299]\n",
       "Linear products..................: [7804] [6784] [6332] [6218] [6016] [5902] [5096] [3307] [2539] [2425] [1505] [485] [33]"
      ]
     },
     "execution_count": 3,
     "metadata": {},
     "output_type": "execute_result"
    }
   ],
   "source": [
    "asm"
   ]
  },
  {
   "cell_type": "code",
   "execution_count": 4,
   "metadata": {
    "collapsed": false
   },
   "outputs": [],
   "source": [
    "x,y = asm.circular_products"
   ]
  },
  {
   "cell_type": "markdown",
   "metadata": {},
   "source": [
    "assert len(pYPK5) == 6299"
   ]
  },
  {
   "cell_type": "markdown",
   "metadata": {},
   "source": [
    "The larger recombination product x 7219 contains the \n",
    "pYPK0 vector two times in a row\n",
    "the product we want is the y 6299bp\n",
    "\n",
    "    x:\n",
    "     -|1619bp_PCR_prod|1505\n",
    "    |                  \\/\n",
    "    |                  /\\\n",
    "    |                  1505|pYPK0|66\n",
    "    |                             \\/\n",
    "    |                             /\\\n",
    "    |                             66|pYPK0|41\n",
    "    |                                      \\/\n",
    "    |                                      /\\\n",
    "    |                                      41|1721bp_PCR_pr_rc|33\n",
    "    |                                                          \\/\n",
    "    |                                                          /\\\n",
    "    |                                                          33-\n",
    "    |                                                             |\n",
    "     -------------------------------------------------------------\n",
    "\n",
    "\n",
    "    y:\n",
    "     -|1619bp_PCR_prod|66\n",
    "    |                  \\/\n",
    "    |                  /\\\n",
    "    |                  66|pYPK0|41\n",
    "    |                           \\/\n",
    "    |                           /\\\n",
    "    |                           41|1721bp_PCR_pr_rc|33\n",
    "    |                                               \\/\n",
    "    |                                               /\\\n",
    "    |                                               33-\n",
    "    |                                                  |\n",
    "     --------------------------------------------------"
   ]
  },
  {
   "cell_type": "code",
   "execution_count": 5,
   "metadata": {
    "collapsed": false
   },
   "outputs": [
    {
     "data": {
      "text/plain": [
       " -|1619bp_PCR_prod|66\n",
       "|                  \\/\n",
       "|                  /\\\n",
       "|                  66|pYKP0|41\n",
       "|                           \\/\n",
       "|                           /\\\n",
       "|                           41|1721bp_PCR_pr_rc|33\n",
       "|                                               \\/\n",
       "|                                               /\\\n",
       "|                                               33-\n",
       "|                                                  |\n",
       " --------------------------------------------------"
      ]
     },
     "execution_count": 5,
     "metadata": {},
     "output_type": "execute_result"
    }
   ],
   "source": [
    "y.figure()"
   ]
  },
  {
   "cell_type": "code",
   "execution_count": 6,
   "metadata": {
    "collapsed": true
   },
   "outputs": [],
   "source": [
    "pYPK5 = y.synced(pYPK0)"
   ]
  },
  {
   "cell_type": "code",
   "execution_count": 7,
   "metadata": {
    "collapsed": false
   },
   "outputs": [
    {
     "data": {
      "text/plain": [
       "cSEGUID_bYXaKaxDTMFN5_B-QWoDqATVAb0_2015-07-15T15:49:51.630069"
      ]
     },
     "execution_count": 7,
     "metadata": {},
     "output_type": "execute_result"
    }
   ],
   "source": [
    "pYPK5.locus = \"pYPK5\"\n",
    "pYPK5.stamp()"
   ]
  },
  {
   "cell_type": "code",
   "execution_count": 8,
   "metadata": {
    "collapsed": false
   },
   "outputs": [
    {
     "data": {
      "text/markdown": [
       "###[pYPK5](pYPK5.gb)"
      ],
      "text/plain": [
       "<IPython.core.display.Markdown object>"
      ]
     },
     "execution_count": 8,
     "metadata": {},
     "output_type": "execute_result"
    }
   ],
   "source": [
    "pYPK5.write(\"pYPK5.gb\")"
   ]
  },
  {
   "cell_type": "markdown",
   "metadata": {},
   "source": [
    "[DOWNLOAD](pYPK5.gb)"
   ]
  },
  {
   "cell_type": "code",
   "execution_count": 9,
   "metadata": {
    "collapsed": false
   },
   "outputs": [
    {
     "data": {
      "text/plain": [
       "cSEGUID_bYXaKaxDTMFN5_B-QWoDqATVAb0"
      ]
     },
     "execution_count": 9,
     "metadata": {},
     "output_type": "execute_result"
    }
   ],
   "source": [
    "import pydna\n",
    "r = pydna.read(\"pYPK5.gb\")\n",
    "r.verify_stamp()"
   ]
  },
  {
   "cell_type": "code",
   "execution_count": null,
   "metadata": {
    "collapsed": true
   },
   "outputs": [],
   "source": []
  }
 ],
 "metadata": {
  "kernelspec": {
   "display_name": "Python 2",
   "language": "python",
   "name": "python2"
  },
  "language_info": {
   "codemirror_mode": {
    "name": "ipython",
    "version": 2
   },
   "file_extension": ".py",
   "mimetype": "text/x-python",
   "name": "python",
   "nbconvert_exporter": "python",
   "pygments_lexer": "ipython2",
   "version": "2.7.10"
  }
 },
 "nbformat": 4,
 "nbformat_minor": 0
}
