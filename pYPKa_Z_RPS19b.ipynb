{
 "cells": [
  {
   "cell_type": "markdown",
   "metadata": {},
   "source": [
    "# pYPKa_Z_RPS19b\n",
    "###Freezer ID\n",
    "    Strain#..: ?\n",
    "    Box......: ?\n",
    "    Position.: ?\n",
    "\n",
    "Importing the [pydna](https://pypi.python.org/pypi/pydna/) package.\n",
    "Pydna is [open source](https://github.com/BjornFJohansson/pydna), documentated [here](http://pydna.readthedocs.org/en/latest/) and has a support [forum](https://groups.google.com/forum/#!forum/pydna) as well as a publication:\n",
    "\n",
    "[Pereira F, Azevedo F, Carvalho Â, Ribeiro GF, Budde MW, Johansson B: Pydna: a simulation and documentation tool for DNA assembly strategies using python. BMC Bioinformatics 2015, 16:142.](http://www.biomedcentral.com/1471-2105/16/142/abstract)"
   ]
  },
  {
   "cell_type": "code",
   "execution_count": 1,
   "metadata": {
    "collapsed": true
   },
   "outputs": [],
   "source": [
    "import pydna\n",
    "from pydna import ipynb_importer"
   ]
  },
  {
   "cell_type": "markdown",
   "metadata": {},
   "source": [
    "Read the cloning vector from a local file [file](pYPKa.gb), description of [pYPKa](pYPKa.ipynb)."
   ]
  },
  {
   "cell_type": "code",
   "execution_count": 2,
   "metadata": {
    "collapsed": true
   },
   "outputs": [],
   "source": [
    "pYPKa = pydna.read(\"pYPKa.gb\")"
   ]
  },
  {
   "cell_type": "markdown",
   "metadata": {},
   "source": [
    "This vector should be a circular 3128 bp DNA molecule."
   ]
  },
  {
   "cell_type": "code",
   "execution_count": 3,
   "metadata": {
    "collapsed": false
   },
   "outputs": [
    {
     "data": {
      "text/plain": [
       "Dseqrecord(o3128)"
      ]
     },
     "execution_count": 3,
     "metadata": {},
     "output_type": "execute_result"
    }
   ],
   "source": [
    "pYPKa"
   ]
  },
  {
   "cell_type": "markdown",
   "metadata": {},
   "source": [
    "The circular seguid checksum of pYPKa should be\n",
    "\n",
    "```aV1eIrzOiCjvw01yvKkxDXHKLMk```"
   ]
  },
  {
   "cell_type": "code",
   "execution_count": 4,
   "metadata": {
    "collapsed": false
   },
   "outputs": [
    {
     "data": {
      "text/plain": [
       "aV1eIrzOiCjvw01yvKkxDXHKLMk"
      ]
     },
     "execution_count": 4,
     "metadata": {},
     "output_type": "execute_result"
    }
   ],
   "source": [
    "pYPKa.cseguid()"
   ]
  },
  {
   "cell_type": "markdown",
   "metadata": {},
   "source": [
    "Importing the restriction enzyme to be used for cloning from Biopython.\n",
    "[ZraI](http://rebase.neb.com/rebase/enz/ZraI.html)"
   ]
  },
  {
   "cell_type": "code",
   "execution_count": 5,
   "metadata": {
    "collapsed": true
   },
   "outputs": [],
   "source": [
    "from Bio.Restriction import ZraI"
   ]
  },
  {
   "cell_type": "markdown",
   "metadata": {},
   "source": [
    "This enzyme should cut only once in pYPKa."
   ]
  },
  {
   "cell_type": "code",
   "execution_count": 6,
   "metadata": {
    "collapsed": true
   },
   "outputs": [],
   "source": [
    "pYPKa_ZraI = pYPKa.linearize(ZraI)"
   ]
  },
  {
   "cell_type": "markdown",
   "metadata": {},
   "source": [
    "The template below comes from a Genbank [record](http://www.ncbi.nlm.nih.gov/nuccore/BK006947.3).\n",
    "Access to Genbank is needed in order to download the template.\n",
    "If you execute this script, change the email address below to your own.\n",
    "Always tell Genbank who you are, when using their web service."
   ]
  },
  {
   "cell_type": "code",
   "execution_count": 7,
   "metadata": {
    "collapsed": true
   },
   "outputs": [],
   "source": [
    "gb = pydna.Genbank(\"bjornjobb@gmail.com\")"
   ]
  },
  {
   "cell_type": "markdown",
   "metadata": {},
   "source": [
    "The template is downloaded from Genbank below."
   ]
  },
  {
   "cell_type": "code",
   "execution_count": 8,
   "metadata": {
    "collapsed": true
   },
   "outputs": [],
   "source": [
    "template = gb.nucleotide(\"BK006947.3 REGION: complement(62944..63569)\")"
   ]
  },
  {
   "cell_type": "markdown",
   "metadata": {},
   "source": [
    "The template is a 626 bp linear DNA fragment."
   ]
  },
  {
   "cell_type": "code",
   "execution_count": 9,
   "metadata": {
    "collapsed": false
   },
   "outputs": [
    {
     "data": {
      "text/plain": [
       "Dseqrecord(-626)"
      ]
     },
     "execution_count": 9,
     "metadata": {},
     "output_type": "execute_result"
    }
   ],
   "source": [
    "template"
   ]
  },
  {
   "cell_type": "markdown",
   "metadata": {},
   "source": [
    "The insert has the sequence shown below."
   ]
  },
  {
   "cell_type": "code",
   "execution_count": 10,
   "metadata": {
    "collapsed": false
   },
   "outputs": [
    {
     "data": {
      "text/plain": [
       "'TCTAGTATGGTTTGAAACCTTACAATTTTTCTTCTTTGTTCCTTTTTCCTTGTTTCAGTGTATATTAGGTTGGGAAAGAGGGATTTTTCCATACCATATGACTGACTACAATATATACATGTATAATAACTTCATAATCTAAACCTATCAGTTCAGTATCAAGTCAGCTATTCCGCCCTATGCATAAACCTACAAACTATCATTCACACACTTTTCCCATTTTTTTTCAATACTACTTTACATCCGAACATTTTAGCAACCCACACCATATACCTTTGGTGCACTATTGATTTTCTTCCTGATGTCAGCTTTTTGTGCTTTGACAAAAAAATCGCGTCTACGTCCGTCCGTTCTCCCTGAATAAATTAGGCGCGTTTGAGCCCAGCAGGACGGAGCTCTAGTGACAAGCCCTGGTGTTTGGTGAGGTTTTGCACATTGCTGTTCTTTCTACTGTATTGAGATCTCCAGTTTACGGCTCCCTGGGAGCCACCCGTAACGCGGTTGGTGTGCCCATTTCAATAAGCGAACATTAGTGAAGATACAATCGTTAAAATGGACTAATGAAATTTTAAAGTGGGATTTTTGTGAATATTGACAACAAAGGTATAGAACCAAAGATAATAAAG'"
      ]
     },
     "execution_count": 10,
     "metadata": {},
     "output_type": "execute_result"
    }
   ],
   "source": [
    "str(template.seq)"
   ]
  },
  {
   "cell_type": "markdown",
   "metadata": {},
   "source": [
    "The seguid checksum of the template should be\n",
    "\n",
    "```45Q1ssBi_xEGrGVq1PGgILu3mjg```"
   ]
  },
  {
   "cell_type": "code",
   "execution_count": 11,
   "metadata": {
    "collapsed": false
   },
   "outputs": [
    {
     "data": {
      "text/plain": [
       "45Q1ssBi_xEGrGVq1PGgILu3mjg"
      ]
     },
     "execution_count": 11,
     "metadata": {},
     "output_type": "execute_result"
    }
   ],
   "source": [
    "template.seguid()"
   ]
  },
  {
   "cell_type": "markdown",
   "metadata": {},
   "source": [
    "Two primers are used to amplify the insert:"
   ]
  },
  {
   "cell_type": "code",
   "execution_count": 12,
   "metadata": {
    "collapsed": true
   },
   "outputs": [],
   "source": [
    "f,r = pydna.parse(\"\"\">648_ScRPS19btpf2\n",
    "                      ttaaatTCTAGTATGGTTTGAAACCT\n",
    "                     >647_ScRPS19btpr_PacI\n",
    "                      taattaaCTTTATTATCTTTGGTTCTAT\"\"\", ds=False)\n",
    "\n",
    "insert = pydna.pcr(f, r, template)"
   ]
  },
  {
   "cell_type": "markdown",
   "metadata": {},
   "source": [
    "The primers anneal on the template like this."
   ]
  },
  {
   "cell_type": "code",
   "execution_count": 13,
   "metadata": {
    "collapsed": false
   },
   "outputs": [
    {
     "data": {
      "text/plain": [
       "      5TCTAGTATGGTTTGAAACCT...ATAGAACCAAAGATAATAAAG3\n",
       "                              ||||||||||||||||||||| tm 40.4 (dbd) 50.5\n",
       "                             3TATCTTGGTTTCTATTATTTCaattaat5\n",
       "5ttaaatTCTAGTATGGTTTGAAACCT3\n",
       "       |||||||||||||||||||| tm 45.2 (dbd) 54.6\n",
       "      3AGATCATACCAAACTTTGGA...TATCTTGGTTTCTATTATTTC5"
      ]
     },
     "execution_count": 13,
     "metadata": {},
     "output_type": "execute_result"
    }
   ],
   "source": [
    "insert.figure()"
   ]
  },
  {
   "cell_type": "markdown",
   "metadata": {},
   "source": [
    "A recombinant plasmid is formed by ligating the insert PCR product to the linear vector."
   ]
  },
  {
   "cell_type": "code",
   "execution_count": 14,
   "metadata": {
    "collapsed": true
   },
   "outputs": [],
   "source": [
    "plasmid = (pYPKa_ZraI + insert).looped()"
   ]
  },
  {
   "cell_type": "markdown",
   "metadata": {},
   "source": [
    "The plasmid sequence is rotated so that the origin is in the same position as for the cloning vector sequence."
   ]
  },
  {
   "cell_type": "code",
   "execution_count": 15,
   "metadata": {
    "collapsed": true
   },
   "outputs": [],
   "source": [
    "pYPKa_Z_RPS19b = plasmid.synced(pYPKa)"
   ]
  },
  {
   "cell_type": "markdown",
   "metadata": {},
   "source": [
    "Calculate cseguid checksum for the resulting plasmid. Should be\n",
    "\n",
    "```3OLqUNkRah7KzkvgyZ0yu8ymJ8s```"
   ]
  },
  {
   "cell_type": "code",
   "execution_count": 16,
   "metadata": {
    "collapsed": false
   },
   "outputs": [
    {
     "data": {
      "text/plain": [
       "3OLqUNkRah7KzkvgyZ0yu8ymJ8s"
      ]
     },
     "execution_count": 16,
     "metadata": {},
     "output_type": "execute_result"
    }
   ],
   "source": [
    "pYPKa_Z_RPS19b.cseguid()"
   ]
  },
  {
   "cell_type": "markdown",
   "metadata": {},
   "source": [
    "The file is named pYPKa_Z_RPS19btp"
   ]
  },
  {
   "cell_type": "code",
   "execution_count": 17,
   "metadata": {
    "collapsed": true
   },
   "outputs": [],
   "source": [
    "pYPKa_Z_RPS19b.name = \"pYPKa_Z_RPS19btp\"\n",
    "pYPKa_Z_RPS19b.description = \"pYPKa_Z_RPS19btp\""
   ]
  },
  {
   "cell_type": "markdown",
   "metadata": {},
   "source": [
    "Stamp sequence with cSEGUID checksum"
   ]
  },
  {
   "cell_type": "code",
   "execution_count": 18,
   "metadata": {
    "collapsed": false
   },
   "outputs": [
    {
     "data": {
      "text/plain": [
       "cSEGUID_3OLqUNkRah7KzkvgyZ0yu8ymJ8s_2015-07-15T11:33:07.937160"
      ]
     },
     "execution_count": 18,
     "metadata": {},
     "output_type": "execute_result"
    }
   ],
   "source": [
    "pYPKa_Z_RPS19b.stamp()"
   ]
  },
  {
   "cell_type": "markdown",
   "metadata": {},
   "source": [
    "Write sequence to a local file."
   ]
  },
  {
   "cell_type": "code",
   "execution_count": 19,
   "metadata": {
    "collapsed": false
   },
   "outputs": [
    {
     "data": {
      "text/markdown": [
       "###[pYPKa_Z_RPS19b](pYPKa_Z_RPS19b.gb)"
      ],
      "text/plain": [
       "<IPython.core.display.Markdown object>"
      ]
     },
     "execution_count": 19,
     "metadata": {},
     "output_type": "execute_result"
    }
   ],
   "source": [
    "pYPKa_Z_RPS19b.write(\"pYPKa_Z_RPS19b.gb\")"
   ]
  },
  {
   "cell_type": "markdown",
   "metadata": {},
   "source": [
    "### Download [pYPKa_Z_RPS19b](pYPKa_Z_RPS19b.gb)"
   ]
  },
  {
   "cell_type": "code",
   "execution_count": 20,
   "metadata": {
    "collapsed": false
   },
   "outputs": [
    {
     "data": {
      "text/plain": [
       "cSEGUID_3OLqUNkRah7KzkvgyZ0yu8ymJ8s"
      ]
     },
     "execution_count": 20,
     "metadata": {},
     "output_type": "execute_result"
    }
   ],
   "source": [
    "import pydna\n",
    "reloaded = pydna.read(\"pYPKa_Z_RPS19b.gb\")\n",
    "reloaded.verify_stamp()"
   ]
  }
 ],
 "metadata": {
  "kernelspec": {
   "display_name": "Python 2",
   "language": "python",
   "name": "python2"
  },
  "language_info": {
   "codemirror_mode": {
    "name": "ipython",
    "version": 2
   },
   "file_extension": ".py",
   "mimetype": "text/x-python",
   "name": "python",
   "nbconvert_exporter": "python",
   "pygments_lexer": "ipython2",
   "version": "2.7.10"
  }
 },
 "nbformat": 4,
 "nbformat_minor": 0
}
