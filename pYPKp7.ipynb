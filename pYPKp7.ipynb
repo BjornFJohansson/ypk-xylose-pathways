{
 "cells": [
  {
   "cell_type": "markdown",
   "metadata": {},
   "source": [
    "# pYPKp7\n",
    "\n",
    "The pYPKp7 is a version of the pYPK7 with a deletion in the crp gene that originates from \n",
    "the pCAPs vector."
   ]
  },
  {
   "cell_type": "code",
   "execution_count": 1,
   "metadata": {
    "collapsed": false
   },
   "outputs": [],
   "source": [
    "from pydna.all import *\n",
    "\n",
    "pYPK7 =read(\"pYPK7.gb\")"
   ]
  },
  {
   "cell_type": "code",
   "execution_count": 2,
   "metadata": {
    "collapsed": false
   },
   "outputs": [
    {
     "data": {
      "text/plain": [
       "cSEGUID_w8zCE05nnVaKMSe-K0q29kjVt4k"
      ]
     },
     "execution_count": 2,
     "metadata": {},
     "output_type": "execute_result"
    }
   ],
   "source": [
    "f,r =parse(''' >866_pYPKpwF (79-mer)\n",
    "                      GCATGATATCttcacaggcggttttcgcacgtacccatg\n",
    "\n",
    "                      >865_pYPKpwR (79-mer)\n",
    "                      GCATGACGTCaccagacgctatgactcacccggacggca''', ds=False)\n",
    "\n",
    "seq =pcr(f, r, pYPK7)\n",
    "\n",
    "seq = seq.looped()\n",
    "\n",
    "pYPKp7 = seq.synced(pYPK7)\n",
    "\n",
    "pYPKp7.stamp()"
   ]
  },
  {
   "cell_type": "code",
   "execution_count": 3,
   "metadata": {
    "collapsed": false
   },
   "outputs": [
    {
     "data": {
      "text/html": [
       "<font face=monospace><a href='pYPKp7.gb' target='_blank'>pYPKp7.gb</a></font><br>"
      ]
     },
     "metadata": {},
     "output_type": "display_data"
    }
   ],
   "source": [
    "pYPKp7.locus = \"pYPKp7\"\n",
    "\n",
    "pYPKp7.write(\"pYPKp7.gb\")"
   ]
  },
  {
   "cell_type": "markdown",
   "metadata": {},
   "source": [
    "###[DOWNLOAD](pYPKp7.gb)"
   ]
  },
  {
   "cell_type": "code",
   "execution_count": 4,
   "metadata": {
    "collapsed": false
   },
   "outputs": [],
   "source": [
    "from pydna.all import *\n",
    "reloaded=read(\"pYPKp7.gb\")\n",
    "assert reloaded.cseguid() in reloaded.definition\n"
   ]
  },
  {
   "cell_type": "code",
   "execution_count": 5,
   "metadata": {
    "collapsed": true
   },
   "outputs": [],
   "source": []
  }
 ],
 "metadata": {
  "kernelspec": {
   "display_name": "Python 3",
   "language": "python",
   "name": "python3"
  },
  "language_info": {
   "codemirror_mode": {
    "name": "ipython",
    "version": 3
   },
   "file_extension": ".py",
   "mimetype": "text/x-python",
   "name": "python",
   "nbconvert_exporter": "python",
   "pygments_lexer": "ipython3",
   "version": "3.6.3"
  }
 },
 "nbformat": 4,
 "nbformat_minor": 0
}
