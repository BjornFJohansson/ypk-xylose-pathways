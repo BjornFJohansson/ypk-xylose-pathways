{
 "cells": [
  {
   "cell_type": "markdown",
   "metadata": {},
   "source": [
    "# Xylose pathway constructs described in Pereira et al. 2015"
   ]
  },
  {
   "cell_type": "markdown",
   "metadata": {},
   "source": [
    "This is an IPython notebook (ipynb) file. An ipynb file can contain both comments and [Python](https://www.python.org/) code. This file links to other ipynb files which describe in detail every genetic construction made as a part of this work using [pydna](http://www.biomedcentral.com/1471-2105/16/142/abstract). Since pydna in used, the documentation is complete and all \n",
    "\n",
    "If you would like to have your own copy of this pathway repository, the best way is the get a Github account and make you own fork. If you still would like to download all files to your computer, follow the instructions at the end of this page."
   ]
  },
  {
   "cell_type": "markdown",
   "metadata": {
    "collapsed": true
   },
   "source": [
    "### How to download pathway files and supplementary data as a zip archive\n",
    "\n",
    "click on the Github symbol in the upper right corner of this page:\n",
    "\n",
    "![git_cat](git_cat.png)\n",
    "\n",
    "###Then click on the repository \"ypk-xylose-pathways\" (the location of the cursor in the image)\n",
    "\n",
    "![go_to_repo](go_to_git_repo.png)\n",
    "\n",
    "###Then click on the \"Download ZIP\" button.\n",
    "\n",
    "![download_as_zip](download_as_zip.png)"
   ]
  }
 ],
 "metadata": {
  "kernelspec": {
   "display_name": "Python 2",
   "language": "python",
   "name": "python2"
  },
  "language_info": {
   "codemirror_mode": {
    "name": "ipython",
    "version": 2
   },
   "file_extension": ".py",
   "mimetype": "text/x-python",
   "name": "python",
   "nbconvert_exporter": "python",
   "pygments_lexer": "ipython2",
   "version": "2.7.10"
  }
 },
 "nbformat": 4,
 "nbformat_minor": 0
}
