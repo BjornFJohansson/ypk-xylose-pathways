{
 "cells": [
  {
   "cell_type": "markdown",
   "metadata": {},
   "source": [
    "# Xylose pathway constructs described in Pereira et al. 2015"
   ]
  },
  {
   "cell_type": "markdown",
   "metadata": {},
   "source": [
    "This is an [Jupyter notebook (ipynb)](http://jupyter.org/) file. An ipynb file is document containing a mixture between [Python](https://www.python.org/) source code and text. This file links to other ipynb files which describe in detail every genetic construction made as a part of this work (Pereira et al. 2015) using the software package [pydna](http://www.biomedcentral.com/1471-2105/16/142/abstract).\n",
    "\n",
    "Since [pydna](http://www.biomedcentral.com/1471-2105/16/142/abstract) in used, the documentation is executable on the users computer if downloaded. To execute the Jupyter notebooks, Python and [pydna](https://pypi.python.org/pypi/pydna/) and its dependencies must be installed. The simplest way to acchieve this is to install the free Python distribution [Anaconda](https://store.continuum.io/cshop/anaconda/) for which there is a pydna [package](https://anaconda.org/BjornFJohansson/pydna) for most platforms.\n",
    "\n",
    "Standard primers and additional information on the yeast pathway kit can be found here [ypk_std_primers](ypk_std_primers.ipynb)."
   ]
  },
  {
   "cell_type": "markdown",
   "metadata": {},
   "source": [
    "## Multigene xylose metabolic pathways\n",
    "\n",
    "\n",
    "\n",
    "| Pathway  | Expressed genes                                                  | Genbank                | Notebook                   |\n",
    "|----------|------------------------------------------------------------------|------------------------|----------------------------|\n",
    "| pMEC1135 | SsXR(N272D), SsXDH, ScXK, ScTAL1                                 | [genbank](pMEC1135.gb) | [notebook](pMEC1135.ipynb) |\n",
    "| pMEC1136 | SsXR(wt), SsXDH, ScXK, ScTAL1                                    | [genbank](pMEC1136.gb) | [notebook](pMEC1136.ipynb) |\n",
    "| pMEC1137 | ScTKL1, ScRPE1, ScRKI1, CiGXF1                                   | [genbank](pMEC1137.gb) | [notebook](pMEC1137.ipynb) |\n",
    "| pMEC1138 | SsXR(N272D), SsXDH, ScXK, ScTAL1, ScTKL1, ScRPE1, ScRKI1, CiGXF1 | [genbank](pMEC1138.gb) | [notebook](pMEC1138.ipynb) |\n",
    "| pMEC1139 | SsXR, SsXDH, ScXK, ScTAL1, ScTKL1, ScRPE1, ScRKI1, CiGXF1        | [genbank](pMEC1139.gb) | [notebook](pMEC1139.ipynb) |"
   ]
  },
  {
   "cell_type": "markdown",
   "metadata": {},
   "source": [
    "## Single gene expression vectors\n",
    "\n",
    "\n",
    "| Construct                    | Description                              | Genbank                                    | Notebook                                                                   |\n",
    "|------------------------------|------------------------------------------|--------------------------------------------|----------------------------------------------------|\n",
    "| pYPK0_TEF1_PsXYL1_N272D_TDH3 | Xylose reductase (N272D)                 | [genbank](pYPK0_TEF1_PsXYL1_N272D_TDH3.gb) | [notebook](pYPK0_TEF1_PsXYL1_N272D_TDH3.ipynb)     |\n",
    "| pYPK0_TEF1_PsXYL1_TDH3       | Xylose reductase (wt)                    | [genbank](pYPK0_TEF1_PsXYL1_TDH3.gb)       | [notebook](pYPK0_TEF1_PsXYL1_TDH3.ipynb)           |\n",
    "| pYPK0_TDH3_PsXYL2_PGI1       | Xylitol dehydrogenase                    | [genbank](pYPK0_TDH3_PsXYL2_PGI1.gb)       | [notebook](pYPK0_TDH3_PsXYL2_PGI1.ipynb)           |\n",
    "| pYPK0_PGI1_ScXKS1_FBA1       | Xylulose kinase                          | [genbank](pYPK0_PGI1_ScXKS1_FBA1.gb)       | [notebook](pYPK0_PGI1_ScXKS1_FBA1.ipynb)           |\n",
    "| pYPK0_FBA1_ScTAL1_PDC1       | Transaldolase                            | [genbank](pYPK0_FBA1_ScTAL1_PDC1.gb)       | [notebook](pYPK0_FBA1_ScTAL1_PDC1.ipynb)           |\n",
    "| pYPK0_PDC1_ScTKL1_RPS19b     | Transketolase                            | [genbank](pYPK0_PDC1_ScTKL1_RPS19b.gb)     | [notebook](pYPK0_PDC1_ScTKL1_RPS19b.ipynb)         |\n",
    "| pYPK0_RPS19b_ScRPE1_RPS19a   | ribulose-phosphate 3-epimerase           | [genbank](pYPK0_RPS19b_ScRPE1_RPS19a.gb)   | [notebook](pYPK0_RPS19b_ScRPE1_RPS19a.ipynb)       |\n",
    "| pYPK0_RPS19a_ScRKI1_TPI1     | ribose-5-phosphate isomerase             | [genbank](pYPK0_RPS19a_ScRKI1_TPI1.gb)     | [notebook](pYPK0_RPS19a_ScRKI1_TPI1.ipynb)         |\n",
    "| pYPK0_TPI1_CiGXF1_ENO2       | C. intermedia GXF1 xylose transporter    | [genbank](pYPK0_TPI1_CiGXF1_ENO2.gb)       | [notebook](pYPK0_I1_CiGXF1_ENO2.ipynb)             |\n",
    "| pYPK0_PGI1_CiGXF1_TDH3       | ?C. intermedia GXF1 xylose transporter?  | [genbank](pYPK0_PGI1_CiGXF1_TDH3.gb)       | [notebook](pYPK0_PGI1_CiGXF1_TDH3.ipynb)           |"
   ]
  },
  {
   "cell_type": "markdown",
   "metadata": {},
   "source": [
    "## Promoter vectors\n",
    "\n",
    "| Construct      | Genbank file                 |                          Notebook |\n",
    "|:---------------|:-----------------------------|:----------------------------------|\n",
    "| pYPKa_Z_FBA1tp | [genbank](pYPKa_Z_FBA1tp.gb) |  [notebook](pYPKa_Z_FBA1tp.ipynb) |\n",
    "| pYPKa_Z_PDC1tp | [genbank](pYPKa_Z_PDC1tp.gb) |  [notebook](pYPKa_Z_PDC1tp.ipynb) |\n",
    "| pYPKa_Z_RPS19atp | [genbank](pYPKa_Z_RPS19atp.gb) |  [notebook](pYPKa_Z_RPS19atp.ipynb) |\n",
    "| pYPKa_Z_RPS19btp | [genbank](pYPKa_Z_RPS19btp.gb) |  [notebook](pYPKa_Z_RPS19btp.ipynb) |\n",
    "| pYPKa_Z_TDH3tp | [genbank](pYPKa_Z_TDH3tp.gb) |  [notebook](pYPKa_Z_TDH3tp.ipynb) |\n",
    "| pYPKa_Z_TEF1tp | [genbank](pYPKa_Z_TEF1tp.gb) |  [notebook](pYPKa_Z_TEF1tp.ipynb) |\n",
    "| pYPKa_Z_TPI1tp | [genbank](pYPKa_Z_TPI1tp.gb) |  [notebook](pYPKa_Z_TPI1tp.ipynb) |"
   ]
  },
  {
   "cell_type": "markdown",
   "metadata": {},
   "source": [
    "## Gene vectors\n",
    "\n",
    "| Construct      | Genbank file                 |                          Notebook |\n",
    "|:---------------|:-----------------------------|:----------------------------------|\n",
    "| pYPKa_A_ScRKI1 | [genbank](pYPKa_A_ScRKI1.gb) |  [notebook](pYPKa_A_ScRKI1.ipynb) |\n",
    "| pYPKa_A_ScRPE1 | [genbank](pYPKa_A_ScRPE1.gb) |  [notebook](pYPKa_A_ScRPE1.ipynb) |"
   ]
  },
  {
   "cell_type": "markdown",
   "metadata": {},
   "source": [
    "## Terminator vectors\n",
    "\n",
    "| Construct      | Genbank file                 |                          Notebook |\n",
    "|:---------------|:-----------------------------|:----------------------------------|\n",
    "| pYPKa_E_ENO2tp | [genbank](pYPKa_E_ENO2tp.gb) |  [notebook](pYPKa_E_ENO2tp.ipynb) |\n",
    "| pYPKa_E_FBA1tp | [genbank](pYPKa_E_FBA1tp.gb) |  [notebook](pYPKa_E_FBA1tp.ipynb) |\n",
    "| pYPKa_E_PDC1tp | [genbank](pYPKa_E_PDC1tp.gb) |  [notebook](pYPKa_E_PDC1tp.ipynb) |\n",
    "| pYPKa_E_RPS19atp | [genbank](pYPKa_E_RPS19atp.gb) |  [notebook](pYPKa_E_RPS19atp.ipynb) |\n",
    "| pYPKa_E_RPS19btp | [genbank](pYPKa_E_RPS19btp.gb) |  [notebook](pYPKa_E_RPS19btp.ipynb) |\n",
    "| pYPKa_E_TDH3tp | [genbank](pYPKa_E_TDH3tp.gb) |  [notebook](pYPKa_E_TDH3tp.ipynb) |\n",
    "| pYPKa_E_TPI1tp | [genbank](pYPKa_E_TPI1tp.gb) |  [notebook](pYPKa_E_TPI1tp.ipynb) |"
   ]
  },
  {
   "cell_type": "markdown",
   "metadata": {},
   "source": [
    "## Pathway backbone vectors\n",
    "\n",
    "| Vector   | Short description                         | Genbank                | Notebooks                 |\n",
    "|----------|-------------------------------------------|------------------------|---------------------------|\n",
    "| pYPK0    | Yeast version of pCAPs                    | [genbank](pYPK0.gb)    | [notebook](pYPK0.ipynb)   |\n",
    "| pYPKpw   | A version of pYPK0 with a deletion in crp | [genbank](pYPKpw.gb)   | [notebook](pYPKpw.ipynb)  |\n",
    "| pYPK1\t   | [bleMX4](http://www.ncbi.nlm.nih.gov/pubmed/10514571), CEN6/ARS4                         | [genbank](pYPK1.gb)\t| [notebook](pYPK1.ipynb)\t|\n",
    "| pYPK2    | [kanMX4](http://www.ncbi.nlm.nih.gov/pubmed/7747518), CEN6/ARS4                         | [genbank](pYPK2.gb)\t| [notebook](pYPK2.ipynb)\t|\n",
    "| pYPK3\t   | [hphMX4](http://www.ncbi.nlm.nih.gov/pubmed/10514571), CEN6/ARS4                         | [genbank](pYPK3.gb)\t| [notebook](pYPK3.ipynb)\t|\n",
    "| pYPK4\t   | [hphMX4](http://www.ncbi.nlm.nih.gov/pubmed/10514571), 2μ                                | [genbank](pYPK4.gb)\t| [notebook](pYPK4.ipynb)\t|\n",
    "| pYPK7\t   | [kanMX4](http://www.ncbi.nlm.nih.gov/pubmed/7747518), 2µ                                | [genbank](pYPK7.gb)\t| [notebook](pYPK7.ipynb)\t|\n",
    "| pYPKp3   | A version of pYPK3 with a deletion in crp | [genbank](pYPKp3.gb)\t| [notebook](pYPKp3.ipynb)  |\n",
    "| pYPKp4   | A version of pYPK4 with a deletion in crp | [genbank](pYPKp4.gb)\t| [notebook](pYPKp4.ipynb)  |\n",
    "| pYPKp7   | A version of pYPK7 with a deletion in crp | [genbank](pYPKp7.gb)\t| [notebook](pYPKp7.ipynb)\t| "
   ]
  },
  {
   "cell_type": "markdown",
   "metadata": {},
   "source": [
    "## HIS3 expression constructs\n",
    "\n",
    "|\tplasmid\t|\tcomment\t|\tGenbank\t|\tNotebook\t|\n",
    "|\t-----------------\t|\t------------------------\t|\t------------------------\t|\t------------------------\t|\n",
    "|\tpYPK0_TEF1_HIS3_TDH3\t|\t\t|\t[genbank](pYPK0_TEF1_HIS3_TDH3.gb)\t|\t[notebook](pYPK0_TEF1_HIS3_TDH3.ipynb)\t|\n",
    "|\tpYPK0_TDH3_HIS3_PGI1\t|\t\t|\t[genbank](pYPK0_TDH3_HIS3_PGI1.gb)\t|\t[notebook](pYPK0_TDH3_HIS3_PGI1.ipynb)\t|\n",
    "|\tpYPK0_PGI1_HIS3_FBA1\t|\t\t|\t[genbank](pYPK0_PGI1_HIS3_FBA1.gb)\t|\t[notebook](pYPK0_PGI1_HIS3_FBA1.ipynb)\t|\n",
    "|\tpYPK0_FBA1_HIS3_PDC1\t|\t\t|\t[genbank](pYPK0_FBA1_HIS3_PDC1.gb)\t|\t[notebook](pYPK0_FBA1_HIS3_PDC1.ipynb)\t|\n",
    "|\tpYPK0_PDC1_HIS3_RPS19b\t|\t\t|\t[genbank](pYPK0_PDC1_HIS3_RPS19b.gb)\t|\t[notebook](pYPK0_PDC1_HIS3_RPS19b.ipynb)\t|\n",
    "|\tpYPK0_RPS19b_HIS3_RPS19a\t|\t\t|\t[genbank](pYPK0_RPS19b_HIS3_RPS19a.gb)\t|\t[notebook](pYPK0_RPS19b_HIS3_RPS19a.ipynb)\t|\n",
    "|\tpYPK0_RPS19a_HIS3_TPI1\t|\t\t|\t[genbank](pYPK0_RPS19a_HIS3_TPI1.gb)\t|\t[notebook](pYPK0_RPS19a_HIS3_TPI1.ipynb)\t|\n",
    "|\tpYPK0_TPI1_HIS3_ENO2\t|\t\t|\t[genbank](pYPK0_TPI1_HIS3_ENO2.gb)\t|\t[notebook](pYPK0_TPI1_HIS3_ENO2.ipynb)\t|\n",
    "|\tCEN.PK\t|\t\t|\t\t|\t[ref](http://www.ncbi.nlm.nih.gov/pubmed/10862876)\t|\n",
    "|\tpYPK0\t|\t\t|\t[genbank](pYPK0.gb)\t|\t[notebook](pYPK0.ipynb)\t|\n",
    "|\tpYPK0_HIS3\t|\t\t|\t[genbank](pYPK0_HIS3.gb)\t|\t[notebook](pYPK0_HIS3.ipynb)\t|\n",
    "|\tpYPK0_TDH1_rev_HIS3_ENO2\t|\t\t|\t[genbank](pYPK0_TDH1_rev_HIS3_ENO2.gb)\t|\t[notebook](pYPK0_TDH1_rev_HIS3_ENO2.ipynb)\t|\n",
    "|\tp413TEF\t|\t\t|\t[genbank](Mumberg/p413TEF.gb)\t|\t[notebook](Mumberg/mumberg_32_vectors.ipynb)\t|\n",
    "|\tp423TEF\t|\t\t|\t[genbank](Mumberg/p423TEF.gb)\t|\t[notebook](Mumberg/mumberg_32_vectors.ipynb)\t|\n",
    "|\tp426TDH3_HIS3\t|\t\t|\t[genbank](p426TDH3_HIS3.gb)\t|\t[notebook](p426TDH3_HIS3.ipynb)\t|\n",
    "|\tp426TEF1_HIS3\t|\t\t|\t[genbank](p426TEF1_HIS3.gb)\t|\t[notebook](p426TEF1_HIS3.ipynb)\t|\n",
    "|\tpYPK3_RPS19b_HIS3_RPS19a\t|\t\t|\t[genbank](pYPK3_RPS19b_HIS3_RPS19a.gb)\t|\t[notebook](pYPK3_RPS19b_HIS3_RPS19a.ipynb)\t|\n",
    "|\tpYPK0_RPS19b_HIS3_TDH1\t|\t\t|\t[genbank](pYPK0_RPS19b_HIS3_TDH1.gb)\t|\t[notebook](pYPK0_RPS19b_HIS3_TDH1.ipynb)\t|\n"
   ]
  },
  {
   "cell_type": "markdown",
   "metadata": {},
   "source": [
    "## Miscellaneous vectors\n",
    "\n",
    "\n",
    "| Vector   | Short description                         | Genbank                | Notebooks                  |\n",
    "|----------|-------------------------------------------|------------------------|----------------------------|\n",
    "| pYPKa    | pCAPs with a unique AjiI site             | [genbank](pYPKa.gb)    | [notebook](pYPKa.ipynb)    |\n",
    "| pMEC1030 | pSU0 lacking a the EcoRV site             | [genbank](pMEC1030.gb) | [notebook](pMEC1030.ipynb) |\n",
    "| pMEC1042 | pSU0 lacking a the EcoRV site             | [genbank](pMEC1042.gb) | [notebook](pMEC1042.ipynb) |\n",
    "\n",
    "\n"
   ]
  }
 ],
 "metadata": {
  "kernelspec": {
   "display_name": "Python 3",
   "language": "python",
   "name": "python3"
  },
  "language_info": {
   "codemirror_mode": {
    "name": "ipython",
    "version": 3
   },
   "file_extension": ".py",
   "mimetype": "text/x-python",
   "name": "python",
   "nbconvert_exporter": "python",
   "pygments_lexer": "ipython3",
   "version": "3.5.2"
  }
 },
 "nbformat": 4,
 "nbformat_minor": 0
}
