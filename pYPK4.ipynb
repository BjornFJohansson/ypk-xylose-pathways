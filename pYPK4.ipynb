{
 "cells": [
  {
   "cell_type": "markdown",
   "metadata": {},
   "source": [
    "#pYPK4\n",
    "\n",
    "pYPK4 is a version of [pYPK1](pYPK1.ipynb) that has a 2µ yeast ori instead of the CEN6/ARS\n",
    "and a HphMX4 marker instead of the bleomycin marker."
   ]
  },
  {
   "cell_type": "code",
   "execution_count": 1,
   "metadata": {
    "collapsed": false
   },
   "outputs": [],
   "source": [
    "import pydna\n",
    "pYPK0 = pydna.read(\"pYPK0.gb\")\n",
    "gb = pydna.Genbank(\"bjornjobb@gmail.com\")\n",
    "import requests\n",
    "gistid = \"c5424b7ebbf553c52053\"\n",
    "r = requests.get('https://api.github.com/gists/'+gistid)\n",
    "pAG32 = pydna.read(r.json()[\"files\"].values().pop()[\"content\"])"
   ]
  },
  {
   "cell_type": "markdown",
   "metadata": {},
   "source": [
    "[pAG32 sequence](https://gist.github.com/BjornFJohansson/c5424b7ebbf553c52053)"
   ]
  },
  {
   "cell_type": "code",
   "execution_count": 2,
   "metadata": {
    "collapsed": false
   },
   "outputs": [],
   "source": [
    "p150,p149,p325,p324,p678,p666 = pydna.parse('''\n",
    ">150_MX4fwd (25-mer) Primer in the Ashbya gossypi TEF promoter in forward direction. contaminated?\n",
    "AAAATCTTGCTAGGATACAGTTCTC\n",
    "\n",
    ">149_MX4rev (25-mer) Primer in the Ashbya gossypi TEF terminator in the reverse direction.\n",
    "ACAAATGACAAGTTCTTGAAAACAA\n",
    "\n",
    ">325_Hygfwd (27-mer)\n",
    "GATGTAGGAGGGCGTGGATATGTCCTG\n",
    "\n",
    ">324_Hygrev (27-mer)\n",
    "TGCATCATCGAAATTGCCGTCAACCAA\n",
    "\n",
    ">678_pYPK0_hygfwd: (77-mer)\n",
    "ctcacgttaagggattttggtcatgagCACATACGATTTAGGTGACACTATAGAAC\n",
    "\n",
    ">666_pYPK0_hygrev (70-mer)\n",
    "catctttgacagcttatcatcgataagctCGACTCACTATAGGGAGACC''', ds=False)\n",
    "\n",
    "hygmarker1 = pydna.pcr( p678, p324, pAG32 )\n",
    "hygmarker2 = pydna.pcr( p325, p666, pAG32 )\n",
    "\n",
    "from Bio.Restriction import SbfI\n",
    "\n",
    "vect = pYPK0.linearize(SbfI)"
   ]
  },
  {
   "cell_type": "code",
   "execution_count": 3,
   "metadata": {
    "collapsed": false
   },
   "outputs": [
    {
     "data": {
      "text/plain": [
       "Assembly:\n",
       "Sequences........................: [5766] [1371] [1262]\n",
       "Sequences with shared homologies.: [5766] [1371] [1262]\n",
       "Homology limit (bp)..............: 25\n",
       "Number of overlaps...............: 3\n",
       "Nodes in graph(incl. 5' & 3')....: 5\n",
       "Only terminal overlaps...........: No\n",
       "Circular products................: [6490]\n",
       "Linear products..................: [7420] [7231] [6790] [6728] [6207] [1892] [930] [741] [238]"
      ]
     },
     "execution_count": 3,
     "metadata": {},
     "output_type": "execute_result"
    }
   ],
   "source": [
    "asm=pydna.Assembly((vect,hygmarker1,hygmarker2 ))\n",
    "asm"
   ]
  },
  {
   "cell_type": "code",
   "execution_count": 4,
   "metadata": {
    "collapsed": false
   },
   "outputs": [
    {
     "data": {
      "text/plain": [
       " -|pYKP0|27\n",
       "|        \\/\n",
       "|        /\\\n",
       "|        27|1371bp_PCR_prod|741\n",
       "|                           \\/\n",
       "|                           /\\\n",
       "|                           741|1262bp_PCR_prod|29\n",
       "|                                               \\/\n",
       "|                                               /\\\n",
       "|                                               29-\n",
       "|                                                  |\n",
       " --------------------------------------------------"
      ]
     },
     "execution_count": 4,
     "metadata": {},
     "output_type": "execute_result"
    }
   ],
   "source": [
    "pYPK4 = asm.circular_products[0]\n",
    "pYPK4.figure()"
   ]
  },
  {
   "cell_type": "code",
   "execution_count": 5,
   "metadata": {
    "collapsed": false
   },
   "outputs": [],
   "source": [
    "pYPK4=pYPK4.synced(pYPK0)\n",
    "\n",
    "pYPK4.stamp()\n",
    "\n",
    "pYPK4.locus = \"pYPK4\""
   ]
  },
  {
   "cell_type": "code",
   "execution_count": 6,
   "metadata": {
    "collapsed": false
   },
   "outputs": [
    {
     "data": {
      "text/markdown": [
       "###[pYPK4](pYPK4.gb)"
      ],
      "text/plain": [
       "<IPython.core.display.Markdown object>"
      ]
     },
     "execution_count": 6,
     "metadata": {},
     "output_type": "execute_result"
    }
   ],
   "source": [
    "pYPK4.write(\"pYPK4.gb\")"
   ]
  },
  {
   "cell_type": "markdown",
   "metadata": {},
   "source": [
    "###[DOWNLOAD](pYPK4.gb)"
   ]
  },
  {
   "cell_type": "code",
   "execution_count": 7,
   "metadata": {
    "collapsed": false
   },
   "outputs": [
    {
     "data": {
      "text/plain": [
       "cSEGUID_X0SJzGGAj7ulCEqpSsK4YXZW9Bw"
      ]
     },
     "execution_count": 7,
     "metadata": {},
     "output_type": "execute_result"
    }
   ],
   "source": [
    "import pydna\n",
    "reloaded=pydna.read(\"pYPK4.gb\")\n",
    "reloaded.verify_stamp()"
   ]
  },
  {
   "cell_type": "code",
   "execution_count": null,
   "metadata": {
    "collapsed": true
   },
   "outputs": [],
   "source": []
  }
 ],
 "metadata": {
  "kernelspec": {
   "display_name": "Python 2",
   "language": "python",
   "name": "python2"
  },
  "language_info": {
   "codemirror_mode": {
    "name": "ipython",
    "version": 2
   },
   "file_extension": ".py",
   "mimetype": "text/x-python",
   "name": "python",
   "nbconvert_exporter": "python",
   "pygments_lexer": "ipython2",
   "version": "2.7.10"
  }
 },
 "nbformat": 4,
 "nbformat_minor": 0
}
