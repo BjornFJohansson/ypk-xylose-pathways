{
 "cells": [
  {
   "cell_type": "markdown",
   "metadata": {},
   "source": [
    "# Standard primers for the Yeast Pathway Kit"
   ]
  },
  {
   "cell_type": "code",
   "execution_count": 3,
   "metadata": {
    "collapsed": true
   },
   "outputs": [],
   "source": [
    "import pydna"
   ]
  },
  {
   "cell_type": "code",
   "execution_count": 4,
   "metadata": {
    "collapsed": false
   },
   "outputs": [],
   "source": [
    "p167,p166,p468,p467,p567,p568  =  pydna.parse('''\n",
    "                                                    >167_pCAPSfw (24-mer)\n",
    "                                                    TCCTGACGGGTAATTTTGATTTGC\n",
    "\n",
    "                                                    >166_pCAPSrv (24-mer) EMPTY\n",
    "                                                    CTGTGAAGTGGCTGAAATTTCGTA\n",
    "\n",
    "                                                    >468_pCAPs_release_fw (25-mer) 79.66\n",
    "                                                    gtcgaggaacgccaggttgcccact\n",
    "\n",
    "                                                    >467_pCAPs_release_re (31-mer) \n",
    "                                                    ATTTAAatcctgatgcgtttgtctgcacaga\n",
    "\n",
    "                                                    >567_pCAPsAjiIF (23-mer)\n",
    "                                                    GTcggctgcaggtcactagtgag\n",
    "\n",
    "                                                    >568_pCAPsAjiIR (22-mer)\n",
    "                                                    GTGCcatctgtgcagacaaacg''')"
   ]
  },
  {
   "cell_type": "markdown",
   "metadata": {},
   "source": [
    "### Primer positions in pCAPs derived vectors\n",
    "\n",
    "\n",
    "                                 >-gene-->\n",
    "                >-TP-->           \\     /           >-TP-->\n",
    "                 \\   /             \\   /             \\   /\n",
    "                  \\ /               \\ /               \\ /\n",
    "      167> 511>    | 560>            |                 |    <512     <166\n",
    "     577>      775>|468>         <567|568>         <467|<778     <578    <342\n",
    "                   |                 |                 | \n",
    "     ------------N-Z-----------------A-----------------E-A--------------------\n",
    "    |            o r                 j                 c c                    |\n",
    "    |            t a                 i                 o c                    |\n",
    "    |            I I                 I                 R I                    |\n",
    "    |                                                  V I                    |\n",
    "    |                                                    I                    |\n",
    "    |                                                                         |\n",
    "     --------------------- pYPKa / pYPK0 ------------------------------------\n",
    "    (*) AjiI is only unique in pYPKa and pLBL2, not in pYPK0 and derivatives."
   ]
  },
  {
   "cell_type": "code",
   "execution_count": null,
   "metadata": {
    "collapsed": true
   },
   "outputs": [],
   "source": []
  }
 ],
 "metadata": {
  "kernelspec": {
   "display_name": "Python 2",
   "language": "python",
   "name": "python2"
  },
  "language_info": {
   "codemirror_mode": {
    "name": "ipython",
    "version": 2
   },
   "file_extension": ".py",
   "mimetype": "text/x-python",
   "name": "python",
   "nbconvert_exporter": "python",
   "pygments_lexer": "ipython2",
   "version": "2.7.9"
  }
 },
 "nbformat": 4,
 "nbformat_minor": 0
}
