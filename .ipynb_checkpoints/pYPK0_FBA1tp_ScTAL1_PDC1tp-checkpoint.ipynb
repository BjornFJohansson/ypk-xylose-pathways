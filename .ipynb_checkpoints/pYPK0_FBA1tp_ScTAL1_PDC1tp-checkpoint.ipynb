{
 "cells": [
  {
   "cell_type": "markdown",
   "metadata": {},
   "source": [
    "# Construction of pYPK0_FBA1tp_ScTAL1_PDC1tp (pMEC1130)\n",
    "\n",
    "\n",
    "[pYPKa_Z_FBA1tp](pYPKa_Z_FBA1tp.ipynb)\n",
    "\n",
    "[pYPKa_E_PDC1tp](pYPKa_E_PDC1tp.ipynb)"
   ]
  },
  {
   "cell_type": "code",
   "execution_count": 1,
   "metadata": {
    "collapsed": false
   },
   "outputs": [],
   "source": [
    "import pydna\n",
    "from pydna import ipynb_importer"
   ]
  },
  {
   "cell_type": "code",
   "execution_count": 2,
   "metadata": {
    "collapsed": true
   },
   "outputs": [],
   "source": [
    "from ypk_std_primers import p166, p167, p567, p568"
   ]
  },
  {
   "cell_type": "markdown",
   "metadata": {},
   "source": [
    "[Yeast Pathway Kit Standard Primers](ypk_std_primers.ipynb)"
   ]
  },
  {
   "cell_type": "code",
   "execution_count": 3,
   "metadata": {
    "collapsed": true
   },
   "outputs": [],
   "source": [
    "from Bio.Restriction import ZraI, AjiI, EcoRV"
   ]
  },
  {
   "cell_type": "code",
   "execution_count": 4,
   "metadata": {
    "collapsed": true
   },
   "outputs": [],
   "source": [
    "pYPK0 = pydna.read(\"pYPK0.gb\")"
   ]
  },
  {
   "cell_type": "code",
   "execution_count": 5,
   "metadata": {
    "collapsed": true
   },
   "outputs": [],
   "source": [
    "promoter_clone = pYPKa_Z_FBA1tp = pydna.read(\"pYPKa_Z_FBA1tp.gb\")"
   ]
  },
  {
   "cell_type": "markdown",
   "metadata": {},
   "source": [
    "[Genbank](http://www.ncbi.nlm.nih.gov/nucleotide/NM_001182243.1) record"
   ]
  },
  {
   "cell_type": "code",
   "execution_count": 7,
   "metadata": {
    "collapsed": false
   },
   "outputs": [
    {
     "data": {
      "text/html": [
       "<iframe src=http://www.ncbi.nlm.nih.gov/pubmed/9169869 width=100% height=250></iframe>"
      ],
      "text/plain": [
       "<IPython.core.display.HTML object>"
      ]
     },
     "execution_count": 7,
     "metadata": {},
     "output_type": "execute_result"
    }
   ],
   "source": [
    "from IPython.display import HTML\n",
    "HTML('<iframe src=http://www.ncbi.nlm.nih.gov/pubmed/9169869 width=100% height=250></iframe>')"
   ]
  },
  {
   "cell_type": "code",
   "execution_count": 6,
   "metadata": {
    "collapsed": false
   },
   "outputs": [],
   "source": [
    "gb = pydna.Genbank(\"bjornjobbb@gmail.com\")\n",
    "gene_template = gb.nucleotide(\"NM_001182243.1\")"
   ]
  },
  {
   "cell_type": "code",
   "execution_count": 7,
   "metadata": {
    "collapsed": false
   },
   "outputs": [
    {
     "data": {
      "text/plain": [
       "+----------+-----------+-------+------+--------+--------------+--------+------+\n",
       "| Feature# | Direction | Start | End  | Length | id           | type   | orf? |\n",
       "+----------+-----------+-------+------+--------+--------------+--------+------+\n",
       "| 0        |    -->    |   0   | 1008 |   1008 | <unknown id> | source | yes  |\n",
       "| 1        |    -->    |   0   | 1008 |   1008 | <unknown id> | gene   | yes  |\n",
       "| 2        |    -->    |   0   | 1008 |   1008 | <unknown id> | CDS    | yes  |\n",
       "+----------+-----------+-------+------+--------+--------------+--------+------+"
      ]
     },
     "execution_count": 7,
     "metadata": {},
     "output_type": "execute_result"
    }
   ],
   "source": [
    "gene_template.list_features()"
   ]
  },
  {
   "cell_type": "code",
   "execution_count": 8,
   "metadata": {
    "collapsed": false
   },
   "outputs": [],
   "source": [
    "orf = gene_template.extract_feature(2)"
   ]
  },
  {
   "cell_type": "code",
   "execution_count": 9,
   "metadata": {
    "collapsed": false
   },
   "outputs": [
    {
     "data": {
      "text/plain": [
       "True"
      ]
     },
     "execution_count": 9,
     "metadata": {},
     "output_type": "execute_result"
    }
   ],
   "source": [
    "orf.isorf()"
   ]
  },
  {
   "cell_type": "code",
   "execution_count": 10,
   "metadata": {
    "collapsed": false
   },
   "outputs": [
    {
     "name": "stdout",
     "output_type": "stream",
     "text": [
      "1008\n"
     ]
    },
    {
     "data": {
      "text/plain": [
       "GgJ9s-lK11rrZmXZDHjE3AjiVrs"
      ]
     },
     "execution_count": 10,
     "metadata": {},
     "output_type": "execute_result"
    }
   ],
   "source": [
    "print len(orf)\n",
    "orf.seguid()"
   ]
  },
  {
   "cell_type": "code",
   "execution_count": 11,
   "metadata": {
    "collapsed": false
   },
   "outputs": [
    {
     "name": "stdout",
     "output_type": "stream",
     "text": [
      "MSEPAQKKQKVANNSLEQLKASGTVVVADTGDFGSIAKFQPQDSTTNPSLILAAAKQPTYAKLIDVAVEYGKKHGKTTEEQVENAVDRLLVEFGKEILKIVPGRVSTEVDARLSFDTQATIEKARHIIKLFEQEGVSKERVLIKIASTWEGIQAAKELEEKDGIHCNLTLLFSFVQAVACAEAQVTLISPFVGRILDWYKSSTGKDYKGEADPGVISVKKIYNYYKKYGYKTIVMGASFRSTDEIKNLAGVDYLTISPALLDKLMNSTEPFPRVLDPVSAKKEAGDKISYISDESKFRFDLNEDAMATEKLSEGIRKFSADIVTLFDLIEKKVTA*\n"
     ]
    }
   ],
   "source": [
    "print str(orf.seq.translate())"
   ]
  },
  {
   "cell_type": "code",
   "execution_count": 12,
   "metadata": {
    "collapsed": true
   },
   "outputs": [],
   "source": [
    "pf, pr = pydna.parse('''>TAL1_YPK_rec_fwd \n",
    "                        gtcgaggaacgccaggttgcccactttctcactagtgaAAATGTCTGAACCAGCTCAAAAGAA\n",
    "                        >TAL1_YPK_rec_rev \n",
    "                        ATTTAAatcctgatgcgtttgtctgcacagatggcgcgTTAAGCGGTAACTTTCTTTTCAATCA''')"
   ]
  },
  {
   "cell_type": "code",
   "execution_count": 13,
   "metadata": {
    "collapsed": true
   },
   "outputs": [],
   "source": [
    "g = pydna.pcr( pf, pr, orf)"
   ]
  },
  {
   "cell_type": "code",
   "execution_count": 14,
   "metadata": {
    "collapsed": false
   },
   "outputs": [
    {
     "data": {
      "text/plain": [
       "                                        5ATGTCTGAACCAGCTCAAAAGAA...TGATTGAAAAGAAAGTTACCGCTTAA3\n",
       "                                                                   |||||||||||||||||||||||||| tm 52.1 (dbd) 65.6\n",
       "                                                                  3ACTAACTTTTCTTTCAATGGCGAATTgcgcggtagacacgtctgtttgcgtagtcctaAATTTA5\n",
       "5gtcgaggaacgccaggttgcccactttctcactagtgaAAATGTCTGAACCAGCTCAAAAGAA3\n",
       "                                         ||||||||||||||||||||||| tm 52.6 (dbd) 65.3\n",
       "                                        3TACAGACTTGGTCGAGTTTTCTT...ACTAACTTTTCTTTCAATGGCGAATT5"
      ]
     },
     "execution_count": 14,
     "metadata": {},
     "output_type": "execute_result"
    }
   ],
   "source": [
    "g.figure()"
   ]
  },
  {
   "cell_type": "code",
   "execution_count": 15,
   "metadata": {
    "collapsed": false
   },
   "outputs": [],
   "source": [
    "terminator_clone = pYPKa_E_PDC1tp = pydna.read(\"pYPKa_E_PDC1tp.gb\")"
   ]
  },
  {
   "cell_type": "code",
   "execution_count": 16,
   "metadata": {
    "collapsed": false
   },
   "outputs": [],
   "source": [
    "p  = pydna.pcr( p167, p567, promoter_clone)\n",
    "t  = pydna.pcr( p568, p166, terminator_clone)"
   ]
  },
  {
   "cell_type": "code",
   "execution_count": 17,
   "metadata": {
    "collapsed": true
   },
   "outputs": [],
   "source": [
    "pYPK0_E_Z, stuffer = pYPK0.cut((EcoRV, ZraI))"
   ]
  },
  {
   "cell_type": "code",
   "execution_count": 18,
   "metadata": {
    "collapsed": false
   },
   "outputs": [
    {
     "data": {
      "text/plain": [
       "(Dseqrecord(-5681), Amplicon(792), Amplicon(1086), Amplicon(1061))"
      ]
     },
     "execution_count": 18,
     "metadata": {},
     "output_type": "execute_result"
    }
   ],
   "source": [
    "(pYPK0_E_Z, p, g, t)"
   ]
  },
  {
   "cell_type": "code",
   "execution_count": 19,
   "metadata": {
    "collapsed": false
   },
   "outputs": [],
   "source": [
    "asm = pydna.Assembly((pYPK0_E_Z, p, g, t), limit=31)"
   ]
  },
  {
   "cell_type": "code",
   "execution_count": 20,
   "metadata": {
    "collapsed": false
   },
   "outputs": [
    {
     "data": {
      "text/plain": [
       "Assembly:\n",
       "Sequences........................: [5681] [792] [1086] [1061]\n",
       "Sequences with shared homologies.: [5681] [792] [1061] [1086]\n",
       "Homology limit (bp)..............: 31\n",
       "Number of overlaps...............: 4\n",
       "Nodes in graph(incl. 5' & 3')....: 6\n",
       "Only terminal overlaps...........: No\n",
       "Circular products................: [8374]\n",
       "Linear products..................: [8472] [8435] [8424] [8411] [7730] [7411] [7375] [6681] [6375] [2852] [2110] [1828] [98] [61] [50] [37]"
      ]
     },
     "execution_count": 20,
     "metadata": {},
     "output_type": "execute_result"
    }
   ],
   "source": [
    "asm"
   ]
  },
  {
   "cell_type": "code",
   "execution_count": 21,
   "metadata": {
    "collapsed": false
   },
   "outputs": [
    {
     "data": {
      "text/plain": [
       " -|pYKP0|98\n",
       "|        \\/\n",
       "|        /\\\n",
       "|        98|792bp_PCR_prod|38\n",
       "|                          \\/\n",
       "|                          /\\\n",
       "|                          38|1086bp_PCR_prod|35\n",
       "|                                             \\/\n",
       "|                                             /\\\n",
       "|                                             35|1061bp_PCR_prod|61\n",
       "|                                                                \\/\n",
       "|                                                                /\\\n",
       "|                                                                61-\n",
       "|                                                                   |\n",
       " -------------------------------------------------------------------"
      ]
     },
     "execution_count": 21,
     "metadata": {},
     "output_type": "execute_result"
    }
   ],
   "source": [
    "candidate = asm.circular_products[0]\n",
    "candidate.figure()"
   ]
  },
  {
   "cell_type": "code",
   "execution_count": 25,
   "metadata": {
    "collapsed": false
   },
   "outputs": [],
   "source": [
    "pYPK0_FBA1tp_ScTAL1_PDC1tp = candidate.synced(pYPK0)"
   ]
  },
  {
   "cell_type": "markdown",
   "metadata": {},
   "source": [
    "The pYPK0_FBA1tp_ScTAL1_PDC1tp has cseguid ```z56XvyucVzpo2iNPYy5TbXbxWlk``` and 8374 bp."
   ]
  },
  {
   "cell_type": "code",
   "execution_count": 26,
   "metadata": {
    "collapsed": false
   },
   "outputs": [
    {
     "name": "stdout",
     "output_type": "stream",
     "text": [
      "8374\n"
     ]
    },
    {
     "data": {
      "text/plain": [
       "z56XvyucVzpo2iNPYy5TbXbxWlk"
      ]
     },
     "execution_count": 26,
     "metadata": {},
     "output_type": "execute_result"
    }
   ],
   "source": [
    "print len(pYPK0_FBA1tp_ScTAL1_PDC1tp)\n",
    "pYPK0_FBA1tp_ScTAL1_PDC1tp.cseguid()"
   ]
  },
  {
   "cell_type": "code",
   "execution_count": 27,
   "metadata": {
    "collapsed": false
   },
   "outputs": [
    {
     "data": {
      "text/plain": [
       "cSEGUID_z56XvyucVzpo2iNPYy5TbXbxWlk_2015-05-09T15:53:49.086533"
      ]
     },
     "execution_count": 27,
     "metadata": {},
     "output_type": "execute_result"
    }
   ],
   "source": [
    "pYPK0_FBA1tp_ScTAL1_PDC1tp.name=\"pMEC1130\"\n",
    "#pYPK0_FBA1tp_ScTAL1_PDC1tp.description = \"pYPK0_FBA1tp_ScTAL1_PDC1tp\"\n",
    "pYPK0_FBA1tp_ScTAL1_PDC1tp.stamp()"
   ]
  },
  {
   "cell_type": "code",
   "execution_count": 32,
   "metadata": {
    "collapsed": false
   },
   "outputs": [],
   "source": [
    "pYPK0_FBA1tp_ScTAL1_PDC1tp.write(\"pYPK0_FBA1tp_ScTAL1_PDC1tp.gb\")"
   ]
  },
  {
   "cell_type": "markdown",
   "metadata": {},
   "source": [
    "##Download sequence\n",
    "\n",
    "[pYPK0_FBA1tp_ScTAL1_PDC1tp](pYPK0_FBA1tp_ScTAL1_PDC1tp.gb)"
   ]
  },
  {
   "cell_type": "code",
   "execution_count": null,
   "metadata": {
    "collapsed": true
   },
   "outputs": [],
   "source": [
    "import pydna"
   ]
  },
  {
   "cell_type": "code",
   "execution_count": 33,
   "metadata": {
    "collapsed": false
   },
   "outputs": [],
   "source": [
    "reloaded = pydna.read(\"pYPK0_FBA1tp_ScTAL1_PDC1tp.gb\")"
   ]
  },
  {
   "cell_type": "code",
   "execution_count": 34,
   "metadata": {
    "collapsed": false
   },
   "outputs": [
    {
     "data": {
      "text/plain": [
       "z56XvyucVzpo2iNPYy5TbXbxWlk"
      ]
     },
     "execution_count": 34,
     "metadata": {},
     "output_type": "execute_result"
    }
   ],
   "source": [
    "reloaded.cseguid()"
   ]
  },
  {
   "cell_type": "code",
   "execution_count": 35,
   "metadata": {
    "collapsed": false
   },
   "outputs": [
    {
     "data": {
      "text/plain": [
       "'pYPK0_FBA1tp_ScTAL1_PDC1tp cSEGUID_z56XvyucVzpo2iNPYy5TbXbxWlk_2015-05-09T15:53:49.086533'"
      ]
     },
     "execution_count": 35,
     "metadata": {},
     "output_type": "execute_result"
    }
   ],
   "source": [
    "reloaded.description"
   ]
  },
  {
   "cell_type": "code",
   "execution_count": null,
   "metadata": {
    "collapsed": true
   },
   "outputs": [],
   "source": []
  }
 ],
 "metadata": {
  "kernelspec": {
   "display_name": "Python 2",
   "language": "python",
   "name": "python2"
  },
  "language_info": {
   "codemirror_mode": {
    "name": "ipython",
    "version": 2
   },
   "file_extension": ".py",
   "mimetype": "text/x-python",
   "name": "python",
   "nbconvert_exporter": "python",
   "pygments_lexer": "ipython2",
   "version": "2.7.9"
  }
 },
 "nbformat": 4,
 "nbformat_minor": 0
}
