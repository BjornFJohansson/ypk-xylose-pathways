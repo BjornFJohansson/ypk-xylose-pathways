{
 "cells": [
  {
   "cell_type": "code",
   "execution_count": 1,
   "metadata": {
    "collapsed": true
   },
   "outputs": [],
   "source": [
    "import pydna"
   ]
  },
  {
   "cell_type": "code",
   "execution_count": 5,
   "metadata": {
    "collapsed": false
   },
   "outputs": [],
   "source": [
    "pYPK0 = pydna.read(\"pYPK0.gb\")"
   ]
  },
  {
   "cell_type": "code",
   "execution_count": null,
   "metadata": {
    "collapsed": false
   },
   "outputs": [],
   "source": [
    "pr, prf = pydna.parse(''' >pYPKpwR\n",
    "                          GCATGACGTCaccagacgctatgactcacccggacggca\n",
    "\n",
    "                          >pYPKpwF\n",
    "                          GCATGATATCttcacaggcggttttcgcacgtacccatg''', ds=False)\n",
    "\n",
    "seq = pcr(primers, pYPK0)\n",
    "\n",
    "seq = seq.looped()\n",
    "\n",
    "pYPKpw = seq.synced(pYPK0)\n",
    "\n",
    "from Bio.Restriction import EcoRV, FspAI, ZraI\n",
    "\n",
    "slask = pYPKpw.linearize(ZraI)\n",
    "slask = pYPKpw.linearize(FspAI)\n",
    "slask = pYPKpw.linearize(EcoRV)"
   ]
  }
 ],
 "metadata": {
  "kernelspec": {
   "display_name": "Python 2",
   "language": "python",
   "name": "python2"
  },
  "language_info": {
   "codemirror_mode": {
    "name": "ipython",
    "version": 2
   },
   "file_extension": ".py",
   "mimetype": "text/x-python",
   "name": "python",
   "nbconvert_exporter": "python",
   "pygments_lexer": "ipython2",
   "version": "2.7.9"
  }
 },
 "nbformat": 4,
 "nbformat_minor": 0
}
