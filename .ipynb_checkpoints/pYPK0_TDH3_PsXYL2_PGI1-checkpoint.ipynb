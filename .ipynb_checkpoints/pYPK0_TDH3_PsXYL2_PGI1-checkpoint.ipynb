{
 "cells": [
  {
   "cell_type": "markdown",
   "metadata": {},
   "source": [
    "# Construction of pYPK0_TDH3_PsXYL2_PGI1 (pMEC1128)\n",
    "\n",
    "[pYPKa_Z_TDH3](pYPKa_Z_TDH3.ipynb)\n",
    "\n",
    "[pYPKa_E_PGI1](pYPKa_E_PGI1.ipynb)"
   ]
  },
  {
   "cell_type": "code",
   "execution_count": 1,
   "metadata": {
    "collapsed": false
   },
   "outputs": [],
   "source": [
    "import pydna\n",
    "from pydna import ipynb_importer"
   ]
  },
  {
   "cell_type": "code",
   "execution_count": 2,
   "metadata": {
    "collapsed": false
   },
   "outputs": [
    {
     "name": "stderr",
     "output_type": "stream",
     "text": [
      "/home/bjorn/python_packages/pydna/pydna/dsdna.py:1433: UserWarning: name property 468_pCAPs_release_fw truncated to 16 chars 468_pCAPs_releas\n",
      "  warn(\"name property {} truncated to 16 chars {}\".format(self.name, short_name))\n",
      "/home/bjorn/python_packages/pydna/pydna/dsdna.py:1433: UserWarning: name property 467_pCAPs_release_re truncated to 16 chars 467_pCAPs_releas\n",
      "  warn(\"name property {} truncated to 16 chars {}\".format(self.name, short_name))\n",
      "/home/bjorn/python_packages/pydna/pydna/dsdna.py:1433: UserWarning: name property 778_tp_Eco32I_rev truncated to 16 chars 778_tp_Eco32I_re\n",
      "  warn(\"name property {} truncated to 16 chars {}\".format(self.name, short_name))\n"
     ]
    }
   ],
   "source": [
    "from ypk_std_primers import p166, p167, p567, p568"
   ]
  },
  {
   "cell_type": "markdown",
   "metadata": {},
   "source": [
    "[Yeast Pathway Kit Standard Primers](ypk_std_primers.ipynb)"
   ]
  },
  {
   "cell_type": "code",
   "execution_count": 3,
   "metadata": {
    "collapsed": true
   },
   "outputs": [],
   "source": [
    "from Bio.Restriction import ZraI, AjiI, EcoRV"
   ]
  },
  {
   "cell_type": "code",
   "execution_count": 4,
   "metadata": {
    "collapsed": true
   },
   "outputs": [],
   "source": [
    "pYPK0 = pydna.read(\"pYPK0.gb\")"
   ]
  },
  {
   "cell_type": "code",
   "execution_count": 5,
   "metadata": {
    "collapsed": true
   },
   "outputs": [],
   "source": [
    "promoter_clone = pYPKa_Z_TDH3 = pydna.read(\"pYPKa_Z_TDH3.gb\")"
   ]
  },
  {
   "cell_type": "markdown",
   "metadata": {},
   "source": [
    "[Genbank](http://www.ncbi.nlm.nih.gov/nuccore/A16166.1) record"
   ]
  },
  {
   "cell_type": "code",
   "execution_count": 6,
   "metadata": {
    "collapsed": false
   },
   "outputs": [
    {
     "data": {
      "text/html": [
       "<iframe src=http://google.com/patents/EP0450430A2?cl=es width=100% height=250></iframe>"
      ],
      "text/plain": [
       "<IPython.core.display.HTML object>"
      ]
     },
     "execution_count": 6,
     "metadata": {},
     "output_type": "execute_result"
    }
   ],
   "source": [
    "from IPython.display import HTML\n",
    "HTML('<iframe src=http://google.com/patents/EP0450430A2?cl=es width=100% height=250></iframe>')"
   ]
  },
  {
   "cell_type": "code",
   "execution_count": 7,
   "metadata": {
    "collapsed": false
   },
   "outputs": [],
   "source": [
    "gb = pydna.Genbank(\"bjornjobbb@gmail.com\")\n",
    "gene_template = gb.nucleotide(\"A16166.1\")"
   ]
  },
  {
   "cell_type": "code",
   "execution_count": 8,
   "metadata": {
    "collapsed": false
   },
   "outputs": [
    {
     "data": {
      "text/plain": [
       "+----------+-----------+-------+------+--------+--------------+--------+------+\n",
       "| Feature# | Direction | Start | End  | Length | id           | type   | orf? |\n",
       "+----------+-----------+-------+------+--------+--------------+--------+------+\n",
       "| 0        |    -->    |   0   | 1963 |   1963 | <unknown id> | source |  no  |\n",
       "| 1        |    -->    |  318  | 1410 |   1092 | <unknown id> | CDS    | yes  |\n",
       "+----------+-----------+-------+------+--------+--------------+--------+------+"
      ]
     },
     "execution_count": 8,
     "metadata": {},
     "output_type": "execute_result"
    }
   ],
   "source": [
    "gene_template.list_features()"
   ]
  },
  {
   "cell_type": "code",
   "execution_count": 10,
   "metadata": {
    "collapsed": false
   },
   "outputs": [],
   "source": [
    "orf = gene_template.extract_feature(1)"
   ]
  },
  {
   "cell_type": "code",
   "execution_count": 11,
   "metadata": {
    "collapsed": false
   },
   "outputs": [
    {
     "name": "stdout",
     "output_type": "stream",
     "text": [
      "ATGACTGCTAACCCTTCCTTGGTGTTGAACAAGATCGACGACATTTCGTTCGAAACTTACGATGCCCCAGAAATCTCTGAACCTACCGATGTCCTCGTCCAGGTCAAGAAAACCGGTATCTGTGGTTCCGACATCCACTTCTACGCCCATGGTAGAATCGGTAACTTCGTTTTGACCAAGCCAATGGTCTTGGGTCACGAATCCGCCGGTACTGTTGTCCAGGTTGGTAAGGGTGTCACCTCTCTTAAGGTTGGTGACAACGTCGCTATCGAACCAGGTATTCCATCCAGATTCTCCGACGAATACAAGAGCGGTCACTACAACTTGTGTCCTCACATGGCCTTCGCCGCTACTCCTAACTCCAAGGAAGGCGAACCAAACCCACCAGGTACCTTATGTAAGTACTTCAAGTCGCCAGAAGACTTCTTGGTCAAGTTGCCAGACCACGTCAGCTTGGAACTCGGTGCTCTTGTTGAGCCATTGTCTGTTGGTGTCCACGCCTCCAAGTTGGGTTCCGTTGCTTTCGGCGACTACGTTGCCGTCTTTGGTGCTGGTCCTGTTGGTCTTTTGGCTGCTGCTGTCGCCAAGACCTTCGGTGCTAAGGGTGTCATCGTCGTTGACATTTTCGACAACAAGTTGAAGATGGCCAAGGACATTGGTGCTGCTACTCACACCTTCAACTCCAAGACCGGTGGTTCTGAAGAATTGATCAAGGCTTTCGGTGGTAACGTGCCAAACGTCGTTTTGGAATGTACTGGTGCTGAACCTTGTATCAAGTTGGGTGTTGACGCCATTGCCCCAGGTGGTCGTTTCGTTCAAGTTGGTAACGCTGCTGGTCCAGTCAGCTTCCCAATCACCGTTTTCGCCATGAAGGAATTGACTTTGTTCGGTTCTTTCAGATACGGATTCAACGACTACAAGACTGCTGTTGGAATCTTTGACACTAACTACCAAAACGGTAGAGAAAATGCTCCAATTGACTTTGAACAATTGATCACCCACAGATACAAGTTCAAGGACGCTATTGAAGCCTACGACTTGGTCAGAGCCGGTAAGGGTGCTGTCAAGTGTCTCATTGACGGCCCTGAGTAA\n"
     ]
    }
   ],
   "source": [
    "print orf.seq"
   ]
  },
  {
   "cell_type": "code",
   "execution_count": 10,
   "metadata": {
    "collapsed": false
   },
   "outputs": [
    {
     "data": {
      "text/plain": [
       "True"
      ]
     },
     "execution_count": 10,
     "metadata": {},
     "output_type": "execute_result"
    }
   ],
   "source": [
    "orf.isorf()"
   ]
  },
  {
   "cell_type": "code",
   "execution_count": 11,
   "metadata": {
    "collapsed": false
   },
   "outputs": [
    {
     "name": "stdout",
     "output_type": "stream",
     "text": [
      "1092\n"
     ]
    },
    {
     "data": {
      "text/plain": [
       "CyliZ1T5FR7RZCWuSzPm9dOHmM0"
      ]
     },
     "execution_count": 11,
     "metadata": {},
     "output_type": "execute_result"
    }
   ],
   "source": [
    "print len(orf)\n",
    "orf.seguid()"
   ]
  },
  {
   "cell_type": "code",
   "execution_count": 12,
   "metadata": {
    "collapsed": false
   },
   "outputs": [
    {
     "name": "stdout",
     "output_type": "stream",
     "text": [
      "MTANPSLVLNKIDDISFETYDAPEISEPTDVLVQVKKTGICGSDIHFYAHGRIGNFVLTKPMVLGHESAGTVVQVGKGVTSLKVGDNVAIEPGIPSRFSDEYKSGHYNLCPHMAFAATPNSKEGEPNPPGTLCKYFKSPEDFLVKLPDHVSLELGALVEPLSVGVHASKLGSVAFGDYVAVFGAGPVGLLAAAVAKTFGAKGVIVVDIFDNKLKMAKDIGAATHTFNSKTGGSEELIKAFGGNVPNVVLECTGAEPCIKLGVDAIAPGGRFVQVGNAAGPVSFPITVFAMKELTLFGSFRYGFNDYKTAVGIFDTNYQNGRENAPIDFEQLITHRYKFKDAIEAYDLVRAGKGAVKCLIDGPE*\n"
     ]
    }
   ],
   "source": [
    "print str(orf.seq.translate())"
   ]
  },
  {
   "cell_type": "code",
   "execution_count": 13,
   "metadata": {
    "collapsed": true
   },
   "outputs": [],
   "source": [
    "pf, pr = pydna.parse('''>XDH_YPK_rec_fwd \n",
    "                        gtcgaggaacgccaggttgcccactttctcactagtgaAAATGACTGCTAACCCTTCCTTGGTG\n",
    "                        >XDH_YPK_rec_rev \n",
    "                        ATTTAAatcctgatgcgtttgtctgcacagatggcgcgTTACTCAGGGCCGTCAATGAGACA''')"
   ]
  },
  {
   "cell_type": "code",
   "execution_count": 14,
   "metadata": {
    "collapsed": true
   },
   "outputs": [],
   "source": [
    "g = pydna.pcr( pf, pr, orf)"
   ]
  },
  {
   "cell_type": "code",
   "execution_count": 15,
   "metadata": {
    "collapsed": false
   },
   "outputs": [
    {
     "data": {
      "text/plain": [
       "                                        5ATGACTGCTAACCCTTCCTTGGTG...TGTCTCATTGACGGCCCTGAGTAA3\n",
       "                                                                    |||||||||||||||||||||||| tm 57.6 (dbd) 71.8\n",
       "                                                                   3ACAGAGTAACTGCCGGGACTCATTgcgcggtagacacgtctgtttgcgtagtcctaAATTTA5\n",
       "5gtcgaggaacgccaggttgcccactttctcactagtgaAAATGACTGCTAACCCTTCCTTGGTG3\n",
       "                                         |||||||||||||||||||||||| tm 56.6 (dbd) 69.3\n",
       "                                        3TACTGACGATTGGGAAGGAACCAC...ACAGAGTAACTGCCGGGACTCATT5"
      ]
     },
     "execution_count": 15,
     "metadata": {},
     "output_type": "execute_result"
    }
   ],
   "source": [
    "g.figure()"
   ]
  },
  {
   "cell_type": "code",
   "execution_count": 16,
   "metadata": {
    "collapsed": false
   },
   "outputs": [],
   "source": [
    "terminator_clone = pYPKa_E_PGI1 = pydna.read(\"pYPKa_E_PGI1.gb\")"
   ]
  },
  {
   "cell_type": "code",
   "execution_count": 17,
   "metadata": {
    "collapsed": false
   },
   "outputs": [],
   "source": [
    "p  = pydna.pcr( p167, p567, promoter_clone)\n",
    "t  = pydna.pcr( p568, p166, terminator_clone)"
   ]
  },
  {
   "cell_type": "code",
   "execution_count": 18,
   "metadata": {
    "collapsed": true
   },
   "outputs": [],
   "source": [
    "pYPK0_E_Z, stuffer = pYPK0.cut((EcoRV, ZraI))"
   ]
  },
  {
   "cell_type": "code",
   "execution_count": 19,
   "metadata": {
    "collapsed": false
   },
   "outputs": [
    {
     "data": {
      "text/plain": [
       "(Dseqrecord(-5681), Dseqrecord(-860), Dseqrecord(-1170), Dseqrecord(-1105))"
      ]
     },
     "execution_count": 19,
     "metadata": {},
     "output_type": "execute_result"
    }
   ],
   "source": [
    "(pYPK0_E_Z, p, g, t)"
   ]
  },
  {
   "cell_type": "code",
   "execution_count": 20,
   "metadata": {
    "collapsed": false
   },
   "outputs": [],
   "source": [
    "asm = pydna.Assembly((pYPK0_E_Z, p, g, t), limit=31)"
   ]
  },
  {
   "cell_type": "code",
   "execution_count": 21,
   "metadata": {
    "collapsed": false
   },
   "outputs": [
    {
     "data": {
      "text/plain": [
       "Assembly:\n",
       "Sequences........................: [5681] [860] [1170] [1105]\n",
       "Sequences with shared homologies.: [5681] [860] [1105] [1170]\n",
       "Homology limit (bp)..............: 31\n",
       "Number of overlaps...............: 4\n",
       "Nodes in graph(incl. 5' & 3')....: 6\n",
       "Only terminal overlaps...........: No\n",
       "Circular products................: [8570]\n",
       "Linear products..................: [8668] [8631] [8620] [8607] [7858] [7563] [7487] [6725] [6443] [3048] [2238] [1980] [98] [61] [50] [37]"
      ]
     },
     "execution_count": 21,
     "metadata": {},
     "output_type": "execute_result"
    }
   ],
   "source": [
    "asm"
   ]
  },
  {
   "cell_type": "code",
   "execution_count": 22,
   "metadata": {
    "collapsed": false
   },
   "outputs": [
    {
     "data": {
      "text/plain": [
       " -|pYKP0|98\n",
       "|        \\/\n",
       "|        /\\\n",
       "|        98|860bp_PCR_prod|38\n",
       "|                          \\/\n",
       "|                          /\\\n",
       "|                          38|1170bp_PCR_prod|35\n",
       "|                                             \\/\n",
       "|                                             /\\\n",
       "|                                             35|1105bp_PCR_prod|61\n",
       "|                                                                \\/\n",
       "|                                                                /\\\n",
       "|                                                                61-\n",
       "|                                                                   |\n",
       " -------------------------------------------------------------------"
      ]
     },
     "execution_count": 22,
     "metadata": {},
     "output_type": "execute_result"
    }
   ],
   "source": [
    "candidate = asm.circular_products[0]\n",
    "candidate.figure()"
   ]
  },
  {
   "cell_type": "code",
   "execution_count": 23,
   "metadata": {
    "collapsed": false
   },
   "outputs": [],
   "source": [
    "pYPK0_TDH3_PsXYL2_PGI1 = candidate.synced(pYPK0)"
   ]
  },
  {
   "cell_type": "markdown",
   "metadata": {},
   "source": [
    "The pYPK0_TDH3_PsXYL2_PGI1 has cseguid ```ycHQ8EOwqQihZOUFmIbCiwHhMZ0``` and 8015 bp"
   ]
  },
  {
   "cell_type": "code",
   "execution_count": 24,
   "metadata": {
    "collapsed": false
   },
   "outputs": [
    {
     "name": "stdout",
     "output_type": "stream",
     "text": [
      "8570\n"
     ]
    },
    {
     "data": {
      "text/plain": [
       "ycHQ8EOwqQihZOUFmIbCiwHhMZ0"
      ]
     },
     "execution_count": 24,
     "metadata": {},
     "output_type": "execute_result"
    }
   ],
   "source": [
    "print len(pYPK0_TDH3_PsXYL2_PGI1)\n",
    "pYPK0_TDH3_PsXYL2_PGI1.cseguid()"
   ]
  },
  {
   "cell_type": "code",
   "execution_count": 25,
   "metadata": {
    "collapsed": false
   },
   "outputs": [
    {
     "data": {
      "text/plain": [
       "cSEGUID_ycHQ8EOwqQihZOUFmIbCiwHhMZ0_2015-07-15T12:33:44.949552"
      ]
     },
     "execution_count": 25,
     "metadata": {},
     "output_type": "execute_result"
    }
   ],
   "source": [
    "pYPK0_TDH3_PsXYL2_PGI1.name=\"pMEC1128\"\n",
    "#pYPK0_TDH3_PsXYL2_PGI1.description = \"pYPK0_TDH3_PsXYL2_PGI1tp\"\n",
    "pYPK0_TDH3_PsXYL2_PGI1.stamp()"
   ]
  },
  {
   "cell_type": "code",
   "execution_count": 26,
   "metadata": {
    "collapsed": false
   },
   "outputs": [
    {
     "data": {
      "text/markdown": [
       "###[pYPK0_TDH3_PsXYL2_PGI1](pYPK0_TDH3_PsXYL2_PGI1.gb)"
      ],
      "text/plain": [
       "<IPython.core.display.Markdown object>"
      ]
     },
     "execution_count": 26,
     "metadata": {},
     "output_type": "execute_result"
    }
   ],
   "source": [
    "pYPK0_TDH3_PsXYL2_PGI1.write(\"pYPK0_TDH3_PsXYL2_PGI1.gb\")"
   ]
  },
  {
   "cell_type": "markdown",
   "metadata": {},
   "source": [
    "##Download sequence\n",
    "\n",
    "[pYPK0_TDH3_PsXYL2_PGI1tpp](pYPK0_TDH3_PsXYL2_PGI1.gb)"
   ]
  },
  {
   "cell_type": "code",
   "execution_count": 27,
   "metadata": {
    "collapsed": false
   },
   "outputs": [],
   "source": [
    "reloaded = pydna.read(\"pYPK0_TDH3_PsXYL2_PGI1.gb\")"
   ]
  },
  {
   "cell_type": "code",
   "execution_count": 28,
   "metadata": {
    "collapsed": false
   },
   "outputs": [
    {
     "data": {
      "text/plain": [
       "ycHQ8EOwqQihZOUFmIbCiwHhMZ0"
      ]
     },
     "execution_count": 28,
     "metadata": {},
     "output_type": "execute_result"
    }
   ],
   "source": [
    "reloaded.cseguid()"
   ]
  },
  {
   "cell_type": "code",
   "execution_count": 29,
   "metadata": {
    "collapsed": false
   },
   "outputs": [
    {
     "data": {
      "text/plain": [
       "'cSEGUID_ycHQ8EOwqQihZOUFmIbCiwHhMZ0_2015-07-15T12:33:44.949552'"
      ]
     },
     "execution_count": 29,
     "metadata": {},
     "output_type": "execute_result"
    }
   ],
   "source": [
    "reloaded.description"
   ]
  },
  {
   "cell_type": "code",
   "execution_count": null,
   "metadata": {
    "collapsed": true
   },
   "outputs": [],
   "source": []
  }
 ],
 "metadata": {
  "kernelspec": {
   "display_name": "Python 2",
   "language": "python",
   "name": "python2"
  },
  "language_info": {
   "codemirror_mode": {
    "name": "ipython",
    "version": 2
   },
   "file_extension": ".py",
   "mimetype": "text/x-python",
   "name": "python",
   "nbconvert_exporter": "python",
   "pygments_lexer": "ipython2",
   "version": "2.7.11"
  }
 },
 "nbformat": 4,
 "nbformat_minor": 0
}
