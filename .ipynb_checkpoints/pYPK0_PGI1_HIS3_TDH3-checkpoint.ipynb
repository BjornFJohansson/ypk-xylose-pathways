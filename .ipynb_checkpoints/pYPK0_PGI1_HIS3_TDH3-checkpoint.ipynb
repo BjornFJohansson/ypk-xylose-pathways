{
 "cells": [
  {
   "cell_type": "markdown",
   "metadata": {
    "deletable": true,
    "editable": true
   },
   "source": [
    "#pYPK0_PGI1_HIS3_TDH3"
   ]
  },
  {
   "cell_type": "code",
   "execution_count": 1,
   "metadata": {
    "collapsed": false,
    "deletable": true,
    "editable": true
   },
   "outputs": [],
   "source": [
    "from pydna import ipynb_importer\n",
    "from pydna.amplify  import pcr\n",
    "from pydna.parsers  import parse\n",
    "from pydna.readers  import read\n",
    "from pydna.genbank  import Genbank\n",
    "from pydna.assembly import Assembly\n",
    "from pydna.dseqrecord import Dseqrecord"
   ]
  },
  {
   "cell_type": "code",
   "execution_count": 2,
   "metadata": {
    "collapsed": true
   },
   "outputs": [],
   "source": [
    "p577,p578,p468,p467,p567,p568 =    parse('''>577        \n",
    "                                            gttctgatcctcgagcatcttaagaattc                                                \n",
    "                                            >578          \n",
    "                                            gttcttgtctcattgccacattcataagt\n",
    "                                            >468\n",
    "                                            gtcgaggaacgccaggttgcccact\n",
    "                                            >467 \n",
    "                                            ATTTAAatcctgatgcgtttgtctgcacaga\n",
    "                                            >567\n",
    "                                            GTcggctgcaggtcactagtgag\n",
    "                                            >568\n",
    "                                            GTGCcatctgtgcagacaaacg''')"
   ]
  },
  {
   "cell_type": "code",
   "execution_count": 3,
   "metadata": {
    "collapsed": true
   },
   "outputs": [],
   "source": [
    "from Bio.Restriction import ZraI, AjiI, EcoRV"
   ]
  },
  {
   "cell_type": "code",
   "execution_count": 4,
   "metadata": {
    "collapsed": true
   },
   "outputs": [],
   "source": [
    "pYPKpw = read(\"pYPKpw.gb\")"
   ]
  },
  {
   "cell_type": "code",
   "execution_count": 5,
   "metadata": {
    "collapsed": true
   },
   "outputs": [],
   "source": [
    "pYPKpw_lin = pYPKpw.linearize(EcoRV)"
   ]
  },
  {
   "cell_type": "code",
   "execution_count": 6,
   "metadata": {
    "collapsed": false
   },
   "outputs": [
    {
     "data": {
      "text/html": [
       "<font face=monospace><a href='pYPKa_Z_PGI1.gb' target='_blank'>pYPKa_Z_PGI1.gb</a></font><br>"
      ]
     },
     "metadata": {},
     "output_type": "display_data"
    },
    {
     "data": {
      "text/html": [
       "<font face=monospace><a href='pYPKa_A_CiGXF1.gb' target='_blank'>pYPKa_A_CiGXF1.gb</a></font><br>"
      ]
     },
     "metadata": {},
     "output_type": "display_data"
    },
    {
     "data": {
      "text/html": [
       "<font face=monospace><a href='pYPKa_E_TDH3.gb' target='_blank'>pYPKa_E_TDH3.gb</a></font><br>"
      ]
     },
     "metadata": {},
     "output_type": "display_data"
    }
   ],
   "source": [
    "from pYPKa_Z_PGI1 import pYPKa_Z_PGI1 as first\n",
    "from pYPKa_A_CiGXF1 import pYPKa_A_CiGXF1 as middle\n",
    "from pYPKa_E_TDH3 import pYPKa_E_TDH3 as last "
   ]
  },
  {
   "cell_type": "code",
   "execution_count": 7,
   "metadata": {
    "collapsed": true
   },
   "outputs": [],
   "source": [
    "first  = pcr( p577, p567, first)\n",
    "middle = pcr( p468, p467, middle)\n",
    "last   = pcr( p568, p578, last)"
   ]
  },
  {
   "cell_type": "code",
   "execution_count": 8,
   "metadata": {
    "collapsed": true
   },
   "outputs": [],
   "source": [
    "asm = Assembly((pYPKpw_lin, first, middle, last), limit=31)"
   ]
  },
  {
   "cell_type": "code",
   "execution_count": 9,
   "metadata": {
    "collapsed": false,
    "deletable": true,
    "editable": true
   },
   "outputs": [],
   "source": [
    "pYPK0_PGI1_CiGXF1_TDH3 = asm.circular_products[0].synced(\"tcgcgcgtttcggtgatgacggtgaaaacctctg\")"
   ]
  },
  {
   "cell_type": "code",
   "execution_count": 10,
   "metadata": {
    "collapsed": false,
    "deletable": true,
    "editable": true
   },
   "outputs": [
    {
     "data": {
      "text/html": [
       "<font face=monospace><a href='pYPK0_PGI1_CiGXF1_TDH3.gb' target='_blank'>pYPK0_PGI1_CiGXF1_TDH3.gb</a></font><br>"
      ]
     },
     "metadata": {},
     "output_type": "display_data"
    }
   ],
   "source": [
    "pYPK0_PGI1_CiGXF1_TDH3.write(\"pYPK0_PGI1_CiGXF1_TDH3.gb\")"
   ]
  },
  {
   "cell_type": "markdown",
   "metadata": {
    "deletable": true,
    "editable": true
   },
   "source": [
    "## Download sequence\n",
    "\n",
    "[pYPK0_PGI1_CiGXF1_TDH3](pYPK0_PGI1_CiGXF1_TDH3.gb)"
   ]
  }
 ],
 "metadata": {
  "kernelspec": {
   "display_name": "Python 3",
   "language": "python",
   "name": "python3"
  },
  "language_info": {
   "codemirror_mode": {
    "name": "ipython",
    "version": 3
   },
   "file_extension": ".py",
   "mimetype": "text/x-python",
   "name": "python",
   "nbconvert_exporter": "python",
   "pygments_lexer": "ipython3",
   "version": "3.5.2"
  }
 },
 "nbformat": 4,
 "nbformat_minor": 0
}
