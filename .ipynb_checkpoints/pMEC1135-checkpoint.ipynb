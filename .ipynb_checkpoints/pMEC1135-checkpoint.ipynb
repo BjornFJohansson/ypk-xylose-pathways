{
 "cells": [
  {
   "cell_type": "markdown",
   "metadata": {},
   "source": [
    "# pMEC1135\n",
    "\n",
    "Also referred to as pYPK0-C4. This vector is identical to [pMEC1136](pMEC1136.ipynb) but for a point mutation in XYL1 N272D. The systematic name of this vector is : \n",
    "\n",
    "    pYPK0-TEF1-SsXR_N272D-TDH3-SsXDH-PGI1-XK-FBA1-ScTAL1-PDC1\n",
    "\n",
    "This vector expresses four genes and was assembled from four single gene expression cassettes:\n",
    "\n",
    "Gene | Enzyme | Acronym | Cassette\n",
    "-------------------------------------------------- |-------------------|---|-----|\n",
    "[SsXYL1_N272D](http://www.ncbi.nlm.nih.gov/gene/4839234) |D-xylose reductase |XR | [pYPK0_TEF1_PsXYL1_N272D_TDH3](pYPK0_TEF1_PsXYL1_N272D_TDH3.ipynb)\n",
    "[SsXYL2](http://www.ncbi.nlm.nih.gov/gene/4852013) |xylitol dehydrogenase |XDH | [pYPK0_TDH3_PsXYL2_PGI1](pYPK0_TDH3_PsXYL2_PGI1.ipynb)\n",
    "[ScXKS1](http://www.yeastgenome.org/locus/S000003426/overview) |Xylulokinase |XK | [pYPK0_PGI1_ScXKS1_FBA1](pYPK0_PGI1_ScXKS1_FBA1.ipynb)\n",
    "[ScTAL1](http://www.yeastgenome.org/locus/S000004346/overview) |Transaldolase |tal1p | [pYPK0_FBA1_ScTAL1_PDC1](pYPK0_FBA1_ScTAL1_PDC1.ipynb)\n",
    "\n",
    "The vector [pMEC1135](pMEC1135.ipynb) is identical to this vector, but has a point mutation in XYL1."
   ]
  },
  {
   "cell_type": "markdown",
   "metadata": {},
   "source": [
    "[Yeast Pathway Kit Standard Primers](ypk_std_primers.ipynb)"
   ]
  },
  {
   "cell_type": "code",
   "execution_count": 19,
   "metadata": {
    "collapsed": true
   },
   "outputs": [],
   "source": [
    "import pydna\n",
    "from pydna import ipynb_importer"
   ]
  },
  {
   "cell_type": "code",
   "execution_count": 20,
   "metadata": {
    "collapsed": false
   },
   "outputs": [],
   "source": [
    "from ypk_std_primers import p166, p167, p567, p568"
   ]
  },
  {
   "cell_type": "code",
   "execution_count": 21,
   "metadata": {
    "collapsed": true
   },
   "outputs": [],
   "source": [
    "pYPK0 = pydna.read(\"pYPK0.gb\")"
   ]
  },
  {
   "cell_type": "code",
   "execution_count": 22,
   "metadata": {
    "collapsed": false
   },
   "outputs": [
    {
     "name": "stdout",
     "output_type": "stream",
     "text": [
      "@_rc cSEGUID_qSJ95NM815X60yBy4l6iI69a_Dw_2015-07-15T11:55:09.522091\n"
     ]
    },
    {
     "data": {
      "text/plain": [
       "qSJ95NM815X60yBy4l6iI69a_Dw"
      ]
     },
     "execution_count": 22,
     "metadata": {},
     "output_type": "execute_result"
    }
   ],
   "source": [
    "print(pYPK0.description)\n",
    "pYPK0.cseguid()"
   ]
  },
  {
   "cell_type": "code",
   "execution_count": 23,
   "metadata": {
    "collapsed": true
   },
   "outputs": [],
   "source": [
    "from Bio.Restriction import ZraI, AjiI, EcoRV"
   ]
  },
  {
   "cell_type": "code",
   "execution_count": 24,
   "metadata": {
    "collapsed": true
   },
   "outputs": [],
   "source": [
    "p417,p626 = pydna.parse('''   >417_ScTEF1tpf (30-mer)\n",
    "                              TTAAATAACAATGCATACTTTGTACGTTCA\n",
    "                              >626_ScTEF1tpr_PacI (35-mer)\n",
    "                              taattaaTTTGTAATTAAAACTTAGATTAGATTGC''', ds=False)\n",
    "\n",
    "p415,p623 = pydna.parse('''   >415_ScTDH3tpf (29-mer)\n",
    "                              TTAAATAATAAAAAACACGCTTTTTCAGT                                            \n",
    "                              >623_ScTDH3tpr_PacI (33-mer)\n",
    "                              taattaaTTTGTTTGTTTATGTGTGTTTATTCG''', ds=False)\n",
    "\n",
    "p549,p622 = pydna.parse('''   >549_ScPGI1tpf (27-mer)\n",
    "                              ttaaatAATTCAGTTTTCTGACTGAGT                                            \n",
    "                              >622_ScPGI1tpr_PacI (28-mer)\n",
    "                              taattaaTTTTAGGCTGGTATCTTGATT''', ds=False)\n",
    "\n",
    "p409,p624 = pydna.parse('''   >409_ScFBA1tpf (37-mer)\n",
    "                              TTAAATAATAACAATACTGACAGTACTAAATAATTGC                                            \n",
    "                              >624_ScFBA1tpr_PacI (29-mer)\n",
    "                              taattaaTTTGAATATGTATTACTTGGTT''', ds=False)"
   ]
  },
  {
   "cell_type": "code",
   "execution_count": 25,
   "metadata": {
    "collapsed": false
   },
   "outputs": [],
   "source": [
    "p1 = pydna.read(\"pYPK0_TEF1_PsXYL1_N272D_TDH3.gb\")\n",
    "p2 = pydna.read(\"pYPK0_TDH3_PsXYL2_PGI1.gb\")\n",
    "p3 = pydna.read(\"pYPK0_PGI1_ScXKS1_FBA1.gb\")\n",
    "p4 = pydna.read(\"pYPK0_FBA1_ScTAL1_PDC1.gb\")"
   ]
  },
  {
   "cell_type": "code",
   "execution_count": 26,
   "metadata": {
    "collapsed": false
   },
   "outputs": [],
   "source": [
    "cas1  = pydna.pcr( p167, p623, p1)\n",
    "cas2  = pydna.pcr( p415, p622, p2)\n",
    "cas3  = pydna.pcr( p549, p624, p3)\n",
    "cas4  = pydna.pcr( p409, p166, p4)"
   ]
  },
  {
   "cell_type": "code",
   "execution_count": 27,
   "metadata": {
    "collapsed": false
   },
   "outputs": [],
   "source": [
    "pYPK0_E_Z, stuffer = pYPK0.cut((EcoRV, ZraI))"
   ]
  },
  {
   "cell_type": "code",
   "execution_count": 28,
   "metadata": {
    "collapsed": false
   },
   "outputs": [],
   "source": [
    "asm = pydna.Assembly( [pYPK0_E_Z, cas1, cas2, cas3, cas4] , limit = 61)"
   ]
  },
  {
   "cell_type": "code",
   "execution_count": 29,
   "metadata": {
    "collapsed": false
   },
   "outputs": [],
   "source": [
    "candidate = asm.circular_products[0]"
   ]
  },
  {
   "cell_type": "code",
   "execution_count": 30,
   "metadata": {
    "collapsed": false
   },
   "outputs": [
    {
     "data": {
      "text/plain": [
       " -|pYKP0|98\n",
       "|        \\/\n",
       "|        /\\\n",
       "|        98|2432bp_PCR_prod|712\n",
       "|                           \\/\n",
       "|                           /\\\n",
       "|                           712|2889bp_PCR_prod|1013\n",
       "|                                               \\/\n",
       "|                                               /\\\n",
       "|                                               1013|3532bp_PCR_prod|644\n",
       "|                                                                    \\/\n",
       "|                                                                    /\\\n",
       "|                                                                    644|2754bp_PCR_prod|61\n",
       "|                                                                                        \\/\n",
       "|                                                                                        /\\\n",
       "|                                                                                        61-\n",
       "|                                                                                           |\n",
       " -------------------------------------------------------------------------------------------"
      ]
     },
     "execution_count": 30,
     "metadata": {},
     "output_type": "execute_result"
    }
   ],
   "source": [
    "candidate.small_fig()"
   ]
  },
  {
   "cell_type": "code",
   "execution_count": 31,
   "metadata": {
    "collapsed": false
   },
   "outputs": [],
   "source": [
    "pw = candidate.synced(pYPK0)"
   ]
  },
  {
   "cell_type": "code",
   "execution_count": 32,
   "metadata": {
    "collapsed": false
   },
   "outputs": [
    {
     "data": {
      "text/plain": [
       "14760"
      ]
     },
     "execution_count": 32,
     "metadata": {},
     "output_type": "execute_result"
    }
   ],
   "source": [
    "len(pw)"
   ]
  },
  {
   "cell_type": "code",
   "execution_count": 33,
   "metadata": {
    "collapsed": false
   },
   "outputs": [
    {
     "data": {
      "text/plain": [
       "KsItUghJ26gWmTx7JAcZTSjEXas"
      ]
     },
     "execution_count": 33,
     "metadata": {},
     "output_type": "execute_result"
    }
   ],
   "source": [
    "pw.cseguid()"
   ]
  },
  {
   "cell_type": "code",
   "execution_count": 34,
   "metadata": {
    "collapsed": false
   },
   "outputs": [
    {
     "data": {
      "text/plain": [
       "cSEGUID_KsItUghJ26gWmTx7JAcZTSjEXas_2017-01-11T17:06:13.635828"
      ]
     },
     "execution_count": 34,
     "metadata": {},
     "output_type": "execute_result"
    }
   ],
   "source": [
    "pw.name = \"pMEC1135\"\n",
    "pw.description=\"pYPK0-TEF1-SsXR_N272D-TDH3-SsXDH-PGI1-XK-FBA1-ScTAL1-PDC1 pYPK0_C4\"\n",
    "pw.stamp()"
   ]
  },
  {
   "cell_type": "code",
   "execution_count": 35,
   "metadata": {
    "collapsed": false
   },
   "outputs": [
    {
     "data": {
      "text/html": [
       "<font face=monospace><a href='pMEC1135.gb' target='_blank'>pMEC1135.gb</a></font><br>"
      ],
      "text/plain": [
       "<IPython.core.display.HTML object>"
      ]
     },
     "metadata": {},
     "output_type": "display_data"
    }
   ],
   "source": [
    "pw.write(\"pMEC1135.gb\")"
   ]
  },
  {
   "cell_type": "markdown",
   "metadata": {},
   "source": [
    "## Download\n",
    "\n",
    "[pMEC1135](pMEC1135.gb)"
   ]
  },
  {
   "cell_type": "code",
   "execution_count": 36,
   "metadata": {
    "collapsed": false
   },
   "outputs": [
    {
     "name": "stdout",
     "output_type": "stream",
     "text": [
      "14760\n",
      "KsItUghJ26gWmTx7JAcZTSjEXas\n",
      "pYPK0-TEF1-SsXR_N272D-TDH3-SsXDH-PGI1-XK-FBA1-ScTAL1-PDC1 pYPK0_C4 cSEGUID_KsItUghJ26gWmTx7JAcZTSjEXas_2015-07-16T10:00:11.116996\n"
     ]
    }
   ],
   "source": [
    "import pydna\n",
    "reloaded = pydna.read(\"pMEC1135.gb\")\n",
    "print(len(reloaded))\n",
    "print(reloaded.cseguid())\n",
    "print(reloaded.description)"
   ]
  }
 ],
 "metadata": {
  "kernelspec": {
   "display_name": "Python 3",
   "language": "python",
   "name": "python3"
  },
  "language_info": {
   "codemirror_mode": {
    "name": "ipython",
    "version": 3
   },
   "file_extension": ".py",
   "mimetype": "text/x-python",
   "name": "python",
   "nbconvert_exporter": "python",
   "pygments_lexer": "ipython3",
   "version": "3.5.2"
  }
 },
 "nbformat": 4,
 "nbformat_minor": 0
}
