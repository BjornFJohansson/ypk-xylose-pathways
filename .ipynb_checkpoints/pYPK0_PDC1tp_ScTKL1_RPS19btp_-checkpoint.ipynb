{
 "cells": [
  {
   "cell_type": "code",
   "execution_count": 2,
   "metadata": {
    "collapsed": false
   },
   "outputs": [],
   "source": [
    "\n",
    "\n",
    "from pYPK0 import pYPK0\n",
    "from pYPKa_Z_PDC1tp import pYPKa_Z_PDC1tp as first\n",
    "from pYPKa_E_RPS19btp import pYPKa_E_RPS19btp as last\n",
    "\n",
    "\n",
    "TKL_YPK_rec_fwd, TKL_YPK_rec_rev = parse('''''')\n",
    "from pygenome import sg\n",
    "\n",
    "\n",
    "first  = pcr( p167, p567, first)\n",
    "middle = pcr( TKL_YPK_rec_fwd, TKL_YPK_rec_rev, Dseqrecord(sg.cds(\"TKL1\")))\n",
    "last   = pcr( p568, p166, last)\n",
    "\n",
    "pYPK0_E_Z, stuffer = pYPK0.cut((EcoRV, ZraI))\n",
    "\n",
    "a = Assembly([first, middle, last, pYPK0_E_Z], limit=25)\n",
    "\n",
    "pYPK0_PDC1tp_ScTKL1_RPS19btp = a.circular_products[0].synced(\"tcgcgcgtttcggtgatgacggtgaaaacctctg\")"
   ]
  },
  {
   "cell_type": "code",
   "execution_count": 3,
   "metadata": {
    "collapsed": false
   },
   "outputs": [],
   "source": [
    "pYPK0_PDC1tp_ScTKL1_RPS19btp.write(\"pYPK0_PDC1tp_ScTKL1_RPS19btp.gb\")"
   ]
  },
  {
   "cell_type": "markdown",
   "metadata": {},
   "source": [
    "##Download sequence\n",
    "\n",
    "[pYPK0_PDC1tp_ScTKL1_RPS19btp](pYPK0_PDC1tp_ScTKL1_RPS19btp.gb)"
   ]
  },
  {
   "cell_type": "code",
   "execution_count": null,
   "metadata": {
    "collapsed": false
   },
   "outputs": [],
   "source": []
  }
 ],
 "metadata": {
  "kernelspec": {
   "display_name": "Python 2",
   "language": "python",
   "name": "python2"
  },
  "language_info": {
   "codemirror_mode": {
    "name": "ipython",
    "version": 2
   },
   "file_extension": ".py",
   "mimetype": "text/x-python",
   "name": "python",
   "nbconvert_exporter": "python",
   "pygments_lexer": "ipython2",
   "version": "2.7.9"
  }
 },
 "nbformat": 4,
 "nbformat_minor": 0
}
