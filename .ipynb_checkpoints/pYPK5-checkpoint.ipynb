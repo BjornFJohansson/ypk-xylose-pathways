{
 "cells": [
  {
   "cell_type": "markdown",
   "metadata": {
    "deletable": true,
    "editable": true
   },
   "source": [
    "# pYPK5\n",
    "\n",
    "Cassette MX4 amplififcação:\n",
    "\n",
    " - primers 477 e 531\n",
    " - template pAG32.\n",
    "\n",
    "Cassette 2u amplificação:\n",
    "\n",
    " - primers 534 e 535\n",
    " - template pYPK0\n",
    "\n",
    "pYPK0 digerido com StuI."
   ]
  },
  {
   "cell_type": "code",
   "execution_count": 29,
   "metadata": {
    "collapsed": true,
    "deletable": true,
    "editable": true
   },
   "outputs": [],
   "source": [
    "from pydna.all import *"
   ]
  },
  {
   "cell_type": "code",
   "execution_count": 30,
   "metadata": {
    "collapsed": true,
    "deletable": true,
    "editable": true
   },
   "outputs": [],
   "source": [
    "pYPK0 = read(\"pYPK0.gb\")"
   ]
  },
  {
   "cell_type": "code",
   "execution_count": 31,
   "metadata": {
    "collapsed": false,
    "deletable": true,
    "editable": true
   },
   "outputs": [],
   "source": [
    "githubuser=\"BjornFJohansson\"\n",
    "gistid = \"c5424b7ebbf553c52053\"\n",
    "x=download_text('https://gist.githubusercontent.com/{u}/{gid}/raw'.format(u=githubuser, gid=gistid))\n",
    "pAG32 =read(x)"
   ]
  },
  {
   "cell_type": "code",
   "execution_count": 32,
   "metadata": {
    "collapsed": false,
    "deletable": true,
    "editable": true
   },
   "outputs": [
    {
     "data": {
      "text/plain": [
       "ttCV-qk-4UzU8BkVhaswwqdfGlg"
      ]
     },
     "execution_count": 32,
     "metadata": {},
     "output_type": "execute_result"
    }
   ],
   "source": [
    "pAG32.cseguid()"
   ]
  },
  {
   "cell_type": "markdown",
   "metadata": {
    "deletable": true,
    "editable": true
   },
   "source": [
    "[pAG32 sequence](https://gist.github.com/BjornFJohansson/c5424b7ebbf553c52053)"
   ]
  },
  {
   "cell_type": "code",
   "execution_count": 33,
   "metadata": {
    "collapsed": true,
    "deletable": true,
    "editable": true
   },
   "outputs": [],
   "source": [
    "p477, p531, p535, p534=parse(''' \n",
    ">477_bleMX4r\n",
    "agtggaacgaaaactcacgttaagggattttggtcatgaggagctcgttttcga\n",
    "\n",
    ">531_pSU1_MX4f (67-mer)\n",
    "taattctcatctttgacagcttatcatcgataagtccccgccgggtc\n",
    "\n",
    ">535_pSU0_2u_Fwd (21-mer)\n",
    "taactgtcagaccaagtttac\n",
    "\n",
    ">534_pSU0_2u_rev (27-mer)\n",
    "ttatcgatgataagctgtcaaagatga''')"
   ]
  },
  {
   "cell_type": "code",
   "execution_count": 34,
   "metadata": {
    "collapsed": true,
    "deletable": true,
    "editable": true
   },
   "outputs": [],
   "source": [
    "hygmarker = pcr(p477, p531, pAG32)"
   ]
  },
  {
   "cell_type": "code",
   "execution_count": 35,
   "metadata": {
    "collapsed": true,
    "deletable": true,
    "editable": true
   },
   "outputs": [],
   "source": [
    "two_micron =pcr(p534, p535, pYPK0)"
   ]
  },
  {
   "cell_type": "code",
   "execution_count": 36,
   "metadata": {
    "collapsed": true,
    "deletable": true,
    "editable": true
   },
   "outputs": [],
   "source": [
    "from Bio.Restriction import StuI"
   ]
  },
  {
   "cell_type": "code",
   "execution_count": 37,
   "metadata": {
    "collapsed": true,
    "deletable": true,
    "editable": true
   },
   "outputs": [],
   "source": [
    "vect, stuffer = pYPK0.cut(StuI)"
   ]
  },
  {
   "cell_type": "code",
   "execution_count": 38,
   "metadata": {
    "collapsed": false,
    "deletable": true,
    "editable": true
   },
   "outputs": [],
   "source": [
    "asm=Assembly([hygmarker, two_micron, vect])"
   ]
  },
  {
   "cell_type": "code",
   "execution_count": 39,
   "metadata": {
    "collapsed": false,
    "deletable": true,
    "editable": true
   },
   "outputs": [
    {
     "data": {
      "text/plain": [
       "Assembly:\n",
       "Sequences........................: [1721] [1619] [4982]\n",
       "Sequences with shared homologies.: [1721] [1619] [1619] [1721] [4982] [4982]\n",
       "Homology limit (bp)..............: 25\n",
       "Number of overlaps...............: 9\n",
       "Nodes in graph(incl. 5' & 3')....: 8\n",
       "Only terminal overlaps...........: No\n",
       "Circular products................: [7219] [6299]\n",
       "Linear products..................: [7804] [6784] [6332] [6218] [6016] [5902] [5096] [3307] [2539] [2425] [1505] [485] [33]"
      ]
     },
     "execution_count": 39,
     "metadata": {},
     "output_type": "execute_result"
    }
   ],
   "source": [
    "asm"
   ]
  },
  {
   "cell_type": "code",
   "execution_count": 57,
   "metadata": {
    "collapsed": false,
    "deletable": true,
    "editable": true
   },
   "outputs": [
    {
     "data": {
      "text/plain": [
       "(Contig(o7219), Contig(o6299))"
      ]
     },
     "execution_count": 57,
     "metadata": {},
     "output_type": "execute_result"
    }
   ],
   "source": [
    "x,y = asm.circular_products\n",
    "(x,y)"
   ]
  },
  {
   "cell_type": "markdown",
   "metadata": {
    "deletable": true,
    "editable": true
   },
   "source": [
    "The larger recombination product x 7219 contains the \n",
    "pYPK0 vector two times in a row\n",
    "the product we want is the y sequence 6299bp\n",
    "\n",
    "    x:\n",
    "     -|1619bp_PCR_prod|1505\n",
    "    |                  \\/\n",
    "    |                  /\\\n",
    "    |                  1505|pYPK0|66\n",
    "    |                             \\/\n",
    "    |                             /\\\n",
    "    |                             66|pYPK0|41\n",
    "    |                                      \\/\n",
    "    |                                      /\\\n",
    "    |                                      41|1721bp_PCR_pr_rc|33\n",
    "    |                                                          \\/\n",
    "    |                                                          /\\\n",
    "    |                                                          33-\n",
    "    |                                                             |\n",
    "     -------------------------------------------------------------\n",
    "\n",
    "\n",
    "    y:\n",
    "     -|1619bp_PCR_prod|66\n",
    "    |                  \\/\n",
    "    |                  /\\\n",
    "    |                  66|pYPK0|41\n",
    "    |                           \\/\n",
    "    |                           /\\\n",
    "    |                           41|1721bp_PCR_pr_rc|33\n",
    "    |                                               \\/\n",
    "    |                                               /\\\n",
    "    |                                               33-\n",
    "    |                                                  |\n",
    "     --------------------------------------------------"
   ]
  },
  {
   "cell_type": "code",
   "execution_count": 43,
   "metadata": {
    "collapsed": false,
    "deletable": true,
    "editable": true
   },
   "outputs": [
    {
     "data": {
      "text/plain": [
       " -|1619bp_PCR_prod|66\n",
       "|                  \\/\n",
       "|                  /\\\n",
       "|                  66|pYKP0|41\n",
       "|                           \\/\n",
       "|                           /\\\n",
       "|                           41|1721bp_PCR_pr_rc|33\n",
       "|                                               \\/\n",
       "|                                               /\\\n",
       "|                                               33-\n",
       "|                                                  |\n",
       " --------------------------------------------------"
      ]
     },
     "execution_count": 43,
     "metadata": {},
     "output_type": "execute_result"
    }
   ],
   "source": [
    "y.figure()"
   ]
  },
  {
   "cell_type": "code",
   "execution_count": 44,
   "metadata": {
    "collapsed": true,
    "deletable": true,
    "editable": true
   },
   "outputs": [],
   "source": [
    "pYPK5 = y.synced(pYPK0)"
   ]
  },
  {
   "cell_type": "code",
   "execution_count": 45,
   "metadata": {
    "collapsed": false,
    "deletable": true,
    "editable": true
   },
   "outputs": [
    {
     "data": {
      "text/plain": [
       "bYXaKaxDTMFN5_B-QWoDqATVAb0"
      ]
     },
     "execution_count": 45,
     "metadata": {},
     "output_type": "execute_result"
    }
   ],
   "source": [
    "pYPK5.cseguid()"
   ]
  },
  {
   "cell_type": "code",
   "execution_count": 46,
   "metadata": {
    "collapsed": false,
    "deletable": true,
    "editable": true
   },
   "outputs": [
    {
     "data": {
      "text/plain": [
       "cSEGUID_bYXaKaxDTMFN5_B-QWoDqATVAb0"
      ]
     },
     "execution_count": 46,
     "metadata": {},
     "output_type": "execute_result"
    }
   ],
   "source": [
    "pYPK5.locus = \"pYPK5\"\n",
    "pYPK5.stamp()"
   ]
  },
  {
   "cell_type": "code",
   "execution_count": 47,
   "metadata": {
    "collapsed": false,
    "deletable": true,
    "editable": true
   },
   "outputs": [
    {
     "data": {
      "text/html": [
       "<font face=monospace><a href='pYPK5.gb' target='_blank'>pYPK5.gb</a></font><br>"
      ]
     },
     "metadata": {},
     "output_type": "display_data"
    }
   ],
   "source": [
    "pYPK5.write(\"pYPK5.gb\")"
   ]
  },
  {
   "cell_type": "markdown",
   "metadata": {
    "deletable": true,
    "editable": true
   },
   "source": [
    "[DOWNLOAD](pYPK5.gb)"
   ]
  },
  {
   "cell_type": "code",
   "execution_count": 48,
   "metadata": {
    "collapsed": false,
    "deletable": true,
    "editable": true
   },
   "outputs": [
    {
     "data": {
      "text/plain": [
       "cSEGUID_bYXaKaxDTMFN5_B-QWoDqATVAb0"
      ]
     },
     "execution_count": 48,
     "metadata": {},
     "output_type": "execute_result"
    }
   ],
   "source": [
    "from pydna.all import *\n",
    "r =read(\"pYPK5.gb\")\n",
    "r.verify_stamp()"
   ]
  }
 ],
 "metadata": {
  "kernelspec": {
   "display_name": "Python 3",
   "language": "python",
   "name": "python3"
  },
  "language_info": {
   "codemirror_mode": {
    "name": "ipython",
    "version": 3
   },
   "file_extension": ".py",
   "mimetype": "text/x-python",
   "name": "python",
   "nbconvert_exporter": "python",
   "pygments_lexer": "ipython3",
   "version": "3.5.2"
  }
 },
 "nbformat": 4,
 "nbformat_minor": 0
}
