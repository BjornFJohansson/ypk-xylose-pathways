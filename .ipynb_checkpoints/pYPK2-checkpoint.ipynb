{
 "cells": [
  {
   "cell_type": "markdown",
   "metadata": {},
   "source": [
    "#pYPK2\n",
    "\n",
    "pYPK2 is a version of [pYPK1](pYPK1.ipynb) that has a CEN6/ARS yeast ori\n",
    "and a KanMX4 marker instead of the bleomycin marker."
   ]
  },
  {
   "cell_type": "code",
   "execution_count": 15,
   "metadata": {
    "collapsed": true
   },
   "outputs": [],
   "source": [
    "import pydna\n",
    "pYPK1 = pydna.read(\"pYPK1.gb\")\n",
    "gb = pydna.Genbank(\"bjornjobb@gmail.com\")"
   ]
  },
  {
   "cell_type": "code",
   "execution_count": 8,
   "metadata": {
    "collapsed": false
   },
   "outputs": [],
   "source": [
    "pFA6a_KanMX4 = gb.nucleotide(\"AJ002680.1\")"
   ]
  },
  {
   "cell_type": "code",
   "execution_count": 11,
   "metadata": {
    "collapsed": true
   },
   "outputs": [],
   "source": [
    "p478, p666 = pydna.parse('''\n",
    ">478_bleMX4f\n",
    "aatttaaattataattatttttatagcacgtgatgaaaaggtccccgccgggtc\n",
    "\n",
    ">666_pYPK0_hygrev (70-mer)\n",
    "catctttgacagcttatcatcgataagctCGACTCACTATAGGGAGACC''', ds=False)"
   ]
  },
  {
   "cell_type": "code",
   "execution_count": 12,
   "metadata": {
    "collapsed": true
   },
   "outputs": [],
   "source": [
    "kanmarker = pydna.pcr( p478, p666, pFA6a_KanMX4)"
   ]
  },
  {
   "cell_type": "code",
   "execution_count": 13,
   "metadata": {
    "collapsed": false
   },
   "outputs": [],
   "source": [
    "from Bio.Restriction import PvuII\n",
    "\n",
    "vect = pYPK1.linearize(PvuII)\n",
    "\n",
    "a=pydna.Assembly([kanmarker, vect])\n",
    "\n",
    "pYPK2 = a.circular_products[0]\n",
    "\n",
    "pYPK2 = pYPK2.synced(pYPK1)\n",
    "\n",
    "pYPK2.stamp()\n",
    "\n",
    "pYPK2.locus = \"pYPK2\"\n",
    "\n",
    "pYPK2.write(\"pYPK2.gb\")"
   ]
  },
  {
   "cell_type": "markdown",
   "metadata": {},
   "source": [
    "###[DOWNLOAD](pYPK2.gb)"
   ]
  },
  {
   "cell_type": "code",
   "execution_count": 14,
   "metadata": {
    "collapsed": false
   },
   "outputs": [
    {
     "data": {
      "text/plain": [
       "cSEGUID_X9gHbzMYILV9E2vkmRsDRdsVlJY"
      ]
     },
     "execution_count": 14,
     "metadata": {},
     "output_type": "execute_result"
    }
   ],
   "source": [
    "import pydna\n",
    "reloaded=pydna.read(\"pYPK2.gb\")\n",
    "reloaded.verify_stamp()"
   ]
  },
  {
   "cell_type": "code",
   "execution_count": null,
   "metadata": {
    "collapsed": true
   },
   "outputs": [],
   "source": []
  }
 ],
 "metadata": {
  "kernelspec": {
   "display_name": "Python 2",
   "language": "python",
   "name": "python2"
  },
  "language_info": {
   "codemirror_mode": {
    "name": "ipython",
    "version": 2
   },
   "file_extension": ".py",
   "mimetype": "text/x-python",
   "name": "python",
   "nbconvert_exporter": "python",
   "pygments_lexer": "ipython2",
   "version": "2.7.9"
  }
 },
 "nbformat": 4,
 "nbformat_minor": 0
}
