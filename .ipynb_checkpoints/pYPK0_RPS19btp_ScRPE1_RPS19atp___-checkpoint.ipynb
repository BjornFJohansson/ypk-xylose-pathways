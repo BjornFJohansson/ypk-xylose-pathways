{
 "cells": [
  {
   "cell_type": "code",
   "execution_count": 5,
   "metadata": {
    "collapsed": false
   },
   "outputs": [],
   "source": [
    "\n",
    "from pYPKa_Z_RPS19btp import pYPKa_Z_RPS19btp as first\n",
    "from pYPKa_A_ScRPE1 import pYPKa_A_ScRPE1 as middle\n",
    "from pYPKa_E_RPS19atp import pYPKa_E_RPS19atp as last\n",
    "\n",
    "\n",
    "\n",
    "first  = pcr( p167, p567, first)\n",
    "middle = pcr( p468, p467, middle)\n",
    "last   = pcr( p568, p166, last)\n",
    "\n",
    "pYPK0_E_Z, stuffer = pYPK0.cut((EcoRV, ZraI))\n",
    "\n",
    "a = Assembly([first, middle, last, pYPK0_E_Z], limit=31)\n",
    "\n",
    "pYPK0_RPS19btp_ScRPE1_RPS19atp = a.circular_products[0].synced(\"tcgcgcgtttcggtgatgacggtgaaaacctctg\")"
   ]
  }
 ],
 "metadata": {
  "kernelspec": {
   "display_name": "Python 2",
   "language": "python",
   "name": "python2"
  },
  "language_info": {
   "codemirror_mode": {
    "name": "ipython",
    "version": 2
   },
   "file_extension": ".py",
   "mimetype": "text/x-python",
   "name": "python",
   "nbconvert_exporter": "python",
   "pygments_lexer": "ipython2",
   "version": "2.7.9"
  }
 },
 "nbformat": 4,
 "nbformat_minor": 0
}
