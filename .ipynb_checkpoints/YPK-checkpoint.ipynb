{
 "cells": [
  {
   "cell_type": "markdown",
   "metadata": {},
   "source": [
    "# Constructs from the YPK paper"
   ]
  },
  {
   "cell_type": "markdown",
   "metadata": {},
   "source": [
    "| construct                                | link                       |\n",
    "|------------------------------------------|----------------------------|\n",
    "| pCAPs with a unique AjiI site            | [pYPKa](pYPKa.ipynb)       |\n",
    "| pSU0 lacking a unique EcoRV site         | [pMEC1030](pMEC1030.ipynb) |\n",
    "| Yeast version of pCAPs                   | [pYPK0](pYPK0.ipynb)       |\n",
    "| XR(N272D)-XDH-XK-TAL1                    | [pMEC1135](pMEC1135.ipynb) |\n",
    "| XR(wt)-XDH-XK-TAL1                       | [pMEC1136](pMEC1136.ipynb) |\n",
    "| TKL1-RPE1-RKI1-GXF1                      | [pMEC1137](pMEC1137.ipynb) |\n",
    "| XR(N272D)-XDH-XK-TAL1-TKL1-RPE1-RKI1-GXF1| [pMEC1138](pMEC1138.ipynb) |\n",
    "| XR(wt)-XDH-XK-TAL1-TKL1-RPE1-RKI1-GXF1   | [pMEC1139](pMEC1139.ipynb) |"
   ]
  },
  {
   "cell_type": "markdown",
   "metadata": {},
   "source": [
    "| construct                        | link                                                                       |\n",
    "|----------------------------------|----------------------------------------------------------------------------|\n",
    "|Xylose reductase (N272D) cassette |[pYPK0_TEF1tp_PsXYL1_N272D_TDH3tp](pYPK0_TEF1tp_PsXYL1_N272D_TDH3tp.ipynb)  |\n",
    "|Xylose reductase (wt)    cassette |[pYPK0_TEF1tp_PsXYL1_TDH3tp](pYPK0_TEF1tp_PsXYL1_TDH3tp.ipynb)              |\n",
    "|Xylitol dehydrogenase cassette    |[pYPK0_TDH3tp_PsXYL2_PGI1tp](pYPK0_TDH3tp_PsXYL2_PGI1tp.ipynb)              |\n",
    "|Xylulose kinase cassette          |[pYPK0_PGI1tp_ScXKS1_FBA1tp](pYPK0_PGI1tp_ScXKS1_FBA1tp.ipynb)              |\n",
    "|Transaldolase cassette            |[pYPK0_FBA1tp_ScTAL1_PDC1tp](pYPK0_FBA1tp_ScTAL1_PDC1tp.ipynb)              |\n",
    "|Transketolase cassette            |[pYPK0_PDC1tp_ScTKL1_RPS19btp](pYPK0_PDC1tp_ScTKL1_RPS19btp.ipynb)          |\n",
    "|ribulose-phosphate 3-epimerase cassette|[pYPK0_RPS19btp_ScRPE1_RPS19atp](pYPK0_RPS19btp_ScRPE1_RPS19atp.ipynb) |\n",
    "|ribose-5-phosphate isomerase|[pYPK0_RPS19atp_ScRKI1_TPI1tp](pYPK0_RPS19atp_ScRKI1_TPI1tp.ipynb)                |\n",
    "|C. intermedia GXF1 xylose transporter |[pYPK0_TPI1tp_CiGXF1_ENO2tp](pYPK0_TPI1tp_CiGXF1_ENO2tp.ipynb)          |\n",
    "|C. intermedia GXF1 xylose transporter |[pYPK0_PGI1tp_CiGXF1_TDH3tp](pYPK0_PGI1tp_CiGXF1_TDH3tp.ipynb)          |"
   ]
  },
  {
   "cell_type": "code",
   "execution_count": null,
   "metadata": {
    "collapsed": false
   },
   "outputs": [],
   "source": []
  }
 ],
 "metadata": {
  "kernelspec": {
   "display_name": "Python 2",
   "language": "python",
   "name": "python2"
  },
  "language_info": {
   "codemirror_mode": {
    "name": "ipython",
    "version": 2
   },
   "file_extension": ".py",
   "mimetype": "text/x-python",
   "name": "python",
   "nbconvert_exporter": "python",
   "pygments_lexer": "ipython2",
   "version": "2.7.9"
  }
 },
 "nbformat": 4,
 "nbformat_minor": 0
}
