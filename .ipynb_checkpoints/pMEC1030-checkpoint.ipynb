{
 "cells": [
  {
   "cell_type": "markdown",
   "metadata": {},
   "source": [
    "# Construction of the pMEC1030 vector\n",
    "\n",
    "The pMEC1030 is a version of the pSU0 vector where the single EcoRV site has been removed by site directed mutagenesis. The pSU0 plasmid was described in by [Iizasa Nagano 2006](http://www.biotechniques.com/BiotechniquesJournal/2006/January/Highly-efficient-yeast-based-in-vivo-DNA-cloning-of-multiple-DNA-fragments-and-the-simultaneous-construction-of-yeast-Escherichia-coli-shuttle-vectors/biotechniques-45641.html). The abstract is available from [Pubmed](http://www.ncbi.nlm.nih.gov/pubmed/16454044). The pSU0 sequence is available from [Genbank](http://www.ncbi.nlm.nih.gov/nuccore/84570488)."
   ]
  },
  {
   "cell_type": "code",
   "execution_count": 1,
   "metadata": {
    "collapsed": false
   },
   "outputs": [
    {
     "data": {
      "text/html": [
       "<iframe src=http://www.ncbi.nlm.nih.gov/pubmed?LinkName=nuccore_pubmed&from_uid=84570488 width=100% height=250></iframe>"
      ],
      "text/plain": [
       "<IPython.core.display.HTML object>"
      ]
     },
     "execution_count": 1,
     "metadata": {},
     "output_type": "execute_result"
    }
   ],
   "source": [
    "from IPython.display import HTML\n",
    "HTML('<iframe src=http://www.ncbi.nlm.nih.gov/pubmed?LinkName=nuccore_pubmed&from_uid=84570488 width=100% height=250></iframe>')"
   ]
  },
  {
   "cell_type": "code",
   "execution_count": 2,
   "metadata": {
    "collapsed": false
   },
   "outputs": [],
   "source": [
    "import pydna"
   ]
  },
  {
   "cell_type": "markdown",
   "metadata": {},
   "source": [
    "The insert comes from a Genbank [record](http://www.ncbi.nlm.nih.gov/nuccore/84570488).\n",
    "Access to Genbank is needed in order to download the template.\n",
    "If you execute this script, change the email address below to your own.\n",
    "Always tell Genbank who you are, when using the service."
   ]
  },
  {
   "cell_type": "code",
   "execution_count": 3,
   "metadata": {
    "collapsed": false
   },
   "outputs": [],
   "source": [
    "gb = pydna.Genbank(\"bjornjobbb@gmail.com\")"
   ]
  },
  {
   "cell_type": "code",
   "execution_count": 4,
   "metadata": {
    "collapsed": false
   },
   "outputs": [],
   "source": [
    "pSU0 = gb.nucleotide(\"AB215109.1\")"
   ]
  },
  {
   "cell_type": "markdown",
   "metadata": {},
   "source": [
    "The first feature is removed for practical reasons since it covers the whole sequence."
   ]
  },
  {
   "cell_type": "code",
   "execution_count": 5,
   "metadata": {
    "collapsed": false
   },
   "outputs": [],
   "source": [
    "pSU0.features = pSU0.features[1:]"
   ]
  },
  {
   "cell_type": "markdown",
   "metadata": {},
   "source": [
    "pSU0 is a circular DNA molecule with 4398 bp. The cseguid checksum should be ```fzXVMVR4-lIsvU_eXXMG10U18s4```."
   ]
  },
  {
   "cell_type": "code",
   "execution_count": 6,
   "metadata": {
    "collapsed": false
   },
   "outputs": [
    {
     "data": {
      "text/plain": [
       "fzXVMVR4-lIsvU_eXXMG10U18s4"
      ]
     },
     "execution_count": 6,
     "metadata": {},
     "output_type": "execute_result"
    }
   ],
   "source": [
    "pSU0.cseguid()"
   ]
  },
  {
   "cell_type": "code",
   "execution_count": 7,
   "metadata": {
    "collapsed": false
   },
   "outputs": [
    {
     "data": {
      "text/plain": [
       "Dseqrecord(o4398)"
      ]
     },
     "execution_count": 7,
     "metadata": {},
     "output_type": "execute_result"
    }
   ],
   "source": [
    "pSU0"
   ]
  },
  {
   "cell_type": "code",
   "execution_count": 8,
   "metadata": {
    "collapsed": false
   },
   "outputs": [],
   "source": [
    "from Bio.Restriction import EcoRV"
   ]
  },
  {
   "cell_type": "markdown",
   "metadata": {},
   "source": [
    "The pSU0 has one EcoRV site which we would like to remove, since the Yeast Pathway Kit relies on unique [EcoRV](http://rebase.neb.com/rebase/enz/EcoRV.html), [AjiI](http://rebase.neb.com/rebase/enz/AjiI.html) and [ZraI](http://rebase.neb.com/rebase/enz/ZraI.html) sites. One linear fragment is formed when digested by EcoRV:"
   ]
  },
  {
   "cell_type": "code",
   "execution_count": 9,
   "metadata": {
    "collapsed": false
   },
   "outputs": [
    {
     "data": {
      "text/plain": [
       "[Dseqrecord(-4398)]"
      ]
     },
     "execution_count": 9,
     "metadata": {},
     "output_type": "execute_result"
    }
   ],
   "source": [
    "pSU0.cut(EcoRV)"
   ]
  },
  {
   "cell_type": "markdown",
   "metadata": {},
   "source": [
    "Two primers were designed for the specific removal of EcoRV through PCR amplification and susequent yeast transformation of the linear PCR product. The PCR product has two 50 bp intramolecular repeats at both ends of the molcule which are repaired into a circular molecule with the same size as the original vector.  "
   ]
  },
  {
   "cell_type": "code",
   "execution_count": 10,
   "metadata": {
    "collapsed": false
   },
   "outputs": [],
   "source": [
    "primers = pydna.parse('''\n",
    ">470_pSU0f-dEcoRV (50-mer)\n",
    "gtttactaaaaacacatgtggatattttgactgatttttccatggagggc\n",
    "\n",
    ">469_pSU0r-dEcoRV (50-mer)\n",
    "gccctccatggaaaaatcagtcaaaatatccacatgtgtttttagtaaac''', ds=False)"
   ]
  },
  {
   "cell_type": "code",
   "execution_count": 11,
   "metadata": {
    "collapsed": false
   },
   "outputs": [],
   "source": [
    "pSU0_EcoRV = pydna.pcr(primers, pSU0)"
   ]
  },
  {
   "cell_type": "markdown",
   "metadata": {},
   "source": [
    "The figure below show the location of the primers on the circular template."
   ]
  },
  {
   "cell_type": "code",
   "execution_count": 12,
   "metadata": {
    "collapsed": false
   },
   "outputs": [
    {
     "data": {
      "text/plain": [
       "                          5TTGACTGATTTTTCCATGGAGGGC...GTTTACTAAAAACACATGTGGATAT3\n",
       "                                                      ||||||||||||||||||||||||| tm 48.3 (dbd) 58.2\n",
       "                                                     3caaatgatttttgtgtacacctataaaactgactaaaaaggtacctcccg5\n",
       "5gtttactaaaaacacatgtggatattttgactgatttttccatggagggc3\n",
       "                           |||||||||||||||||||||||| tm 55.6 (dbd) 71.8\n",
       "                          3AACTGACTAAAAAGGTACCTCCCG...CAAATGATTTTTGTGTACACCTATA5"
      ]
     },
     "execution_count": 12,
     "metadata": {},
     "output_type": "execute_result"
    }
   ],
   "source": [
    "pSU0_EcoRV.figure()"
   ]
  },
  {
   "cell_type": "markdown",
   "metadata": {},
   "source": [
    "The DNA is processed in vivo to produce 5' cohesive ends."
   ]
  },
  {
   "cell_type": "code",
   "execution_count": 13,
   "metadata": {
    "collapsed": false
   },
   "outputs": [],
   "source": [
    "pSU0_EcoRV_proc = pydna.Dseqrecord(pydna.Dseq(pSU0_EcoRV.seq.watson[50:], pSU0_EcoRV.seq.crick[50:]))"
   ]
  },
  {
   "cell_type": "markdown",
   "metadata": {},
   "source": [
    "The figure below shows the cohesive ends."
   ]
  },
  {
   "cell_type": "code",
   "execution_count": 14,
   "metadata": {
    "collapsed": false
   },
   "outputs": [
    {
     "data": {
      "text/plain": [
       "Dseq(-4448)\n",
       "          ACAG..ATTTGTTT..gggc\n",
       "caaa..CCCGTGTC..TAAA          "
      ]
     },
     "execution_count": 14,
     "metadata": {},
     "output_type": "execute_result"
    }
   ],
   "source": [
    "pSU0_EcoRV_proc.seq"
   ]
  },
  {
   "cell_type": "markdown",
   "metadata": {},
   "source": [
    "The plasmid is cirularized _in-vivo_ after transformation to yeast."
   ]
  },
  {
   "cell_type": "code",
   "execution_count": 15,
   "metadata": {
    "collapsed": false
   },
   "outputs": [],
   "source": [
    "pMEC1030 = pSU0_EcoRV_proc.looped().synced(\"ggatccatcggaattcatattgaaaaagga\")"
   ]
  },
  {
   "cell_type": "markdown",
   "metadata": {},
   "source": [
    "The pMEC1030 has no EcoRV site as expected."
   ]
  },
  {
   "cell_type": "code",
   "execution_count": 16,
   "metadata": {
    "collapsed": false
   },
   "outputs": [
    {
     "data": {
      "text/plain": [
       "[]"
      ]
     },
     "execution_count": 16,
     "metadata": {},
     "output_type": "execute_result"
    }
   ],
   "source": [
    "pMEC1030.cut(EcoRV)"
   ]
  },
  {
   "cell_type": "code",
   "execution_count": 17,
   "metadata": {
    "collapsed": false
   },
   "outputs": [],
   "source": [
    "pMEC1030.add_feature(2741,3545, label= \"URA3\")"
   ]
  },
  {
   "cell_type": "code",
   "execution_count": 18,
   "metadata": {
    "collapsed": false
   },
   "outputs": [
    {
     "data": {
      "text/plain": [
       "cSEGUID_bg67Zek8TFW0rvcIs6-d4X6cV_w_2015-05-08T17:08:15.100406"
      ]
     },
     "execution_count": 18,
     "metadata": {},
     "output_type": "execute_result"
    }
   ],
   "source": [
    "pMEC1030.stamp()"
   ]
  },
  {
   "cell_type": "code",
   "execution_count": 19,
   "metadata": {
    "collapsed": true
   },
   "outputs": [],
   "source": [
    "pMEC1030.add_feature(3625,4307, label = \"ColE1 origin\", type=\"rep_origin\")\n",
    "pMEC1030.add_feature(234, 893, label = \"AmpR\", type=\"CDS\")"
   ]
  },
  {
   "cell_type": "code",
   "execution_count": 24,
   "metadata": {
    "collapsed": true
   },
   "outputs": [],
   "source": [
    "pMEC1030.name = \"pMEC1030\""
   ]
  },
  {
   "cell_type": "code",
   "execution_count": 25,
   "metadata": {
    "collapsed": false
   },
   "outputs": [],
   "source": [
    "pMEC1030.write(\"pMEC1030.gb\")"
   ]
  },
  {
   "cell_type": "code",
   "execution_count": 26,
   "metadata": {
    "collapsed": true
   },
   "outputs": [],
   "source": [
    "reloaded = pydna.read(\"pMEC1030.gb\")"
   ]
  },
  {
   "cell_type": "code",
   "execution_count": 28,
   "metadata": {
    "collapsed": false
   },
   "outputs": [
    {
     "data": {
      "text/plain": [
       "LOCUS       pMEC1030                4398 bp    DNA     circular UNK 08-MAY-2015\n",
       "DEFINITION  <unknown description>\n",
       "            cSEGUID_bg67Zek8TFW0rvcIs6-d4X6cV_w_2015-05-08T17:08:15.100406\n",
       "ACCESSION   <unknown id>\n",
       "VERSION     <unknown id>\n",
       "KEYWORDS    .\n",
       "SOURCE      \n",
       "  ORGANISM  . .\n",
       "            .\n",
       "FEATURES             Location/Qualifiers\n",
       "     misc            2742..3545\n",
       "                     /label=\"URA3\"\n",
       "     rep_origin      3626..4307\n",
       "                     /label=\"ColE1 origin\"\n",
       "     CDS             235..893\n",
       "                     /label=\"AmpR\"\n",
       "ORIGIN\n",
       "        1 ggatccatcg gaattcatat tgaaaaagga agagtatgag tattcaacat ttccgtgtcg\n",
       "       61 cccttattcc cttttttgcg gcattttgcc ttcctgtttt tgctcaccca gaaacgctgg\n",
       "      121 tgaaagtaaa agatgctgaa gatcagttgg gtgcacgagt gggttacatc gaactggatc\n",
       "      181 tcaacagcgg taagatcctt gagagttttc gccccgaaga acgttttcca atgatgagca\n",
       "      241 cttttaaagt tctgctatgt gatacactat tatcccgtat tgacgccggg caagagcaac\n",
       "      301 tcggtcgccg catacactat tctcagaatg acttggttga gtactcacca gtcacagaaa\n",
       "      361 agcatcttac ggatggcatg acagtaagag aattatgcag tgctgccata accatgagtg\n",
       "      421 ataacactgc ggccaactta cttctgacaa cgatcggagg accgaaggag ctaaccgctt\n",
       "      481 ttttgcacaa catgggggat catgtaactc gccttgatcg ttgggaaccg gagctgaatg\n",
       "      541 aagccatacc aaacgacgag agtgacacca cgatgcctgt agcaatgcca acaacgttgc\n",
       "      601 gcaaactatt aactggcgaa ctacttactc tagcttcccg gcaacaatta atagactgga\n",
       "      661 tggaggcgga taaagttgca ggaccacttc tgcgctcggc ccttccggct ggctggttta\n",
       "      721 ttgctgataa atctggagcc ggtgagcgtg ggtctcgcgg tatcattgca gcactggggc\n",
       "      781 cagatggtaa gcgctcccgt atcgtagtta tctacacgac ggggagtcag gcaactatgg\n",
       "      841 atgaacgaaa tagacagatc gctgagatag gtgcctcact gattaagcat tggtaactgt\n",
       "      901 cagaccaagt ttactcatat atactttaga ttgatttaaa acttcatttt taatttaaaa\n",
       "      961 ggatctaggt gaagatcctt tttgataata atcttcctgt ttttggggct tttctgatta\n",
       "     1021 tcaaccgggg tggagcttcc cattgcgaat accgcttcca caaacattgc tcaaaagtat\n",
       "     1081 ctctttgcta tatatctctg tgctatatcc ctatataacc tacccatcca cctttcgctc\n",
       "     1141 cttgaacttg catctaaact cgacctctac attttttatg tttatctcta gtattactct\n",
       "     1201 ttagacaaaa aaattgtagt aagaactatt catagagtga atcgaaaaca atacgaaaat\n",
       "     1261 gtaaacattt cctatacgta gtatatagag acaaaataga agaaaccgtt cataattttc\n",
       "     1321 tgaccaatga agaatcatca acgctatcac tttctgttca caaagtatgc gcaatccaca\n",
       "     1381 tcggtataga atataatcgg ggatgccttt atcttgaaaa aatgcacccg cagcttcgct\n",
       "     1441 agtaatcagt aaacgcggga agtggagtca ggcttttttt atggaagaga aaatagacac\n",
       "     1501 caaagtagcc ttcttctaac cttaacggac ctacagtgca aaaagttatc aagagactgc\n",
       "     1561 attatagagc gcacaaagga gaaaaaaagt aatctaagat gctttgttag aaaaatagcg\n",
       "     1621 ctctcgggat gcatttttgt agaacaaaaa agaagtatag attctttgtt ggtaaaatag\n",
       "     1681 cgctctcgcg ttgcatttct gttctgtaaa aatgcagctc agattctttg tttgaaaaat\n",
       "     1741 tagcgctctc gtcgcgttgc atttttgttt tacaaaaatg aagcacagat tcttcgttgg\n",
       "     1801 taaaatagcg ctttcgcgtt gcatttctgt tctgtaaaaa tgcagctcag attctttgtt\n",
       "     1861 tgaaaaatta gcgctctcgc gttgcatttt tgttctacaa aatgaagcac agatgcttcg\n",
       "     1921 ttaacaaaga tatgctattg aagtgcaaga tggaaacgca gaaaatgaac cggggatgcg\n",
       "     1981 acgtgcaaga ttacctatgc aatagatgca atagtttctc caggaaccga aatacataca\n",
       "     2041 ttgtcttccg taaagcgcta gactatatat tattatacag gttcaaatat actatctgtt\n",
       "     2101 tcagggaaaa ctcccaggtt cggatgttca aaattcaatg atgggtaaca agtacgatcg\n",
       "     2161 taaatctgta aaacagtttg tcggatatta ggctgtatct cctcaaagcg tattcgaata\n",
       "     2221 tcattgagaa gctgcagcgt cacatcggat aataatgatg gcagccattg tagaagtgcc\n",
       "     2281 ttttgcattt ctagtctctt tctcggtcta gctagtttta ctacatcgcg aagatagaat\n",
       "     2341 cttagatcac actgcctttg ctgagctgga tcaatagagt aacaaaagag tggtaaggcc\n",
       "     2401 tcgttaaagg acaaggacct gagcggaagt gtatcgtaca gtagacggag tatctagtat\n",
       "     2461 agtctatagt ccgtggaatt aattctcatc tttgacagct tatcatcgat aagctagctt\n",
       "     2521 ttcaattcaa ttcatcattt tttttttatt cttttttttg atttcggttt ctttgaaatt\n",
       "     2581 tttttgattc ggtaatctcc gaacagaagg aagaacgaag gaaggagcac agacttagat\n",
       "     2641 tggtatatat acgcatatgt agtgttgaag aaacatgaaa ttgcccagta ttcttaaccc\n",
       "     2701 aactgcacag aacaaaaacc tgcaggaaac gaagataaat catgtcgaaa gctacatata\n",
       "     2761 aggaacgtgc tgctactcat cctagtcctg ttgctgccaa gctatttaat atcatgcacg\n",
       "     2821 aaaagcaaac aaacttgtgt gcttcattgg atgttcgtac caccaaggaa ttactggagt\n",
       "     2881 tagttgaagc attaggtccc aaaatttgtt tactaaaaac acatgtggat attttgactg\n",
       "     2941 atttttccat ggagggcaca gttaagccgc taaaggcatt atccgccaag tacaattttt\n",
       "     3001 tactcttcga agacagaaaa tttgctgaca ttggtaatac agtcaaattg cagtactctg\n",
       "     3061 cgggtgtata cagaatagca gaatgggcag acattacgaa tgcacacggt gtggtgggcc\n",
       "     3121 caggtattgt tagcggtttg aagcaggcgg cagaagaagt aacaaaggaa cctagaggcc\n",
       "     3181 ttttgatgtt agcagaattg tcatgcaagg gctccctatc tactggagaa tatactaagg\n",
       "     3241 gtactgttga cattgcgaag agcgacaaag attttgttat cggctttatt gctcaaagag\n",
       "     3301 acatgggtgg aagagatgaa ggttacgatt ggttgattat gacacccggt gtgggtttag\n",
       "     3361 atgacaaggg agacgcattg ggtcaacagt atagaaccgt ggatgatgtg gtctctacag\n",
       "     3421 gatctgacat tattattgtt ggaagaggac tatttgcaaa gggaagggat gctaaggtag\n",
       "     3481 agggtgaacg ttacagaaaa gcaggctggg aagcatattt gagaagatgc ggccagcaaa\n",
       "     3541 actaaaaaac tgtattataa gtaaatgcat gtatactaaa ctcacaaatt agagcttcaa\n",
       "     3601 tttaattata tcagttatta cccctcatga ccaaaatccc ttaacgtgag ttttcgttcc\n",
       "     3661 actgagcgtc agaccccgta gaaaagatca aaggatcttc ttgagatcct ttttttctgc\n",
       "     3721 gcgtaatctg ctgcttgcaa acaaaaaaac caccgctacc agcggtggtt tgtttgccgg\n",
       "     3781 atcaagagct accaactctt tttccgaagg taactggctt cagcagagcg cagataccaa\n",
       "     3841 atactgtcct tctagtgtag ccgtagttag gccaccactt caagaactct gtagcaccgc\n",
       "     3901 ctacatacct cgctctgcta atcctgttac cagtggctgc tgccagtggc gataagtcgt\n",
       "     3961 gtcttaccgg gttggactca agacgatagt taccggataa ggcgcagcgg tcgggctgaa\n",
       "     4021 cggggggttc gtgcacacag cccagcttgg agcgaacgac ctacaccgaa ctgagatacc\n",
       "     4081 tacagcgtga gctatgagaa agcgccacgc ttcccgaagg gagaaaggcg gacaggtatc\n",
       "     4141 cggtaagcgg cagggtcgga acaggagagc gcacgaggga gcttccaggg ggaaacgcct\n",
       "     4201 ggtatcttta tagtcctgtc gggtttcgcc acctctgact tgagcgtcga tttttgtgat\n",
       "     4261 gctcgtcagg ggggcggagc ctatggaaaa acgccagcaa cgcggccttt ttacggttcc\n",
       "     4321 tgggcttttg ctggcctttt gctcacatgt tctttcctgc gttatcccct gattctgtgg\n",
       "     4381 ataaccgtat taccgccg\n",
       "//"
      ]
     },
     "execution_count": 28,
     "metadata": {},
     "output_type": "execute_result"
    }
   ],
   "source": [
    "reloaded.format(\"gb\")"
   ]
  }
 ],
 "metadata": {
  "kernelspec": {
   "display_name": "Python 2",
   "language": "python",
   "name": "python2"
  },
  "language_info": {
   "codemirror_mode": {
    "name": "ipython",
    "version": 2
   },
   "file_extension": ".py",
   "mimetype": "text/x-python",
   "name": "python",
   "nbconvert_exporter": "python",
   "pygments_lexer": "ipython2",
   "version": "2.7.9"
  }
 },
 "nbformat": 4,
 "nbformat_minor": 0
}
