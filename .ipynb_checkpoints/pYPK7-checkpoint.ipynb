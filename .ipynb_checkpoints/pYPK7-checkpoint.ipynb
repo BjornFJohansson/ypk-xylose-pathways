{
 "cells": [
  {
   "cell_type": "markdown",
   "metadata": {},
   "source": [
    "#!/usr/bin/env python\n",
    "# -*- coding: utf-8 -*-"
   ]
  },
  {
   "cell_type": "markdown",
   "metadata": {},
   "source": [
    "import pydna\n",
    "\n",
    "pYPK0 = ppydna.read(\"pYPK0.gb\")\n",
    "\n",
    "pUG6 = gb.nuclotide(\"\")\n",
    "\n",
    "p678, p666 = pydna.parse('''\n",
    ">678_pYPK0_hygfwd: (77-mer)\n",
    "ctcacgttaagggattttggtcatgagCACATACGATTTAGGTGACACTATAGAAC\n",
    "\n",
    ">666_pYPK0_hygrev (70-mer)\n",
    "catctttgacagcttatcatcgataagctCGACTCACTATAGGGAGACC''', ds=False)\n",
    "\n",
    "kanmarker = pydna.pcr( p678, p666, pUG6)"
   ]
  },
  {
   "cell_type": "markdown",
   "metadata": {},
   "source": [
    "from Bio.Restriction import SbfI\n",
    "\n",
    "vect = pYPK0.cut(SbfI)[0]\n",
    "\n",
    "a=Assembly([kanmarker, vect])\n",
    "\n",
    "pYPK7 = a.circular_products[0]\n",
    "\n",
    "pYPK7=pYPK7.synced(\"tcgcgcgtttcggtgatgacggtgaaaacctctg\")"
   ]
  }
 ],
 "metadata": {
  "kernelspec": {
   "display_name": "Python 2",
   "language": "python",
   "name": "python2"
  },
  "language_info": {
   "codemirror_mode": {
    "name": "ipython",
    "version": 2
   },
   "file_extension": ".py",
   "mimetype": "text/x-python",
   "name": "python",
   "nbconvert_exporter": "python",
   "pygments_lexer": "ipython2",
   "version": "2.7.9"
  }
 },
 "nbformat": 4,
 "nbformat_minor": 0
}
