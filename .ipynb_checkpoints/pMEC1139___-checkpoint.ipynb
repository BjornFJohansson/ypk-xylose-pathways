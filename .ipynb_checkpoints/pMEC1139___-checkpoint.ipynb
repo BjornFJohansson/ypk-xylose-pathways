{
 "cells": [
  {
   "cell_type": "code",
   "execution_count": 1,
   "metadata": {
    "collapsed": false
   },
   "outputs": [],
   "source": [
    "from pydna import pcr, parse, Assembly\n",
    "from Bio.Restriction import ZraI, AjiI, EcoRV\n",
    "from pYPK0 import pYPK0"
   ]
  },
  {
   "cell_type": "code",
   "execution_count": 2,
   "metadata": {
    "collapsed": false
   },
   "outputs": [],
   "source": [
    "p167,p166 = parse('''>167_pCAPSfw (24-mer)\n",
    "                     TCCTGACGGGTAATTTTGATTTGC\n",
    "                     >166_pCAPSrv (24-mer)\n",
    "                     CTGTGAAGTGGCTGAAATTTCGTA''')\n",
    "\n",
    "p417,p626 = parse('''>417_ScTEF1tpf (30-mer)\n",
    "                     TTAAATAACAATGCATACTTTGTACGTTCA\n",
    "                     >626_ScTEF1tpr_PacI (35-mer)\n",
    "                     taattaaTTTGTAATTAAAACTTAGATTAGATTGC''', ds=False)\n",
    "\n",
    "p415,p623 = parse(''' >415_ScTDH3tpf (29-mer)\n",
    "                      TTAAATAATAAAAAACACGCTTTTTCAGT\n",
    "                      >623_ScTDH3tpr_PacI (33-mer)\n",
    "                      taattaaTTTGTTTGTTTATGTGTGTTTATTCG''', ds=False)\n",
    "\n",
    "p549,p622 = parse(''' >549_ScPGI1tpf (27-mer)\n",
    "                      ttaaatAATTCAGTTTTCTGACTGAGT\n",
    "                      >622_ScPGI1tpr_PacI (28-mer)\n",
    "                      taattaaTTTTAGGCTGGTATCTTGATT''', ds=False)\n",
    "\n",
    "p409,p624 = parse('''>409_ScFBA1tpf (37-mer)\n",
    "                     TTAAATAATAACAATACTGACAGTACTAAATAATTGC\n",
    "                     >624_ScFBA1tpr_PacI (29-mer)\n",
    "                     taattaaTTTGAATATGTATTACTTGGTT''', ds=False)\n",
    "\n",
    "p411, p413, p419, p537, p539, p621, p625, p647, p648, p651, p652, p660  = parse('''\n",
    ">411_ScENO2tpf (23-mer)\n",
    "TTAAATACGCGGCGTTATGTCAC\n",
    ">413_ScPDC1tpf (24-mer)\n",
    "TTAAATAAGGGTAGCCTCCCCATA\n",
    ">419_ScTPI1tpf (32-mer)\n",
    "TTAAATTGTTTAAAGATTACGGATATTTAACT\n",
    ">537_ScRPS19btpf (27-mer)\n",
    "ttaaatCTTTATTATCTTTGGTTCTAT\n",
    ">539_ScRPS19atpf (26-mer)\n",
    "ttaaatTTTTACTCTATTTGTCGATC\n",
    ">621_ScTPI1tpr_PacI (35-mer)\n",
    "taattaaTTTTAGTTTATGTATGTGTTTTTTGTAG \n",
    ">625_ScPDC1tpr_PacI (34-mer)\n",
    "taattaaTTTGATTGATTTGACTGTGTTATTTTG\n",
    ">647_ScRPS19btpr_PacI\n",
    "taattaaCTTTATTATCTTTGGTTCTAT\n",
    ">648_ScRPS19btpf2\n",
    "ttaaatTCTAGTATGGTTTGAAACCT\n",
    ">651_ScRPS19atpr_PacI\n",
    "taattaaTTTTACTCTATTTGTCGATC\n",
    ">652_ScRPS19atpf2\n",
    "ttaaatGTTAACTGAAATGAAAATTT\n",
    ">660_ScENO2tpr_PacI\n",
    "taattaaTTATTATTGTATGTTATAGTATTAGTTGCTTG''')"
   ]
  },
  {
   "cell_type": "markdown",
   "metadata": {},
   "source": [
    "    ScPDC1tp   = pcr([primer[413],primer[625]], sgd.promoter(\"PDC1\"))\n",
    "    ScRPS19atp = pcr([primer[539],primer[651]], sgd.promoter(\"RPS19a\"))\n",
    "    ScRPS19btp = pcr([primer[537],primer[647]], sgd.promoter(\"RPS19b\"))\n",
    "    ScTPI1tp   = pcr([primer[419],primer[621]], sgd.promoter(\"TPI1\"))\n",
    "    ScENO2tp   = pcr([primer[411],primer[660]], sgd.intergenic_sequence(\"YHR172W\", \"YHR174W\"))"
   ]
  },
  {
   "cell_type": "code",
   "execution_count": 3,
   "metadata": {
    "collapsed": false
   },
   "outputs": [],
   "source": [
    "from pydna import ipynb_importer"
   ]
  },
  {
   "cell_type": "code",
   "execution_count": 4,
   "metadata": {
    "collapsed": false
   },
   "outputs": [],
   "source": [
    "from pYPK0_TEF1tp_PsXYL1_TDH3tp import pYPK0_TEF1tp_PsXYL1_TDH3tp"
   ]
  },
  {
   "cell_type": "code",
   "execution_count": 5,
   "metadata": {
    "collapsed": false
   },
   "outputs": [],
   "source": [
    "from pYPK0_TDH3tp_PsXYL2_PGI1tp import pYPK0_TDH3tp_PsXYL2_PGI1tp"
   ]
  },
  {
   "cell_type": "code",
   "execution_count": 6,
   "metadata": {
    "collapsed": false
   },
   "outputs": [],
   "source": [
    "from pYPK0_PGI1tp_ScXKS1_FBA1tp import pYPK0_PGI1tp_ScXKS1_FBA1tp"
   ]
  },
  {
   "cell_type": "code",
   "execution_count": 7,
   "metadata": {
    "collapsed": false
   },
   "outputs": [],
   "source": [
    "from pYPK0_FBA1tp_ScTAL1_PDC1tp import pYPK0_FBA1tp_ScTAL1_PDC1tp"
   ]
  },
  {
   "cell_type": "code",
   "execution_count": 8,
   "metadata": {
    "collapsed": false
   },
   "outputs": [],
   "source": [
    "from pYPK0_PDC1tp_ScTKL1_RPS19btp import pYPK0_PDC1tp_ScTKL1_RPS19btp"
   ]
  },
  {
   "cell_type": "code",
   "execution_count": 9,
   "metadata": {
    "collapsed": false
   },
   "outputs": [],
   "source": [
    "from pYPK0_RPS19btp_ScRPE1_RPS19atp import pYPK0_RPS19btp_ScRPE1_RPS19atp"
   ]
  },
  {
   "cell_type": "code",
   "execution_count": 10,
   "metadata": {
    "collapsed": false
   },
   "outputs": [],
   "source": [
    "from pYPK0_RPS19atp_ScRKI1_TPI1tp import pYPK0_RPS19atp_ScRKI1_TPI1tp"
   ]
  },
  {
   "cell_type": "code",
   "execution_count": 11,
   "metadata": {
    "collapsed": false
   },
   "outputs": [],
   "source": [
    "from pYPK0_TPI1tp_CiGXF1_ENO2tp import pYPK0_TPI1tp_CiGXF1_ENO2tp"
   ]
  },
  {
   "cell_type": "code",
   "execution_count": 12,
   "metadata": {
    "collapsed": false
   },
   "outputs": [],
   "source": [
    "cas1  = pcr( p167, p623, pYPK0_TEF1tp_PsXYL1_TDH3tp)"
   ]
  },
  {
   "cell_type": "code",
   "execution_count": 13,
   "metadata": {
    "collapsed": false
   },
   "outputs": [],
   "source": [
    "cas2  = pcr( p415, p622, pYPK0_TDH3tp_PsXYL2_PGI1tp)"
   ]
  },
  {
   "cell_type": "code",
   "execution_count": 14,
   "metadata": {
    "collapsed": false
   },
   "outputs": [],
   "source": [
    "cas3  = pcr( p549, p624, pYPK0_PGI1tp_ScXKS1_FBA1tp)"
   ]
  },
  {
   "cell_type": "code",
   "execution_count": 15,
   "metadata": {
    "collapsed": false
   },
   "outputs": [],
   "source": [
    "cas4  = pcr( p409, p625, pYPK0_FBA1tp_ScTAL1_PDC1tp)"
   ]
  },
  {
   "cell_type": "code",
   "execution_count": 16,
   "metadata": {
    "collapsed": false
   },
   "outputs": [],
   "source": [
    "cas5  = pcr( p413, p647, pYPK0_PDC1tp_ScTKL1_RPS19btp)"
   ]
  },
  {
   "cell_type": "code",
   "execution_count": 17,
   "metadata": {
    "collapsed": false
   },
   "outputs": [],
   "source": [
    "cas6  = pcr( p648, p651, pYPK0_RPS19btp_ScRPE1_RPS19atp)"
   ]
  },
  {
   "cell_type": "code",
   "execution_count": 18,
   "metadata": {
    "collapsed": false
   },
   "outputs": [],
   "source": [
    "cas7  = pcr( p652, p621, pYPK0_RPS19atp_ScRKI1_TPI1tp)"
   ]
  },
  {
   "cell_type": "code",
   "execution_count": 19,
   "metadata": {
    "collapsed": false
   },
   "outputs": [],
   "source": [
    "cas8  = pcr( p419, p166, pYPK0_TPI1tp_CiGXF1_ENO2tp)"
   ]
  },
  {
   "cell_type": "code",
   "execution_count": 20,
   "metadata": {
    "collapsed": false
   },
   "outputs": [],
   "source": [
    "pYPK0_E_Z, stuffer = pYPK0.cut((EcoRV, ZraI))"
   ]
  },
  {
   "cell_type": "code",
   "execution_count": 21,
   "metadata": {
    "collapsed": false
   },
   "outputs": [
    {
     "data": {
      "text/plain": [
       "(Amplicon(2432),\n",
       " Amplicon(2889),\n",
       " Amplicon(3532),\n",
       " Amplicon(2693),\n",
       " Amplicon(3723),\n",
       " Amplicon(2005),\n",
       " Amplicon(2022),\n",
       " Amplicon(2926))"
      ]
     },
     "execution_count": 21,
     "metadata": {},
     "output_type": "execute_result"
    }
   ],
   "source": [
    "cas1, cas2, cas3, cas4, cas5, cas6, cas7, cas8"
   ]
  },
  {
   "cell_type": "code",
   "execution_count": 22,
   "metadata": {
    "collapsed": false
   },
   "outputs": [],
   "source": [
    "asm = Assembly( [pYPK0_E_Z, cas1, cas2, cas3, cas4, cas5, cas6, cas7, cas8] , limit = 61)"
   ]
  },
  {
   "cell_type": "code",
   "execution_count": 23,
   "metadata": {
    "collapsed": false
   },
   "outputs": [
    {
     "data": {
      "text/plain": [
       "Assembly:\n",
       "Sequences........................: [5681] [2432] [2889] [3532] [2693] [3723] [2005] [2022] [2926]\n",
       "Sequences with shared homologies.: [5681] [2432] [2926] [2889] [3532] [2693] [3723] [2005] [2022]\n",
       "Homology limit (bp)..............: 61\n",
       "Number of overlaps...............: 12\n",
       "Nodes in graph(incl. 5' & 3')....: 14\n",
       "Only terminal overlaps...........: No\n",
       "Circular products................: [22615] [22615] [22614] [22614] [21248] [21150] [21150] [21149] [19784] [19783] [2832] [2831] [1465] [1367] [1366]\n",
       "Linear products..................: [25464] [23627] [23583] [23506] [23326] [23315] [23258] [23253] [23210] [23171] [22712] [22709] [22675] [22672] [22476] [22261] [22217] [22215] [22162] [22118] [21960] [21892] [21887] [21861] [21844] [21844] [21805] [21793] [21788] [21788] [21745] [21706] [21534] [21450] [21346] [21309] [21247] [21210] [20992] [20797] [20796] [20753] [20752] [20739] [20499] [20496] [20495] [20456] [20428] [20427] [20423] [20422] [20417] [20379] [20345] [20341] [20340] [20246] [20168] [20084] [20070] [20069] [19986] [19985] [19882] [19881] [19845] [19844] [19626] [19528] [19527] [19373] [19275] [19274] [19133] [19117] [19116] [19090] [19051] [19035] [19034] [19016] [19015] [18991] [18979] [18952] [18881] [18880] [18704] [18703] [18620] [18619] [18563] [18562] [18451] [18450] [18407] [18369] [18368] [18368] [18162] [18161] [17909] [17908] [17750] [17669] [17668] [17652] [17652] [17651] [17649] [17626] [17625] [17587] [17586] [17551] [17551] [17550] [17514] [17196] [17098] [17098] [17097] [17092] [17084] [17041] [17003] [17002] [16986] [16986] [16985] [16942] [16904] [16903] [16839] [16839] [16838] [16838] [16286] [16285] [16229] [16229] [16228] [16228] [16227] [16185] [16184] [16128] [15932] [15932] [15931] [15931] [15889] [15888] [15850] [15849] [15849] [15732] [15731] [15726] [15628] [15627] [15620] [15619] [15577] [15576] [15538] [15537] [15472] [15374] [15374] [15373] [15373] [15372] [14862] [14861] [14764] [14764] [14763] [14763] [14762] [14762] [14760] [14664] [14663] [14565] [14522] [14507] [14507] [14505] [14505] [14504] [14504] [14484] [14483] [14467] [14467] [14466] [14423] [14408] [14385] [14384] [14262] [14261] [14008] [14007] [14006] [13908] [13908] [13907] [13755] [13755] [13754] [13754] [13712] [13711] [13673] [13672] [13672] [13497] [13497] [13496] [13496] [13398] [13397] [13396] [13298] [13297] [13141] [13138] [13101] [13100] [13058] [13057] [13043] [13042] [13042] [13040] [13040] [13039] [13019] [13018] [12944] [12943] [12711] [12632] [12631] [12631] [12542] [12541] [12533] [12532] [12388] [12345] [12307] [12306] [12290] [12290] [12289] [12246] [12208] [12207] [12130] [12032] [12032] [12031] [11931] [11676] [11674] [11673] [11578] [11577] [11421] [11421] [11420] [11420] [11378] [11377] [11339] [11338] [11338] [11265] [11167] [11166] [11166] [11068] [11067] [10924] [10923] [10881] [10880] [10842] [10841] [10666] [10665] [10609] [10609] [10608] [10608] [10211] [10192] [10054] [10011] [9973] [9972] [9956] [9956] [9955] [9912] [9874] [9873] [9800] [9744] [9743] [9743] [9702] [9701] [9645] [9644] [9242] [9177] [9144] [9144] [9143] [8885] [8885] [8884] [8884] [8590] [8589] [8547] [8546] [8508] [8507] [8377] [8335] [8279] [8278] [8278] [8180] [8179] [8020] [8019] [8019] [8015] [7921] [7920] [7778] [7777] [7518] [7457] [7420] [7420] [7419] [7128] [6912] [6814] [6813] [6653] [6555] [6554] [6554] [6456] [6455] [6054] [6053] [5801] [5801] [5800] [5800] [5758] [5757] [5719] [5718] [5718] [5581] [5447] [5408] [5188] [5090] [5089] [4936] [4935] [4935] [4892] [4892] [4854] [4854] [4853] [4853] [4837] [4836] [4793] [4793] [4754] [4754] [4609] [4434] [4391] [4353] [4352] [4336] [4336] [4335] [4292] [4254] [4253] [3569] [3487] [3471] [3470] [3470] [3428] [3427] [3427] [3389] [3389] [3388] [3388] [3372] [3371] [3328] [3289] [2970] [2969] [2927] [2888] [2887] [2104] [2061] [2006] [1963] [1962] [1924] [1923] [1013] [969] [712] [644] [639] [596] [557] [98] [61]"
      ]
     },
     "execution_count": 23,
     "metadata": {},
     "output_type": "execute_result"
    }
   ],
   "source": [
    "asm"
   ]
  },
  {
   "cell_type": "code",
   "execution_count": 24,
   "metadata": {
    "collapsed": false
   },
   "outputs": [],
   "source": [
    "candidate = asm.circular_products[2]"
   ]
  },
  {
   "cell_type": "code",
   "execution_count": 25,
   "metadata": {
    "collapsed": false
   },
   "outputs": [
    {
     "data": {
      "text/plain": [
       " -|pYKP0|98\n",
       "|        \\/\n",
       "|        /\\\n",
       "|        98|2432bp_PCR_prod|712\n",
       "|                           \\/\n",
       "|                           /\\\n",
       "|                           712|2889bp_PCR_prod|1013\n",
       "|                                               \\/\n",
       "|                                               /\\\n",
       "|                                               1013|3532bp_PCR_prod|644\n",
       "|                                                                    \\/\n",
       "|                                                                    /\\\n",
       "|                                                                    644|2693bp_PCR_prod|969\n",
       "|                                                                                        \\/\n",
       "|                                                                                        /\\\n",
       "|                                                                                        969|3723bp_PCR_prod|639\n",
       "|                                                                                                            \\/\n",
       "|                                                                                                            /\\\n",
       "|                                                                                                            639|2005bp_PCR_prod|553\n",
       "|                                                                                                                                \\/\n",
       "|                                                                                                                                /\\\n",
       "|                                                                                                                                553|2022bp_PCR_prod|596\n",
       "|                                                                                                                                                    \\/\n",
       "|                                                                                                                                                    /\\\n",
       "|                                                                                                                                                    596|2926bp_PCR_prod|61\n",
       "|                                                                                                                                                                        \\/\n",
       "|                                                                                                                                                                        /\\\n",
       "|                                                                                                                                                                        61-\n",
       "|                                                                                                                                                                           |\n",
       " ---------------------------------------------------------------------------------------------------------------------------------------------------------------------------"
      ]
     },
     "execution_count": 25,
     "metadata": {},
     "output_type": "execute_result"
    }
   ],
   "source": [
    "candidate.small_fig()"
   ]
  },
  {
   "cell_type": "code",
   "execution_count": 26,
   "metadata": {
    "collapsed": false
   },
   "outputs": [],
   "source": [
    "pMEC1139 = candidate.synced(\"tcgcgcgtttcggtgatgacggtgaaaacctctg\")"
   ]
  },
  {
   "cell_type": "code",
   "execution_count": 27,
   "metadata": {
    "collapsed": false
   },
   "outputs": [
    {
     "name": "stdout",
     "output_type": "stream",
     "text": [
      "Sequence change\n",
      "pMEC1139_OLD.gb 22615 bp seguid nzrue/vpydSoQfBZ15VnnBTFqcc\n",
      "pMEC1139.gb 22614 bp seguid Eo1J+e0OC1MCUNvwqb0Y66Q9nVM\n",
      "\n"
     ]
    }
   ],
   "source": [
    "pMEC1139.write(\"pMEC1139.gb\")"
   ]
  },
  {
   "cell_type": "code",
   "execution_count": 28,
   "metadata": {
    "collapsed": false
   },
   "outputs": [
    {
     "data": {
      "text/plain": [
       "22614"
      ]
     },
     "execution_count": 28,
     "metadata": {},
     "output_type": "execute_result"
    }
   ],
   "source": [
    "len(pMEC1139)"
   ]
  },
  {
   "cell_type": "code",
   "execution_count": 29,
   "metadata": {
    "collapsed": false
   },
   "outputs": [
    {
     "data": {
      "text/plain": [
       "Eo1J+e0OC1MCUNvwqb0Y66Q9nVM"
      ]
     },
     "execution_count": 29,
     "metadata": {},
     "output_type": "execute_result"
    }
   ],
   "source": [
    "pMEC1139.seguid()"
   ]
  },
  {
   "cell_type": "markdown",
   "metadata": {},
   "source": [
    "##Download sequences\n",
    "\n",
    "[pMEC1139](pMEC1139.gb)"
   ]
  },
  {
   "cell_type": "code",
   "execution_count": null,
   "metadata": {
    "collapsed": false
   },
   "outputs": [],
   "source": []
  }
 ],
 "metadata": {
  "kernelspec": {
   "display_name": "Python 2",
   "language": "python",
   "name": "python2"
  },
  "language_info": {
   "codemirror_mode": {
    "name": "ipython",
    "version": 2
   },
   "file_extension": ".py",
   "mimetype": "text/x-python",
   "name": "python",
   "nbconvert_exporter": "python",
   "pygments_lexer": "ipython2",
   "version": "2.7.9"
  }
 },
 "nbformat": 4,
 "nbformat_minor": 0
}
