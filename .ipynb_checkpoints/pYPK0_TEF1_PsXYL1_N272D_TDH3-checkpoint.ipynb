{
 "cells": [
  {
   "cell_type": "markdown",
   "metadata": {
    "deletable": true,
    "editable": true
   },
   "source": [
    "# Construction of pYPK0_TEF1_PsXYL1_N272D_TDH3 (pMEC1127)\n",
    "\n",
    "[pYPKa_Z_TEF1](pYPKa_Z_TEF1.ipynb)\n",
    "\n",
    "[pYPKa_E_TDH3](pYPKa_E_TDH3.ipynb)"
   ]
  },
  {
   "cell_type": "markdown",
   "metadata": {
    "deletable": true,
    "editable": true
   },
   "source": [
    "This vector is identical to pMEC1126 (pYPK0_TEF1_PsXYL1_TDH3tp) but for a N272D mutation in the XYL1 reading frame."
   ]
  },
  {
   "cell_type": "code",
   "execution_count": 1,
   "metadata": {
    "collapsed": false,
    "deletable": true,
    "editable": true
   },
   "outputs": [],
   "source": [
    "from pydna.all import *\n",
    "from pydna import ipynb_importer"
   ]
  },
  {
   "cell_type": "code",
   "execution_count": 2,
   "metadata": {
    "collapsed": true,
    "deletable": true,
    "editable": true
   },
   "outputs": [],
   "source": [
    "pYPK0_TEF1_PsXYL1_TDH3 =read(\"pYPK0_TEF1_PsXYL1_TDH3.gb\")"
   ]
  },
  {
   "cell_type": "code",
   "execution_count": 3,
   "metadata": {
    "collapsed": false,
    "deletable": true,
    "editable": true
   },
   "outputs": [
    {
     "data": {
      "text/plain": [
       "8015"
      ]
     },
     "execution_count": 3,
     "metadata": {},
     "output_type": "execute_result"
    }
   ],
   "source": [
    "len(pYPK0_TEF1_PsXYL1_TDH3)"
   ]
  },
  {
   "cell_type": "code",
   "execution_count": 4,
   "metadata": {
    "collapsed": false,
    "deletable": true,
    "editable": true
   },
   "outputs": [
    {
     "data": {
      "text/html": [
       "<iframe src=http://www.ncbi.nlm.nih.gov/pmc/articles/PMC2988607 width=100% height=250></iframe>"
      ],
      "text/plain": [
       "<IPython.core.display.HTML object>"
      ]
     },
     "execution_count": 4,
     "metadata": {},
     "output_type": "execute_result"
    }
   ],
   "source": [
    "from IPython.display import HTML\n",
    "HTML('<iframe src=http://www.ncbi.nlm.nih.gov/pmc/articles/PMC2988607 width=100% height=250></iframe>')"
   ]
  },
  {
   "cell_type": "code",
   "execution_count": 5,
   "metadata": {
    "collapsed": false,
    "deletable": true,
    "editable": true
   },
   "outputs": [
    {
     "data": {
      "text/plain": [
       "+----------+-----------+-------+------+--------+--------------+-------------+------+\n",
       "| Feature# | Direction | Start | End  | Length | id           | type        | orf? |\n",
       "+----------+-----------+-------+------+--------+--------------+-------------+------+\n",
       "| 0        |    -->    |  432  | 530  |     98 | <unknown id> | overlap     |  no  |\n",
       "| 1        |    -->    |  530  | 560  |     30 | <unknown id> | misc        |  no  |\n",
       "| 2        |    -->    |  537  | 1116 |    579 | <unknown id> | source      |  no  |\n",
       "| 3        |    -->    |  537  | 560  |     23 | <unknown id> | primer_bind |  no  |\n",
       "| 4        |    <--    |  1088 | 1116 |     28 | <unknown id> | primer_bind |  no  |\n",
       "| 5        |    <--    |  1088 | 1123 |     35 | <unknown id> | misc        |  no  |\n",
       "| 6        |    -->    |  1123 | 1161 |     38 | <unknown id> | overlap     |  no  |\n",
       "| 7        |    -->    |  1163 | 2120 |    957 | <unknown id> | gene        | yes  |\n",
       "| 8        |    -->    |  1163 | 2120 |    957 | <unknown id> | CDS         | yes  |\n",
       "| 9        |    -->    |  1163 | 1189 |     26 | <unknown id> | primer_bind |  no  |\n",
       "| 10       |    <--    |  2094 | 2120 |     26 | <unknown id> | primer_bind |  no  |\n",
       "| 11       |    <--    |  2094 | 2158 |     64 | <unknown id> | misc        |  no  |\n",
       "| 12       |    -->    |  2123 | 2158 |     35 | <unknown id> | overlap     |  no  |\n",
       "| 13       |    -->    |  2159 | 2857 |    698 | <unknown id> | source      |  no  |\n",
       "| 14       |    -->    |  2159 | 2181 |     22 | <unknown id> | primer_bind |  no  |\n",
       "| 15       |    <--    |  2831 | 2857 |     26 | <unknown id> | primer_bind |  no  |\n",
       "| 16       |    <--    |  2831 | 2864 |     33 | <unknown id> | misc        |  no  |\n",
       "| 17       |    -->    |  2864 | 2925 |     61 | <unknown id> | overlap     |  no  |\n",
       "| 18       |    <--    |  2901 | 2925 |     24 | <unknown id> | primer_bind |  no  |\n",
       "| 19       |    <--    |  2901 | 2925 |     24 | <unknown id> | misc        |  no  |\n",
       "| 20       |    <--    |  3547 | 4229 |    682 | <unknown id> | rep_origin  |  no  |\n",
       "| 21       |    <--    |  4309 | 5113 |    804 | <unknown id> | misc        | yes  |\n",
       "+----------+-----------+-------+------+--------+--------------+-------------+------+"
      ]
     },
     "execution_count": 5,
     "metadata": {},
     "output_type": "execute_result"
    }
   ],
   "source": [
    "pYPK0_TEF1_PsXYL1_TDH3.list_features()"
   ]
  },
  {
   "cell_type": "code",
   "execution_count": 6,
   "metadata": {
    "collapsed": true,
    "deletable": true,
    "editable": true
   },
   "outputs": [],
   "source": [
    "xyl1 = pYPK0_TEF1_PsXYL1_TDH3.extract_feature(8)"
   ]
  },
  {
   "cell_type": "code",
   "execution_count": 7,
   "metadata": {
    "collapsed": false,
    "deletable": true,
    "editable": true
   },
   "outputs": [],
   "source": [
    "wt_protein_seq = str(xyl1.seq.translate())"
   ]
  },
  {
   "cell_type": "code",
   "execution_count": 8,
   "metadata": {
    "collapsed": false,
    "deletable": true,
    "editable": true
   },
   "outputs": [
    {
     "name": "stdout",
     "output_type": "stream",
     "text": [
      "MPSIKLNSGYDMPAVGFGCWKVDVDTCSEQIYRAIKTGYRLFDGAEDYANEKLVGAGVKKAIDEGIVKREDLFLTSKLWNNYHHPDNVEKALNRTLSDLQVDYVDLFLIHFPVTFKFVPLEEKYPPGFYCGKGDNFDYEDVPILETWKALEKLVKAGKIRSIGVSNFPGALLLDLLRGATIKPSVLQVEHHPYLQQPRLIEFAQSRGIAVTAYSSFGPQSFVELNQGRALNTSPLFENETIKAIAAKHGKSPAQVLLRWSSQRGIAIIPKSNTVPRLLENKDVNSFDLDEQDFADIAKLDINLRFNDPWDWDKIPIFV*\n"
     ]
    }
   ],
   "source": [
    "print(wt_protein_seq)"
   ]
  },
  {
   "cell_type": "code",
   "execution_count": 9,
   "metadata": {
    "collapsed": false,
    "deletable": true,
    "editable": true
   },
   "outputs": [
    {
     "name": "stdout",
     "output_type": "stream",
     "text": [
      "N\n"
     ]
    }
   ],
   "source": [
    "print(wt_protein_seq[271])"
   ]
  },
  {
   "cell_type": "code",
   "execution_count": 10,
   "metadata": {
    "collapsed": false,
    "deletable": true,
    "editable": true
   },
   "outputs": [
    {
     "data": {
      "text/plain": [
       "ExactPosition(1163)"
      ]
     },
     "execution_count": 10,
     "metadata": {},
     "output_type": "execute_result"
    }
   ],
   "source": [
    "pYPK0_TEF1_PsXYL1_TDH3.features[8].location.start"
   ]
  },
  {
   "cell_type": "code",
   "execution_count": 11,
   "metadata": {
    "collapsed": false,
    "deletable": true,
    "editable": true
   },
   "outputs": [],
   "source": [
    "codon = pYPK0_TEF1_PsXYL1_TDH3[1163+271*3:1163+271*3+3]"
   ]
  },
  {
   "cell_type": "code",
   "execution_count": 12,
   "metadata": {
    "collapsed": false,
    "deletable": true,
    "editable": true
   },
   "outputs": [
    {
     "name": "stdout",
     "output_type": "stream",
     "text": [
      "AAC\n",
      "N\n"
     ]
    }
   ],
   "source": [
    "print(codon.seq)\n",
    "print(codon.seq.translate())"
   ]
  },
  {
   "cell_type": "code",
   "execution_count": 13,
   "metadata": {
    "collapsed": false,
    "deletable": true,
    "editable": true
   },
   "outputs": [],
   "source": [
    "candidate = (pYPK0_TEF1_PsXYL1_TDH3[:1163+271*3]+\n",
    "             Dseqrecord(\"GAC\")+\n",
    "             pYPK0_TEF1_PsXYL1_TDH3[1163+271*3+3:]).looped()"
   ]
  },
  {
   "cell_type": "code",
   "execution_count": 14,
   "metadata": {
    "collapsed": false,
    "deletable": true,
    "editable": true
   },
   "outputs": [],
   "source": [
    "new_feature = pYPK0_TEF1_PsXYL1_TDH3.features[8]\n",
    "new_feature.qualifiers = {\"label\":\"PsXYL1_N272D\"}\n",
    "candidate.features.append(new_feature)"
   ]
  },
  {
   "cell_type": "code",
   "execution_count": 15,
   "metadata": {
    "collapsed": false,
    "deletable": true,
    "editable": true
   },
   "outputs": [
    {
     "data": {
      "text/plain": [
       "Dseqrecord(o8015)"
      ]
     },
     "execution_count": 15,
     "metadata": {},
     "output_type": "execute_result"
    }
   ],
   "source": [
    "candidate"
   ]
  },
  {
   "cell_type": "code",
   "execution_count": 16,
   "metadata": {
    "collapsed": false,
    "deletable": true,
    "editable": true
   },
   "outputs": [
    {
     "data": {
      "text/plain": [
       "Y_e9Pjnu1AMSxxIPez6jXh8kvUU"
      ]
     },
     "execution_count": 16,
     "metadata": {},
     "output_type": "execute_result"
    }
   ],
   "source": [
    "candidate.cseguid()"
   ]
  },
  {
   "cell_type": "code",
   "execution_count": 17,
   "metadata": {
    "collapsed": false,
    "deletable": true,
    "editable": true
   },
   "outputs": [
    {
     "data": {
      "text/plain": [
       "cSEGUID_Y_e9Pjnu1AMSxxIPez6jXh8kvUU"
      ]
     },
     "execution_count": 17,
     "metadata": {},
     "output_type": "execute_result"
    }
   ],
   "source": [
    "candidate.id = \"pMEC1127\"\n",
    "#candidate.description = \"pYPK0_TEF1_PsXYL1_N272D_TDH3tp\"\n",
    "candidate.stamp()"
   ]
  },
  {
   "cell_type": "code",
   "execution_count": 18,
   "metadata": {
    "collapsed": false,
    "deletable": true,
    "editable": true
   },
   "outputs": [
    {
     "data": {
      "text/html": [
       "<font face=monospace><a href='pYPK0_TEF1_PsXYL1_N272D_TDH3.gb' target='_blank'>pYPK0_TEF1_PsXYL1_N272D_TDH3.gb</a></font><br>"
      ]
     },
     "metadata": {},
     "output_type": "display_data"
    }
   ],
   "source": [
    "candidate.write(\"pYPK0_TEF1_PsXYL1_N272D_TDH3.gb\")"
   ]
  },
  {
   "cell_type": "markdown",
   "metadata": {
    "deletable": true,
    "editable": true
   },
   "source": [
    "## Download sequence\n",
    "\n",
    "[pYPK0_TEF1_PsXYL1_N272D_TDH3](pYPK0_TEF1_PsXYL1_N272D_TDH3.gb)"
   ]
  },
  {
   "cell_type": "code",
   "execution_count": 19,
   "metadata": {
    "collapsed": false,
    "deletable": true,
    "editable": true
   },
   "outputs": [],
   "source": [
    "reloaded = read(\"pYPK0_TEF1_PsXYL1_N272D_TDH3.gb\")"
   ]
  },
  {
   "cell_type": "code",
   "execution_count": 20,
   "metadata": {
    "collapsed": false,
    "deletable": true,
    "editable": true
   },
   "outputs": [
    {
     "data": {
      "text/plain": [
       "Y_e9Pjnu1AMSxxIPez6jXh8kvUU"
      ]
     },
     "execution_count": 20,
     "metadata": {},
     "output_type": "execute_result"
    }
   ],
   "source": [
    "reloaded.cseguid()"
   ]
  }
 ],
 "metadata": {
  "kernelspec": {
   "display_name": "Python 3",
   "language": "python",
   "name": "python3"
  },
  "language_info": {
   "codemirror_mode": {
    "name": "ipython",
    "version": 3
   },
   "file_extension": ".py",
   "mimetype": "text/x-python",
   "name": "python",
   "nbconvert_exporter": "python",
   "pygments_lexer": "ipython3",
   "version": "3.5.2"
  }
 },
 "nbformat": 4,
 "nbformat_minor": 0
}
