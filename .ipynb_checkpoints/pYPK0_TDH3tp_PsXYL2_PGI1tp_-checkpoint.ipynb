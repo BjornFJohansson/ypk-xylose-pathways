{
 "cells": [
  {
   "cell_type": "code",
   "execution_count": 3,
   "metadata": {
    "collapsed": false
   },
   "outputs": [],
   "source": [
    "#!/usr/bin/env python\n",
    "\n",
    "from pydna import pcr, parse, Genbank, Assembly\n",
    "from Bio.Restriction import ZraI, AjiI, EcoRV\n",
    "\n",
    "from pYPK0 import pYPK0\n",
    "from pYPKa_Z_TDH3tp import pYPKa_Z_TDH3tp as first\n",
    "#from pYPKa_A_PsXYL2 import pYPKa_A_PsXYL2 as middle\n",
    "from pYPKa_E_PGI1tp import pYPKa_E_PGI1tp as last\n",
    "\n",
    "p167,p166,p468,p467,p567,p568  =  parse('''\n",
    "                                            >167_pCAPSfw (24-mer)\n",
    "                                            TCCTGACGGGTAATTTTGATTTGC\n",
    "\n",
    "                                            >166_pCAPSrv (24-mer) EMPTY\n",
    "                                            CTGTGAAGTGGCTGAAATTTCGTA\n",
    "\n",
    "                                            >468_pCAPs_release_fw (25-mer) 79.66\n",
    "                                            gtcgaggaacgccaggttgcccact\n",
    "\n",
    "                                            >467_pCAPs_release_re (31-mer) \n",
    "                                            ATTTAAatcctgatgcgtttgtctgcacaga\n",
    "\n",
    "                                            >567_pCAPsAjiIF (23-mer)\n",
    "                                            GTcggctgcaggtcactagtgag\n",
    "\n",
    "                                            >568_pCAPsAjiIR (22-mer)\n",
    "                                            GTGCcatctgtgcagacaaacg''')\n",
    "                                            \n",
    "pf, pr = parse('''\n",
    "                    >XDH_YPK_rec_fwd \n",
    "                    gtcgaggaacgccaggttgcccactttctcactagtgaAAATGACTGCTAACCCTTCCTTGGTG\n",
    "                    >XDH_YPK_rec_rev \n",
    "                    ATTTAAatcctgatgcgtttgtctgcacagatggcgcgTTACTCAGGGCCGTCAATGAGACA\n",
    "                ''')                                           \n",
    "\n",
    "gb = Genbank(\"bjornjobbb@gmail.com\")\n",
    "\n",
    "first  = pcr( p167, p567, first)\n",
    "middle = pcr( pf, pr, gb.nucleotide(\"A16166\"))\n",
    "last   = pcr( p568, p166, last)\n",
    "\n",
    "pYPK0_E_Z, stuffer = pYPK0.cut((EcoRV, ZraI))\n",
    "\n",
    "a = Assembly([first, middle, last, pYPK0_E_Z], limit=31)\n",
    "\n",
    "pYPK0_TDH3tp_PsXYL2_PGI1tp = a.circular_products[0].synced(\"tcgcgcgtttcggtgatgacggtgaaaacctctg\")"
   ]
  },
  {
   "cell_type": "code",
   "execution_count": 4,
   "metadata": {
    "collapsed": false
   },
   "outputs": [],
   "source": [
    "pYPK0_TDH3tp_PsXYL2_PGI1tp.write(\"pYPK0_TDH3tp_PsXYL2_PGI1tp.gb\")"
   ]
  },
  {
   "cell_type": "markdown",
   "metadata": {},
   "source": [
    "##Download sequence\n",
    "\n",
    "[pYPK0_TDH3tp_PsXYL2_PGI1tp](pYPK0_TDH3tp_PsXYL2_PGI1tp.gb)"
   ]
  },
  {
   "cell_type": "code",
   "execution_count": null,
   "metadata": {
    "collapsed": false
   },
   "outputs": [],
   "source": []
  }
 ],
 "metadata": {
  "kernelspec": {
   "display_name": "Python 2",
   "language": "python",
   "name": "python2"
  },
  "language_info": {
   "codemirror_mode": {
    "name": "ipython",
    "version": 2
   },
   "file_extension": ".py",
   "mimetype": "text/x-python",
   "name": "python",
   "nbconvert_exporter": "python",
   "pygments_lexer": "ipython2",
   "version": "2.7.9"
  }
 },
 "nbformat": 4,
 "nbformat_minor": 0
}
