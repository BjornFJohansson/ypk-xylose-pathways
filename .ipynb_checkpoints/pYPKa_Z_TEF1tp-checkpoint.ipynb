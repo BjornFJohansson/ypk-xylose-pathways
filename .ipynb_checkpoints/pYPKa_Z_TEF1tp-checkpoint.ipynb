{
 "cells": [
  {
   "cell_type": "markdown",
   "metadata": {},
   "source": [
    "# pYPKa_Z_TEF1tp\n",
    "###Freezer ID\n",
    "    Strain#..: ?\n",
    "    Box......: ?\n",
    "    Position.: ?\n",
    "\n",
    "Importing the [pydna](https://pypi.python.org/pypi/pydna/) package.\n",
    "Pydna is [open source](https://github.com/BjornFJohansson/pydna), documentated [here](http://pydna.readthedocs.org/en/latest/) and has a support [forum](https://groups.google.com/forum/#!forum/pydna) as well as a publication:\n",
    "\n",
    "[Pereira F, Azevedo F, Carvalho Â, Ribeiro GF, Budde MW, Johansson B: Pydna: a simulation and documentation tool for DNA assembly strategies using python. BMC Bioinformatics 2015, 16:142.](http://www.biomedcentral.com/1471-2105/16/142/abstract)"
   ]
  },
  {
   "cell_type": "code",
   "execution_count": 1,
   "metadata": {
    "collapsed": true
   },
   "outputs": [],
   "source": [
    "import pydna\n",
    "from pydna import ipynb_importer"
   ]
  },
  {
   "cell_type": "markdown",
   "metadata": {},
   "source": [
    "Read the cloning vector from a local file [file](pYPKa.gb), description of [pYPKa](pYPKa.ipynb)."
   ]
  },
  {
   "cell_type": "code",
   "execution_count": 2,
   "metadata": {
    "collapsed": true
   },
   "outputs": [],
   "source": [
    "pYPKa = pydna.read(\"pYPKa.gb\")"
   ]
  },
  {
   "cell_type": "markdown",
   "metadata": {},
   "source": [
    "This vector should be a circular 3128 bp DNA molecule."
   ]
  },
  {
   "cell_type": "code",
   "execution_count": 3,
   "metadata": {
    "collapsed": false
   },
   "outputs": [
    {
     "data": {
      "text/plain": [
       "Dseqrecord(o3128)"
      ]
     },
     "execution_count": 3,
     "metadata": {},
     "output_type": "execute_result"
    }
   ],
   "source": [
    "pYPKa"
   ]
  },
  {
   "cell_type": "markdown",
   "metadata": {},
   "source": [
    "The circular seguid checksum of pYPKa should be\n",
    "\n",
    "```aV1eIrzOiCjvw01yvKkxDXHKLMk```"
   ]
  },
  {
   "cell_type": "code",
   "execution_count": 4,
   "metadata": {
    "collapsed": false
   },
   "outputs": [
    {
     "data": {
      "text/plain": [
       "aV1eIrzOiCjvw01yvKkxDXHKLMk"
      ]
     },
     "execution_count": 4,
     "metadata": {},
     "output_type": "execute_result"
    }
   ],
   "source": [
    "pYPKa.cseguid()"
   ]
  },
  {
   "cell_type": "markdown",
   "metadata": {},
   "source": [
    "Importing the restriction enzyme to be used for cloning from Biopython.\n",
    "[ZraI](http://rebase.neb.com/rebase/enz/ZraI.html)"
   ]
  },
  {
   "cell_type": "code",
   "execution_count": 5,
   "metadata": {
    "collapsed": true
   },
   "outputs": [],
   "source": [
    "from Bio.Restriction import ZraI"
   ]
  },
  {
   "cell_type": "markdown",
   "metadata": {},
   "source": [
    "This enzyme should cut only once in pYPKa."
   ]
  },
  {
   "cell_type": "code",
   "execution_count": 6,
   "metadata": {
    "collapsed": true
   },
   "outputs": [],
   "source": [
    "pYPKa_ZraI = pYPKa.linearize(ZraI)"
   ]
  },
  {
   "cell_type": "markdown",
   "metadata": {},
   "source": [
    "The template below comes from a Genbank [record](http://www.ncbi.nlm.nih.gov/nuccore/BK006949.2).\n",
    "Access to Genbank is needed in order to download the template.\n",
    "If you execute this script, change the email address below to your own.\n",
    "Always tell Genbank who you are, when using their web service."
   ]
  },
  {
   "cell_type": "code",
   "execution_count": 7,
   "metadata": {
    "collapsed": true
   },
   "outputs": [],
   "source": [
    "gb = pydna.Genbank(\"bjornjobb@gmail.com\")"
   ]
  },
  {
   "cell_type": "markdown",
   "metadata": {},
   "source": [
    "The template is downloaded from Genbank below."
   ]
  },
  {
   "cell_type": "code",
   "execution_count": 8,
   "metadata": {
    "collapsed": true
   },
   "outputs": [],
   "source": [
    "template = gb.nucleotide(\"BK006949.2 REGION: 700015..700593\")"
   ]
  },
  {
   "cell_type": "markdown",
   "metadata": {},
   "source": [
    "The template is a 579 bp linear DNA fragment."
   ]
  },
  {
   "cell_type": "code",
   "execution_count": 9,
   "metadata": {
    "collapsed": false
   },
   "outputs": [
    {
     "data": {
      "text/plain": [
       "Dseqrecord(-579)"
      ]
     },
     "execution_count": 9,
     "metadata": {},
     "output_type": "execute_result"
    }
   ],
   "source": [
    "template"
   ]
  },
  {
   "cell_type": "markdown",
   "metadata": {},
   "source": [
    "A string representation of the template:\n",
    "    str(template.seq)\n",
    "\n",
    "The seguid checksum of the template should be\n",
    "\n",
    "```aV8DVOYw0hNwHWvnBDmtevIV3F8```"
   ]
  },
  {
   "cell_type": "code",
   "execution_count": 10,
   "metadata": {
    "collapsed": false
   },
   "outputs": [
    {
     "data": {
      "text/plain": [
       "aV8DVOYw0hNwHWvnBDmtevIV3F8"
      ]
     },
     "execution_count": 10,
     "metadata": {},
     "output_type": "execute_result"
    }
   ],
   "source": [
    "template.seguid()"
   ]
  },
  {
   "cell_type": "markdown",
   "metadata": {},
   "source": [
    "Two primers are used to amplify the insert:"
   ]
  },
  {
   "cell_type": "code",
   "execution_count": 11,
   "metadata": {
    "collapsed": true
   },
   "outputs": [],
   "source": [
    "f,r = pydna.parse(\"\"\">417_ScTEF1tpf\n",
    "                      TTAAATAACAATGCATACTTTGTACGTTCA\n",
    "                     >626_ScTEF1tpr_PacI\n",
    "                      taattaaTTTGTAATTAAAACTTAGATTAGATTGC\"\"\", ds=False)\n",
    "\n",
    "insert = pydna.pcr(f, r, template)"
   ]
  },
  {
   "cell_type": "markdown",
   "metadata": {},
   "source": [
    "The primers anneal on the template like this."
   ]
  },
  {
   "cell_type": "code",
   "execution_count": 12,
   "metadata": {
    "collapsed": false
   },
   "outputs": [
    {
     "data": {
      "text/plain": [
       "       5ACAATGCATACTTTGTACGTTCA...GCAATCTAATCTAAGTTTTAATTACAAA3\n",
       "                                  |||||||||||||||||||||||||||| tm 48.1 (dbd) 59.4\n",
       "                                 3CGTTAGATTAGATTCAAAATTAATGTTTaattaat5\n",
       "5TTAAATAACAATGCATACTTTGTACGTTCA3\n",
       "        ||||||||||||||||||||||| tm 51.2 (dbd) 62.4\n",
       "       3TGTTACGTATGAAACATGCAAGT...CGTTAGATTAGATTCAAAATTAATGTTT5"
      ]
     },
     "execution_count": 12,
     "metadata": {},
     "output_type": "execute_result"
    }
   ],
   "source": [
    "insert.figure()"
   ]
  },
  {
   "cell_type": "markdown",
   "metadata": {},
   "source": [
    "A recombinant plasmid is formed by ligating the insert PCR product to the linear vector."
   ]
  },
  {
   "cell_type": "code",
   "execution_count": 13,
   "metadata": {
    "collapsed": true
   },
   "outputs": [],
   "source": [
    "plasmid = (pYPKa_ZraI + insert).looped()"
   ]
  },
  {
   "cell_type": "markdown",
   "metadata": {},
   "source": [
    "The plasmid sequence is rotated so that the origin is in the same position as for the cloning vector sequence."
   ]
  },
  {
   "cell_type": "code",
   "execution_count": 22,
   "metadata": {
    "collapsed": true
   },
   "outputs": [],
   "source": [
    "pYPKa_Z_TEF1tp = plasmid.synced(pYPKa)"
   ]
  },
  {
   "cell_type": "markdown",
   "metadata": {},
   "source": [
    "Calculate cseguid checksum for the resulting plasmid."
   ]
  },
  {
   "cell_type": "code",
   "execution_count": 23,
   "metadata": {
    "collapsed": false
   },
   "outputs": [
    {
     "data": {
      "text/plain": [
       "inRfvhISKV2ATGWH7MRU60tr5sk"
      ]
     },
     "execution_count": 23,
     "metadata": {},
     "output_type": "execute_result"
    }
   ],
   "source": [
    "pYPKa_Z_TEF1tp.cseguid()"
   ]
  },
  {
   "cell_type": "markdown",
   "metadata": {},
   "source": [
    "Stamp sequence with cSEGUID checksum"
   ]
  },
  {
   "cell_type": "code",
   "execution_count": 24,
   "metadata": {
    "collapsed": true
   },
   "outputs": [],
   "source": [
    "pYPKa_Z_TEF1tp.name=\"pYPKa_Z_TEF1tp\"\n",
    "pYPKa_Z_TEF1tp.description = \"pYPKa_Z_TEF1tp\" "
   ]
  },
  {
   "cell_type": "code",
   "execution_count": 25,
   "metadata": {
    "collapsed": false
   },
   "outputs": [
    {
     "data": {
      "text/plain": [
       "cSEGUID_inRfvhISKV2ATGWH7MRU60tr5sk_2015-05-11T12:22:53.487676"
      ]
     },
     "execution_count": 25,
     "metadata": {},
     "output_type": "execute_result"
    }
   ],
   "source": [
    "pYPKa_Z_TEF1tp.stamp()"
   ]
  },
  {
   "cell_type": "markdown",
   "metadata": {},
   "source": [
    "Write sequence to a local file."
   ]
  },
  {
   "cell_type": "code",
   "execution_count": 26,
   "metadata": {
    "collapsed": false
   },
   "outputs": [
    {
     "data": {
      "text/plain": [
       "LOCUS       pYPKa_Z_TEF1tp          3721 bp    DNA     circular UNK 11-MAY-2015\n",
       "DEFINITION  <unknown description>\n",
       "            cSEGUID_inRfvhISKV2ATGWH7MRU60tr5sk_2015-05-11T12:22:53.487676\n",
       "ACCESSION   <unknown id>\n",
       "VERSION     <unknown id>\n",
       "DBLINK      BioProject:PRJNA43747\n",
       "KEYWORDS    .\n",
       "SOURCE      .\n",
       "  ORGANISM  .\n",
       "            .\n",
       "FEATURES             Location/Qualifiers\n",
       "     misc            531..560\n",
       "                     /label=\"417_ScTEF1tpf\"\n",
       "     source          538..1116\n",
       "                     /strain=\"S288c\"\n",
       "                     /mol_type=\"genomic DNA\"\n",
       "                     /organism=\"Saccharomyces cerevisiae S288c\"\n",
       "                     /chromosome=\"XVI\"\n",
       "                     /db_xref=\"taxon:559292\"\n",
       "     primer_bind     538..560\n",
       "                     /note=\"417_ScTEF1tpf\"\n",
       "                     /ApEinfo_fwdcolor=\"green\"\n",
       "                     /ApEinfo_revcolor=\"red\"\n",
       "     primer_bind     complement(1089..1116)\n",
       "                     /note=\"626_ScTEF1tpr_PacI\"\n",
       "                     /ApEinfo_fwdcolor=\"green\"\n",
       "                     /ApEinfo_revcolor=\"red\"\n",
       "     misc            complement(1089..1123)\n",
       "                     /label=\"626_ScTEF1tpr_PacI\"\n",
       "     primer_bind     complement(1151..1171)\n",
       "                     /note=\"567_pCAPsAjiIF\"\n",
       "                     /ApEinfo_revcolor=\"red\"\n",
       "                     /ApEinfo_fwdcolor=\"green\"\n",
       "     misc            complement(1151..1173)\n",
       "                     /label=\"567_pCAPsAjiIF\"\n",
       "     misc            1174..1195\n",
       "                     /label=\"568_pCAPsAjiIR\"\n",
       "     primer_bind     1176..1195\n",
       "                     /note=\"568_pCAPsAjiIR\"\n",
       "                     /ApEinfo_revcolor=\"red\"\n",
       "                     /ApEinfo_fwdcolor=\"green\"\n",
       "     rep_origin      1906\n",
       "                     /direction=BOTH\n",
       "     gene            complement(2665..3525)\n",
       "                     /gene=\"bla\"\n",
       "     CDS             complement(2665..3525)\n",
       "                     /product=\"beta-lactamase\"\n",
       "                     /codon_start=1\n",
       "                     /transl_table=11\n",
       "                     /db_xref=\"GI:2769263\"\n",
       "                     /db_xref=\"GOA:Q79DR3\"\n",
       "                     /db_xref=\"HSSP:P62593\"\n",
       "                     /db_xref=\"InterPro:IPR000871\"\n",
       "                     /db_xref=\"InterPro:IPR001466\"\n",
       "                     /db_xref=\"InterPro:IPR012338\"\n",
       "                     /db_xref=\"UniProtKB/TrEMBL:Q79DR3\"\n",
       "                     /translation=\"MSIQHFRVALIPFFAAFCLPVFAHPETLVKVKDAEDQLGARVGYI\n",
       "                     ELDLNSGKILESFRPEERFPMMSTFKVLLCGAVLSRIDAGQEQLGRRIHYSQNDLVEYS\n",
       "                     PVTEKHLTDGMTVRELCSAAITMSDNTAANLLLTTIGGPKELTAFLHNMGDHVTRLDRW\n",
       "                     EPELNEAIPNDERDTTMPVAMATTLRKLLTGELLTLASRQQLIDWMEADKVAGPLLRSA\n",
       "                     LPAGWFIADKSGAGERGSRGIIAALGPDGKPSRIVVIYTTGSQATMDERNRQIAEIGAS\n",
       "                     LIKHW\"\n",
       "                     /gene=\"bla\"\n",
       "                     /protein_id=\"CAA04868.1\"\n",
       "ORIGIN\n",
       "        1 tcgcgcgttt cggtgatgac ggtgaaaacc tctgacacat gcagctcccg gagacggtca\n",
       "       61 cagcttgtct gtaagcggat gccgggagca gacaagcccg tcagggcgcg tcagcgggtg\n",
       "      121 ttggcgggtg tcggggctgg cttaactatg cggcatcaga gcagattgta ctgagagtgc\n",
       "      181 accatagatc ctgaggatcg gggtgataaa tcagtctgcg ccacatcggg ggaaacaaaa\n",
       "      241 tggcgcgaga tctaaaaaaa aaggctccaa aaggagcctt tcgcgctacc aggtaacgcg\n",
       "      301 ccactccgac gggattaacg agtgccgtaa acgacgatgg ttttaccgtg tgcggagatc\n",
       "      361 aggttctgat cctcgagcat cttaagaatt cgtcccacgg tttgtctaga gcagccgaca\n",
       "      421 atctggccaa tttcctgacg ggtaattttg atttgcatgc cgtccgggtg agtcatagcg\n",
       "      481 tctggttgtt ttgccagatt cagcagagtc tgtgcaatgc ggccgctgac ttaaataaca\n",
       "      541 atgcatactt tgtacgttca aaatacaatg cagtagatat atttatgcat attacatata\n",
       "      601 atacatatca cataggaagc aacaggcgcg ttggactttt aattttcgag gaccgcgaat\n",
       "      661 ccttacatca cacccaatcc cccacaagtg atcccccaca caccatagct tcaaaatgtt\n",
       "      721 tctactcctt ttttactctt ccagattttc tcggactccg cgcatcgccg taccacttca\n",
       "      781 aaacacccaa gcacagcata ctaaatttcc cctctttctt cctctagggt gtcgttaatt\n",
       "      841 acccgtacta aaggtttgga aaagaaaaaa gagaccgcct cgtttctttt tcttcgtcga\n",
       "      901 aaaaggcaat aaaaattttt atcacgtttc tttttcttga aaattttttt ttttgatttt\n",
       "      961 tttctctttc gatgacctcc cattgatatt taagttaata aacggtcttc aatttctcaa\n",
       "     1021 gtttcagttt catttttctt gttctattac aacttttttt acttcttgct cattagaaag\n",
       "     1081 aaagcatagc aatctaatct aagttttaat tacaaattaa ttagtcgagg aacgccaggt\n",
       "     1141 tgcccacttt ctcactagtg acctgcagcc gacgtgccat ctgtgcagac aaacgcatca\n",
       "     1201 ggatatccgg atttacctga atcaattggc gaaatttttt gtacgaaatt tcagccactt\n",
       "     1261 cacaggcggt tttcgcacgt acccatgcgc tacgttcctg gccctcttca aacaggccca\n",
       "     1321 gttcgccaat aaaatcaccc tgattcagat aggagaggat catttcttta ccctcttcgt\n",
       "     1381 ctttgatcag cactgccaca gagcctttaa cgatgtagta cagcgtttcc gctttttcac\n",
       "     1441 cctggtgaat aagcgtgctc ttggatgggt acttatgaat gtggcaatga gacaagaacc\n",
       "     1501 attcgagagt aggatccgtt tgaggtttac caagtaccat aagatcctta aatttttatt\n",
       "     1561 atctagctag atgataatat tatatcaaga attgtacctg aaagcaaata aattttttat\n",
       "     1621 ctggcttaac tatgcggcat cagagcagat tgtactgaga gtgcaccata tgcggtgtga\n",
       "     1681 aataccgcac agatgcgtaa ggagaaaata ccgcatcagg cgctcttccg cttcctcgct\n",
       "     1741 cactgactcg ctgcgctcgg tcgttcggct gcggcgagcg gtatcagctc actcaaaggc\n",
       "     1801 ggtaatacgg ttatccacag aatcagggga taacgcagga aagaacatgt gagcaaaagg\n",
       "     1861 ccagcaaaag gccaggaacc gtaaaaaggc cgcgttgctg gcgtttttcc ataggctccg\n",
       "     1921 cccccctgac gagcatcaca aaaatcgacg ctcaagtcag aggtggcgaa acccgacagg\n",
       "     1981 actataaaga taccaggcgt ttccccctgg aagctccctc gtgcgctctc ctgttccgac\n",
       "     2041 cctgccgctt accggatacc tgtccgcctt tctcccttcg ggaagcgtgg cgctttctca\n",
       "     2101 tagctcacgc tgtaggtatc tcagttcggt gtaggtcgtt cgctccaagc tgggctgtgt\n",
       "     2161 gcacgaaccc cccgttcagc ccgaccgctg cgccttatcc ggtaactatc gtcttgagtc\n",
       "     2221 caacccggta agacacgact tatcgccact ggcagcagcc actggtaaca ggattagcag\n",
       "     2281 agcgaggtat gtaggcggtg ctacagagtt cttgaagtgg tggcctaact acggctacac\n",
       "     2341 tagaaggaca gtatttggta tctgcgctct gctgaagcca gttaccttcg gaaaaagagt\n",
       "     2401 tggtagctct tgatccggca aacaaaccac cgctggtagc ggtggttttt ttgtttgcaa\n",
       "     2461 gcagcagatt acgcgcagaa aaaaaggatc tcaagaagat cctttgatct tttctacggg\n",
       "     2521 gtctgacgct cagtggaacg aaaactcacg ttaagggatt ttggtcatga gattatcaaa\n",
       "     2581 aaggatcttc acctagatcc ttttaaatta aaaatgaagt tttaaatcaa tctaaagtat\n",
       "     2641 atatgagtaa acttggtctg acagttacca atgcttaatc agtgaggcac ctatctcagc\n",
       "     2701 gatctgtcta tttcgttcat ccatagttgc ctgactcccc gtcgtgtaga taactacgat\n",
       "     2761 acgggagggc ttaccatctg gccccagtgc tgcaatgata ccgcgagacc cacgctcacc\n",
       "     2821 ggctccagat ttatcagcaa taaaccagcc agccggaagg gccgagcgca gaagtggtcc\n",
       "     2881 tgcaacttta tccgcctcca tccagtctat taattgttgc cgggaagcta gagtaagtag\n",
       "     2941 ttcgccagtt aatagtttgc gcaacgttgt tgccattgct acaggcatcg tggtgtcacg\n",
       "     3001 ctcgtcgttt ggtatggctt cattcagctc cggttcccaa cgatcaaggc gagttacatg\n",
       "     3061 atcccccatg ttgtgcaaaa aagcggttag ctccttcggt cctccgatcg ttgtcagaag\n",
       "     3121 taagttggcc gcagtgttat cactcatggt tatggcagca ctgcataatt ctcttactgt\n",
       "     3181 catgccatcc gtaagatgct tttctgtgac tggtgagtac tcaaccaagt cattctgaga\n",
       "     3241 atagtgtatg cggcgaccga gttgctcttg cccggcgtca atacgggata ataccgcgcc\n",
       "     3301 acatagcaga actttaaaag tgctcatcat tggaaaacgt tcttcggggc gaaaactctc\n",
       "     3361 aaggatctta ccgctgttga gatccagttc gatgtaaccc actcgtgcac ccaactgatc\n",
       "     3421 ttcagcatct tttactttca ccagcgtttc tgggtgagca aaaacaggaa ggcaaaatgc\n",
       "     3481 cgcaaaaaag ggaataaggg cgacacggaa atgttgaata ctcatactct tcctttttca\n",
       "     3541 atattattga agcatttatc agggttattg tctcatgagc ggatacatat ttgaatgtat\n",
       "     3601 ttagaaaaat aaacaaatag gggttccgcg cacatttccc cgaaaagtgc cacctgctaa\n",
       "     3661 gaaaccatta ttatcatgac attaacctat aaaaataggc gtatcacgag gccctttcgt\n",
       "     3721 c\n",
       "//"
      ]
     },
     "execution_count": 26,
     "metadata": {},
     "output_type": "execute_result"
    }
   ],
   "source": [
    "pYPKa_Z_TEF1tp.format()"
   ]
  },
  {
   "cell_type": "code",
   "execution_count": null,
   "metadata": {
    "collapsed": true
   },
   "outputs": [],
   "source": []
  }
 ],
 "metadata": {
  "kernelspec": {
   "display_name": "Python 2",
   "language": "python",
   "name": "python2"
  },
  "language_info": {
   "codemirror_mode": {
    "name": "ipython",
    "version": 2
   },
   "file_extension": ".py",
   "mimetype": "text/x-python",
   "name": "python",
   "nbconvert_exporter": "python",
   "pygments_lexer": "ipython2",
   "version": "2.7.9"
  }
 },
 "nbformat": 4,
 "nbformat_minor": 0
}
