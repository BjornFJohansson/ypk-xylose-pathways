{
 "cells": [
  {
   "cell_type": "code",
   "execution_count": 2,
   "metadata": {
    "collapsed": false
   },
   "outputs": [],
   "source": [
    "\n",
    "from pYPKa_Z_PGI1tp import  as first\n",
    "from pYPKa_E_FBA1tp import pYPKa_E_FBA1tp as last\n",
    "\n",
    "                                            \n",
    "pf, pr = parse('''\n",
    "                    >XX_YPK_rec_fwd \n",
    "                    gtcgaggaacgccaggttgcccactttctcactagtgaAAATGTTGTGTTCAGTAATTCAGAG\n",
    "                    >XK_YPK_rec_rev \n",
    "                    ATTTAAatcctgatgcgtttgtctgcacagatggcgcgTTAGATGAGAGTCTTTTCCAGTTC\n",
    "                ''')   \n",
    "                                                        \n",
    "from pygenome import sg    \n",
    "\n",
    "\n",
    "first  = pcr( p167, p567, first)\n",
    "middle = pcr( pf, pr, Dseqrecord(sg.cds(\"XKS1\")))\n",
    "last   = pcr( p568, p166, last)\n",
    "\n",
    "pYPK0_E_Z, stuffer = pYPK0.cut((EcoRV, ZraI))\n",
    "\n",
    "a = Assembly([first, middle, last, pYPK0_E_Z], limit=31)\n",
    "\n",
    "pYPK0_PGI1tp_ScXKS1_FBA1tp = a.circular_products[0].synced(\"tcgcgcgtttcggtgatgacggtgaaaacctctg\")"
   ]
  },
  {
   "cell_type": "code",
   "execution_count": 3,
   "metadata": {
    "collapsed": false
   },
   "outputs": [],
   "source": [
    "pYPK0_PGI1tp_ScXKS1_FBA1tp.write(\"pYPK0_PGI1tp_ScXKS1_FBA1tp.gb\")"
   ]
  },
  {
   "cell_type": "markdown",
   "metadata": {},
   "source": [
    "##Download sequence\n",
    "\n",
    "[pYPK0_PGI1tp_ScXKS1_FBA1tp](pYPK0_PGI1tp_ScXKS1_FBA1tp.gb)"
   ]
  }
 ],
 "metadata": {
  "kernelspec": {
   "display_name": "Python 2",
   "language": "python",
   "name": "python2"
  },
  "language_info": {
   "codemirror_mode": {
    "name": "ipython",
    "version": 2
   },
   "file_extension": ".py",
   "mimetype": "text/x-python",
   "name": "python",
   "nbconvert_exporter": "python",
   "pygments_lexer": "ipython2",
   "version": "2.7.9"
  }
 },
 "nbformat": 4,
 "nbformat_minor": 0
}
