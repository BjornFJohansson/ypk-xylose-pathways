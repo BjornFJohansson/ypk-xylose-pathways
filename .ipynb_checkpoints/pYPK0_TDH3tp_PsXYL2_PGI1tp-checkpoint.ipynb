{
 "cells": [
  {
   "cell_type": "markdown",
   "metadata": {},
   "source": [
    "# Construction of pYPK0_TDH3tp_PsXYL2_PGI1tp (pMEC1128)\n",
    "\n",
    "[pYPKa_Z_TDH3tp](pYPKa_Z_TDH3tp.ipynb)\n",
    "\n",
    "[pYPKa_E_PGI1tp](pYPKa_E_PGI1tp.ipynb)"
   ]
  },
  {
   "cell_type": "code",
   "execution_count": 1,
   "metadata": {
    "collapsed": false
   },
   "outputs": [],
   "source": [
    "import pydna\n",
    "from pydna import ipynb_importer"
   ]
  },
  {
   "cell_type": "code",
   "execution_count": 20,
   "metadata": {
    "collapsed": true
   },
   "outputs": [],
   "source": [
    "from ypk_std_primers import p166, p167, p567, p568"
   ]
  },
  {
   "cell_type": "markdown",
   "metadata": {},
   "source": [
    "[Yeast Pathway Kit Standard Primers](ypk_std_primers.ipynb)"
   ]
  },
  {
   "cell_type": "code",
   "execution_count": 21,
   "metadata": {
    "collapsed": true
   },
   "outputs": [],
   "source": [
    "from Bio.Restriction import ZraI, AjiI, EcoRV"
   ]
  },
  {
   "cell_type": "code",
   "execution_count": 22,
   "metadata": {
    "collapsed": true
   },
   "outputs": [],
   "source": [
    "pYPK0 = pydna.read(\"pYPK0.gb\")"
   ]
  },
  {
   "cell_type": "code",
   "execution_count": 23,
   "metadata": {
    "collapsed": true
   },
   "outputs": [],
   "source": [
    "promoter_clone = pYPKa_Z_TDH3tp = pydna.read(\"pYPKa_Z_TDH3tp.gb\")"
   ]
  },
  {
   "cell_type": "markdown",
   "metadata": {},
   "source": [
    "[Genbank](http://www.ncbi.nlm.nih.gov/nuccore/A16166.1) record"
   ]
  },
  {
   "cell_type": "code",
   "execution_count": 24,
   "metadata": {
    "collapsed": false
   },
   "outputs": [
    {
     "data": {
      "text/html": [
       "<iframe src=http://google.com/patents/EP0450430A2?cl=es width=100% height=250></iframe>"
      ],
      "text/plain": [
       "<IPython.core.display.HTML object>"
      ]
     },
     "execution_count": 24,
     "metadata": {},
     "output_type": "execute_result"
    }
   ],
   "source": [
    "from IPython.display import HTML\n",
    "HTML('<iframe src=http://google.com/patents/EP0450430A2?cl=es width=100% height=250></iframe>')"
   ]
  },
  {
   "cell_type": "code",
   "execution_count": 25,
   "metadata": {
    "collapsed": false
   },
   "outputs": [],
   "source": [
    "gb = pydna.Genbank(\"bjornjobbb@gmail.com\")\n",
    "gene_template = gb.nucleotide(\"A16166.1\")"
   ]
  },
  {
   "cell_type": "code",
   "execution_count": 26,
   "metadata": {
    "collapsed": false
   },
   "outputs": [
    {
     "data": {
      "text/plain": [
       "+----------+-----------+-------+------+--------+--------------+--------+------+\n",
       "| Feature# | Direction | Start | End  | Length | id           | type   | orf? |\n",
       "+----------+-----------+-------+------+--------+--------------+--------+------+\n",
       "| 0        |    -->    |   0   | 1963 |   1963 | <unknown id> | source |  no  |\n",
       "| 1        |    -->    |  318  | 1410 |   1092 | <unknown id> | CDS    | yes  |\n",
       "+----------+-----------+-------+------+--------+--------------+--------+------+"
      ]
     },
     "execution_count": 26,
     "metadata": {},
     "output_type": "execute_result"
    }
   ],
   "source": [
    "gene_template.list_features()"
   ]
  },
  {
   "cell_type": "code",
   "execution_count": 27,
   "metadata": {
    "collapsed": false
   },
   "outputs": [],
   "source": [
    "orf = gene_template.extract_feature(1)"
   ]
  },
  {
   "cell_type": "code",
   "execution_count": 28,
   "metadata": {
    "collapsed": false
   },
   "outputs": [
    {
     "data": {
      "text/plain": [
       "True"
      ]
     },
     "execution_count": 28,
     "metadata": {},
     "output_type": "execute_result"
    }
   ],
   "source": [
    "orf.isorf()"
   ]
  },
  {
   "cell_type": "code",
   "execution_count": 29,
   "metadata": {
    "collapsed": false
   },
   "outputs": [
    {
     "name": "stdout",
     "output_type": "stream",
     "text": [
      "1092\n"
     ]
    },
    {
     "data": {
      "text/plain": [
       "CyliZ1T5FR7RZCWuSzPm9dOHmM0"
      ]
     },
     "execution_count": 29,
     "metadata": {},
     "output_type": "execute_result"
    }
   ],
   "source": [
    "print len(orf)\n",
    "orf.seguid()"
   ]
  },
  {
   "cell_type": "code",
   "execution_count": 30,
   "metadata": {
    "collapsed": false
   },
   "outputs": [
    {
     "name": "stdout",
     "output_type": "stream",
     "text": [
      "MTANPSLVLNKIDDISFETYDAPEISEPTDVLVQVKKTGICGSDIHFYAHGRIGNFVLTKPMVLGHESAGTVVQVGKGVTSLKVGDNVAIEPGIPSRFSDEYKSGHYNLCPHMAFAATPNSKEGEPNPPGTLCKYFKSPEDFLVKLPDHVSLELGALVEPLSVGVHASKLGSVAFGDYVAVFGAGPVGLLAAAVAKTFGAKGVIVVDIFDNKLKMAKDIGAATHTFNSKTGGSEELIKAFGGNVPNVVLECTGAEPCIKLGVDAIAPGGRFVQVGNAAGPVSFPITVFAMKELTLFGSFRYGFNDYKTAVGIFDTNYQNGRENAPIDFEQLITHRYKFKDAIEAYDLVRAGKGAVKCLIDGPE*\n"
     ]
    }
   ],
   "source": [
    "print str(orf.seq.translate())"
   ]
  },
  {
   "cell_type": "code",
   "execution_count": 31,
   "metadata": {
    "collapsed": true
   },
   "outputs": [],
   "source": [
    "pf, pr = pydna.parse('''>XDH_YPK_rec_fwd \n",
    "                        gtcgaggaacgccaggttgcccactttctcactagtgaAAATGACTGCTAACCCTTCCTTGGTG\n",
    "                        >XDH_YPK_rec_rev \n",
    "                        ATTTAAatcctgatgcgtttgtctgcacagatggcgcgTTACTCAGGGCCGTCAATGAGACA''')"
   ]
  },
  {
   "cell_type": "code",
   "execution_count": 32,
   "metadata": {
    "collapsed": true
   },
   "outputs": [],
   "source": [
    "g = pydna.pcr( pf, pr, orf)"
   ]
  },
  {
   "cell_type": "code",
   "execution_count": 33,
   "metadata": {
    "collapsed": false
   },
   "outputs": [
    {
     "data": {
      "text/plain": [
       "                                        5ATGACTGCTAACCCTTCCTTGGTG...TGTCTCATTGACGGCCCTGAGTAA3\n",
       "                                                                    |||||||||||||||||||||||| tm 57.6 (dbd) 71.8\n",
       "                                                                   3ACAGAGTAACTGCCGGGACTCATTgcgcggtagacacgtctgtttgcgtagtcctaAATTTA5\n",
       "5gtcgaggaacgccaggttgcccactttctcactagtgaAAATGACTGCTAACCCTTCCTTGGTG3\n",
       "                                         |||||||||||||||||||||||| tm 56.6 (dbd) 69.3\n",
       "                                        3TACTGACGATTGGGAAGGAACCAC...ACAGAGTAACTGCCGGGACTCATT5"
      ]
     },
     "execution_count": 33,
     "metadata": {},
     "output_type": "execute_result"
    }
   ],
   "source": [
    "g.figure()"
   ]
  },
  {
   "cell_type": "code",
   "execution_count": 34,
   "metadata": {
    "collapsed": false
   },
   "outputs": [],
   "source": [
    "terminator_clone = pYPKa_E_PGI1tp = pydna.read(\"pYPKa_E_PGI1tp.gb\")"
   ]
  },
  {
   "cell_type": "code",
   "execution_count": 35,
   "metadata": {
    "collapsed": false
   },
   "outputs": [],
   "source": [
    "p  = pydna.pcr( p167, p567, promoter_clone)\n",
    "t  = pydna.pcr( p568, p166, terminator_clone)"
   ]
  },
  {
   "cell_type": "code",
   "execution_count": 36,
   "metadata": {
    "collapsed": true
   },
   "outputs": [],
   "source": [
    "pYPK0_E_Z, stuffer = pYPK0.cut((EcoRV, ZraI))"
   ]
  },
  {
   "cell_type": "code",
   "execution_count": 37,
   "metadata": {
    "collapsed": false
   },
   "outputs": [
    {
     "data": {
      "text/plain": [
       "(Dseqrecord(-5681), Amplicon(860), Amplicon(1170), Amplicon(1105))"
      ]
     },
     "execution_count": 37,
     "metadata": {},
     "output_type": "execute_result"
    }
   ],
   "source": [
    "(pYPK0_E_Z, p, g, t)"
   ]
  },
  {
   "cell_type": "code",
   "execution_count": 38,
   "metadata": {
    "collapsed": false
   },
   "outputs": [],
   "source": [
    "asm = pydna.Assembly((pYPK0_E_Z, p, g, t), limit=31)"
   ]
  },
  {
   "cell_type": "code",
   "execution_count": 39,
   "metadata": {
    "collapsed": false
   },
   "outputs": [
    {
     "data": {
      "text/plain": [
       "Assembly:\n",
       "Sequences........................: [5681] [860] [1170] [1105]\n",
       "Sequences with shared homologies.: [5681] [860] [1105] [1170]\n",
       "Homology limit (bp)..............: 31\n",
       "Number of overlaps...............: 4\n",
       "Nodes in graph(incl. 5' & 3')....: 6\n",
       "Only terminal overlaps...........: No\n",
       "Circular products................: [8570]\n",
       "Linear products..................: [8668] [8631] [8620] [8607] [7858] [7563] [7487] [6725] [6443] [3048] [2238] [1980] [98] [61] [50] [37]"
      ]
     },
     "execution_count": 39,
     "metadata": {},
     "output_type": "execute_result"
    }
   ],
   "source": [
    "asm"
   ]
  },
  {
   "cell_type": "code",
   "execution_count": 40,
   "metadata": {
    "collapsed": false
   },
   "outputs": [
    {
     "data": {
      "text/plain": [
       " -|pYKP0|98\n",
       "|        \\/\n",
       "|        /\\\n",
       "|        98|860bp_PCR_prod|38\n",
       "|                          \\/\n",
       "|                          /\\\n",
       "|                          38|1170bp_PCR_prod|35\n",
       "|                                             \\/\n",
       "|                                             /\\\n",
       "|                                             35|1105bp_PCR_prod|61\n",
       "|                                                                \\/\n",
       "|                                                                /\\\n",
       "|                                                                61-\n",
       "|                                                                   |\n",
       " -------------------------------------------------------------------"
      ]
     },
     "execution_count": 40,
     "metadata": {},
     "output_type": "execute_result"
    }
   ],
   "source": [
    "candidate = asm.circular_products[0]\n",
    "candidate.figure()"
   ]
  },
  {
   "cell_type": "code",
   "execution_count": 41,
   "metadata": {
    "collapsed": false
   },
   "outputs": [],
   "source": [
    "pYPK0_TDH3tp_PsXYL2_PGI1tp = candidate.synced(pYPK0)"
   ]
  },
  {
   "cell_type": "markdown",
   "metadata": {},
   "source": [
    "The pYPK0_TDH3tp_PsXYL2_PGI1tp has cseguid ```ycHQ8EOwqQihZOUFmIbCiwHhMZ0``` and 8015 bp"
   ]
  },
  {
   "cell_type": "code",
   "execution_count": 43,
   "metadata": {
    "collapsed": false
   },
   "outputs": [
    {
     "name": "stdout",
     "output_type": "stream",
     "text": [
      "8570\n"
     ]
    },
    {
     "data": {
      "text/plain": [
       "ycHQ8EOwqQihZOUFmIbCiwHhMZ0"
      ]
     },
     "execution_count": 43,
     "metadata": {},
     "output_type": "execute_result"
    }
   ],
   "source": [
    "print len(pYPK0_TDH3tp_PsXYL2_PGI1tp)\n",
    "pYPK0_TDH3tp_PsXYL2_PGI1tp.cseguid()"
   ]
  },
  {
   "cell_type": "code",
   "execution_count": 46,
   "metadata": {
    "collapsed": false
   },
   "outputs": [
    {
     "data": {
      "text/plain": [
       "cSEGUID_ycHQ8EOwqQihZOUFmIbCiwHhMZ0_2015-05-09T14:53:41.383875"
      ]
     },
     "execution_count": 46,
     "metadata": {},
     "output_type": "execute_result"
    }
   ],
   "source": [
    "pYPK0_TDH3tp_PsXYL2_PGI1tp.name=\"pMEC1128\"\n",
    "#pYPK0_TDH3tp_PsXYL2_PGI1tp.description = \"pYPK0_TDH3tp_PsXYL2_PGI1tp\"\n",
    "pYPK0_TDH3tp_PsXYL2_PGI1tp.stamp()"
   ]
  },
  {
   "cell_type": "code",
   "execution_count": 51,
   "metadata": {
    "collapsed": false
   },
   "outputs": [],
   "source": [
    "pYPK0_TDH3tp_PsXYL2_PGI1tp.write(\"pYPK0_TDH3tp_PsXYL2_PGI1tp.gb\")"
   ]
  },
  {
   "cell_type": "markdown",
   "metadata": {},
   "source": [
    "##Download sequence\n",
    "\n",
    "[pYPK0_TDH3tp_PsXYL2_PGI1tpp](pYPK0_TDH3tp_PsXYL2_PGI1tp.gb)"
   ]
  },
  {
   "cell_type": "code",
   "execution_count": 1,
   "metadata": {
    "collapsed": false
   },
   "outputs": [],
   "source": [
    "reloaded = pydna.read(\"pYPK0_TDH3tp_PsXYL2_PGI1tp.gb\")"
   ]
  },
  {
   "cell_type": "code",
   "execution_count": 2,
   "metadata": {
    "collapsed": false
   },
   "outputs": [
    {
     "data": {
      "text/plain": [
       "ycHQ8EOwqQihZOUFmIbCiwHhMZ0"
      ]
     },
     "execution_count": 2,
     "metadata": {},
     "output_type": "execute_result"
    }
   ],
   "source": [
    "reloaded.cseguid()"
   ]
  },
  {
   "cell_type": "code",
   "execution_count": 3,
   "metadata": {
    "collapsed": false
   },
   "outputs": [
    {
     "data": {
      "text/plain": [
       "'pYPK0_TDH3tp_PsXYL2_PGI1tp cSEGUID_ycHQ8EOwqQihZOUFmIbCiwHhMZ0_2015-05-09T14:53:41.383875'"
      ]
     },
     "execution_count": 3,
     "metadata": {},
     "output_type": "execute_result"
    }
   ],
   "source": [
    "reloaded.description"
   ]
  },
  {
   "cell_type": "code",
   "execution_count": null,
   "metadata": {
    "collapsed": true
   },
   "outputs": [],
   "source": []
  }
 ],
 "metadata": {
  "kernelspec": {
   "display_name": "Python 2",
   "language": "python",
   "name": "python2"
  },
  "language_info": {
   "codemirror_mode": {
    "name": "ipython",
    "version": 2
   },
   "file_extension": ".py",
   "mimetype": "text/x-python",
   "name": "python",
   "nbconvert_exporter": "python",
   "pygments_lexer": "ipython2",
   "version": "2.7.9"
  }
 },
 "nbformat": 4,
 "nbformat_minor": 0
}
