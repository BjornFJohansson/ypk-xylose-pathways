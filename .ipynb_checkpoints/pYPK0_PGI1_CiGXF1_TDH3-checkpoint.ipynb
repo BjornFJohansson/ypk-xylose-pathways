{
 "cells": [
  {
   "cell_type": "code",
   "execution_count": 1,
   "metadata": {
    "collapsed": false
   },
   "outputs": [],
   "source": [
    "from pydna import ipynb_importer"
   ]
  },
  {
   "cell_type": "code",
   "execution_count": 2,
   "metadata": {
    "collapsed": false
   },
   "outputs": [
    {
     "name": "stdout",
     "output_type": "stream",
     "text": [
      "TTGTTTTGCCAGATTCAGCAGAGTCTGTGCAATGCGGCCGCTGACGTCGAGGAACGCCAGGTTGCCCACTTTCTCACTAGTGACCTGCAGCCGGCGCGCCATCTGTGCAGACAAACGCATCAGGATATCCGGATTTACCTGAATCAATTGGCGAAATTTTTTGTACGAAATTTCAGCCA\n",
      "5603\n"
     ]
    },
    {
     "ename": "ImportError",
     "evalue": "No module named pYPKa_A_CiGXF1",
     "output_type": "error",
     "traceback": [
      "\u001b[1;31m---------------------------------------------------------------------------\u001b[0m",
      "\u001b[1;31mImportError\u001b[0m                               Traceback (most recent call last)",
      "\u001b[1;32m<ipython-input-2-75b5631ee58c>\u001b[0m in \u001b[0;36m<module>\u001b[1;34m()\u001b[0m\n\u001b[0;32m     27\u001b[0m \u001b[1;33m\u001b[0m\u001b[0m\n\u001b[0;32m     28\u001b[0m \u001b[1;32mfrom\u001b[0m \u001b[0mpYPKa_Z_PGI1\u001b[0m \u001b[1;32mimport\u001b[0m \u001b[0mpYPKa_Z_PGI1\u001b[0m \u001b[1;32mas\u001b[0m \u001b[0mfirst\u001b[0m\u001b[1;33m\u001b[0m\u001b[0m\n\u001b[1;32m---> 29\u001b[1;33m \u001b[1;32mfrom\u001b[0m \u001b[0mpYPKa_A_CiGXF1\u001b[0m \u001b[1;32mimport\u001b[0m \u001b[0mpYPKa_A_CiGXF1\u001b[0m \u001b[1;32mas\u001b[0m \u001b[0mmiddle\u001b[0m\u001b[1;33m\u001b[0m\u001b[0m\n\u001b[0m\u001b[0;32m     30\u001b[0m \u001b[1;32mfrom\u001b[0m \u001b[0mpYPKa_E_TDH3\u001b[0m \u001b[1;32mimport\u001b[0m \u001b[0mpYPKa_E_TDH3\u001b[0m \u001b[1;32mas\u001b[0m \u001b[0mlast\u001b[0m\u001b[1;33m\u001b[0m\u001b[0m\n\u001b[0;32m     31\u001b[0m \u001b[1;33m\u001b[0m\u001b[0m\n",
      "\u001b[1;31mImportError\u001b[0m: No module named pYPKa_A_CiGXF1"
     ]
    }
   ],
   "source": [
    "#!/usr/bin/env python\n",
    "\n",
    "from pydna import pcr\n",
    "from pydna import parse\n",
    "from pydna import Genbank\n",
    "from pydna import Assembly\n",
    "from pydna import Dseqrecord\n",
    "\n",
    "p577,p578,p468,p467,p567,p568 =    parse('''>577        \n",
    "                                            gttctgatcctcgagcatcttaagaattc                                                \n",
    "                                            >578          \n",
    "                                            gttcttgtctcattgccacattcataagt\n",
    "                                            >468\n",
    "                                            gtcgaggaacgccaggttgcccact\n",
    "                                            >467 \n",
    "                                            ATTTAAatcctgatgcgtttgtctgcacaga\n",
    "                                            >567\n",
    "                                            GTcggctgcaggtcactagtgag\n",
    "                                            >568\n",
    "                                            GTGCcatctgtgcagacaaacg''')\n",
    "                                            \n",
    "from Bio.Restriction import ZraI, AjiI, EcoRV\n",
    "\n",
    "pYPKpw = read(\"pYPKpw.gb\")\n",
    "\n",
    "pYPKpw_lin = pYPKpw.linearize(EcoRV)\n",
    "\n",
    "from pYPKa_Z_PGI1 import pYPKa_Z_PGI1 as first\n",
    "\n",
    "middle = read(\"pYPKa_A_CiGXF1\") \n",
    "\n",
    "from pYPKa_E_TDH3 import pYPKa_E_TDH3 as last                                                                               \n",
    "\n",
    "first  = pcr( p577, p567, first)\n",
    "middle = pcr( p468, p467, middle)\n",
    "last   = pcr( p568, p578, last)\n",
    "\n",
    "asm = Assembly((pYPKpw_lin, first, middle, last), limit=31)\n",
    "\n",
    "pYPK0_PGI1_CiGXF1_TDH3 = asm.circular_products[0].synced(\"tcgcgcgtttcggtgatgacggtgaaaacctctg\")"
   ]
  },
  {
   "cell_type": "code",
   "execution_count": null,
   "metadata": {
    "collapsed": false
   },
   "outputs": [],
   "source": [
    "pYPK0_PGI1_CiGXF1_TDH3.write(\"pYPK0_PGI1_CiGXF1_TDH3.gb\")"
   ]
  },
  {
   "cell_type": "markdown",
   "metadata": {},
   "source": [
    "##Download sequence\n",
    "\n",
    "[pYPK0_PGI1_CiGXF1_TDH3](pYPK0_PGI1_CiGXF1_TDH3.gb)"
   ]
  }
 ],
 "metadata": {
  "kernelspec": {
   "display_name": "Python 2",
   "language": "python",
   "name": "python2"
  },
  "language_info": {
   "codemirror_mode": {
    "name": "ipython",
    "version": 2
   },
   "file_extension": ".py",
   "mimetype": "text/x-python",
   "name": "python",
   "nbconvert_exporter": "python",
   "pygments_lexer": "ipython2",
   "version": "2.7.10"
  }
 },
 "nbformat": 4,
 "nbformat_minor": 0
}
