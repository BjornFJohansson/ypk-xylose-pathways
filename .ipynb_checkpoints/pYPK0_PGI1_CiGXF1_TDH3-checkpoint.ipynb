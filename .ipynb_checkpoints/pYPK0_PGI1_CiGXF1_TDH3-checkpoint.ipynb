{
 "cells": [
  {
   "cell_type": "code",
   "execution_count": 1,
   "metadata": {
    "collapsed": false
   },
   "outputs": [],
   "source": [
    "from pydna import ipynb_importer"
   ]
  },
  {
   "cell_type": "code",
   "execution_count": 4,
   "metadata": {
    "collapsed": false
   },
   "outputs": [
    {
     "data": {
      "text/html": [
       "<font face=monospace><a href='pYPKa_E_TDH3.gb' target='_blank'>pYPKa_E_TDH3.gb</a></font><br>"
      ],
      "text/plain": [
       "<IPython.core.display.HTML object>"
      ]
     },
     "metadata": {},
     "output_type": "display_data"
    }
   ],
   "source": [
    "#!/usr/bin/env python\n",
    "\n",
    "from pydna import pcr\n",
    "from pydna import parse\n",
    "from pydna import read\n",
    "from pydna import Genbank\n",
    "from pydna import Assembly\n",
    "from pydna import Dseqrecord\n",
    "\n",
    "p577,p578,p468,p467,p567,p568 =    parse('''>577        \n",
    "                                            gttctgatcctcgagcatcttaagaattc                                                \n",
    "                                            >578          \n",
    "                                            gttcttgtctcattgccacattcataagt\n",
    "                                            >468\n",
    "                                            gtcgaggaacgccaggttgcccact\n",
    "                                            >467 \n",
    "                                            ATTTAAatcctgatgcgtttgtctgcacaga\n",
    "                                            >567\n",
    "                                            GTcggctgcaggtcactagtgag\n",
    "                                            >568\n",
    "                                            GTGCcatctgtgcagacaaacg''')\n",
    "                                            \n",
    "from Bio.Restriction import ZraI, AjiI, EcoRV\n",
    "\n",
    "pYPKpw = read(\"pYPKpw.gb\")\n",
    "\n",
    "pYPKpw_lin = pYPKpw.linearize(EcoRV)\n",
    "\n",
    "from pYPKa_Z_PGI1 import pYPKa_Z_PGI1 as first\n",
    "\n",
    "middle = read(\"pYPKa_A_CiGXF1.gb\") \n",
    "\n",
    "from pYPKa_E_TDH3 import pYPKa_E_TDH3 as last                                                                               \n",
    "\n",
    "first  = pcr( p577, p567, first)\n",
    "middle = pcr( p468, p467, middle)\n",
    "last   = pcr( p568, p578, last)\n",
    "\n",
    "asm = Assembly((pYPKpw_lin, first, middle, last), limit=31)\n",
    "\n",
    "pYPK0_PGI1_CiGXF1_TDH3 = asm.circular_products[0].synced(\"tcgcgcgtttcggtgatgacggtgaaaacctctg\")"
   ]
  },
  {
   "cell_type": "code",
   "execution_count": 5,
   "metadata": {
    "collapsed": false
   },
   "outputs": [
    {
     "data": {
      "text/html": [
       "<font face=monospace><a href='pYPK0_PGI1_CiGXF1_TDH3.gb' target='_blank'>pYPK0_PGI1_CiGXF1_TDH3.gb</a></font><br>"
      ],
      "text/plain": [
       "<IPython.core.display.HTML object>"
      ]
     },
     "metadata": {},
     "output_type": "display_data"
    }
   ],
   "source": [
    "pYPK0_PGI1_CiGXF1_TDH3.write(\"pYPK0_PGI1_CiGXF1_TDH3.gb\")"
   ]
  },
  {
   "cell_type": "markdown",
   "metadata": {},
   "source": [
    "##Download sequence\n",
    "\n",
    "[pYPK0_PGI1_CiGXF1_TDH3](pYPK0_PGI1_CiGXF1_TDH3.gb)"
   ]
  },
  {
   "cell_type": "code",
   "execution_count": null,
   "metadata": {
    "collapsed": true
   },
   "outputs": [],
   "source": []
  }
 ],
 "metadata": {
  "kernelspec": {
   "display_name": "Python 3",
   "language": "python",
   "name": "python3"
  },
  "language_info": {
   "codemirror_mode": {
    "name": "ipython",
    "version": 3
   },
   "file_extension": ".py",
   "mimetype": "text/x-python",
   "name": "python",
   "nbconvert_exporter": "python",
   "pygments_lexer": "ipython3",
   "version": "3.5.2"
  }
 },
 "nbformat": 4,
 "nbformat_minor": 0
}
