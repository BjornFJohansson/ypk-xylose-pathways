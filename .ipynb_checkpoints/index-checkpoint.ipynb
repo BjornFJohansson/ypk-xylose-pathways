{
 "cells": [
  {
   "cell_type": "markdown",
   "metadata": {},
   "source": [
    "# Constructs described in Pereira et al. 2015"
   ]
  },
  {
   "cell_type": "markdown",
   "metadata": {},
   "source": [
    "| Pathway  | Expressed genes                                                  | Genbank                | Notebook                   |\n",
    "|----------|------------------------------------------------------------------|------------------------|----------------------------|\n",
    "| pMEC1135 | SsXR(N272D), SsXDH, ScXK, ScTAL1                                 | [genbank](pMEC1135.gb) | [notebook](pMEC1135.ipynb) |\n",
    "| pMEC1136 | SsXR(wt), SsXDH, ScXK, ScTAL1                                    | [genbank](pMEC1136.gb) | [notebook](pMEC1136.ipynb) |\n",
    "| pMEC1137 | ScTKL1, ScRPE1, ScRKI1, CiGXF1                                   | [genbank](pMEC1137.gb) | [notebook](pMEC1137.ipynb) |\n",
    "| pMEC1138 | SsXR(N272D), SsXDH, ScXK, ScTAL1, ScTKL1, ScRPE1, ScRKI1, CiGXF1 | [genbank](pMEC1138.gb) | [notebook](pMEC1138.ipynb) |\n",
    "| pMEC1139 | SsXR, SsXDH, ScXK, ScTAL1, ScTKL1, ScRPE1, ScRKI1, CiGXF1        | [genbank](pMEC1139.gb) | [notebook](pMEC1139.ipynb) |"
   ]
  },
  {
   "cell_type": "markdown",
   "metadata": {},
   "source": [
    "| Construct                        | Description                              | Genbank                                        | Notebook                                                                   |\n",
    "|----------------------------------|------------------------------------------|------------------------------------------------|----------------------------------------------------------------------------|\n",
    "| pYPK0_TEF1tp_PsXYL1_N272D_TDH3tp | Xylose reductase (N272D)                 | [genbank](pYPK0_TEF1tp_PsXYL1_N272D_TDH3tp.gb) | [notebook](pYPK0_TEF1tp_PsXYL1_N272D_TDH3tp.ipynb) |\n",
    "| pYPK0_TEF1tp_PsXYL1_TDH3tp       | Xylose reductase (wt)                    | [genbank](pYPK0_TEF1tp_PsXYL1_TDH3tp.gb)       | [notebook](pYPK0_TEF1tp_PsXYL1_TDH3tp.ipynb)             |\n",
    "| pYPK0_TDH3tp_PsXYL2_PGI1tp       | Xylitol dehydrogenase                    | [genbank](pYPK0_TDH3tp_PsXYL2_PGI1tp.gb)       | [notebook](pYPK0_TDH3tp_PsXYL2_PGI1tp.ipynb)             |\n",
    "| pYPK0_PGI1tp_ScXKS1_FBA1tp       | Xylulose kinase                          | [genbank](pYPK0_PGI1tp_ScXKS1_FBA1tp.gb)       | [notebook](pYPK0_PGI1tp_ScXKS1_FBA1tp.ipynb)             |\n",
    "| pYPK0_FBA1tp_ScTAL1_PDC1tp       | Transaldolase                            | [genbank](pYPK0_FBA1tp_ScTAL1_PDC1tp.gb)       | [notebook](pYPK0_FBA1tp_ScTAL1_PDC1tp.ipynb)             |\n",
    "| pYPK0_PDC1tp_ScTKL1_RPS19btp     | Transketolase                            | [genbank](pYPK0_PDC1tp_ScTKL1_RPS19btp.gb)     | [notebook](pYPK0_PDC1tp_ScTKL1_RPS19btp.ipynb)         |\n",
    "| pYPK0_RPS19btp_ScRPE1_RPS19atp   | ribulose-phosphate 3-epimerase           | [genbank](pYPK0_RPS19btp_ScRPE1_RPS19atp.gb)   | [notebook](pYPK0_RPS19btp_ScRPE1_RPS19atp.ipynb)     |\n",
    "| pYPK0_RPS19atp_ScRKI1_TPI1tp     | ribose-5-phosphate isomerase             | [genbank](pYPK0_RPS19atp_ScRKI1_TPI1tp.gb)     | [notebook](pYPK0_RPS19atp_ScRKI1_TPI1tp.ipynb)         |\n",
    "| pYPK0_TPI1tp_CiGXF1_ENO2tp       | C. intermedia GXF1 xylose transporter    | [genbank](pYPK0_TPI1tp_CiGXF1_ENO2tp.gb)       | [notebook](pYPK0_TPI1tp_CiGXF1_ENO2tp.ipynb)             |\n",
    "| pYPK0_PGI1tp_CiGXF1_TDH3tp       | ?C. intermedia GXF1 xylose transporter?  | [genbank](pYPK0_PGI1tp_CiGXF1_TDH3tp.gb)       | [notebook](pYPK0_PGI1tp_CiGXF1_TDH3tp.ipynb)             |\n",
    "\n",
    "              "
   ]
  },
  {
   "cell_type": "markdown",
   "metadata": {
    "collapsed": false
   },
   "source": [
    "| Construct      | Genbank file                 |                          Notebook |\n",
    "|:---------------|:-----------------------------|:----------------------------------|\n",
    "| pYPKa_A_ScRKI1 | [genbank](pYPKa_A_ScRKI1.gb) |  [notebook](pYPKa_A_ScRKI1.ipynb) |\n",
    "| pYPKa_A_ScRPE1 | [genbank](pYPKa_A_ScRPE1.gb) |  [notebook](pYPKa_A_ScRPE1.ipynb) |\n",
    "| pYPKa_E_ENO2tp | [genbank](pYPKa_E_ENO2tp.gb) |  [notebook](pYPKa_E_ENO2tp.ipynb) |\n",
    "| pYPKa_E_FBA1tp | [genbank](pYPKa_E_FBA1tp.gb) |  [notebook](pYPKa_E_FBA1tp.ipynb) |\n",
    "| pYPKa_E_PDC1tp | [genbank](pYPKa_E_PDC1tp.gb) |  [notebook](pYPKa_E_PDC1tp.ipynb) |\n",
    "| pYPKa_E_RPS19atp | [genbank](pYPKa_E_RPS19atp.gb) |  [notebook](pYPKa_E_RPS19atp.ipynb) |\n",
    "| pYPKa_E_RPS19btp | [genbank](pYPKa_E_RPS19btp.gb) |  [notebook](pYPKa_E_RPS19btp.ipynb) |\n",
    "| pYPKa_E_TDH3tp | [genbank](pYPKa_E_TDH3tp.gb) |  [notebook](pYPKa_E_TDH3tp.ipynb) |\n",
    "| pYPKa_E_TPI1tp | [genbank](pYPKa_E_TPI1tp.gb) |  [notebook](pYPKa_E_TPI1tp.ipynb) |\n",
    "| pYPKa_Z_FBA1tp | [genbank](pYPKa_Z_FBA1tp.gb) |  [notebook](pYPKa_Z_FBA1tp.ipynb) |\n",
    "| pYPKa_Z_PDC1tp | [genbank](pYPKa_Z_PDC1tp.gb) |  [notebook](pYPKa_Z_PDC1tp.ipynb) |\n",
    "| pYPKa_Z_RPS19atp | [genbank](pYPKa_Z_RPS19atp.gb) |  [notebook](pYPKa_Z_RPS19atp.ipynb) |\n",
    "| pYPKa_Z_RPS19btp | [genbank](pYPKa_Z_RPS19btp.gb) |  [notebook](pYPKa_Z_RPS19btp.ipynb) |\n",
    "| pYPKa_Z_TDH3tp | [genbank](pYPKa_Z_TDH3tp.gb) |  [notebook](pYPKa_Z_TDH3tp.ipynb) |\n",
    "| pYPKa_Z_TEF1tp | [genbank](pYPKa_Z_TEF1tp.gb) |  [notebook](pYPKa_Z_TEF1tp.ipynb) |\n",
    "| pYPKa_Z_TPI1tp | [genbank](pYPKa_Z_TPI1tp.gb) |  [notebook](pYPKa_Z_TPI1tp.ipynb) |\n"
   ]
  },
  {
   "cell_type": "markdown",
   "metadata": {},
   "source": [
    "| Vector   | Short description                         | Genbank                | Notebooks                  |\n",
    "|----------|-------------------------------------------|------------------------|----------------------------|\n",
    "| pYPKa    | pCAPs with a unique AjiI site             | [genbank](pYPKa.gb)    | [notebook](pYPKa.ipynb)    |\n",
    "| pMEC1030 | pSU0 lacking a the EcoRV site             | [genbank](pMEC1030.gb) | [notebook](pMEC1030.ipynb) |\n",
    "| pYPK0    | Yeast version of pCAPs                    | [genbank](pYPK0.gb)    | [notebook](pYPK0.ipynb)    |\n",
    "| pYPKpw   | A version of pYPK0 with a deletion in crp | [genbank](pYPKpw.gb)   | [notebook](pYPKpw.ipynb)   |"
   ]
  },
  {
   "cell_type": "code",
   "execution_count": null,
   "metadata": {
    "collapsed": true
   },
   "outputs": [],
   "source": []
  }
 ],
 "metadata": {
  "kernelspec": {
   "display_name": "Python 2",
   "language": "python",
   "name": "python2"
  },
  "language_info": {
   "codemirror_mode": {
    "name": "ipython",
    "version": 2
   },
   "file_extension": ".py",
   "mimetype": "text/x-python",
   "name": "python",
   "nbconvert_exporter": "python",
   "pygments_lexer": "ipython2",
   "version": "2.7.9"
  }
 },
 "nbformat": 4,
 "nbformat_minor": 0
}
