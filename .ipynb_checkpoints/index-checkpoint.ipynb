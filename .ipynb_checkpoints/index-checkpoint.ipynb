{
 "cells": [
  {
   "cell_type": "markdown",
   "metadata": {},
   "source": [
    "# Xylose pathway constructs described in Pereira et al. 2015"
   ]
  },
  {
   "cell_type": "markdown",
   "metadata": {},
   "source": [
    "This is an IPython notebook (ipynb) file. An ipynb file can contain both comments and [Python](https://www.python.org/) code. This file links to other ipynb files which describe in detail every genetic construction made as a part of this work using [pydna](http://www.biomedcentral.com/1471-2105/16/142/abstract). Since pydna in used, the documentation is complete and all \n",
    "\n",
    "If you would like to have your own copy of this pathway repository, the best way is the get a Github account and make you own fork. If you still would like to download all files to your computer, follow the instructions at the end of this page."
   ]
  },
  {
   "cell_type": "markdown",
   "metadata": {},
   "source": [
    "### Pathways\n",
    "\n",
    "| Pathway  | Expressed genes                                                  | Genbank                | Notebook                   |\n",
    "|----------|------------------------------------------------------------------|------------------------|----------------------------|\n",
    "| pMEC1135 | SsXR(N272D), SsXDH, ScXK, ScTAL1                                 | [genbank](pMEC1135.gb) | [notebook](pMEC1135.ipynb) |\n",
    "| pMEC1136 | SsXR(wt), SsXDH, ScXK, ScTAL1                                    | [genbank](pMEC1136.gb) | [notebook](pMEC1136.ipynb) |\n",
    "| pMEC1137 | ScTKL1, ScRPE1, ScRKI1, CiGXF1                                   | [genbank](pMEC1137.gb) | [notebook](pMEC1137.ipynb) |\n",
    "| pMEC1138 | SsXR(N272D), SsXDH, ScXK, ScTAL1, ScTKL1, ScRPE1, ScRKI1, CiGXF1 | [genbank](pMEC1138.gb) | [notebook](pMEC1138.ipynb) |\n",
    "| pMEC1139 | SsXR, SsXDH, ScXK, ScTAL1, ScTKL1, ScRPE1, ScRKI1, CiGXF1        | [genbank](pMEC1139.gb) | [notebook](pMEC1139.ipynb) |"
   ]
  },
  {
   "cell_type": "markdown",
   "metadata": {},
   "source": [
    "### Single gene yeast expression vectors\n",
    "\n",
    "\n",
    "| Construct                        | Description                              | Genbank                                        | Notebook                                                                   |\n",
    "|----------------------------------|------------------------------------------|------------------------------------------------| ---------------------------------------------------------------------------|\n",
    "| pYPK0_TEF1tp_PsXYL1_N272D_TDH3tp | Xylose reductase (N272D)                 | [genbank](pYPK0_TEF1tp_PsXYL1_N272D_TDH3tp.gb) | [notebook](pYPK0_TEF1tp_PsXYL1_N272D_TDH3tp.ipynb) |\n",
    "| pYPK0_TEF1tp_PsXYL1_TDH3tp       | Xylose reductase (wt)                    | [genbank](pYPK0_TEF1tp_PsXYL1_TDH3tp.gb)       | [notebook](pYPK0_TEF1tp_PsXYL1_TDH3tp.ipynb)             |\n",
    "| pYPK0_TDH3tp_PsXYL2_PGI1tp       | Xylitol dehydrogenase                    | [genbank](pYPK0_TDH3tp_PsXYL2_PGI1tp.gb)       | [notebook](pYPK0_TDH3tp_PsXYL2_PGI1tp.ipynb)             |\n",
    "| pYPK0_PGI1tp_ScXKS1_FBA1tp       | Xylulose kinase                          | [genbank](pYPK0_PGI1tp_ScXKS1_FBA1tp.gb)       | [notebook](pYPK0_PGI1tp_ScXKS1_FBA1tp.ipynb)             |\n",
    "| pYPK0_FBA1tp_ScTAL1_PDC1tp       | Transaldolase                            | [genbank](pYPK0_FBA1tp_ScTAL1_PDC1tp.gb)       | [notebook](pYPK0_FBA1tp_ScTAL1_PDC1tp.ipynb)             |\n",
    "| pYPK0_PDC1tp_ScTKL1_RPS19btp     | Transketolase                            | [genbank](pYPK0_PDC1tp_ScTKL1_RPS19btp.gb)     | [notebook](pYPK0_PDC1tp_ScTKL1_RPS19btp.ipynb)         |\n",
    "| pYPK0_RPS19btp_ScRPE1_RPS19atp   | ribulose-phosphate 3-epimerase           | [genbank](pYPK0_RPS19btp_ScRPE1_RPS19atp.gb)   | [notebook](pYPK0_RPS19btp_ScRPE1_RPS19atp.ipynb)     |\n",
    "| pYPK0_RPS19atp_ScRKI1_TPI1tp     | ribose-5-phosphate isomerase             | [genbank](pYPK0_RPS19atp_ScRKI1_TPI1tp.gb)     | [notebook](pYPK0_RPS19atp_ScRKI1_TPI1tp.ipynb)         |\n",
    "| pYPK0_TPI1tp_CiGXF1_ENO2tp       | C. intermedia GXF1 xylose transporter    | [genbank](pYPK0_TPI1tp_CiGXF1_ENO2tp.gb)       | [notebook](pYPK0_TPI1tp_CiGXF1_ENO2tp.ipynb)             |\n",
    "| pYPK0_PGI1tp_CiGXF1_TDH3tp       | ?C. intermedia GXF1 xylose transporter?  | [genbank](pYPK0_PGI1tp_CiGXF1_TDH3tp.gb)       | [notebook](pYPK0_PGI1tp_CiGXF1_TDH3tp.ipynb)             |\n",
    "\n",
    "              "
   ]
  },
  {
   "cell_type": "markdown",
   "metadata": {},
   "source": [
    "### HIS3 yeast expression vectors\n",
    "\n",
    "|Plasmid\t                    |    Genbank                        |\t\t\tNotebook\t                    |\n",
    "|-------------------------------|:---------------------------------:|:-----------------------------------------:|\n",
    "|pYPK0_HIS3\t                    |[gb](pYPK0_HIS3.gb)\t            |[nb](pYPK0_HIS3.ipynb)\t                    |\n",
    "|pYPK0_TDH1pt_HIS3_ENO2\t        |[gb](pYPK0_TDH1pt_HIS3_ENO2.gb)    |[nb](pYPK0_TDH1pt_HIS3_ENO2.ipynb)\t        |\n",
    "|p413TEF\t                    |[gb](./Mumberg/p413TEF.gb)\t        |[nb](./Mumberg/mumberg_32_vectors.ipynb)   |\n",
    "|pYPK3_RPS19b_HIS3_RPS19a   \t|[gb](pYPK3_RPS19b_HIS3_RPS19a.gb)\t|[nb](pYPK3_RPS19b_HIS3_RPS19a.ipynb)       |\n",
    "|pYPK0_PGI1_HIS3_FBA1\t        |[gb](pYPK0_PGI1_HIS3_FBA1.gb)\t    |[nb](pYPK0_PGI1_HIS3_FBA1.ipynb)\t        |\n",
    "|pYPK0_TPI1_HIS3_ENO2\t        |[gb](pYPK0_TPI1_HIS3_ENO2.gb)\t    |[nb](pYPK0_TPI1_HIS3_ENO2.ipynb)\t        |\n",
    "|p423TEF\t                    |[gb](./Mumberg/p423TEF.gb)\t        |[nb](./Mumberg/mumberg_32_vectors.ipynb)   |\n",
    "|p426TDH3_HIS3\t                |[gb](p426TDH3_HIS3.gb)\t            |[nb](p426TDH3_HIS3.ipynb)                  |\n",
    "|p426TEF_HIS3\t                |[gb](p426TEF_HIS3.gb)\t            |[nb](p426TEF_HIS3.ipynb)\t                |\n",
    "|pYPK0_TDH3_HIS3_PGI1\t        |[gb](pYPK0_TDH3_HIS3_PGI1.gb)\t    |[nb](pYPK0_TDH3_HIS3_PGI1.ipynb)\t        |\n",
    "|pYPK0_TEF1_HIS3_TDH3\t        |[gb](pYPK0_TEF1_HIS3_TDH3.gb)\t    |[nb](pYPK0_TEF1_HIS3_TDH3.ipynb)\t        |\n",
    "|pYPK0_FBA1_HIS3_PDC1\t        |[gb](pYPK0_FBA1_HIS3_PDC1.gb)\t    |[nb](pYPK0_FBA1_HIS3_PDC1.ipynb)\t        |\n",
    "|pYPK0_RPS19a_HIS3_TPI1\t        |[gb](pYPK0_RPS19a_HIS3_TPI1.gb)\t|[nb](pYPK0_RPS19a_HIS3_TPI1.ipynb)\t        |\n",
    "|pYPK0_RPS19b_HIS3_RPS19a\t    |[gb](pYPK0_RPS19b_HIS3_RPS19a.gb)\t|[nb](pYPK0_RPS19b_HIS3_RPS19a.ipynb)       |\n",
    "|pYPK0_PDC1_HIS3_RPS19b\t        |[gb](pYPK0_PDC1_HIS3_RPS19b.gb)\t|[nb](pYPK0_PDC1_HIS3_RPS19b.ipynb)\t        |\n",
    "|pYPK0_RPS19b_HIS3_TDH1\t        |[gb](pYPK0_RPS19b_HIS3_TDH1.gb)\t|[nb](pYPK0_RPS19b_HIS3_TDH1.ipynb)\t        |"
   ]
  },
  {
   "cell_type": "markdown",
   "metadata": {
    "collapsed": false
   },
   "source": [
    "### Promoter library\n",
    "\n",
    "| Construct      | Genbank                      |                          Notebook |\n",
    "|:---------------|:-----------------------------|:----------------------------------|\n",
    "| pYPKa_Z_FBA1tp | [genbank](pYPKa_Z_FBA1tp.gb) |  [notebook](pYPKa_Z_FBA1tp.ipynb) |\n",
    "| pYPKa_Z_PDC1tp | [genbank](pYPKa_Z_PDC1tp.gb) |  [notebook](pYPKa_Z_PDC1tp.ipynb) |\n",
    "| pYPKa_Z_PGI1tp | [genbank](pYPKa_Z_PGI1tp.gb) |  [notebook](pYPKa_Z_PGI1tp.ipynb) |\n",
    "| pYPKa_Z_RPS19atp | [genbank](pYPKa_Z_RPS19atp.gb) |  [notebook](pYPKa_Z_RPS19atp.ipynb) |\n",
    "| pYPKa_Z_RPS19btp | [genbank](pYPKa_Z_RPS19btp.gb) |  [notebook](pYPKa_Z_RPS19btp.ipynb) |\n",
    "| pYPKa_Z_TDH3tp | [genbank](pYPKa_Z_TDH3tp.gb) |  [notebook](pYPKa_Z_TDH3tp.ipynb) |\n",
    "| pYPKa_Z_TEF1tp | [genbank](pYPKa_Z_TEF1tp.gb) |  [notebook](pYPKa_Z_TEF1tp.ipynb) |\n",
    "| pYPKa_Z_TPI1tp | [genbank](pYPKa_Z_TPI1tp.gb) |  [notebook](pYPKa_Z_TPI1tp.ipynb) |"
   ]
  },
  {
   "cell_type": "markdown",
   "metadata": {},
   "source": [
    "### Gene library\n",
    "\n",
    "| Construct      | Genbank file                 |                          Notebook |\n",
    "|:---------------|:-----------------------------|:----------------------------------|\n",
    "| pYPKa_A_ScRKI1 | [genbank](pYPKa_A_ScRKI1.gb) |  [notebook](pYPKa_A_ScRKI1.ipynb) |\n",
    "| pYPKa_A_ScRPE1 | [genbank](pYPKa_A_ScRPE1.gb) |  [notebook](pYPKa_A_ScRPE1.ipynb) |"
   ]
  },
  {
   "cell_type": "markdown",
   "metadata": {},
   "source": [
    "### Terminator library\n",
    "\n",
    "| Construct      | Genbank file                 |                          Notebook |\n",
    "|:---------------|:-----------------------------|:----------------------------------|\n",
    "| pYPKa_E_ENO2tp | [genbank](pYPKa_E_ENO2tp.gb) |  [notebook](pYPKa_E_ENO2tp.ipynb) |\n",
    "| pYPKa_E_FBA1tp | [genbank](pYPKa_E_FBA1tp.gb) |  [notebook](pYPKa_E_FBA1tp.ipynb) |\n",
    "| pYPKa_E_PDC1tp | [genbank](pYPKa_E_PDC1tp.gb) |  [notebook](pYPKa_E_PDC1tp.ipynb) |\n",
    "| pYPKa_E_PGI1tp | [genbank](pYPKa_E_PGI1tp.gb) |  [notebook](pYPKa_E_PGI1tp.ipynb) |\n",
    "| pYPKa_E_RPS19atp | [genbank](pYPKa_E_RPS19atp.gb) |  [notebook](pYPKa_E_RPS19atp.ipynb) |\n",
    "| pYPKa_E_RPS19btp | [genbank](pYPKa_E_RPS19btp.gb) |  [notebook](pYPKa_E_RPS19btp.ipynb) |\n",
    "| pYPKa_E_TDH3tp | [genbank](pYPKa_E_TDH3tp.gb) |  [notebook](pYPKa_E_TDH3tp.ipynb) |\n",
    "| pYPKa_E_TPI1tp | [genbank](pYPKa_E_TPI1tp.gb) |  [notebook](pYPKa_E_TPI1tp.ipynb) |"
   ]
  },
  {
   "cell_type": "markdown",
   "metadata": {
    "collapsed": true
   },
   "source": [
    "### Backbone vectors\n",
    "\n",
    "| Vector   | Short description                              | Genbank                | Notebooks                  |\n",
    "|----------|------------------------------------------------|------------------------|----------------------------|\n",
    "| pYPKa    | pCAPs engineered with a unique AjiI site       | [genbank](pYPKa.gb)    | [notebook](pYPKa.ipynb)    |\n",
    "| pMEC1030 | pSU0 lacking a the EcoRV site (URA3, 2µ)       | [genbank](pMEC1030.gb) | [notebook](pMEC1030.ipynb) |\n",
    "| pMEC1042 | pSU0 with CEN6/ARS ori and bleMX4 marker       | [genbank](pMEC1042.gb) | [notebook](pMEC1042.ipynb) |\n",
    "| pYPK0    | Yeast version of pCAPs (no AjiI site URA3, 2µ) | [genbank](pYPK0.gb)    | [notebook](pYPK0.ipynb)    |\n",
    "| pYPK1    | pYPK0 with CEN6/ARS and bleMX4 (no AjiI site)  | [genbank](pYPK1.gb)    | [notebook](pYPK1.ipynb)    |\n",
    "| pYPK2    | pYPK0 with CEN6/ARS and KanMX4 (no AjiI site)  | [genbank](pYPK2.gb)    | [notebook](pYPK2.ipynb)    |\n",
    "| pYPK3\t   | pYPK0 with CEN6/ARS and HphMX4 (no AjiI site)  | [genbank](pYPK3.gb)    | [notebook](pYPK3.ipynb)    |\n",
    "| pYPK4?☹  | pSU0 with CEN6/ARS ori and bleMX4 marker       | [genbank](pYPK4.gb)\t | [notebook](pYPK4.ipynb)    |\n",
    "| pYPK5?☹  | pYPK0 with HphMX4 (AjiI site, 2µ)              | [genbank](pYPK5.gb)\t | [notebook](pYPK5.ipynb)\t  |\n",
    "| pYPK7\t   | pYPK0 with KanMX4 (no AjiI site, 2µ)           | [genbank](pYPK7.gb)    | [notebook](pYPK7.ipynb)\t  |\n",
    "| pYPKpw   | pYPK0 with a deletion in crp                   | [genbank](pYPKpw.gb)   | [notebook](pYPKpw.ipynb)   |\n",
    "| pYPKp3   | pYPK3 with a deletion in crp\t                | [genbank](pYPKp3.gb)   | [notebook](pYPKp3.ipynb)\t  |\n",
    "| pYPKp4   | pYPK4 with a deletion in crp\t                | [genbank](pYPKp4.gb)   | [notebook](pYPKp4.ipynb)\t  |\n",
    "| pYPKp7   | pYPK7 with a deletion in crp\t                | [genbank](pYPKp7.gb)   | [notebook](pYPKp7.ipynb)\t  |"
   ]
  },
  {
   "cell_type": "markdown",
   "metadata": {},
   "source": [
    "### Source vectors\n",
    "\n",
    "[pGXF1](http://www.ncbi.nlm.nih.gov/pmc/articles/PMC1462686/)\n",
    "\n",
    "[YipXR/XDH/XK](http://www.ncbi.nlm.nih.gov/pmc/articles/PMC92159/)\n",
    "\n",
    "[YipDR7](http://www.ncbi.nlm.nih.gov/pmc/articles/PMC2988607/)\n",
    "\n",
    "[pCAPs](http://www.ncbi.nlm.nih.gov/nuccore/NC_025010.1)\n",
    "\n",
    "[pSU0](http://www.ncbi.nlm.nih.gov/nuccore/84570488)\n",
    "\n",
    "[p413TEF](http://www.ncbi.nlm.nih.gov/pubmed/7737504)\n",
    "\n",
    "[p423TEF](http://www.ncbi.nlm.nih.gov/pubmed/7737504)\n",
    "\n",
    "[p425TDH3](http://www.ncbi.nlm.nih.gov/pubmed/7737504)\n",
    "\n",
    "[p426TEF1](http://www.ncbi.nlm.nih.gov/pubmed/7737504)\n",
    "\n",
    "[pUG66](http://www.ncbi.nlm.nih.gov/nuccore/AF298794.1)\n",
    "\n",
    "[pUG6](http://www.ncbi.nlm.nih.gov/nuccore/11344909)\n",
    "\n",
    "[pAG32](https://gist.githubusercontent.com/BjornFJohansson/c5424b7ebbf553c52053/raw/64318ead495bc7ade8bb598ab192e76a3569a724/pAG32.gb)\n",
    "\n",
    "\n"
   ]
  },
  {
   "cell_type": "markdown",
   "metadata": {
    "collapsed": true
   },
   "source": [
    "### Download pathway files as a zip archive\n",
    "\n",
    "click on the Github symbol in the upper right corner:\n",
    "\n",
    "![git_cat](git_cat.png)\n",
    "\n",
    "###Then click on the repository \"ypk-xylose-pathways\" (the location of the cursor in the image)\n",
    "\n",
    "![go_to_repo](go_to_git_repo.png)\n",
    "\n",
    "###Then click on the \"Download ZIP\" button.\n",
    "\n",
    "![download_as_zip](download_as_zip.png)"
   ]
  },
  {
   "cell_type": "code",
   "execution_count": null,
   "metadata": {
    "collapsed": true
   },
   "outputs": [],
   "source": []
  }
 ],
 "metadata": {
  "kernelspec": {
   "display_name": "Python 2",
   "language": "python",
   "name": "python2"
  },
  "language_info": {
   "codemirror_mode": {
    "name": "ipython",
    "version": 2
   },
   "file_extension": ".py",
   "mimetype": "text/x-python",
   "name": "python",
   "nbconvert_exporter": "python",
   "pygments_lexer": "ipython2",
   "version": "2.7.10"
  }
 },
 "nbformat": 4,
 "nbformat_minor": 0
}
