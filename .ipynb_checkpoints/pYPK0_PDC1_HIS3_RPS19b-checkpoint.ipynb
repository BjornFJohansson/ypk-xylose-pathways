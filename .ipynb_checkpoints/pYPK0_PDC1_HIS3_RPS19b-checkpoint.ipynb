{
 "cells": [
  {
   "cell_type": "markdown",
   "metadata": {},
   "source": [
    "# Construction of pYPK0_PDC1_HIS3_RPS19b\n",
    "\n",
    "[pYPKa_Z_PDC1tp](pYPKa_Z_PDC1tp.ipynb)\n",
    "\n",
    "[pYPKa_E_RPS19btp](pYPKa_E_RPS19btp.ipynb) "
   ]
  },
  {
   "cell_type": "code",
   "execution_count": 3,
   "metadata": {
    "collapsed": false
   },
   "outputs": [],
   "source": [
    "import pydna\n",
    "from pydna import ipynb_importer"
   ]
  },
  {
   "cell_type": "code",
   "execution_count": 11,
   "metadata": {
    "collapsed": true
   },
   "outputs": [],
   "source": [
    "from ypk_std_primers import p166, p167, p567, p568, p468, p467"
   ]
  },
  {
   "cell_type": "markdown",
   "metadata": {},
   "source": [
    "[Yeast Pathway Kit Standard Primers](ypk_std_primers.ipynb)"
   ]
  },
  {
   "cell_type": "code",
   "execution_count": 12,
   "metadata": {
    "collapsed": true
   },
   "outputs": [],
   "source": [
    "from Bio.Restriction import ZraI, AjiI, EcoRV"
   ]
  },
  {
   "cell_type": "code",
   "execution_count": 13,
   "metadata": {
    "collapsed": true
   },
   "outputs": [],
   "source": [
    "pYPK0 = pydna.read(\"pYPK0.gb\")"
   ]
  },
  {
   "cell_type": "code",
   "execution_count": 14,
   "metadata": {
    "collapsed": true
   },
   "outputs": [],
   "source": [
    "promoter_clone = pYPKa_Z_PDC1tp = pydna.read(\"pYPKa_Z_PDC1tp.gb\")"
   ]
  },
  {
   "cell_type": "code",
   "execution_count": 15,
   "metadata": {
    "collapsed": false
   },
   "outputs": [],
   "source": [
    "gene_clone = pydna.read(\"pYPKa_A_ScHIS3.gb\")"
   ]
  },
  {
   "cell_type": "code",
   "execution_count": 16,
   "metadata": {
    "collapsed": false
   },
   "outputs": [],
   "source": [
    "terminator_clone = pYPKa_E_RPS19btp = pydna.read(\"pYPKa_E_RPS19btp.gb\")"
   ]
  },
  {
   "cell_type": "code",
   "execution_count": 17,
   "metadata": {
    "collapsed": false
   },
   "outputs": [],
   "source": [
    "p  = pydna.pcr( p167, p567, promoter_clone)\n",
    "g  = pydna.pcr( p468, p467, gene_clone)\n",
    "t  = pydna.pcr( p568, p166, terminator_clone)"
   ]
  },
  {
   "cell_type": "code",
   "execution_count": 18,
   "metadata": {
    "collapsed": true
   },
   "outputs": [],
   "source": [
    "pYPK0_E_Z, stuffer = pYPK0.cut((EcoRV, ZraI))"
   ]
  },
  {
   "cell_type": "code",
   "execution_count": 19,
   "metadata": {
    "collapsed": false
   },
   "outputs": [
    {
     "data": {
      "text/plain": [
       "(Dseqrecord(-5681), Dseqrecord(-1117), Dseqrecord(-761), Dseqrecord(-731))"
      ]
     },
     "execution_count": 19,
     "metadata": {},
     "output_type": "execute_result"
    }
   ],
   "source": [
    "(pYPK0_E_Z, p, g, t)"
   ]
  },
  {
   "cell_type": "code",
   "execution_count": 20,
   "metadata": {
    "collapsed": false
   },
   "outputs": [],
   "source": [
    "asm = pydna.Assembly((pYPK0_E_Z, p, g, t), limit=31)"
   ]
  },
  {
   "cell_type": "code",
   "execution_count": 21,
   "metadata": {
    "collapsed": false
   },
   "outputs": [
    {
     "data": {
      "text/plain": [
       "Assembly:\n",
       "Sequences........................: [5681] [1117] [761] [731]\n",
       "Sequences with shared homologies.: [5681] [1117] [731] [761]\n",
       "Homology limit (bp)..............: 31\n",
       "Number of overlaps...............: 4\n",
       "Nodes in graph(incl. 5' & 3')....: 6\n",
       "Only terminal overlaps...........: No\n",
       "Circular products................: [8044]\n",
       "Linear products..................: [8142] [8105] [8094] [8081] [7411] [7370] [7075] [6700] [6351] [2522] [1828] [1455] [98] [61] [50] [37]"
      ]
     },
     "execution_count": 21,
     "metadata": {},
     "output_type": "execute_result"
    }
   ],
   "source": [
    "asm"
   ]
  },
  {
   "cell_type": "code",
   "execution_count": 22,
   "metadata": {
    "collapsed": false
   },
   "outputs": [
    {
     "data": {
      "text/plain": [
       " -|pYKP0|98\n",
       "|        \\/\n",
       "|        /\\\n",
       "|        98|1117bp_PCR_prod|50\n",
       "|                           \\/\n",
       "|                           /\\\n",
       "|                           50|761bp_PCR_prod|37\n",
       "|                                             \\/\n",
       "|                                             /\\\n",
       "|                                             37|731bp_PCR_prod|61\n",
       "|                                                               \\/\n",
       "|                                                               /\\\n",
       "|                                                               61-\n",
       "|                                                                  |\n",
       " ------------------------------------------------------------------"
      ]
     },
     "execution_count": 22,
     "metadata": {},
     "output_type": "execute_result"
    }
   ],
   "source": [
    "candidate = asm.circular_products[0]\n",
    "candidate.figure()"
   ]
  },
  {
   "cell_type": "code",
   "execution_count": 25,
   "metadata": {
    "collapsed": false
   },
   "outputs": [],
   "source": [
    "result = candidate.synced(pYPK0)"
   ]
  },
  {
   "cell_type": "markdown",
   "metadata": {},
   "source": [
    "The new construct should have cseguid ```m-7lOIJ60aZl4b7rN4vanlD7OWk``` and 9404 bp."
   ]
  },
  {
   "cell_type": "code",
   "execution_count": 26,
   "metadata": {
    "collapsed": false
   },
   "outputs": [
    {
     "data": {
      "text/markdown": [
       "###[pYPK0_PDC1_HIS3_RPS19b](pYPK0_PDC1_HIS3_RPS19b.gb)"
      ],
      "text/plain": [
       "<IPython.core.display.Markdown object>"
      ]
     },
     "execution_count": 26,
     "metadata": {},
     "output_type": "execute_result"
    }
   ],
   "source": [
    "result.write(\"pYPK0_PDC1_HIS3_RPS19b.gb\")"
   ]
  },
  {
   "cell_type": "markdown",
   "metadata": {},
   "source": [
    "###[Download](pYPK0_PDC1_HIS3_RPS19b.gb)"
   ]
  },
  {
   "cell_type": "code",
   "execution_count": 27,
   "metadata": {
    "collapsed": true
   },
   "outputs": [],
   "source": [
    "import pydna"
   ]
  },
  {
   "cell_type": "code",
   "execution_count": 28,
   "metadata": {
    "collapsed": false
   },
   "outputs": [],
   "source": [
    "reloaded = pydna.read(\"pYPK0_PDC1_HIS3_RPS19b.gb\")"
   ]
  },
  {
   "cell_type": "code",
   "execution_count": 29,
   "metadata": {
    "collapsed": false
   },
   "outputs": [
    {
     "data": {
      "text/plain": [
       "SHY1d4Dnnd11pMbRUMPfwupQftI"
      ]
     },
     "execution_count": 29,
     "metadata": {},
     "output_type": "execute_result"
    }
   ],
   "source": [
    "reloaded.cseguid()"
   ]
  }
 ],
 "metadata": {
  "kernelspec": {
   "display_name": "Python 2",
   "language": "python",
   "name": "python2"
  },
  "language_info": {
   "codemirror_mode": {
    "name": "ipython",
    "version": 2
   },
   "file_extension": ".py",
   "mimetype": "text/x-python",
   "name": "python",
   "nbconvert_exporter": "python",
   "pygments_lexer": "ipython2",
   "version": "2.7.10"
  }
 },
 "nbformat": 4,
 "nbformat_minor": 0
}
