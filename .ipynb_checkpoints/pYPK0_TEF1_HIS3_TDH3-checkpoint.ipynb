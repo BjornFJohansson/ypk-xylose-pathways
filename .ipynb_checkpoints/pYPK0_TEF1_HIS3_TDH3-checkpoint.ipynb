{
 "cells": [
  {
   "cell_type": "markdown",
   "metadata": {},
   "source": [
    "# Construction of pYPK0_TEF1_HIS3_TDH3\n",
    "\n",
    "\n",
    "[pYPKa_Z_TEF1tp](pYPKa_Z_TEF1tp.ipynb)\n",
    "\n",
    "[pYPKa_E_TDH3tp](pYPKa_E_TDH3tp.ipynb) "
   ]
  },
  {
   "cell_type": "code",
   "execution_count": 1,
   "metadata": {
    "collapsed": false
   },
   "outputs": [],
   "source": [
    "import pydna\n",
    "from pydna import ipynb_importer"
   ]
  },
  {
   "cell_type": "code",
   "execution_count": 3,
   "metadata": {
    "collapsed": true
   },
   "outputs": [],
   "source": [
    "from ypk_std_primers import p166, p167, p567, p568, p468, p467"
   ]
  },
  {
   "cell_type": "markdown",
   "metadata": {},
   "source": [
    "[Yeast Pathway Kit Standard Primers](ypk_std_primers.ipynb)"
   ]
  },
  {
   "cell_type": "code",
   "execution_count": 4,
   "metadata": {
    "collapsed": true
   },
   "outputs": [],
   "source": [
    "from Bio.Restriction import ZraI, AjiI, EcoRV"
   ]
  },
  {
   "cell_type": "code",
   "execution_count": 5,
   "metadata": {
    "collapsed": true
   },
   "outputs": [],
   "source": [
    "pYPK0 = pydna.read(\"pYPK0.gb\")"
   ]
  },
  {
   "cell_type": "code",
   "execution_count": 6,
   "metadata": {
    "collapsed": true
   },
   "outputs": [],
   "source": [
    "promoter_clone = pYPKa_Z_TEF1tp = pydna.read(\"pYPKa_Z_TEF1tp.gb\")"
   ]
  },
  {
   "cell_type": "code",
   "execution_count": 7,
   "metadata": {
    "collapsed": true
   },
   "outputs": [],
   "source": [
    "gene_clone = pydna.read(\"pYPKa_A_ScHIS3.gb\")"
   ]
  },
  {
   "cell_type": "code",
   "execution_count": 8,
   "metadata": {
    "collapsed": false
   },
   "outputs": [],
   "source": [
    "terminator_clone = pYPKa_E_TDH3tp = pydna.read(\"pYPKa_E_TDH3tp.gb\")"
   ]
  },
  {
   "cell_type": "code",
   "execution_count": 9,
   "metadata": {
    "collapsed": false
   },
   "outputs": [],
   "source": [
    "p  = pydna.pcr( p167, p567, promoter_clone)\n",
    "g  = pydna.pcr( p468, p467, gene_clone)\n",
    "t  = pydna.pcr( p568, p166, terminator_clone)"
   ]
  },
  {
   "cell_type": "code",
   "execution_count": 10,
   "metadata": {
    "collapsed": true
   },
   "outputs": [],
   "source": [
    "pYPK0_E_Z, stuffer = pYPK0.cut((EcoRV, ZraI))"
   ]
  },
  {
   "cell_type": "code",
   "execution_count": 11,
   "metadata": {
    "collapsed": false
   },
   "outputs": [
    {
     "data": {
      "text/plain": [
       "(Dseqrecord(-5681), Dseqrecord(-741), Dseqrecord(-761), Dseqrecord(-804))"
      ]
     },
     "execution_count": 11,
     "metadata": {},
     "output_type": "execute_result"
    }
   ],
   "source": [
    "(pYPK0_E_Z, p, g, t)"
   ]
  },
  {
   "cell_type": "code",
   "execution_count": 12,
   "metadata": {
    "collapsed": false
   },
   "outputs": [],
   "source": [
    "asm = pydna.Assembly((pYPK0_E_Z, p, g, t), limit=31)"
   ]
  },
  {
   "cell_type": "code",
   "execution_count": 13,
   "metadata": {
    "collapsed": false
   },
   "outputs": [
    {
     "data": {
      "text/plain": [
       "Assembly:\n",
       "Sequences........................: [5681] [741] [761] [804]\n",
       "Sequences with shared homologies.: [5681] [741] [804] [761]\n",
       "Homology limit (bp)..............: 31\n",
       "Number of overlaps...............: 4\n",
       "Nodes in graph(incl. 5' & 3')....: 6\n",
       "Only terminal overlaps...........: No\n",
       "Circular products................: [7741]\n",
       "Linear products..................: [7839] [7802] [7791] [7778] [7148] [7067] [7035] [6424] [6324] [2219] [1528] [1452] [98] [61] [50] [37]"
      ]
     },
     "execution_count": 13,
     "metadata": {},
     "output_type": "execute_result"
    }
   ],
   "source": [
    "asm"
   ]
  },
  {
   "cell_type": "code",
   "execution_count": 14,
   "metadata": {
    "collapsed": false
   },
   "outputs": [
    {
     "data": {
      "text/plain": [
       " -|pYKP0|98\n",
       "|        \\/\n",
       "|        /\\\n",
       "|        98|741bp_PCR_prod|50\n",
       "|                          \\/\n",
       "|                          /\\\n",
       "|                          50|761bp_PCR_prod|37\n",
       "|                                            \\/\n",
       "|                                            /\\\n",
       "|                                            37|804bp_PCR_prod|61\n",
       "|                                                              \\/\n",
       "|                                                              /\\\n",
       "|                                                              61-\n",
       "|                                                                 |\n",
       " -----------------------------------------------------------------"
      ]
     },
     "execution_count": 14,
     "metadata": {},
     "output_type": "execute_result"
    }
   ],
   "source": [
    "candidate = asm.circular_products[0]\n",
    "candidate.figure()"
   ]
  },
  {
   "cell_type": "code",
   "execution_count": 15,
   "metadata": {
    "collapsed": false
   },
   "outputs": [],
   "source": [
    "final = candidate.synced(pYPK0)"
   ]
  },
  {
   "cell_type": "code",
   "execution_count": 19,
   "metadata": {
    "collapsed": false
   },
   "outputs": [
    {
     "data": {
      "text/plain": [
       "MH-TO4_bPJkSM1-UCitDdgVhNbc"
      ]
     },
     "execution_count": 19,
     "metadata": {},
     "output_type": "execute_result"
    }
   ],
   "source": [
    "final.cseguid()"
   ]
  },
  {
   "cell_type": "code",
   "execution_count": 16,
   "metadata": {
    "collapsed": false
   },
   "outputs": [
    {
     "data": {
      "text/markdown": [
       "###[pYPK0_TEF1_HIS3_TDH3](pYPK0_TEF1_HIS3_TDH3.gb)"
      ],
      "text/plain": [
       "<IPython.core.display.Markdown object>"
      ]
     },
     "execution_count": 16,
     "metadata": {},
     "output_type": "execute_result"
    }
   ],
   "source": [
    "final.write(\"pYPK0_TEF1_HIS3_TDH3.gb\")"
   ]
  },
  {
   "cell_type": "markdown",
   "metadata": {},
   "source": [
    "##Download sequence\n",
    "\n",
    "[pYPK0_TEF1_HIS3_TDH3](pYPK0_TEF1_HIS3_TDH3.gb)"
   ]
  },
  {
   "cell_type": "code",
   "execution_count": 20,
   "metadata": {
    "collapsed": false
   },
   "outputs": [],
   "source": [
    "import pydna\n",
    "reloaded = pydna.read(\"pYPK0_TEF1_HIS3_TDH3.gb\")"
   ]
  },
  {
   "cell_type": "code",
   "execution_count": 21,
   "metadata": {
    "collapsed": false
   },
   "outputs": [
    {
     "data": {
      "text/plain": [
       "MH-TO4_bPJkSM1-UCitDdgVhNbc"
      ]
     },
     "execution_count": 21,
     "metadata": {},
     "output_type": "execute_result"
    }
   ],
   "source": [
    "reloaded.cseguid()"
   ]
  },
  {
   "cell_type": "code",
   "execution_count": null,
   "metadata": {
    "collapsed": true
   },
   "outputs": [],
   "source": []
  }
 ],
 "metadata": {
  "kernelspec": {
   "display_name": "Python 2",
   "language": "python",
   "name": "python2"
  },
  "language_info": {
   "codemirror_mode": {
    "name": "ipython",
    "version": 2
   },
   "file_extension": ".py",
   "mimetype": "text/x-python",
   "name": "python",
   "nbconvert_exporter": "python",
   "pygments_lexer": "ipython2",
   "version": "2.7.10"
  }
 },
 "nbformat": 4,
 "nbformat_minor": 0
}
