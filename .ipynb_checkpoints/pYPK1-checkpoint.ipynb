{
 "cells": [
  {
   "cell_type": "markdown",
   "metadata": {},
   "source": [
    "#pYPK1\n",
    "\n",
    "pYPK1 is a version of [pYPK0](pYPK0.ipynb) that has a CEN6/ARS yeast origin of replication\n",
    "instead of the 2µ origin of replication present in pYPK0.\n",
    "\n",
    "The URA3 marker is substituted for a bleomycin marker."
   ]
  },
  {
   "cell_type": "code",
   "execution_count": 3,
   "metadata": {
    "collapsed": true
   },
   "outputs": [],
   "source": [
    "import pydna"
   ]
  },
  {
   "cell_type": "code",
   "execution_count": 4,
   "metadata": {
    "collapsed": false
   },
   "outputs": [],
   "source": [
    "pMEC1042 = pydna.read(\"pMEC1042.gb\")"
   ]
  },
  {
   "cell_type": "code",
   "execution_count": 5,
   "metadata": {
    "collapsed": true
   },
   "outputs": [],
   "source": [
    "gb = pydna.Genbank(\"bjornjobb@gmail.com\")"
   ]
  },
  {
   "cell_type": "code",
   "execution_count": 6,
   "metadata": {
    "collapsed": true
   },
   "outputs": [],
   "source": [
    "pCAPs = gb.nucleotide(\"AJ001614.1\")"
   ]
  },
  {
   "cell_type": "code",
   "execution_count": 7,
   "metadata": {
    "collapsed": false
   },
   "outputs": [],
   "source": [
    "from Bio.Restriction import PvuI, BamHI, EcoRI\n",
    "\n",
    "pCAPs_pvu   = pCAPs.linearize(PvuI)\n",
    "pMEC1042_EB = pMEC1042.cut(BamHI, EcoRI).pop(0)\n",
    "\n",
    "asm=pydna.Assembly([pMEC1042_EB, pCAPs_pvu], limit=245)\n",
    "\n",
    "pYPK1 = asm.circular_products[0]\n",
    "\n",
    "pYPK1 = pYPK1.synced(pCAPs)\n",
    "\n",
    "pYPK1.stamp()\n",
    "\n",
    "pYPK1.locus = \"pYPK1\""
   ]
  },
  {
   "cell_type": "code",
   "execution_count": 8,
   "metadata": {
    "collapsed": false
   },
   "outputs": [
    {
     "data": {
      "text/markdown": [
       "###[pYPK1](pYPK1.gb)"
      ],
      "text/plain": [
       "<IPython.core.display.Markdown object>"
      ]
     },
     "execution_count": 8,
     "metadata": {},
     "output_type": "execute_result"
    }
   ],
   "source": [
    "pYPK1.write(\"pYPK1.gb\")"
   ]
  },
  {
   "cell_type": "markdown",
   "metadata": {},
   "source": [
    "###[DOWNLOAD](pYPK1.gb)"
   ]
  },
  {
   "cell_type": "code",
   "execution_count": 9,
   "metadata": {
    "collapsed": false
   },
   "outputs": [
    {
     "data": {
      "text/plain": [
       "cSEGUID_cBXvb5dxm6dsur7YGH-fQNjeUGg"
      ]
     },
     "execution_count": 9,
     "metadata": {},
     "output_type": "execute_result"
    }
   ],
   "source": [
    "import pydna\n",
    "reloaded=pydna.read(\"pYPK1.gb\")\n",
    "reloaded.verify_stamp()"
   ]
  },
  {
   "cell_type": "markdown",
   "metadata": {},
   "source": [
    "---"
   ]
  }
 ],
 "metadata": {
  "kernelspec": {
   "display_name": "Python 2",
   "language": "python",
   "name": "python2"
  },
  "language_info": {
   "codemirror_mode": {
    "name": "ipython",
    "version": 2
   },
   "file_extension": ".py",
   "mimetype": "text/x-python",
   "name": "python",
   "nbconvert_exporter": "python",
   "pygments_lexer": "ipython2",
   "version": "2.7.10"
  }
 },
 "nbformat": 4,
 "nbformat_minor": 0
}
