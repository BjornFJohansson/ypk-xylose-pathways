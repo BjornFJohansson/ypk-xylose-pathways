{
 "cells": [
  {
   "cell_type": "markdown",
   "metadata": {
    "collapsed": true,
    "deletable": true,
    "editable": true
   },
   "source": [
    "# pMEC1139\n",
    "\n",
    "This vector expresses eight genes and was assembled from the eight single gene expression cassettes below:\n",
    "\n",
    "Gene | Enzyme | Acronym | Cassette\n",
    "-------------------------------------------------- |-------------------|---|-----|\n",
    "[SsXYL1](http://www.ncbi.nlm.nih.gov/gene/4839234) |D-xylose reductase |XR | [pYPK0_TEF1_PsXYL1_TDH3](pYPK0_TEF1_PsXYL1_TDH3.ipynb)\n",
    "[SsXYL2](http://www.ncbi.nlm.nih.gov/gene/4852013) |xylitol dehydrogenase |XDH | [pYPK0_TDH3_PsXYL2_PGI1](pYPK0_TDH3_PsXYL2_PGI1.ipynb)\n",
    "[ScXKS1](http://www.yeastgenome.org/locus/S000003426/overview) |Xylulokinase |XK | [pYPK0_PGI1_ScXKS1_FBA1](pYPK0_PGI1_ScXKS1_FBA1.ipynb)\n",
    "[ScTAL1](http://www.yeastgenome.org/locus/S000004346/overview) |Transaldolase |tal1p | [pYPK0_FBA1_ScTAL1_PDC1](pYPK0_FBA1_ScTAL1_PDC1.ipynb)\n",
    "[ScTKL1](http://www.yeastgenome.org/locus/S000006278/overview) |Transketolase |TKL | [pYPK0_PDC1_ScTKL1_RPS19b](pYPK0_PDC1_ScTKL1_RPS19b.ipynb)\n",
    "[ScRPE1](http://www.yeastgenome.org/locus/S000003657/overview) |xylitol dehydrogenase |RPE | [pYPK0_RPS19b_ScRPE1_RPS19a](pYPK0_RPS19b_ScRPE1_RPS19a.ipynb)\n",
    "[ScRKI1](http://www.yeastgenome.org/locus/S000005621/overview) |Xylulokinase |RKI | [pYPK0_RPS19a_ScRKI1_TPI1](pYPK0_RPS19a_ScRKI1_TPI1.ipynb)\n",
    "[CiGXF1](http://mic.sgmjournals.org/content/154/6/1646.full) |Transaldolase |GXF | [pYPK0_TPI1_CiGXF1_ENO2](pYPK0_TPI1_CiGXF1_ENO2.ipynb)\n"
   ]
  },
  {
   "cell_type": "markdown",
   "metadata": {
    "deletable": true,
    "editable": true
   },
   "source": [
    "    TEF1_XR_TDH3\n",
    "            TDH3_XDH_PGI1\n",
    "                     PGI1_XK_FBA1\n",
    "                             FBA1_TAL1_PDC1\n",
    "\n",
    "\n",
    "                                       PDC1_ScTKL1_RPS19b\n",
    "                                                   RPS19b_ScRPE1_RPS19a\n",
    "                                                                 RPS19a_ScRKI1_TPI1\n",
    "                                                                               TPI1_CiGXF1_ENO2"
   ]
  },
  {
   "cell_type": "markdown",
   "metadata": {
    "deletable": true,
    "editable": true
   },
   "source": [
    "[pMEC1136](pMEC1136.ipynb)\n",
    "\n",
    "[pMEC1137](pMEC1137.ipynb)"
   ]
  },
  {
   "cell_type": "code",
   "execution_count": 1,
   "metadata": {
    "collapsed": true,
    "deletable": true,
    "editable": true
   },
   "outputs": [],
   "source": [
    "from pydna.all import *"
   ]
  },
  {
   "cell_type": "code",
   "execution_count": 2,
   "metadata": {
    "collapsed": true,
    "deletable": true,
    "editable": true
   },
   "outputs": [],
   "source": [
    "from pydna import ipynb_importer"
   ]
  },
  {
   "cell_type": "code",
   "execution_count": 3,
   "metadata": {
    "collapsed": false,
    "deletable": true,
    "editable": true
   },
   "outputs": [
    {
     "name": "stdout",
     "output_type": "stream",
     "text": [
      "14760\n"
     ]
    },
    {
     "data": {
      "text/html": [
       "<font face=monospace><a href='pMEC1136.gb' target='_blank'>pMEC1136.gb</a></font><br>"
      ]
     },
     "metadata": {},
     "output_type": "display_data"
    }
   ],
   "source": [
    "from pMEC1136 import cas1, cas2, cas3, p4, p409"
   ]
  },
  {
   "cell_type": "code",
   "execution_count": 4,
   "metadata": {
    "collapsed": false,
    "deletable": true,
    "editable": true
   },
   "outputs": [
    {
     "name": "stdout",
     "output_type": "stream",
     "text": [
      "14484\n"
     ]
    },
    {
     "data": {
      "text/html": [
       "<font face=monospace><a href='pMEC1137.gb' target='_blank'>pMEC1137.gb</a></font><br>"
      ]
     },
     "metadata": {},
     "output_type": "display_data"
    },
    {
     "name": "stdout",
     "output_type": "stream",
     "text": [
      "6E0AGs78NqyqjtuAWRWhkIGlLnI\n"
     ]
    }
   ],
   "source": [
    "from pMEC1137 import p1 as p5, cas2 as cas6, cas3 as cas7, cas4 as cas8, p625, p647, p413"
   ]
  },
  {
   "cell_type": "code",
   "execution_count": 5,
   "metadata": {
    "collapsed": false,
    "deletable": true,
    "editable": true
   },
   "outputs": [],
   "source": [
    "cas4 =pcr(p409, p625, p4)"
   ]
  },
  {
   "cell_type": "code",
   "execution_count": 6,
   "metadata": {
    "collapsed": false,
    "deletable": true,
    "editable": true
   },
   "outputs": [],
   "source": [
    "cas5 =pcr(p413, p647, p5)"
   ]
  },
  {
   "cell_type": "code",
   "execution_count": 7,
   "metadata": {
    "collapsed": true,
    "deletable": true,
    "editable": true
   },
   "outputs": [],
   "source": [
    "pYPK0 =read(\"pYPK0.gb\")"
   ]
  },
  {
   "cell_type": "code",
   "execution_count": 8,
   "metadata": {
    "collapsed": false,
    "deletable": true,
    "editable": true
   },
   "outputs": [
    {
     "name": "stdout",
     "output_type": "stream",
     "text": [
      "@_rc cSEGUID_qSJ95NM815X60yBy4l6iI69a_Dw_2015-07-15T11:55:09.522091\n"
     ]
    },
    {
     "data": {
      "text/plain": [
       "qSJ95NM815X60yBy4l6iI69a_Dw"
      ]
     },
     "execution_count": 8,
     "metadata": {},
     "output_type": "execute_result"
    }
   ],
   "source": [
    "print(pYPK0.description)\n",
    "pYPK0.cseguid()"
   ]
  },
  {
   "cell_type": "code",
   "execution_count": 9,
   "metadata": {
    "collapsed": true,
    "deletable": true,
    "editable": true
   },
   "outputs": [],
   "source": [
    "from Bio.Restriction import ZraI, AjiI, EcoRV"
   ]
  },
  {
   "cell_type": "code",
   "execution_count": 10,
   "metadata": {
    "collapsed": false,
    "deletable": true,
    "editable": true
   },
   "outputs": [],
   "source": [
    "pYPK0_E_Z, stuffer = pYPK0.cut((EcoRV, ZraI))"
   ]
  },
  {
   "cell_type": "code",
   "execution_count": 11,
   "metadata": {
    "collapsed": false,
    "deletable": true,
    "editable": true
   },
   "outputs": [
    {
     "data": {
      "text/plain": [
       "(Dseqrecord(-5681),\n",
       " Amplicon(2432),\n",
       " Amplicon(2889),\n",
       " Amplicon(3532),\n",
       " Amplicon(2693),\n",
       " Amplicon(3723),\n",
       " Amplicon(2005),\n",
       " Amplicon(2022),\n",
       " Amplicon(2906))"
      ]
     },
     "execution_count": 11,
     "metadata": {},
     "output_type": "execute_result"
    }
   ],
   "source": [
    "pYPK0_E_Z, cas1, cas2, cas3, cas4, cas5, cas6, cas7, cas8"
   ]
  },
  {
   "cell_type": "code",
   "execution_count": 12,
   "metadata": {
    "collapsed": false,
    "deletable": true,
    "editable": true
   },
   "outputs": [],
   "source": [
    "asm =Assembly( (pYPK0_E_Z, cas1, cas2, cas3, cas4, cas5, cas6, cas7, cas8) , limit = 61)"
   ]
  },
  {
   "cell_type": "code",
   "execution_count": 13,
   "metadata": {
    "collapsed": false,
    "deletable": true,
    "editable": true
   },
   "outputs": [
    {
     "data": {
      "text/plain": [
       "Assembly:\n",
       "Sequences........................: [5681] [2432] [2889] [3532] [2693] [3723] [2005] [2022] [2906]\n",
       "Sequences with shared homologies.: [5681] [2432] [2906] [2889] [3532] [2693] [3723] [2005] [2022]\n",
       "Homology limit (bp)..............: 61\n",
       "Number of overlaps...............: 10\n",
       "Nodes in graph(incl. 5' & 3')....: 12\n",
       "Only terminal overlaps...........: No\n",
       "Circular products................: [22594] [21228] [1366]\n",
       "Linear products..................: [23607] [23563] [23306] [23238] [23233] [23190] [23151] [22692] [22655] [22241] [22197] [21940] [21872] [21867] [21824] [21785] [21725] [21514] [21430] [21326] [21289] [20972] [20719] [20479] [20397] [20359] [20345] [20246] [20148] [20064] [19606] [19353] [19113] [19096] [19031] [18995] [18979] [18880] [18542] [18430] [18348] [17730] [17629] [17605] [17514] [17176] [17072] [17064] [16982] [16818] [16208] [15911] [15829] [15706] [15556] [15452] [15352] [14842] [14762] [14760] [14663] [14545] [14484] [14463] [13986] [13734] [13652] [13476] [13396] [13297] [13118] [13042] [13037] [12943] [12711] [12368] [12286] [12110] [11931] [11676] [11577] [11400] [11318] [11166] [11067] [10860] [10588] [10211] [10192] [10034] [9952] [9800] [9701] [9222] [9177] [8864] [8526] [8335] [8278] [8179] [8015] [7498] [7457] [7128] [6912] [6813] [6554] [6455] [5780] [5698] [5581] [5447] [5408] [5188] [5089] [4609] [4414] [4332] [3470] [3388] [3371] [2104] [1923] [1013] [969] [712] [644] [639] [596] [557] [98] [61]"
      ]
     },
     "execution_count": 13,
     "metadata": {},
     "output_type": "execute_result"
    }
   ],
   "source": [
    "asm"
   ]
  },
  {
   "cell_type": "code",
   "execution_count": 14,
   "metadata": {
    "collapsed": false,
    "deletable": true,
    "editable": true
   },
   "outputs": [],
   "source": [
    "candidate = asm.circular_products[0]"
   ]
  },
  {
   "cell_type": "code",
   "execution_count": 15,
   "metadata": {
    "collapsed": false,
    "deletable": true,
    "editable": true
   },
   "outputs": [
    {
     "data": {
      "text/plain": [
       " -|pYKP0|98\n",
       "|        \\/\n",
       "|        /\\\n",
       "|        98|2432bp_PCR_prod|712\n",
       "|                           \\/\n",
       "|                           /\\\n",
       "|                           712|2889bp_PCR_prod|1013\n",
       "|                                               \\/\n",
       "|                                               /\\\n",
       "|                                               1013|3532bp_PCR_prod|644\n",
       "|                                                                    \\/\n",
       "|                                                                    /\\\n",
       "|                                                                    644|2693bp_PCR_prod|969\n",
       "|                                                                                        \\/\n",
       "|                                                                                        /\\\n",
       "|                                                                                        969|3723bp_PCR_prod|639\n",
       "|                                                                                                            \\/\n",
       "|                                                                                                            /\\\n",
       "|                                                                                                            639|2005bp_PCR_prod|557\n",
       "|                                                                                                                                \\/\n",
       "|                                                                                                                                /\\\n",
       "|                                                                                                                                557|2022bp_PCR_prod|596\n",
       "|                                                                                                                                                    \\/\n",
       "|                                                                                                                                                    /\\\n",
       "|                                                                                                                                                    596|2906bp_PCR_prod|61\n",
       "|                                                                                                                                                                        \\/\n",
       "|                                                                                                                                                                        /\\\n",
       "|                                                                                                                                                                        61-\n",
       "|                                                                                                                                                                           |\n",
       " ---------------------------------------------------------------------------------------------------------------------------------------------------------------------------"
      ]
     },
     "execution_count": 15,
     "metadata": {},
     "output_type": "execute_result"
    }
   ],
   "source": [
    "candidate.small_fig()"
   ]
  },
  {
   "cell_type": "code",
   "execution_count": 16,
   "metadata": {
    "collapsed": false,
    "deletable": true,
    "editable": true
   },
   "outputs": [],
   "source": [
    "pw = candidate.synced(pYPK0)"
   ]
  },
  {
   "cell_type": "code",
   "execution_count": 17,
   "metadata": {
    "collapsed": false,
    "deletable": true,
    "editable": true
   },
   "outputs": [
    {
     "data": {
      "text/plain": [
       "22594"
      ]
     },
     "execution_count": 17,
     "metadata": {},
     "output_type": "execute_result"
    }
   ],
   "source": [
    "len(pw)"
   ]
  },
  {
   "cell_type": "code",
   "execution_count": 18,
   "metadata": {
    "collapsed": false,
    "deletable": true,
    "editable": true
   },
   "outputs": [
    {
     "data": {
      "text/plain": [
       "rjjimx-cVzquS3V5BPVMOWPSwAI"
      ]
     },
     "execution_count": 18,
     "metadata": {},
     "output_type": "execute_result"
    }
   ],
   "source": [
    "pw.cseguid()"
   ]
  },
  {
   "cell_type": "code",
   "execution_count": 19,
   "metadata": {
    "collapsed": false,
    "deletable": true,
    "editable": true
   },
   "outputs": [
    {
     "data": {
      "text/plain": [
       "cSEGUID_rjjimx-cVzquS3V5BPVMOWPSwAI"
      ]
     },
     "execution_count": 19,
     "metadata": {},
     "output_type": "execute_result"
    }
   ],
   "source": [
    "pw.name = \"pMEC1138\"\n",
    "pw.description=\"pYPK0_TEF1_XR_TPI1_XDH_PDC1_XK_FBA1_TAL1_PDC1tpPDC1_ScTKL1_RPS19b_ScRPE1_RPS19a_ScRKI1_TPI1_CiGXF1_ENO2 (alternative name pYPK0_8)\"\n",
    "pw.stamp()"
   ]
  },
  {
   "cell_type": "code",
   "execution_count": 20,
   "metadata": {
    "collapsed": false,
    "deletable": true,
    "editable": true
   },
   "outputs": [
    {
     "data": {
      "text/html": [
       "<font face=monospace><a href='pMEC1139.gb' target='_blank'>pMEC1139.gb</a></font><br>"
      ]
     },
     "metadata": {},
     "output_type": "display_data"
    }
   ],
   "source": [
    "pw.write(\"pMEC1139.gb\")"
   ]
  },
  {
   "cell_type": "markdown",
   "metadata": {
    "collapsed": false,
    "deletable": true,
    "editable": true
   },
   "source": [
    "###[DOWNLOAD](pMEC1138.gb)"
   ]
  },
  {
   "cell_type": "code",
   "execution_count": 21,
   "metadata": {
    "collapsed": false,
    "deletable": true,
    "editable": true
   },
   "outputs": [],
   "source": [
    "from pydna.all import *\n",
    "reloaded =read(\"pMEC1139.gb\")"
   ]
  },
  {
   "cell_type": "code",
   "execution_count": 22,
   "metadata": {
    "collapsed": false,
    "deletable": true,
    "editable": true
   },
   "outputs": [
    {
     "data": {
      "text/plain": [
       "rjjimx-cVzquS3V5BPVMOWPSwAI"
      ]
     },
     "execution_count": 22,
     "metadata": {},
     "output_type": "execute_result"
    }
   ],
   "source": [
    "reloaded.cseguid()"
   ]
  },
  {
   "cell_type": "code",
   "execution_count": 23,
   "metadata": {
    "collapsed": false,
    "deletable": true,
    "editable": true
   },
   "outputs": [
    {
     "data": {
      "text/plain": [
       "22594"
      ]
     },
     "execution_count": 23,
     "metadata": {},
     "output_type": "execute_result"
    }
   ],
   "source": [
    "len(reloaded)"
   ]
  }
 ],
 "metadata": {
  "kernelspec": {
   "display_name": "Python 3",
   "language": "python",
   "name": "python3"
  },
  "language_info": {
   "codemirror_mode": {
    "name": "ipython",
    "version": 3
   },
   "file_extension": ".py",
   "mimetype": "text/x-python",
   "name": "python",
   "nbconvert_exporter": "python",
   "pygments_lexer": "ipython3",
   "version": "3.5.2"
  }
 },
 "nbformat": 4,
 "nbformat_minor": 0
}
