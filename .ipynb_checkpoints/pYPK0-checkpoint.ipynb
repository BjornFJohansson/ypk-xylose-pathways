{
 "cells": [
  {
   "cell_type": "markdown",
   "metadata": {},
   "source": [
    "#Construction of the pYPK0 vector\n",
    "The pYPK0 is a yeast / E. coli shuttle vector version of the pCAPs vector that was made through in-vivo homologous recombination with [pMEC1030](pMEC1030.ipynb). The pCAPs vector is described in detail in the notebook describing the [pYPKa](pYPKa.ipynb) vector.\n",
    "\n",
    "Important features are:\n",
    "* unique [ZraI](http://rebase.neb.com/rebase/enz/ZraI.html) site\n",
    "* unique [EcoRV](http://rebase.neb.com/rebase/enz/EcoRV.html) site\n",
    "* [URA3 marker](http://www.yeastgenome.org/locus/S000000747/overview)\n",
    "\n",
    "The pYPK0 is mainly used as a backbone for the tp_gene_tp cassettes (single gene cassettes).\n",
    "\n",
    "The strategy used to combine the pMEC1030 and pCAPs vectors into a yeas shuttle vector were described by [Iizasa & Nagano 2006](http://www.biotechniques.com/BiotechniquesJournal/2006/January/Highly-efficient-yeast-based-in-vivo-DNA-cloning-of-multiple-DNA-fragments-and-the-simultaneous-construction-of-yeast-Escherichia-coli-shuttle-vectors/biotechniques-45641.html?pageNum=1)\n",
    "\n",
    "![using pSU0](using_pSU0.jpg \"This figure is from the paper above\")\n",
    "\n",
    "Briefly, the pMEC1030 vector is digested with BamHI and EcoRI removing a small stuffer fragment. The target vector is digested in the ampicillin marker gene (using PstI in the figure). The linear vectors recombine between the amp marker and the pUC origin of replication.  <bjornjobb@gmail.com>\n",
    "\n"
   ]
  },
  {
   "cell_type": "code",
   "execution_count": 11,
   "metadata": {
    "collapsed": false
   },
   "outputs": [],
   "source": [
    "import pydna\n",
    "from pydna import ipynb_importer"
   ]
  },
  {
   "cell_type": "code",
   "execution_count": 12,
   "metadata": {
    "collapsed": false
   },
   "outputs": [],
   "source": [
    "pMEC1030=pydna.read(\"pMEC1030.gb\")"
   ]
  },
  {
   "cell_type": "markdown",
   "metadata": {},
   "source": [
    "pMEC1030 (4398 bp)should have cseguid \n",
    "```bg67Zek8TFW0rvcIs6-d4X6cV_w```"
   ]
  },
  {
   "cell_type": "code",
   "execution_count": 18,
   "metadata": {
    "collapsed": false
   },
   "outputs": [
    {
     "name": "stdout",
     "output_type": "stream",
     "text": [
      "4398\n"
     ]
    },
    {
     "data": {
      "text/plain": [
       "bg67Zek8TFW0rvcIs6-d4X6cV_w"
      ]
     },
     "execution_count": 18,
     "metadata": {},
     "output_type": "execute_result"
    }
   ],
   "source": [
    "print len(pMEC1030)\n",
    "pMEC1030.cseguid()"
   ]
  },
  {
   "cell_type": "code",
   "execution_count": 14,
   "metadata": {
    "collapsed": false
   },
   "outputs": [
    {
     "data": {
      "text/plain": [
       "'<unknown description> cSEGUID_bg67Zek8TFW0rvcIs6-d4X6cV_w_2015-05-08T17:08:15.100406'"
      ]
     },
     "execution_count": 14,
     "metadata": {},
     "output_type": "execute_result"
    }
   ],
   "source": [
    "pMEC1030.description"
   ]
  },
  {
   "cell_type": "markdown",
   "metadata": {},
   "source": [
    "The pCAPs part comes from a Genbank [record](http://www.ncbi.nlm.nih.gov/nuccore/AJ001614).\n",
    "Access to Genbank is needed in order to download the template.\n",
    "If you execute this script, change the email address below to your own.\n",
    "Always tell Genbank who you are, when using their web service."
   ]
  },
  {
   "cell_type": "code",
   "execution_count": 20,
   "metadata": {
    "collapsed": true
   },
   "outputs": [],
   "source": [
    "gb = pydna.Genbank(\"bjornjobbb@gmail.com\")"
   ]
  },
  {
   "cell_type": "code",
   "execution_count": 22,
   "metadata": {
    "collapsed": true
   },
   "outputs": [],
   "source": [
    "pCAPs = gb.nucleotide(\"AJ001614.1\")"
   ]
  },
  {
   "cell_type": "markdown",
   "metadata": {},
   "source": [
    "The restriction enzymes needed are imported from [Biopython](http://biopython.org/wiki/Main_Page)"
   ]
  },
  {
   "cell_type": "code",
   "execution_count": 24,
   "metadata": {
    "collapsed": true
   },
   "outputs": [],
   "source": [
    "from Bio.Restriction import BamHI, EcoRI, PvuI"
   ]
  },
  {
   "cell_type": "markdown",
   "metadata": {},
   "source": []
  },
  {
   "cell_type": "markdown",
   "metadata": {
    "collapsed": false
   },
   "source": [
    "psu_bam_eco, stuffer = pMEC1030.cut(BamHI, EcoRI)\n",
    "pcaps_pvu = pCAPs.linearize(PvuI)"
   ]
  },
  {
   "cell_type": "code",
   "execution_count": 6,
   "metadata": {
    "collapsed": false
   },
   "outputs": [],
   "source": [
    "asm = pydna.Assembly((pcaps_lin, psu_lin), limit=200)"
   ]
  },
  {
   "cell_type": "code",
   "execution_count": 7,
   "metadata": {
    "collapsed": true
   },
   "outputs": [],
   "source": [
    "candidate = asm.circular_products[0]"
   ]
  },
  {
   "cell_type": "code",
   "execution_count": 8,
   "metadata": {
    "collapsed": false
   },
   "outputs": [
    {
     "data": {
      "text/plain": [
       " -|AJ001614|700\n",
       "|           \\/\n",
       "|           /\\\n",
       "|           700|4448bp_PCR_pr_rc|245\n",
       "|                                \\/\n",
       "|                                /\\\n",
       "|                                245-\n",
       "|                                   |\n",
       " -----------------------------------"
      ]
     },
     "execution_count": 8,
     "metadata": {},
     "output_type": "execute_result"
    }
   ],
   "source": [
    "candidate.figure()"
   ]
  },
  {
   "cell_type": "code",
   "execution_count": 9,
   "metadata": {
    "collapsed": true
   },
   "outputs": [],
   "source": [
    "pYPK0 = candidate.synced(pCAPs)"
   ]
  },
  {
   "cell_type": "code",
   "execution_count": 10,
   "metadata": {
    "collapsed": false
   },
   "outputs": [],
   "source": [
    "pYPK0.name = \"pYKP0\""
   ]
  },
  {
   "cell_type": "code",
   "execution_count": 11,
   "metadata": {
    "collapsed": true
   },
   "outputs": [],
   "source": [
    "pYPK0.write(\"pYPK0.gb\")"
   ]
  },
  {
   "cell_type": "markdown",
   "metadata": {},
   "source": [
    "### Download\n",
    "[pYPK0](pYPK0.gb)"
   ]
  },
  {
   "cell_type": "code",
   "execution_count": 12,
   "metadata": {
    "collapsed": false
   },
   "outputs": [
    {
     "data": {
      "application/javascript": [
       "var kernel = IPython.notebook.kernel;\n",
       "var thename = window.document.getElementById(\"notebook_name\").innerHTML;\n",
       "var command = \"theNotebook = \" + \"'\"+thename+\"'\";\n",
       "kernel.execute(command);"
      ],
      "text/plain": [
       "<IPython.core.display.Javascript object>"
      ]
     },
     "metadata": {},
     "output_type": "display_data"
    }
   ],
   "source": [
    "%%javascript\n",
    "var kernel = IPython.notebook.kernel;\n",
    "var thename = window.document.getElementById(\"notebook_name\").innerHTML;\n",
    "var command = \"theNotebook = \" + \"'\"+thename+\"'\";\n",
    "kernel.execute(command);"
   ]
  },
  {
   "cell_type": "code",
   "execution_count": 13,
   "metadata": {
    "collapsed": false
   },
   "outputs": [],
   "source": [
    "nm = theNotebook+\"_\"+{True:\"o\", False:\"-\"}[locals()[theNotebook].circular]+locals()[theNotebook].cseguid_url_safe()+\".gb\""
   ]
  },
  {
   "cell_type": "code",
   "execution_count": 14,
   "metadata": {
    "collapsed": false
   },
   "outputs": [],
   "source": [
    "locals()[theNotebook].write(nm)"
   ]
  },
  {
   "cell_type": "code",
   "execution_count": 15,
   "metadata": {
    "collapsed": false
   },
   "outputs": [
    {
     "data": {
      "text/plain": [
       "qSJ95NM815X60yBy4l6iI69a_Dw"
      ]
     },
     "execution_count": 15,
     "metadata": {},
     "output_type": "execute_result"
    }
   ],
   "source": [
    "pYPK0.cseguid_url_safe()"
   ]
  },
  {
   "cell_type": "code",
   "execution_count": 21,
   "metadata": {
    "collapsed": false
   },
   "outputs": [
    {
     "data": {
      "text/plain": [
       "LOCUS       pYKP0                   5762 bp    DNA     circular UNK 03-JAN-2015\n",
       "DEFINITION  .\n",
       "ACCESSION   <unknown id>\n",
       "VERSION     <unknown id>\n",
       "KEYWORDS    .\n",
       "SOURCE      .\n",
       "  ORGANISM  .\n",
       "            .\n",
       "FEATURES             Location/Qualifiers\n",
       "     gene            complement(315..947)\n",
       "                     /gene=\"crp\"\n",
       "     CDS             complement(315..947)\n",
       "                     /product=\"catabolite gene activator protein\"\n",
       "                     /codon_start=1\n",
       "                     /transl_table=11\n",
       "                     /note=\"artificially mutated crp; cyclic AMP receptor\n",
       "                     protein\"\n",
       "                     /db_xref=\"GI:2769262\"\n",
       "                     /experiment=\"experimental evidence, no additional details\n",
       "                     recorded\"\n",
       "                     /translation=\"MVLGKPQTDPTLEWFLSHCHIHKYPSKSTLIHQGEKAETLYYIVK\n",
       "                     GSVAVLIKDEEGKEMILSYLNQGDFIGELGLFEEGQERSAWVRAKTACEVAEISYKKFR\n",
       "                     QLIQVNPDILMRLSAQMARRLQVTSEKVGNLAFLDVSGRIAQTLLNLAKQPDAMTHPDG\n",
       "                     MQIKITRQEIGQIVGCSRQTVGRILKMLEDQNLISAHGKTIVVYGTR\"\n",
       "                     /gene=\"crp\"\n",
       "                     /protein_id=\"CAA04867.1\"\n",
       "     overlap         1279..1978\n",
       "                     /note=\"olp_lQPmXhrpcJP0VhkB1gXCrZVyjqA\"\n",
       "                     /ApEinfo_revcolor=\"#DCDFE6\"\n",
       "                     /chksum=\"lQPmXhrpcJP0VhkB1gXCrZVyjqA\"\n",
       "                     /ApEinfo_fwdcolor=\"#ECAFE1\"\n",
       "     rep_origin      1313\n",
       "                     /direction=BOTH\n",
       "     misc            2057..2860\n",
       "                     /label=\"URA3\"\n",
       "     misc            2645..2694\n",
       "                     /label=\"469_pSU0r-dEcoRV\"\n",
       "     primer_bind     2670..2694\n",
       "                     /note=\"469_pSU0r-dEcoRV\"\n",
       "                     /ApEinfo_revcolor=\"red\"\n",
       "                     /ApEinfo_fwdcolor=\"green\"\n",
       "     gene            complement(4706..5566)\n",
       "                     /gene=\"Amp\"\n",
       "     CDS             complement(4706..5566)\n",
       "                     /product=\"ampicillin resistant protein\"\n",
       "                     /codon_start=1\n",
       "                     /transl_table=11\n",
       "                     /db_xref=\"GI:84570489\"\n",
       "                     /translation=\"MSIQHFRVALIPFFAAFCLPVFAHPETLVKVKDAEDQLGARVGYI\n",
       "                     ELDLNSGKILESFRPEERFPMMSTFKVLLCDTLLSRIDAGQEQLGRRIHYSQNDLVEYS\n",
       "                     PVTEKHLTDGMTVRELCSAAITMSDNTAANLLLTTIGGPKELTAFLHNMGDHVTRLDRW\n",
       "                     EPELNEAIPNDESDTTMPVAMPTTLRKLLTGELLTLASRQQLIDWMEADKVAGPLLRSA\n",
       "                     LPAGWFIADKSGAGERGSRGIIAALGPDGKRSRIVVIYTTGSQATMDERNRQIAEIGAS\n",
       "                     LIKHW\"\n",
       "                     /gene=\"Amp\"\n",
       "                     /protein_id=\"BAE72674.1\"\n",
       "     overlap         4810..5013\n",
       "                     /note=\"olp_KFRCKsb+YIAV0bzDHHxIssmW6qY\"\n",
       "                     /ApEinfo_revcolor=\"#D1C6B7\"\n",
       "                     /chksum=\"KFRCKsb+YIAV0bzDHHxIssmW6qY\"\n",
       "                     /ApEinfo_fwdcolor=\"#FAF6FC\"\n",
       "     overlap         5341..5585\n",
       "                     /note=\"olp_PrH6fFQ/Xlj09X/ymVtJGXI9hx0\"\n",
       "                     /ApEinfo_revcolor=\"#CCAFB9\"\n",
       "                     /chksum=\"PrH6fFQ/Xlj09X/ymVtJGXI9hx0\"\n",
       "                     /ApEinfo_fwdcolor=\"#C0CCF8\"\n",
       "ORIGIN\n",
       "        1 tcgcgcgttt cggtgatgac ggtgaaaacc tctgacacat gcagctcccg gagacggtca\n",
       "       61 cagcttgtct gtaagcggat gccgggagca gacaagcccg tcagggcgcg tcagcgggtg\n",
       "      121 ttggcgggtg tcggggctgg cttaactatg cggcatcaga gcagattgta ctgagagtgc\n",
       "      181 accatagatc ctgaggatcg gggtgataaa tcagtctgcg ccacatcggg ggaaacaaaa\n",
       "      241 tggcgcgaga tctaaaaaaa aaggctccaa aaggagcctt tcgcgctacc aggtaacgcg\n",
       "      301 ccactccgac gggattaacg agtgccgtaa acgacgatgg ttttaccgtg tgcggagatc\n",
       "      361 aggttctgat cctcgagcat cttaagaatt cgtcccacgg tttgtctaga gcagccgaca\n",
       "      421 atctggccaa tttcctgacg ggtaattttg atttgcatgc cgtccgggtg agtcatagcg\n",
       "      481 tctggttgtt ttgccagatt cagcagagtc tgtgcaatgc ggccgctgac gtcgaggaac\n",
       "      541 gccaggttgc ccactttctc actagtgacc tgcagccggc gcgccatctg tgcagacaaa\n",
       "      601 cgcatcagga tatccggatt tacctgaatc aattggcgaa attttttgta cgaaatttca\n",
       "      661 gccacttcac aggcggtttt cgcacgtacc catgcgctac gttcctggcc ctcttcaaac\n",
       "      721 aggcccagtt cgccaataaa atcaccctga ttcagatagg agaggatcat ttctttaccc\n",
       "      781 tcttcgtctt tgatcagcac tgccacagag cctttaacga tgtagtacag cgtttccgct\n",
       "      841 ttttcaccct ggtgaataag cgtgctcttg gatgggtact tatgaatgtg gcaatgagac\n",
       "      901 aagaaccatt cgagagtagg atccgtttga ggtttaccaa gtaccataag atccttaaat\n",
       "      961 ttttattatc tagctagatg ataatattat atcaagaatt gtacctgaaa gcaaataaat\n",
       "     1021 tttttatctg gcttaactat gcggcatcag agcagattgt actgagagtg caccatatgc\n",
       "     1081 ggtgtgaaat accgcacaga tgcgtaagga gaaaataccg catcaggcgc tcttccgctt\n",
       "     1141 cctcgctcac tgactcgctg cgctcggtcg ttcggctgcg gcgagcggta tcagctcact\n",
       "     1201 caaaggcggt aatacggtta tccacagaat caggggataa cgcaggaaag aacatgtgag\n",
       "     1261 caaaaggcca gcaaaaggcc aggaaccgta aaaaggccgc gttgctggcg tttttccata\n",
       "     1321 ggctccgccc ccctgacgag catcacaaaa atcgacgctc aagtcagagg tggcgaaacc\n",
       "     1381 cgacaggact ataaagatac caggcgtttc cccctggaag ctccctcgtg cgctctcctg\n",
       "     1441 ttccgaccct gccgcttacc ggatacctgt ccgcctttct cccttcggga agcgtggcgc\n",
       "     1501 tttctcatag ctcacgctgt aggtatctca gttcggtgta ggtcgttcgc tccaagctgg\n",
       "     1561 gctgtgtgca cgaacccccc gttcagcccg accgctgcgc cttatccggt aactatcgtc\n",
       "     1621 ttgagtccaa cccggtaaga cacgacttat cgccactggc agcagccact ggtaacagga\n",
       "     1681 ttagcagagc gaggtatgta ggcggtgcta cagagttctt gaagtggtgg cctaactacg\n",
       "     1741 gctacactag aaggacagta tttggtatct gcgctctgct gaagccagtt accttcggaa\n",
       "     1801 aaagagttgg tagctcttga tccggcaaac aaaccaccgc tggtagcggt ggtttttttg\n",
       "     1861 tttgcaagca gcagattacg cgcagaaaaa aaggatctca agaagatcct ttgatctttt\n",
       "     1921 ctacggggtc tgacgctcag tggaacgaaa actcacgtta agggattttg gtcatgaggg\n",
       "     1981 gtaataactg atataattaa attgaagctc taatttgtga gtttagtata catgcattta\n",
       "     2041 cttataatac agttttttag ttttgctggc cgcatcttct caaatatgct tcccagcctg\n",
       "     2101 cttttctgta acgttcaccc tctaccttag catcccttcc ctttgcaaat agtcctcttc\n",
       "     2161 caacaataat aatgtcagat cctgtagaga ccacatcatc cacggttcta tactgttgac\n",
       "     2221 ccaatgcgtc tcccttgtca tctaaaccca caccgggtgt cataatcaac caatcgtaac\n",
       "     2281 cttcatctct tccacccatg tctctttgag caataaagcc gataacaaaa tctttgtcgc\n",
       "     2341 tcttcgcaat gtcaacagta cccttagtat attctccagt agatagggag cccttgcatg\n",
       "     2401 acaattctgc taacatcaaa aggcctctag gttcctttgt tacttcttct gccgcctgct\n",
       "     2461 tcaaaccgct aacaatacct gggcccacca caccgtgtgc attcgtaatg tctgcccatt\n",
       "     2521 ctgctattct gtatacaccc gcagagtact gcaatttgac tgtattacca atgtcagcaa\n",
       "     2581 attttctgtc ttcgaagagt aaaaaattgt acttggcgga taatgccttt agcggcttaa\n",
       "     2641 ctgtgccctc catggaaaaa tcagtcaaaa tatccacatg tgtttttagt aaacaaattt\n",
       "     2701 tgggacctaa tgcttcaact aactccagta attccttggt ggtacgaaca tccaatgaag\n",
       "     2761 cacacaagtt tgtttgcttt tcgtgcatga tattaaatag cttggcagca acaggactag\n",
       "     2821 gatgagtagc agcacgttcc ttatatgtag ctttcgacat gatttatctt cgtttcctgc\n",
       "     2881 aggtttttgt tctgtgcagt tgggttaaga atactgggca atttcatgtt tcttcaacac\n",
       "     2941 tacatatgcg tatatatacc aatctaagtc tgtgctcctt ccttcgttct tccttctgtt\n",
       "     3001 cggagattac cgaatcaaaa aaatttcaaa gaaaccgaaa tcaaaaaaaa gaataaaaaa\n",
       "     3061 aaaatgatga attgaattga aaagctagct tatcgatgat aagctgtcaa agatgagaat\n",
       "     3121 taattccacg gactatagac tatactagat actccgtcta ctgtacgata cacttccgct\n",
       "     3181 caggtccttg tcctttaacg aggccttacc actcttttgt tactctattg atccagctca\n",
       "     3241 gcaaaggcag tgtgatctaa gattctatct tcgcgatgta gtaaaactag ctagaccgag\n",
       "     3301 aaagagacta gaaatgcaaa aggcacttct acaatggctg ccatcattat tatccgatgt\n",
       "     3361 gacgctgcag cttctcaatg atattcgaat acgctttgag gagatacagc ctaatatccg\n",
       "     3421 acaaactgtt ttacagattt acgatcgtac ttgttaccca tcattgaatt ttgaacatcc\n",
       "     3481 gaacctggga gttttccctg aaacagatag tatatttgaa cctgtataat aatatatagt\n",
       "     3541 ctagcgcttt acggaagaca atgtatgtat ttcggttcct ggagaaacta ttgcatctat\n",
       "     3601 tgcataggta atcttgcacg tcgcatcccc ggttcatttt ctgcgtttcc atcttgcact\n",
       "     3661 tcaatagcat atctttgtta acgaagcatc tgtgcttcat tttgtagaac aaaaatgcaa\n",
       "     3721 cgcgagagcg ctaatttttc aaacaaagaa tctgagctgc atttttacag aacagaaatg\n",
       "     3781 caacgcgaaa gcgctatttt accaacgaag aatctgtgct tcatttttgt aaaacaaaaa\n",
       "     3841 tgcaacgcga cgagagcgct aatttttcaa acaaagaatc tgagctgcat ttttacagaa\n",
       "     3901 cagaaatgca acgcgagagc gctattttac caacaaagaa tctatacttc ttttttgttc\n",
       "     3961 tacaaaaatg catcccgaga gcgctatttt tctaacaaag catcttagat tacttttttt\n",
       "     4021 ctcctttgtg cgctctataa tgcagtctct tgataacttt ttgcactgta ggtccgttaa\n",
       "     4081 ggttagaaga aggctacttt ggtgtctatt ttctcttcca taaaaaaagc ctgactccac\n",
       "     4141 ttcccgcgtt tactgattac tagcgaagct gcgggtgcat tttttcaaga taaaggcatc\n",
       "     4201 cccgattata ttctataccg atgtggattg cgcatacttt gtgaacagaa agtgatagcg\n",
       "     4261 ttgatgattc ttcattggtc agaaaattat gaacggtttc ttctattttg tctctatata\n",
       "     4321 ctacgtatag gaaatgttta cattttcgta ttgttttcga ttcactctat gaatagttct\n",
       "     4381 tactacaatt tttttgtcta aagagtaata ctagagataa acataaaaaa tgtagaggtc\n",
       "     4441 gagtttagat gcaagttcaa ggagcgaaag gtggatgggt aggttatata gggatatagc\n",
       "     4501 acagagatat atagcaaaga gatacttttg agcaatgttt gtggaagcgg tattcgcaat\n",
       "     4561 gggaagctcc accccggttg ataatcagaa aagccccaaa aacaggaaga ttattatcaa\n",
       "     4621 aaaggatctt cacctagatc cttttaaatt aaaaatgaag ttttaaatca atctaaagta\n",
       "     4681 tatatgagta aacttggtct gacagttacc aatgcttaat cagtgaggca cctatctcag\n",
       "     4741 cgatctgtct atttcgttca tccatagttg cctgactccc cgtcgtgtag ataactacga\n",
       "     4801 tacgggagcg cttaccatct ggccccagtg ctgcaatgat accgcgagac ccacgctcac\n",
       "     4861 cggctccaga tttatcagca ataaaccagc cagccggaag ggccgagcgc agaagtggtc\n",
       "     4921 ctgcaacttt atccgcctcc atccagtcta ttaattgttg ccgggaagct agagtaagta\n",
       "     4981 gttcgccagt taatagtttg cgcaacgttg ttggcattgc tacaggcatc gtggtgtcac\n",
       "     5041 tctcgtcgtt tggtatggct tcattcagct ccggttccca acgatcaagg cgagttacat\n",
       "     5101 gatcccccat gttgtgcaaa aaagcggtta gctccttcgg tcctccgatc gttgtcagaa\n",
       "     5161 gtaagttggc cgcagtgtta tcactcatgg ttatggcagc actgcataat tctcttactg\n",
       "     5221 tcatgccatc cgtaagatgc ttttctgtga ctggtgagta ctcaaccaag tcattctgag\n",
       "     5281 aatagtgtat gcggcgaccg agttgctctt gcccggcgtc aatacgggat aatagtgtat\n",
       "     5341 cacatagcag aactttaaaa gtgctcatca ttggaaaacg ttcttcgggg cgaaaactct\n",
       "     5401 caaggatctt accgctgttg agatccagtt cgatgtaacc cactcgtgca cccaactgat\n",
       "     5461 cttcagcatc ttttactttc accagcgttt ctgggtgagc aaaaacagga aggcaaaatg\n",
       "     5521 ccgcaaaaaa gggaataagg gcgacacgga aatgttgaat actcatactc ttcctttttc\n",
       "     5581 aatattattg aagcatttat cagggttatt gtctcatgag cggatacata tttgaatgta\n",
       "     5641 tttagaaaaa taaacaaata ggggttccgc gcacatttcc ccgaaaagtg ccacctgcta\n",
       "     5701 agaaaccatt attatcatga cattaaccta taaaaatagg cgtatcacga ggccctttcg\n",
       "     5761 tc\n",
       "//"
      ]
     },
     "execution_count": 21,
     "metadata": {},
     "output_type": "execute_result"
    }
   ],
   "source": [
    "pYPK0.format()"
   ]
  },
  {
   "cell_type": "code",
   "execution_count": null,
   "metadata": {
    "collapsed": true
   },
   "outputs": [],
   "source": []
  }
 ],
 "metadata": {
  "kernelspec": {
   "display_name": "Python 2",
   "language": "python",
   "name": "python2"
  },
  "language_info": {
   "codemirror_mode": {
    "name": "ipython",
    "version": 2
   },
   "file_extension": ".py",
   "mimetype": "text/x-python",
   "name": "python",
   "nbconvert_exporter": "python",
   "pygments_lexer": "ipython2",
   "version": "2.7.9"
  }
 },
 "nbformat": 4,
 "nbformat_minor": 0
}
