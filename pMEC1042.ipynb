{
 "cells": [
  {
   "cell_type": "markdown",
   "metadata": {},
   "source": [
    "#pMEC1042 \n",
    "\n",
    "###pSU0 with BleMX4 and CEN6/ARS4\n",
    "\n",
    "The CEN6/ARS4 S. cerevisiae single copy origin of\n",
    "replication was PCR amplified from p413TEF with primers\n",
    "CEN6ARSH_fwd and CEN6ARSH_rev pair of primers and the\n",
    "dominant marker gene bleMX4 was amplified from pUG66\n",
    "with bleMX4_fwd and bleMX4_rev pair of primers.\n",
    "The primers were designed to allow for homologous\n",
    "recombination with the pSU0 plasmid replacing the\n",
    "2µ ORI and URA3 gene with the CEN6ARSH and bleMX4,\n",
    "resulting in a plasmid designated pMEC1042."
   ]
  },
  {
   "cell_type": "code",
   "execution_count": 1,
   "metadata": {
    "collapsed": false
   },
   "outputs": [],
   "source": [
    "import pydna"
   ]
  },
  {
   "cell_type": "code",
   "execution_count": 2,
   "metadata": {
    "collapsed": true
   },
   "outputs": [],
   "source": [
    "gb = pydna.Genbank(\"bjornjobb@gmail.com\")"
   ]
  },
  {
   "cell_type": "markdown",
   "metadata": {},
   "source": [
    "The p4XX PPP vectors are described in the publication below"
   ]
  },
  {
   "cell_type": "code",
   "execution_count": 3,
   "metadata": {
    "collapsed": false
   },
   "outputs": [
    {
     "data": {
      "text/html": [
       "<iframe src=http://www.sciencedirect.com/science/article/pii/0378111995000377 width=100% height=350></iframe>"
      ],
      "text/plain": [
       "<IPython.core.display.HTML object>"
      ]
     },
     "execution_count": 3,
     "metadata": {},
     "output_type": "execute_result"
    }
   ],
   "source": [
    "from IPython.display import HTML\n",
    "HTML('<iframe src=http://www.sciencedirect.com/science/article/pii/0378111995000377 width=100% height=350></iframe>')"
   ]
  },
  {
   "cell_type": "code",
   "execution_count": 4,
   "metadata": {
    "collapsed": false
   },
   "outputs": [],
   "source": [
    "p416TEF = gb.nucleotide(\"EF210199.1\") #relevant sequence is the same as p413TEF\n",
    "pUG66 = gb.nucleotide(\"AF298794.1\")\n",
    "pSU0 = gb.nucleotide(\"AB215109.1\")"
   ]
  },
  {
   "cell_type": "code",
   "execution_count": 5,
   "metadata": {
    "collapsed": true
   },
   "outputs": [],
   "source": [
    "from Bio.Restriction import EcoRV"
   ]
  },
  {
   "cell_type": "code",
   "execution_count": 6,
   "metadata": {
    "collapsed": false
   },
   "outputs": [],
   "source": [
    "CEN6ARSH_fwd, CEN6ARSH_rev = pydna.parse('''\n",
    ">476_CEN6ARSHf (58-mer)\n",
    "TTTAATTTAAAAGGATCTAGGTGAAGATCCTTTTTGATAAacggatcgcttgcctgta\n",
    "\n",
    ">475_CEN6ARSHr (30-mer)\n",
    "cttttcatcacgtgctataaaaataattat''')"
   ]
  },
  {
   "cell_type": "code",
   "execution_count": 7,
   "metadata": {
    "collapsed": false
   },
   "outputs": [],
   "source": [
    "cen = pydna.pcr(CEN6ARSH_fwd, CEN6ARSH_rev, p416TEF)"
   ]
  },
  {
   "cell_type": "code",
   "execution_count": 8,
   "metadata": {
    "collapsed": false
   },
   "outputs": [],
   "source": [
    "bleMX4_fwd, bleMX4_rev = pydna.parse('''\n",
    ">478_bleMX4f\n",
    "aatttaaattataattatttttatagcacgtgatgaaaaggtccccgccgggtc\n",
    "\n",
    ">477_bleMX4r\n",
    "agtggaacgaaaactcacgttaagggattttggtcatgaggagctcgttttcga''')"
   ]
  },
  {
   "cell_type": "code",
   "execution_count": 9,
   "metadata": {
    "collapsed": false
   },
   "outputs": [],
   "source": [
    "ble = pydna.pcr(bleMX4_fwd, bleMX4_rev, pUG66)\n",
    "\n",
    "pSU0_EcoRV = pSU0.linearize(EcoRV)"
   ]
  },
  {
   "cell_type": "markdown",
   "metadata": {},
   "source": [
    "notedown pMEC1042.py > pMEC1042.ipynb"
   ]
  },
  {
   "cell_type": "code",
   "execution_count": 10,
   "metadata": {
    "collapsed": true
   },
   "outputs": [],
   "source": [
    "a=pydna.Assembly((pSU0_EcoRV, cen, ble))\n",
    "\n",
    "pMEC1042 = a.circular_products[0]"
   ]
  },
  {
   "cell_type": "code",
   "execution_count": 11,
   "metadata": {
    "collapsed": false
   },
   "outputs": [
    {
     "data": {
      "text/plain": [
       "cSEGUID_sZL0T1A3LTftmAUlDZU9wdE46do_2015-07-15T15:48:33.264109"
      ]
     },
     "execution_count": 11,
     "metadata": {},
     "output_type": "execute_result"
    }
   ],
   "source": [
    "pMEC1042.stamp()"
   ]
  },
  {
   "cell_type": "code",
   "execution_count": 12,
   "metadata": {
    "collapsed": false
   },
   "outputs": [],
   "source": [
    "pMEC1042.locus = \"pMEC1042\""
   ]
  },
  {
   "cell_type": "code",
   "execution_count": 13,
   "metadata": {
    "collapsed": false
   },
   "outputs": [
    {
     "data": {
      "text/markdown": [
       "###[pMEC1042](pMEC1042.gb)"
      ],
      "text/plain": [
       "<IPython.core.display.Markdown object>"
      ]
     },
     "execution_count": 13,
     "metadata": {},
     "output_type": "execute_result"
    }
   ],
   "source": [
    "pMEC1042.write(\"pMEC1042.gb\")"
   ]
  },
  {
   "cell_type": "markdown",
   "metadata": {},
   "source": [
    "###[DOWNLOAD](pMEC1042.gb)"
   ]
  },
  {
   "cell_type": "code",
   "execution_count": 14,
   "metadata": {
    "collapsed": false
   },
   "outputs": [
    {
     "data": {
      "text/plain": [
       "cSEGUID_sZL0T1A3LTftmAUlDZU9wdE46do"
      ]
     },
     "execution_count": 14,
     "metadata": {},
     "output_type": "execute_result"
    }
   ],
   "source": [
    "import pydna\n",
    "reloaded=pydna.read(\"pMEC1042.gb\")\n",
    "reloaded.verify_stamp()"
   ]
  },
  {
   "cell_type": "code",
   "execution_count": null,
   "metadata": {
    "collapsed": true
   },
   "outputs": [],
   "source": []
  }
 ],
 "metadata": {
  "kernelspec": {
   "display_name": "Python 2",
   "language": "python",
   "name": "python2"
  },
  "language_info": {
   "codemirror_mode": {
    "name": "ipython",
    "version": 2
   },
   "file_extension": ".py",
   "mimetype": "text/x-python",
   "name": "python",
   "nbconvert_exporter": "python",
   "pygments_lexer": "ipython2",
   "version": "2.7.10"
  }
 },
 "nbformat": 4,
 "nbformat_minor": 0
}
