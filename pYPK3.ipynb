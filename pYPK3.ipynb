{
 "cells": [
  {
   "cell_type": "markdown",
   "metadata": {},
   "source": [
    "# pYPK3\n",
    "\n",
    "pYPK3 is a version of [pYPK1](pYPK1.ipynb) that has a CEN6/ARS yeast ori\n",
    "and a HphMX4 marker instead of the bleomycin marker."
   ]
  },
  {
   "cell_type": "code",
   "execution_count": 1,
   "metadata": {
    "collapsed": true
   },
   "outputs": [],
   "source": [
    "from pydna.all import *\n",
    "pYPK1 =read(\"pYPK1.gb\")\n",
    "gb =Genbank(\"bjornjobb@gmail.com\")"
   ]
  },
  {
   "cell_type": "code",
   "execution_count": 2,
   "metadata": {
    "collapsed": false
   },
   "outputs": [],
   "source": [
    "githubuser=\"BjornFJohansson\"\n",
    "gistid = \"c5424b7ebbf553c52053\"\n",
    "x=download_text('https://gist.githubusercontent.com/{user}/{gistid}/raw'.format(user=githubuser, gistid=gistid))\n",
    "pAG32 =read(x)"
   ]
  },
  {
   "cell_type": "code",
   "execution_count": 3,
   "metadata": {
    "collapsed": false
   },
   "outputs": [
    {
     "data": {
      "text/plain": [
       "Dseqrecord(o4160)"
      ]
     },
     "execution_count": 3,
     "metadata": {},
     "output_type": "execute_result"
    }
   ],
   "source": [
    "pAG32"
   ]
  },
  {
   "cell_type": "markdown",
   "metadata": {},
   "source": [
    "[pAG32 sequence](https://gist.github.com/BjornFJohansson/c5424b7ebbf553c52053)"
   ]
  },
  {
   "cell_type": "code",
   "execution_count": 4,
   "metadata": {
    "collapsed": false
   },
   "outputs": [],
   "source": [
    "p150,p149,p325,p324,p678,p666 = parse_primers('''\n",
    ">150_MX4fwd (25-mer) Primer in the Ashbya gossypi TEF promoter in forward direction. contaminated?\n",
    "AAAATCTTGCTAGGATACAGTTCTC\n",
    "\n",
    ">149_MX4rev (25-mer) Primer in the Ashbya gossypi TEF terminator in the reverse direction.\n",
    "ACAAATGACAAGTTCTTGAAAACAA\n",
    "\n",
    ">325_Hygfwd (27-mer)\n",
    "GATGTAGGAGGGCGTGGATATGTCCTG\n",
    "\n",
    ">324_Hygrev (27-mer)\n",
    "TGCATCATCGAAATTGCCGTCAACCAA\n",
    "\n",
    ">678_pYPK0_hygfwd: (77-mer)\n",
    "ctcacgttaagggattttggtcatgagCACATACGATTTAGGTGACACTATAGAAC\n",
    "\n",
    ">666_pYPK0_hygrev (70-mer)\n",
    "catctttgacagcttatcatcgataagctCGACTCACTATAGGGAGACC''')"
   ]
  },
  {
   "cell_type": "code",
   "execution_count": 5,
   "metadata": {
    "collapsed": false
   },
   "outputs": [],
   "source": [
    "hygmarker1 =pcr( p678, p324, pAG32 )"
   ]
  },
  {
   "cell_type": "code",
   "execution_count": 6,
   "metadata": {
    "collapsed": false
   },
   "outputs": [],
   "source": [
    "hygmarker2 =pcr( p325, p666, pAG32 )"
   ]
  },
  {
   "cell_type": "code",
   "execution_count": 7,
   "metadata": {
    "collapsed": false
   },
   "outputs": [],
   "source": [
    "from Bio.Restriction import PvuII"
   ]
  },
  {
   "cell_type": "code",
   "execution_count": 8,
   "metadata": {
    "collapsed": false
   },
   "outputs": [],
   "source": [
    "vect = pYPK1.linearize(PvuII)"
   ]
  },
  {
   "cell_type": "code",
   "execution_count": 9,
   "metadata": {
    "collapsed": false
   },
   "outputs": [
    {
     "data": {
      "text/plain": [
       "## Assembly object ##\n",
       "fragments....: 1371bp 1262bp 4640bp\n",
       "limit(bp)....: 251\n",
       "G.nodes......: 10\n",
       "algorithm....: common_sub_strings\n",
       "linear(3)....: -5980 -5319 -692\n",
       "circular(1)..: o5288"
      ]
     },
     "execution_count": 9,
     "metadata": {},
     "output_type": "execute_result"
    }
   ],
   "source": [
    "a=Assembly([hygmarker1, hygmarker2, vect], limit =251)\n",
    "a"
   ]
  },
  {
   "cell_type": "code",
   "execution_count": 10,
   "metadata": {
    "collapsed": false
   },
   "outputs": [],
   "source": [
    "candidate = a.circular_products[0]"
   ]
  },
  {
   "cell_type": "code",
   "execution_count": 11,
   "metadata": {
    "collapsed": false
   },
   "outputs": [
    {
     "data": {
      "text/plain": [
       " -|1371bp_PCR_prod|741\n",
       "|                  \\/\n",
       "|                  /\\\n",
       "|                  741|1262bp_PCR_prod|251\n",
       "|                                      \\/\n",
       "|                                      /\\\n",
       "|                                      251|pYPK1_lin_rc|373\n",
       "|                                                       \\/\n",
       "|                                                       /\\\n",
       "|                                                       373-\n",
       "|                                                          |\n",
       " ----------------------------------------------------------"
      ]
     },
     "execution_count": 11,
     "metadata": {},
     "output_type": "execute_result"
    }
   ],
   "source": [
    "candidate.figure()"
   ]
  },
  {
   "cell_type": "code",
   "execution_count": 12,
   "metadata": {
    "collapsed": false
   },
   "outputs": [],
   "source": [
    "pYPK3=candidate.synced(pYPK1)"
   ]
  },
  {
   "cell_type": "code",
   "execution_count": 13,
   "metadata": {
    "collapsed": false
   },
   "outputs": [
    {
     "data": {
      "text/plain": [
       "cSEGUID_HGdQuJehFgtyDtEoXeOty-J5sg8"
      ]
     },
     "execution_count": 13,
     "metadata": {},
     "output_type": "execute_result"
    }
   ],
   "source": [
    "pYPK3.stamp()"
   ]
  },
  {
   "cell_type": "code",
   "execution_count": 14,
   "metadata": {
    "collapsed": false
   },
   "outputs": [],
   "source": [
    "pYPK3.locus = \"pYPK3\""
   ]
  },
  {
   "cell_type": "code",
   "execution_count": 15,
   "metadata": {
    "collapsed": false
   },
   "outputs": [
    {
     "data": {
      "text/html": [
       "<font face=monospace><a href='pYPK3.gb' target='_blank'>pYPK3.gb</a></font><br>"
      ]
     },
     "metadata": {},
     "output_type": "display_data"
    }
   ],
   "source": [
    "pYPK3.write(\"pYPK3.gb\")"
   ]
  },
  {
   "cell_type": "markdown",
   "metadata": {},
   "source": [
    "### [DOWNLOAD](pYPK3.gb)"
   ]
  },
  {
   "cell_type": "code",
   "execution_count": 16,
   "metadata": {
    "collapsed": false
   },
   "outputs": [],
   "source": [
    "from pydna.all import *\n",
    "reloaded=read(\"pYPK3.gb\")\n",
    "assert reloaded.cseguid() in reloaded.definition"
   ]
  }
 ],
 "metadata": {
  "kernelspec": {
   "display_name": "Python 3",
   "language": "python",
   "name": "python3"
  },
  "language_info": {
   "codemirror_mode": {
    "name": "ipython",
    "version": 3
   },
   "file_extension": ".py",
   "mimetype": "text/x-python",
   "name": "python",
   "nbconvert_exporter": "python",
   "pygments_lexer": "ipython3",
   "version": "3.6.3"
  }
 },
 "nbformat": 4,
 "nbformat_minor": 2
}
