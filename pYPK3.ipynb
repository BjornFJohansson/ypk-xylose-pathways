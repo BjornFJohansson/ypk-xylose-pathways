{
 "cells": [
  {
   "cell_type": "markdown",
   "metadata": {},
   "source": [
    "#pYPK3\n",
    "\n",
    "pYPK3 is a version of [pYPK1](pYPK1.ipynb) that has a CEN6/ARS yeast ori\n",
    "and a HphMX4 marker instead of the bleomycin marker."
   ]
  },
  {
   "cell_type": "code",
   "execution_count": 1,
   "metadata": {
    "collapsed": true
   },
   "outputs": [],
   "source": [
    "import pydna\n",
    "pYPK1 = pydna.read(\"pYPK1.gb\")\n",
    "gb = pydna.Genbank(\"bjornjobb@gmail.com\")\n",
    "\n",
    "import requests\n",
    "gistid = \"c5424b7ebbf553c52053\"\n",
    "r = requests.get('https://api.github.com/gists/'+gistid)\n",
    "pAG32 = pydna.read(r.json()[\"files\"].values().pop()[\"content\"])"
   ]
  },
  {
   "cell_type": "markdown",
   "metadata": {},
   "source": [
    "[pAG32 sequence](https://gist.github.com/BjornFJohansson/c5424b7ebbf553c52053)"
   ]
  },
  {
   "cell_type": "code",
   "execution_count": 2,
   "metadata": {
    "collapsed": true
   },
   "outputs": [],
   "source": [
    "p150,p149,p325,p324,p678,p666 = pydna.parse('''\n",
    ">150_MX4fwd (25-mer) Primer in the Ashbya gossypi TEF promoter in forward direction. contaminated?\n",
    "AAAATCTTGCTAGGATACAGTTCTC\n",
    "\n",
    ">149_MX4rev (25-mer) Primer in the Ashbya gossypi TEF terminator in the reverse direction.\n",
    "ACAAATGACAAGTTCTTGAAAACAA\n",
    "\n",
    ">325_Hygfwd (27-mer)\n",
    "GATGTAGGAGGGCGTGGATATGTCCTG\n",
    "\n",
    ">324_Hygrev (27-mer)\n",
    "TGCATCATCGAAATTGCCGTCAACCAA\n",
    "\n",
    ">678_pYPK0_hygfwd: (77-mer)\n",
    "ctcacgttaagggattttggtcatgagCACATACGATTTAGGTGACACTATAGAAC\n",
    "\n",
    ">666_pYPK0_hygrev (70-mer)\n",
    "catctttgacagcttatcatcgataagctCGACTCACTATAGGGAGACC''', ds=False)\n",
    "\n",
    "hygmarker1 = pydna.pcr( p678, p324, pAG32 )\n",
    "hygmarker2 = pydna.pcr( p325, p666, pAG32 )\n",
    "\n",
    "from Bio.Restriction import PvuII\n",
    "\n",
    "vect = pYPK1.linearize(PvuII)\n",
    "\n",
    "a=pydna.Assembly([hygmarker1, hygmarker2, vect], limit =251)\n",
    "\n",
    "pYPK3 = a.circular_products[0]\n",
    "\n",
    "pYPK3=pYPK3.synced(pYPK1)\n",
    "\n",
    "pYPK3.stamp()\n",
    "\n",
    "pYPK3.locus = \"pYPK3\"\n",
    "\n",
    "pYPK3.write(\"pYPK3.gb\")"
   ]
  },
  {
   "cell_type": "markdown",
   "metadata": {},
   "source": [
    "###[DOWNLOAD](pYPK3.gb)"
   ]
  },
  {
   "cell_type": "code",
   "execution_count": 3,
   "metadata": {
    "collapsed": false
   },
   "outputs": [
    {
     "data": {
      "text/plain": [
       "cSEGUID_HGdQuJehFgtyDtEoXeOty-J5sg8"
      ]
     },
     "execution_count": 3,
     "metadata": {},
     "output_type": "execute_result"
    }
   ],
   "source": [
    "import pydna\n",
    "reloaded=pydna.read(\"pYPK3.gb\")\n",
    "reloaded.verify_stamp()"
   ]
  },
  {
   "cell_type": "code",
   "execution_count": null,
   "metadata": {
    "collapsed": true
   },
   "outputs": [],
   "source": []
  }
 ],
 "metadata": {
  "kernelspec": {
   "display_name": "Python 2",
   "language": "python",
   "name": "python2"
  },
  "language_info": {
   "codemirror_mode": {
    "name": "ipython",
    "version": 2
   },
   "file_extension": ".py",
   "mimetype": "text/x-python",
   "name": "python",
   "nbconvert_exporter": "python",
   "pygments_lexer": "ipython2",
   "version": "2.7.9"
  }
 },
 "nbformat": 4,
 "nbformat_minor": 0
}
