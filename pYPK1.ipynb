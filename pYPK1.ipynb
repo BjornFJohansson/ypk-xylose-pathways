{
 "cells": [
  {
   "cell_type": "markdown",
   "metadata": {},
   "source": [
    "# pYPK1\n",
    "\n",
    "pYPK1 is a version of [pYPK0](pYPK0.ipynb) that has a CEN6/ARS yeast origin of replication\n",
    "instead of the 2µ origin of replication present in pYPK0.\n",
    "\n",
    "The URA3 marker is substituted for a bleomycin marker."
   ]
  },
  {
   "cell_type": "code",
   "execution_count": 1,
   "metadata": {
    "collapsed": true
   },
   "outputs": [],
   "source": [
    "from pydna.all import *"
   ]
  },
  {
   "cell_type": "code",
   "execution_count": 2,
   "metadata": {
    "collapsed": false
   },
   "outputs": [],
   "source": [
    "pMEC1042 =read(\"pMEC1042.gb\")"
   ]
  },
  {
   "cell_type": "code",
   "execution_count": 3,
   "metadata": {
    "collapsed": true
   },
   "outputs": [],
   "source": [
    "gb =Genbank(\"bjornjobb@gmail.com\")"
   ]
  },
  {
   "cell_type": "code",
   "execution_count": 4,
   "metadata": {
    "collapsed": true
   },
   "outputs": [],
   "source": [
    "pCAPs = gb.nucleotide(\"AJ001614.1\")"
   ]
  },
  {
   "cell_type": "code",
   "execution_count": 5,
   "metadata": {
    "collapsed": false
   },
   "outputs": [
    {
     "data": {
      "text/plain": [
       "(Dseqrecord(-3270), Dseqrecord(-14))"
      ]
     },
     "execution_count": 5,
     "metadata": {},
     "output_type": "execute_result"
    }
   ],
   "source": [
    "from Bio.Restriction import PvuI, BamHI, EcoRI\n",
    "\n",
    "pCAPs_pvu   = pCAPs.linearize(PvuI)\n",
    "stuffer, pMEC1042_EB = pMEC1042.cut(BamHI, EcoRI)\n",
    "pMEC1042_EB, stuffer"
   ]
  },
  {
   "cell_type": "code",
   "execution_count": 6,
   "metadata": {
    "collapsed": false
   },
   "outputs": [],
   "source": [
    "asm=Assembly([pMEC1042_EB, pCAPs_pvu], limit=245)"
   ]
  },
  {
   "cell_type": "code",
   "execution_count": 7,
   "metadata": {},
   "outputs": [
    {
     "data": {
      "text/plain": [
       "## Assembly object ##\n",
       "fragments....: 3270bp 3130bp\n",
       "limit(bp)....: 245\n",
       "G.nodes......: 8\n",
       "algorithm....: common_sub_strings\n",
       "linear(4)....: -5957 -5083 -1317 -443\n",
       "circular(1)..: o4640"
      ]
     },
     "execution_count": 7,
     "metadata": {},
     "output_type": "execute_result"
    }
   ],
   "source": [
    "asm"
   ]
  },
  {
   "cell_type": "code",
   "execution_count": 8,
   "metadata": {
    "collapsed": false
   },
   "outputs": [
    {
     "data": {
      "text/html": [
       "<pre> -|name|700\n",
       "|       \\/\n",
       "|       /\\\n",
       "|       700|AJ001614_lin_rc|245\n",
       "|                           \\/\n",
       "|                           /\\\n",
       "|                           245-\n",
       "|                              |\n",
       " ------------------------------</pre>"
      ],
      "text/plain": [
       "Contig(o4640)"
      ]
     },
     "execution_count": 8,
     "metadata": {},
     "output_type": "execute_result"
    }
   ],
   "source": [
    "candidate = asm.circular_products[0]\n",
    "candidate"
   ]
  },
  {
   "cell_type": "code",
   "execution_count": 9,
   "metadata": {
    "collapsed": false
   },
   "outputs": [],
   "source": [
    "pYPK1 = candidate.synced(pCAPs)"
   ]
  },
  {
   "cell_type": "code",
   "execution_count": 10,
   "metadata": {
    "collapsed": false
   },
   "outputs": [
    {
     "data": {
      "text/plain": [
       "cSEGUID_cBXvb5dxm6dsur7YGH-fQNjeUGg"
      ]
     },
     "execution_count": 10,
     "metadata": {},
     "output_type": "execute_result"
    }
   ],
   "source": [
    "pYPK1.stamp()"
   ]
  },
  {
   "cell_type": "code",
   "execution_count": 11,
   "metadata": {
    "collapsed": false
   },
   "outputs": [],
   "source": [
    "pYPK1.locus = \"pYPK1\""
   ]
  },
  {
   "cell_type": "code",
   "execution_count": 12,
   "metadata": {
    "collapsed": false
   },
   "outputs": [
    {
     "data": {
      "text/html": [
       "<font face=monospace><a href='pYPK1.gb' target='_blank'>pYPK1.gb</a></font><br>"
      ]
     },
     "metadata": {},
     "output_type": "display_data"
    }
   ],
   "source": [
    "pYPK1.write(\"pYPK1.gb\")"
   ]
  },
  {
   "cell_type": "markdown",
   "metadata": {},
   "source": [
    "### [DOWNLOAD](pYPK1.gb)"
   ]
  },
  {
   "cell_type": "code",
   "execution_count": 13,
   "metadata": {
    "collapsed": false
   },
   "outputs": [],
   "source": [
    "from pydna.all import *\n",
    "reloaded=read(\"pYPK1.gb\")\n",
    "assert reloaded.cseguid() in reloaded.definition"
   ]
  }
 ],
 "metadata": {
  "kernelspec": {
   "display_name": "Python 3",
   "language": "python",
   "name": "python3"
  },
  "language_info": {
   "codemirror_mode": {
    "name": "ipython",
    "version": 3
   },
   "file_extension": ".py",
   "mimetype": "text/x-python",
   "name": "python",
   "nbconvert_exporter": "python",
   "pygments_lexer": "ipython3",
   "version": "3.6.3"
  }
 },
 "nbformat": 4,
 "nbformat_minor": 2
}
