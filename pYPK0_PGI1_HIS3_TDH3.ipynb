{
 "cells": [
  {
   "cell_type": "markdown",
   "metadata": {},
   "source": [
    "#pYPK0_PGI1_HIS3_TDH3"
   ]
  },
  {
   "cell_type": "code",
   "execution_count": 1,
   "metadata": {
    "collapsed": false
   },
   "outputs": [],
   "source": [
    "from pydna import ipynb_importer"
   ]
  },
  {
   "cell_type": "code",
   "execution_count": 2,
   "metadata": {
    "collapsed": false
   },
   "outputs": [],
   "source": [
    "#!/usr/bin/env python\n",
    "\n",
    "from pydna import pcr\n",
    "from pydna import parse\n",
    "from pydna import Genbank\n",
    "from pydna import Assembly\n",
    "from pydna import Dseqrecord\n",
    "\n",
    "p577,p578,p468,p467,p567,p568 =    parse('''>577        \n",
    "                                            gttctgatcctcgagcatcttaagaattc                                                \n",
    "                                            >578          \n",
    "                                            gttcttgtctcattgccacattcataagt\n",
    "                                            >468\n",
    "                                            gtcgaggaacgccaggttgcccact\n",
    "                                            >467 \n",
    "                                            ATTTAAatcctgatgcgtttgtctgcacaga\n",
    "                                            >567\n",
    "                                            GTcggctgcaggtcactagtgag\n",
    "                                            >568\n",
    "                                            GTGCcatctgtgcagacaaacg''')\n",
    "                                            \n",
    "from Bio.Restriction import ZraI, AjiI, EcoRV\n",
    "\n",
    "from pYPKpw import pYPKpw\n",
    "\n",
    "pYPKpw_lin = pYPKpw.linearize(EcoRV)\n",
    "\n",
    "from pYPKa_Z_PGI1tp import pYPKa_Z_PGI1tp as first\n",
    "from pYPKa_A_CiGXF1 import pYPKa_A_CiGXF1 as middle\n",
    "from pYPKa_E_TDH3tp import pYPKa_E_TDH3tp as last                                                                               \n",
    "\n",
    "first  = pcr( p577, p567, first)\n",
    "middle = pcr( p468, p467, middle)\n",
    "last   = pcr( p568, p578, last)\n",
    "\n",
    "asm = Assembly((pYPKpw_lin, first, middle, last), limit=31)\n",
    "\n",
    "pYPK0_PGI1tp_CiGXF1_TDH3tp = asm.circular_products[0].synced(\"tcgcgcgtttcggtgatgacggtgaaaacctctg\")"
   ]
  },
  {
   "cell_type": "code",
   "execution_count": 3,
   "metadata": {
    "collapsed": false
   },
   "outputs": [],
   "source": [
    "pYPK0_PGI1tp_CiGXF1_TDH3tp.write(\"pYPK0_PGI1tp_CiGXF1_TDH3tp.gb\")"
   ]
  },
  {
   "cell_type": "markdown",
   "metadata": {},
   "source": [
    "##Download sequence\n",
    "\n",
    "[pYPK0_PGI1tp_CiGXF1_TDH3tp](pYPK0_PGI1tp_CiGXF1_TDH3tp.gb)"
   ]
  }
 ],
 "metadata": {
  "kernelspec": {
   "display_name": "Python 2",
   "language": "python",
   "name": "python2"
  },
  "language_info": {
   "codemirror_mode": {
    "name": "ipython",
    "version": 2
   },
   "file_extension": ".py",
   "mimetype": "text/x-python",
   "name": "python",
   "nbconvert_exporter": "python",
   "pygments_lexer": "ipython2",
   "version": "2.7.10"
  }
 },
 "nbformat": 4,
 "nbformat_minor": 0
}
