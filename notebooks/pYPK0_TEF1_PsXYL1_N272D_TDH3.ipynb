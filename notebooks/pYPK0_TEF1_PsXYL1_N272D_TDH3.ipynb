{
 "cells": [
  {
   "cell_type": "markdown",
   "metadata": {
    "deletable": true,
    "editable": true
   },
   "source": [
    "# Construction of pYPK0_TEF1_PsXYL1_N272D_TDH3 (pMEC1127)\n",
    "\n",
    "[pYPKa_Z_TEF1](pYPKa_Z_TEF1.ipynb)\n",
    "\n",
    "[pYPKa_E_TDH3](pYPKa_E_TDH3.ipynb)"
   ]
  },
  {
   "cell_type": "markdown",
   "metadata": {
    "deletable": true,
    "editable": true
   },
   "source": [
    "This vector is identical to pMEC1126 (pYPK0_TEF1_PsXYL1_TDH3tp) but for a N272D mutation in the XYL1 reading frame."
   ]
  },
  {
   "cell_type": "code",
   "execution_count": 1,
   "metadata": {
    "collapsed": false,
    "deletable": true,
    "editable": true
   },
   "outputs": [],
   "source": [
    "from pydna.all import *"
   ]
  },
  {
   "cell_type": "code",
   "execution_count": 2,
   "metadata": {
    "collapsed": true,
    "deletable": true,
    "editable": true
   },
   "outputs": [],
   "source": [
    "pYPK0_TEF1_PsXYL1_TDH3 =read(\"pYPK0_TEF1_PsXYL1_TDH3.gb\")"
   ]
  },
  {
   "cell_type": "code",
   "execution_count": 3,
   "metadata": {
    "collapsed": false,
    "deletable": true,
    "editable": true
   },
   "outputs": [
    {
     "data": {
      "text/plain": [
       "8015"
      ]
     },
     "execution_count": 3,
     "metadata": {},
     "output_type": "execute_result"
    }
   ],
   "source": [
    "len(pYPK0_TEF1_PsXYL1_TDH3)"
   ]
  },
  {
   "cell_type": "code",
   "execution_count": 4,
   "metadata": {
    "collapsed": false,
    "deletable": true,
    "editable": true
   },
   "outputs": [
    {
     "data": {
      "text/html": [
       "\n",
       "        <iframe\n",
       "            width=\"100%\"\n",
       "            height=\"250\"\n",
       "            src=\"http://www.ncbi.nlm.nih.gov/pmc/articles/PMC2988607\"\n",
       "            frameborder=\"0\"\n",
       "            allowfullscreen\n",
       "        ></iframe>\n",
       "        "
      ],
      "text/plain": [
       "<IPython.lib.display.IFrame at 0x7f63672a1a90>"
      ]
     },
     "execution_count": 4,
     "metadata": {},
     "output_type": "execute_result"
    }
   ],
   "source": [
    "# NBVAL_IGNORE_OUTPUT\n",
    "from IPython.display import IFrame\n",
    "IFrame('http://www.ncbi.nlm.nih.gov/pmc/articles/PMC2988607', width='100%', height=250)"
   ]
  },
  {
   "cell_type": "code",
   "execution_count": 5,
   "metadata": {
    "collapsed": false,
    "deletable": true,
    "editable": true
   },
   "outputs": [
    {
     "data": {
      "text/plain": [
       "+-----+------------------+-----+------+------+-----+-------------+------+\n",
       "| Ft# | Label or Note    | Dir | Sta  | End  | Len | type        | orf? |\n",
       "+-----+------------------+-----+------+------+-----+-------------+------+\n",
       "|   0 | L:167            | --> | 432  | 456  |  24 | primer_bind |  no  |\n",
       "|   1 | nd               | --> | 537  | 1116 | 579 | source      |  no  |\n",
       "|   2 | L:417_ScTEF1tpf  | --> | 537  | 560  |  23 | primer_bind |  no  |\n",
       "|   3 | L:626_ScTEF1tpr_ | <-- | 1088 | 1116 |  28 | primer_bind |  no  |\n",
       "|   4 | nd               | --> | 1163 | 2120 | 957 | gene        | yes  |\n",
       "|   5 | nd               | --> | 1163 | 2120 | 957 | CDS         | yes  |\n",
       "|   6 | L:XR_YPK_rec_fwd | --> | 1163 | 1189 |  26 | primer_bind |  no  |\n",
       "|   7 | L:XR_YPK_rec_rev | <-- | 2094 | 2120 |  26 | primer_bind |  no  |\n",
       "|   8 | L:568_pCAPsAjiIR | --> | 2123 | 2143 |  20 | primer_bind |  no  |\n",
       "|   9 | nd               | --> | 2159 | 2857 | 698 | source      |  no  |\n",
       "|  10 | L:415_ScTDH3tpf  | --> | 2159 | 2181 |  22 | primer_bind |  no  |\n",
       "|  11 | L:623_ScTDH3tpr_ | <-- | 2831 | 2857 |  26 | primer_bind |  no  |\n",
       "|  12 | L:166            | <-- | 2901 | 2925 |  24 | primer_bind |  no  |\n",
       "|  13 | nd               | --> | 3370 | 3371 |   1 | rep_origin  |  no  |\n",
       "|  14 | L:URA3           | <-- | 4229 | 5033 | 804 | misc        |  no  |\n",
       "|  15 | L:AmpR           | --> | 6961 | 7620 | 659 | CDS         |  no  |\n",
       "+-----+------------------+-----+------+------+-----+-------------+------+"
      ]
     },
     "execution_count": 5,
     "metadata": {},
     "output_type": "execute_result"
    }
   ],
   "source": [
    "pYPK0_TEF1_PsXYL1_TDH3.list_features()"
   ]
  },
  {
   "cell_type": "code",
   "execution_count": 6,
   "metadata": {
    "collapsed": true,
    "deletable": true,
    "editable": true
   },
   "outputs": [],
   "source": [
    "xyl1 = pYPK0_TEF1_PsXYL1_TDH3.extract_feature(5)"
   ]
  },
  {
   "cell_type": "code",
   "execution_count": 7,
   "metadata": {
    "collapsed": false,
    "deletable": true,
    "editable": true
   },
   "outputs": [],
   "source": [
    "wt_protein_seq = str(xyl1.seq.translate())"
   ]
  },
  {
   "cell_type": "code",
   "execution_count": 8,
   "metadata": {
    "collapsed": false,
    "deletable": true,
    "editable": true
   },
   "outputs": [
    {
     "name": "stdout",
     "output_type": "stream",
     "text": [
      "MPSIKLNSGYDMPAVGFGCWKVDVDTCSEQIYRAIKTGYRLFDGAEDYANEKLVGAGVKKAIDEGIVKREDLFLTSKLWNNYHHPDNVEKALNRTLSDLQVDYVDLFLIHFPVTFKFVPLEEKYPPGFYCGKGDNFDYEDVPILETWKALEKLVKAGKIRSIGVSNFPGALLLDLLRGATIKPSVLQVEHHPYLQQPRLIEFAQSRGIAVTAYSSFGPQSFVELNQGRALNTSPLFENETIKAIAAKHGKSPAQVLLRWSSQRGIAIIPKSNTVPRLLENKDVNSFDLDEQDFADIAKLDINLRFNDPWDWDKIPIFV*\n"
     ]
    }
   ],
   "source": [
    "print(wt_protein_seq)"
   ]
  },
  {
   "cell_type": "code",
   "execution_count": 9,
   "metadata": {
    "collapsed": false,
    "deletable": true,
    "editable": true
   },
   "outputs": [
    {
     "name": "stdout",
     "output_type": "stream",
     "text": [
      "N\n"
     ]
    }
   ],
   "source": [
    "print(wt_protein_seq[271])"
   ]
  },
  {
   "cell_type": "code",
   "execution_count": 10,
   "metadata": {
    "collapsed": false,
    "deletable": true,
    "editable": true
   },
   "outputs": [
    {
     "data": {
      "text/plain": [
       "ExactPosition(1163)"
      ]
     },
     "execution_count": 10,
     "metadata": {},
     "output_type": "execute_result"
    }
   ],
   "source": [
    "pYPK0_TEF1_PsXYL1_TDH3.features[6].location.start"
   ]
  },
  {
   "cell_type": "code",
   "execution_count": 11,
   "metadata": {
    "collapsed": false,
    "deletable": true,
    "editable": true
   },
   "outputs": [],
   "source": [
    "codon = pYPK0_TEF1_PsXYL1_TDH3[1163+271*3:1163+271*3+3]"
   ]
  },
  {
   "cell_type": "code",
   "execution_count": 12,
   "metadata": {
    "collapsed": false,
    "deletable": true,
    "editable": true
   },
   "outputs": [
    {
     "name": "stdout",
     "output_type": "stream",
     "text": [
      "AAC\n",
      "N\n"
     ]
    }
   ],
   "source": [
    "print(codon.seq)\n",
    "print(codon.seq.translate())"
   ]
  },
  {
   "cell_type": "code",
   "execution_count": 13,
   "metadata": {
    "collapsed": false,
    "deletable": true,
    "editable": true
   },
   "outputs": [],
   "source": [
    "candidate = (pYPK0_TEF1_PsXYL1_TDH3[:1163+271*3]+\n",
    "             Dseqrecord(\"GAC\")+\n",
    "             pYPK0_TEF1_PsXYL1_TDH3[1163+271*3+3:]).looped()"
   ]
  },
  {
   "cell_type": "code",
   "execution_count": 14,
   "metadata": {
    "collapsed": false,
    "deletable": true,
    "editable": true
   },
   "outputs": [],
   "source": [
    "new_feature = pYPK0_TEF1_PsXYL1_TDH3.features[8]\n",
    "new_feature.qualifiers = {\"label\":\"PsXYL1_N272D\"}\n",
    "candidate.features.append(new_feature)"
   ]
  },
  {
   "cell_type": "code",
   "execution_count": 15,
   "metadata": {
    "collapsed": false,
    "deletable": true,
    "editable": true
   },
   "outputs": [
    {
     "data": {
      "text/plain": [
       "Dseqrecord(o8015)"
      ]
     },
     "execution_count": 15,
     "metadata": {},
     "output_type": "execute_result"
    }
   ],
   "source": [
    "candidate"
   ]
  },
  {
   "cell_type": "code",
   "execution_count": 16,
   "metadata": {
    "collapsed": false,
    "deletable": true,
    "editable": true
   },
   "outputs": [
    {
     "data": {
      "text/plain": [
       "Y_e9Pjnu1AMSxxIPez6jXh8kvUU"
      ]
     },
     "execution_count": 16,
     "metadata": {},
     "output_type": "execute_result"
    }
   ],
   "source": [
    "candidate.cseguid()"
   ]
  },
  {
   "cell_type": "code",
   "execution_count": 17,
   "metadata": {
    "collapsed": false,
    "deletable": true,
    "editable": true
   },
   "outputs": [
    {
     "data": {
      "text/plain": [
       "cSEGUID_Y_e9Pjnu1AMSxxIPez6jXh8kvUU"
      ]
     },
     "execution_count": 17,
     "metadata": {},
     "output_type": "execute_result"
    }
   ],
   "source": [
    "candidate.id = \"pMEC1127\"\n",
    "#candidate.description = \"pYPK0_TEF1_PsXYL1_N272D_TDH3tp\"\n",
    "candidate.stamp()"
   ]
  },
  {
   "cell_type": "code",
   "execution_count": 18,
   "metadata": {
    "collapsed": false,
    "deletable": true,
    "editable": true
   },
   "outputs": [
    {
     "data": {
      "text/html": [
       "<font face=monospace><a href='pYPK0_TEF1_PsXYL1_N272D_TDH3.gb' target='_blank'>pYPK0_TEF1_PsXYL1_N272D_TDH3.gb</a></font><br>"
      ]
     },
     "metadata": {},
     "output_type": "display_data"
    }
   ],
   "source": [
    "candidate.write(\"pYPK0_TEF1_PsXYL1_N272D_TDH3.gb\")"
   ]
  },
  {
   "cell_type": "markdown",
   "metadata": {
    "deletable": true,
    "editable": true
   },
   "source": [
    "## Download sequence\n",
    "\n",
    "[pYPK0_TEF1_PsXYL1_N272D_TDH3](pYPK0_TEF1_PsXYL1_N272D_TDH3.gb)"
   ]
  },
  {
   "cell_type": "code",
   "execution_count": 19,
   "metadata": {
    "collapsed": false,
    "deletable": true,
    "editable": true
   },
   "outputs": [],
   "source": [
    "reloaded = read(\"pYPK0_TEF1_PsXYL1_N272D_TDH3.gb\")"
   ]
  },
  {
   "cell_type": "code",
   "execution_count": 20,
   "metadata": {
    "collapsed": false,
    "deletable": true,
    "editable": true
   },
   "outputs": [
    {
     "data": {
      "text/plain": [
       "Y_e9Pjnu1AMSxxIPez6jXh8kvUU"
      ]
     },
     "execution_count": 20,
     "metadata": {},
     "output_type": "execute_result"
    }
   ],
   "source": [
    "reloaded.cseguid()"
   ]
  }
 ],
 "metadata": {
  "kernelspec": {
   "display_name": "Python 3",
   "language": "python",
   "name": "python3"
  },
  "language_info": {
   "codemirror_mode": {
    "name": "ipython",
    "version": 3
   },
   "file_extension": ".py",
   "mimetype": "text/x-python",
   "name": "python",
   "nbconvert_exporter": "python",
   "pygments_lexer": "ipython3",
   "version": "3.7.2"
  }
 },
 "nbformat": 4,
 "nbformat_minor": 2
}
