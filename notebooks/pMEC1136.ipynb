{
 "cells": [
  {
   "cell_type": "markdown",
   "metadata": {
    "deletable": true,
    "editable": true
   },
   "source": [
    "# pMEC1136\n",
    "\n",
    "Also referred to as pYPK0-Df. This vector expresses four genes and was assembled from four single gene expression cassettes:\n",
    "\n",
    "Gene | Enzyme | Acronym | Cassette\n",
    "-------------------------------------------------- |-------------------|---|-----|\n",
    "[SsXYL1](http://www.ncbi.nlm.nih.gov/gene/4839234) |D-xylose reductase |XR | [pYPK0_TEF1_PsXYL1_TDH3](pYPK0_TEF1_PsXYL1_TDH3.ipynb)\n",
    "[SsXYL2](http://www.ncbi.nlm.nih.gov/gene/4852013) |xylitol dehydrogenase |XDH | [pYPK0_TDH3_PsXYL2_PGI1](pYPK0_TDH3_PsXYL2_PGI1.ipynb)\n",
    "[ScXKS1](http://www.yeastgenome.org/locus/S000003426/overview) |Xylulokinase |XK | [pYPK0_PGI1_ScXKS1_FBA1](pYPK0_PGI1_ScXKS1_FBA1.ipynb)\n",
    "[ScTAL1](http://www.yeastgenome.org/locus/S000004346/overview) |Transaldolase |tal1p | [pYPK0_FBA1_ScTAL1_PDC1](pYPK0_FBA1_ScTAL1_PDC1.ipynb)\n",
    "\n",
    "The systematic name of this vector is : ```pYPK0-ScTEF1-XR-ScTDH3-XDH-ScPGI1-XK-ScFBA1-TAL1-ScPDC1```\n",
    "The vector [pMEC1135](pMEC1135.ipynb) is identical to this vector, but has a point mutation in XYL1."
   ]
  },
  {
   "cell_type": "markdown",
   "metadata": {
    "deletable": true,
    "editable": true
   },
   "source": [
    "[Yeast Pathway Kit Standard Primers](ypk_std_primers.ipynb)"
   ]
  },
  {
   "cell_type": "code",
   "execution_count": 1,
   "metadata": {
    "collapsed": false,
    "deletable": true,
    "editable": true
   },
   "outputs": [],
   "source": [
    "from pydna.all import *"
   ]
  },
  {
   "cell_type": "code",
   "execution_count": 2,
   "metadata": {
    "collapsed": false,
    "deletable": true,
    "editable": true
   },
   "outputs": [],
   "source": [
    "p567,p577,p468,p467,p568,p578,p775,p778,p167,p166 = parse(\"yeast_pahtway_kit_standard_primers.txt\")"
   ]
  },
  {
   "cell_type": "code",
   "execution_count": 3,
   "metadata": {
    "collapsed": false,
    "deletable": true,
    "editable": true
   },
   "outputs": [],
   "source": [
    "pYPK0 =read(\"pYPK0.gb\")"
   ]
  },
  {
   "cell_type": "code",
   "execution_count": 4,
   "metadata": {
    "collapsed": false,
    "deletable": true,
    "editable": true
   },
   "outputs": [
    {
     "data": {
      "text/plain": [
       "qSJ95NM815X60yBy4l6iI69a_Dw"
      ]
     },
     "execution_count": 4,
     "metadata": {},
     "output_type": "execute_result"
    }
   ],
   "source": [
    "pYPK0.cseguid()"
   ]
  },
  {
   "cell_type": "code",
   "execution_count": 5,
   "metadata": {
    "collapsed": false,
    "deletable": true,
    "editable": true
   },
   "outputs": [],
   "source": [
    "from Bio.Restriction import ZraI, AjiI, EcoRV"
   ]
  },
  {
   "cell_type": "code",
   "execution_count": 6,
   "metadata": {
    "collapsed": false,
    "deletable": true,
    "editable": true
   },
   "outputs": [],
   "source": [
    "p417,p626 =parse(''' >417_ScTEF1tpf (30-mer)\n",
    "                            TTAAATAACAATGCATACTTTGTACGTTCA\n",
    "                            >626_ScTEF1tpr_PacI (35-mer)\n",
    "                            taattaaTTTGTAATTAAAACTTAGATTAGATTGC''', ds=False)\n",
    "\n",
    "p415,p623 =parse(''' >415_ScTDH3tpf (29-mer)\n",
    "                              TTAAATAATAAAAAACACGCTTTTTCAGT                                            \n",
    "                              >623_ScTDH3tpr_PacI (33-mer)\n",
    "                              taattaaTTTGTTTGTTTATGTGTGTTTATTCG''', ds=False)\n",
    "\n",
    "p549,p622 =parse('''   >549_ScPGI1tpf (27-mer)\n",
    "                              ttaaatAATTCAGTTTTCTGACTGAGT                                            \n",
    "                              >622_ScPGI1tpr_PacI (28-mer)\n",
    "                              taattaaTTTTAGGCTGGTATCTTGATT''', ds=False)\n",
    "\n",
    "p409,p624 =parse('''   >409_ScFBA1tpf (37-mer)\n",
    "                              TTAAATAATAACAATACTGACAGTACTAAATAATTGC                                            \n",
    "                              >624_ScFBA1tpr_PacI (29-mer)\n",
    "                              taattaaTTTGAATATGTATTACTTGGTT''', ds=False)"
   ]
  },
  {
   "cell_type": "code",
   "execution_count": 7,
   "metadata": {
    "collapsed": false,
    "deletable": true,
    "editable": true
   },
   "outputs": [],
   "source": [
    "p1 =read(\"pYPK0_TEF1_PsXYL1_TDH3.gb\")\n",
    "p2 =read(\"pYPK0_TDH3_PsXYL2_PGI1.gb\")\n",
    "p3 =read(\"pYPK0_PGI1_ScXKS1_FBA1.gb\")\n",
    "p4 =read(\"pYPK0_FBA1_ScTAL1_PDC1.gb\")"
   ]
  },
  {
   "cell_type": "code",
   "execution_count": 8,
   "metadata": {
    "collapsed": false,
    "deletable": true,
    "editable": true
   },
   "outputs": [],
   "source": [
    "cas1  =pcr( p167, p623, p1)\n",
    "cas2  =pcr( p415, p622, p2)\n",
    "cas3  =pcr( p549, p624, p3) \n",
    "cas4  =pcr( p409, p166, p4)"
   ]
  },
  {
   "cell_type": "code",
   "execution_count": 9,
   "metadata": {
    "collapsed": false,
    "deletable": true,
    "editable": true
   },
   "outputs": [],
   "source": [
    "pYPK0_E_Z, stuffer = pYPK0.cut((EcoRV, ZraI))"
   ]
  },
  {
   "cell_type": "code",
   "execution_count": 10,
   "metadata": {
    "collapsed": false,
    "deletable": true,
    "editable": true
   },
   "outputs": [
    {
     "data": {
      "text/plain": [
       "(Dseqrecord(-5681),\n",
       " Amplicon(2432),\n",
       " Amplicon(2889),\n",
       " Amplicon(3532),\n",
       " Amplicon(2754))"
      ]
     },
     "execution_count": 10,
     "metadata": {},
     "output_type": "execute_result"
    }
   ],
   "source": [
    "(pYPK0_E_Z, cas1, cas2, cas3, cas4)"
   ]
  },
  {
   "cell_type": "code",
   "execution_count": 11,
   "metadata": {
    "collapsed": false,
    "deletable": true,
    "editable": true
   },
   "outputs": [],
   "source": [
    "asm =Assembly( [pYPK0_E_Z, cas1, cas2, cas3, cas4] , limit = 61)"
   ]
  },
  {
   "cell_type": "code",
   "execution_count": 12,
   "metadata": {
    "collapsed": false,
    "deletable": true,
    "editable": true
   },
   "outputs": [
    {
     "data": {
      "text/plain": [
       "Assembly\n",
       "fragments..: 5681bp 2432bp 2889bp 3532bp 2754bp\n",
       "limit(bp)..: 61\n",
       "G.nodes....: 10\n",
       "algorithm..: common_sub_strings"
      ]
     },
     "execution_count": 12,
     "metadata": {},
     "output_type": "execute_result"
    }
   ],
   "source": [
    "asm"
   ]
  },
  {
   "cell_type": "code",
   "execution_count": 13,
   "metadata": {
    "collapsed": false,
    "deletable": true,
    "editable": true
   },
   "outputs": [],
   "source": [
    "candidate = asm.assemble_circular()[0]"
   ]
  },
  {
   "cell_type": "code",
   "execution_count": 14,
   "metadata": {
    "collapsed": false,
    "deletable": true,
    "editable": true
   },
   "outputs": [
    {
     "data": {
      "text/plain": [
       " -|name|98\n",
       "|       \\/\n",
       "|       /\\\n",
       "|       98|2432bp_PCR_prod|712\n",
       "|                          \\/\n",
       "|                          /\\\n",
       "|                          712|2889bp_PCR_prod|1013\n",
       "|                                              \\/\n",
       "|                                              /\\\n",
       "|                                              1013|3532bp_PCR_prod|644\n",
       "|                                                                   \\/\n",
       "|                                                                   /\\\n",
       "|                                                                   644|2754bp_PCR_prod|61\n",
       "|                                                                                       \\/\n",
       "|                                                                                       /\\\n",
       "|                                                                                       61-\n",
       "|                                                                                          |\n",
       " ------------------------------------------------------------------------------------------"
      ]
     },
     "execution_count": 14,
     "metadata": {},
     "output_type": "execute_result"
    }
   ],
   "source": [
    "candidate.figure()"
   ]
  },
  {
   "cell_type": "code",
   "execution_count": 15,
   "metadata": {
    "collapsed": false,
    "deletable": true,
    "editable": true
   },
   "outputs": [],
   "source": [
    "pw = candidate.synced(\"tcgcgcgtttcggtgatgacggtgaaaacctctg\")"
   ]
  },
  {
   "cell_type": "code",
   "execution_count": 16,
   "metadata": {
    "collapsed": false,
    "deletable": true,
    "editable": true
   },
   "outputs": [
    {
     "data": {
      "text/plain": [
       "14760"
      ]
     },
     "execution_count": 16,
     "metadata": {},
     "output_type": "execute_result"
    }
   ],
   "source": [
    "len(pw)"
   ]
  },
  {
   "cell_type": "code",
   "execution_count": 17,
   "metadata": {
    "collapsed": false,
    "deletable": true,
    "editable": true
   },
   "outputs": [
    {
     "data": {
      "text/plain": [
       "vjorydf8wV9TuwIkIydwg5qFSHw"
      ]
     },
     "execution_count": 17,
     "metadata": {},
     "output_type": "execute_result"
    }
   ],
   "source": [
    "pw.cseguid()"
   ]
  },
  {
   "cell_type": "code",
   "execution_count": 18,
   "metadata": {
    "collapsed": false,
    "deletable": true,
    "editable": true
   },
   "outputs": [
    {
     "data": {
      "text/plain": [
       "cSEGUID_vjorydf8wV9TuwIkIydwg5qFSHw"
      ]
     },
     "execution_count": 18,
     "metadata": {},
     "output_type": "execute_result"
    }
   ],
   "source": [
    "pw.id = \"pMEC1136\"\n",
    "pw.description=\"pYPK0-ScTEF1-XR-ScTDH3-XDH-ScPGI1-XK-ScFBA1-TAL1-ScPDC1 (alt name pYPK0_Df)\"\n",
    "pw.stamp()"
   ]
  },
  {
   "cell_type": "code",
   "execution_count": 19,
   "metadata": {
    "collapsed": false,
    "deletable": true,
    "editable": true
   },
   "outputs": [
    {
     "data": {
      "text/html": [
       "<font face=monospace><a href='pMEC1136.gb' target='_blank'>pMEC1136.gb</a></font><br>"
      ]
     },
     "metadata": {},
     "output_type": "display_data"
    }
   ],
   "source": [
    "pw.write(\"pMEC1136.gb\")"
   ]
  },
  {
   "cell_type": "markdown",
   "metadata": {
    "deletable": true,
    "editable": true
   },
   "source": [
    "## Download\n",
    "\n",
    "[pMEC1136](pMEC1136.gb)"
   ]
  },
  {
   "cell_type": "code",
   "execution_count": 20,
   "metadata": {
    "collapsed": false,
    "deletable": true,
    "editable": true
   },
   "outputs": [],
   "source": [
    "reloaded =read(\"pMEC1136.gb\")"
   ]
  },
  {
   "cell_type": "code",
   "execution_count": 21,
   "metadata": {
    "collapsed": false,
    "deletable": true,
    "editable": true
   },
   "outputs": [
    {
     "data": {
      "text/plain": [
       "vjorydf8wV9TuwIkIydwg5qFSHw"
      ]
     },
     "execution_count": 21,
     "metadata": {},
     "output_type": "execute_result"
    }
   ],
   "source": [
    "reloaded.cseguid()"
   ]
  }
 ],
 "metadata": {
  "kernelspec": {
   "display_name": "Python [conda env:bjorn37]",
   "language": "python",
   "name": "conda-env-bjorn37-py"
  },
  "language_info": {
   "codemirror_mode": {
    "name": "ipython",
    "version": 3
   },
   "file_extension": ".py",
   "mimetype": "text/x-python",
   "name": "python",
   "nbconvert_exporter": "python",
   "pygments_lexer": "ipython3",
   "version": "3.7.2"
  }
 },
 "nbformat": 4,
 "nbformat_minor": 2
}
