{
 "cells": [
  {
   "cell_type": "markdown",
   "metadata": {},
   "source": [
    "# Construction of the pYPK0 vector\n",
    "The pYPK0 is a yeast / _E. coli_ shuttle vector version of the pCAPs vector that was made through in-vivo homologous recombination between [pCAPs](http://www.ncbi.nlm.nih.gov/nuccore/AJ001614.1) and [pMEC1030](pMEC1030.ipynb). The pCAPs vector is described in detail in the notebook describing the [pYPKa](pYPKa.ipynb) vector.\n",
    "\n",
    "Important features are:\n",
    "* A unique [ZraI](http://rebase.neb.com/rebase/enz/ZraI.html) site\n",
    "* A unique [EcoRV](http://rebase.neb.com/rebase/enz/EcoRV.html) site\n",
    "* A [URA3 marker](http://www.yeastgenome.org/locus/S000000747/overview) for selection in _S. cerevisiae_\n",
    "* The 2µ sequence for replication in _S. cerevisiae_\n",
    "\n",
    "The pYPK0 is mainly used as a backbone for the tp_gene_tp cassettes (single gene cassettes) and multi gene pathways. The [pYPKpw](pYPKpw.ipynb) vector was constructed from the pYPK0.\n",
    "\n",
    "The strategy used to combine the pMEC1030 and pCAPs vectors into a yeast shuttle vector were described by [Iizasa & Nagano 2006](http://www.biotechniques.com/BiotechniquesJournal/2006/January/Highly-efficient-yeast-based-in-vivo-DNA-cloning-of-multiple-DNA-fragments-and-the-simultaneous-construction-of-yeast-Escherichia-coli-shuttle-vectors/biotechniques-45641.html?pageNum=1).\n",
    "\n",
    "![using pSU0](using_pSU0.jpg \"This figure is from the paper above\")\n",
    "\n",
    "Briefly, the pMEC1030 vector (pSU0 in the figure above) was digested with BamHI and EcoRI removing a small stuffer fragment. The pCAPs (pBR322 derived vector in the figure above) was digested in the ampicillin marker gene using PvuI (instead of PstI in the figure above). The linear vectors recombine between the ampicillin marker and the pUC origin of replication."
   ]
  },
  {
   "cell_type": "code",
   "execution_count": 1,
   "metadata": {
    "collapsed": true
   },
   "outputs": [],
   "source": [
    "from pydna.all import *"
   ]
  },
  {
   "cell_type": "code",
   "execution_count": 2,
   "metadata": {
    "collapsed": true
   },
   "outputs": [],
   "source": [
    "pMEC1030 = read(\"pMEC1030.gb\")"
   ]
  },
  {
   "cell_type": "markdown",
   "metadata": {},
   "source": [
    "pMEC1030 (4398 bp)should have cseguid ```bg67Zek8TFW0rvcIs6-d4X6cV_w```"
   ]
  },
  {
   "cell_type": "code",
   "execution_count": 3,
   "metadata": {},
   "outputs": [
    {
     "name": "stdout",
     "output_type": "stream",
     "text": [
      "The pMEC1030 is 4398 bp long\n",
      "The cSEGUID checksum is  bg67Zek8TFW0rvcIs6-d4X6cV_w\n"
     ]
    }
   ],
   "source": [
    "print(\"The pMEC1030 is\", len(pMEC1030), \"bp long\")\n",
    "print(\"The cSEGUID checksum is \", pMEC1030.cseguid())"
   ]
  },
  {
   "cell_type": "code",
   "execution_count": 4,
   "metadata": {},
   "outputs": [
    {
     "data": {
      "text/plain": [
       "'cSEGUID_bg67Zek8TFW0rvcIs6-d4X6cV_w_2018-05-15T07:37:52.355632'"
      ]
     },
     "execution_count": 4,
     "metadata": {},
     "output_type": "execute_result"
    }
   ],
   "source": [
    "pMEC1030.description"
   ]
  },
  {
   "cell_type": "markdown",
   "metadata": {},
   "source": [
    "The pCAPs part comes from a Genbank [record](http://www.ncbi.nlm.nih.gov/nuccore/AJ001614).\n",
    "Access to Genbank is needed in order to download the template.\n",
    "If you execute this script, change the email address below to your own.\n",
    "Always tell Genbank who you are, when using their web service."
   ]
  },
  {
   "cell_type": "code",
   "execution_count": 5,
   "metadata": {
    "collapsed": true
   },
   "outputs": [],
   "source": [
    "gb =Genbank(\"bjornjobbb@gmail.com\")"
   ]
  },
  {
   "cell_type": "code",
   "execution_count": 6,
   "metadata": {
    "collapsed": true
   },
   "outputs": [],
   "source": [
    "pCAPs = gb.nucleotide(\"AJ001614.1\")"
   ]
  },
  {
   "cell_type": "markdown",
   "metadata": {},
   "source": [
    "The restriction enzymes needed are imported from [Biopython](http://biopython.org/wiki/Main_Page)"
   ]
  },
  {
   "cell_type": "code",
   "execution_count": 7,
   "metadata": {
    "collapsed": true
   },
   "outputs": [],
   "source": [
    "from Bio.Restriction import BamHI, EcoRI, PvuI"
   ]
  },
  {
   "cell_type": "markdown",
   "metadata": {},
   "source": [
    "The pMEC1030 is cut with BamHI and EcoRI and the pCAPs is cut with PvuI in the amp marker. PvuI was chosen over PstI since in the pCAPs vector PstI cuts in thecrp gene and not in the amp marker."
   ]
  },
  {
   "cell_type": "code",
   "execution_count": 8,
   "metadata": {},
   "outputs": [
    {
     "data": {
      "text/plain": [
       "(Dseqrecord(-3130),)"
      ]
     },
     "execution_count": 8,
     "metadata": {},
     "output_type": "execute_result"
    }
   ],
   "source": [
    "pCAPs.cut(PvuI)"
   ]
  },
  {
   "cell_type": "code",
   "execution_count": 9,
   "metadata": {
    "collapsed": true
   },
   "outputs": [
    {
     "data": {
      "text/plain": [
       "(Dseqrecord(-4392), Dseqrecord(-14))"
      ]
     },
     "execution_count": 9,
     "metadata": {},
     "output_type": "execute_result"
    }
   ],
   "source": [
    "stuffer, psu_bam_eco = pMEC1030.cut(BamHI, EcoRI)\n",
    "psu_bam_eco, stuffer"
   ]
  },
  {
   "cell_type": "code",
   "execution_count": 10,
   "metadata": {
    "collapsed": true
   },
   "outputs": [],
   "source": [
    "pcaps_pvu = pCAPs.linearize(PvuI)"
   ]
  },
  {
   "cell_type": "code",
   "execution_count": 11,
   "metadata": {},
   "outputs": [
    {
     "data": {
      "text/plain": [
       "name"
      ]
     },
     "execution_count": 11,
     "metadata": {},
     "output_type": "execute_result"
    }
   ],
   "source": [
    "psu_bam_eco.name"
   ]
  },
  {
   "cell_type": "code",
   "execution_count": 12,
   "metadata": {
    "collapsed": true
   },
   "outputs": [],
   "source": [
    "asm =Assembly((pcaps_pvu, psu_bam_eco), limit=200)"
   ]
  },
  {
   "cell_type": "code",
   "execution_count": 13,
   "metadata": {
    "collapsed": true
   },
   "outputs": [],
   "source": [
    "candidate = asm.assemble_circular()[0]"
   ]
  },
  {
   "cell_type": "code",
   "execution_count": 14,
   "metadata": {},
   "outputs": [
    {
     "data": {
      "text/plain": [
       " -|AJ001614_lin|700\n",
       "|               \\/\n",
       "|               /\\\n",
       "|               700|name_rc|245\n",
       "|                           \\/\n",
       "|                           /\\\n",
       "|                           245-\n",
       "|                              |\n",
       " ------------------------------"
      ]
     },
     "execution_count": 14,
     "metadata": {},
     "output_type": "execute_result"
    }
   ],
   "source": [
    "candidate.figure()"
   ]
  },
  {
   "cell_type": "code",
   "execution_count": 15,
   "metadata": {
    "collapsed": true
   },
   "outputs": [],
   "source": [
    "pYPK0 = candidate.synced(pCAPs)"
   ]
  },
  {
   "cell_type": "markdown",
   "metadata": {},
   "source": [
    "The cseguid of pYPK0 should be `qSJ95NM815X60yBy4l6iI69a_Dw` and the size 5762 bp."
   ]
  },
  {
   "cell_type": "code",
   "execution_count": 16,
   "metadata": {},
   "outputs": [
    {
     "name": "stdout",
     "output_type": "stream",
     "text": [
      "5762\n"
     ]
    },
    {
     "data": {
      "text/plain": [
       "qSJ95NM815X60yBy4l6iI69a_Dw"
      ]
     },
     "execution_count": 16,
     "metadata": {},
     "output_type": "execute_result"
    }
   ],
   "source": [
    "print(len(pYPK0))\n",
    "pYPK0.cseguid()"
   ]
  },
  {
   "cell_type": "code",
   "execution_count": 17,
   "metadata": {},
   "outputs": [
    {
     "data": {
      "text/plain": [
       "cSEGUID_qSJ95NM815X60yBy4l6iI69a_Dw"
      ]
     },
     "execution_count": 17,
     "metadata": {},
     "output_type": "execute_result"
    }
   ],
   "source": [
    "pYPK0.stamp()"
   ]
  },
  {
   "cell_type": "code",
   "execution_count": 18,
   "metadata": {
    "collapsed": true
   },
   "outputs": [],
   "source": [
    "pYPK0.name = \"pYKP0\""
   ]
  },
  {
   "cell_type": "code",
   "execution_count": 19,
   "metadata": {},
   "outputs": [
    {
     "data": {
      "text/html": [
       "<font face=monospace><a href='pYPK0.gb' target='_blank'>pYPK0.gb</a></font><br>"
      ]
     },
     "metadata": {},
     "output_type": "display_data"
    }
   ],
   "source": [
    "pYPK0.write(\"pYPK0.gb\")"
   ]
  },
  {
   "cell_type": "markdown",
   "metadata": {},
   "source": [
    "### Download\n",
    "[pYPK0](pYPK0.gb)"
   ]
  },
  {
   "cell_type": "code",
   "execution_count": 20,
   "metadata": {},
   "outputs": [],
   "source": [
    "from pydna.all import *\n",
    "reloaded =read(\"pYPK0.gb\")\n",
    "assert reloaded.cseguid() in reloaded.definition"
   ]
  }
 ],
 "metadata": {
  "kernelspec": {
   "display_name": "Python 3",
   "language": "python",
   "name": "python3"
  },
  "language_info": {
   "codemirror_mode": {
    "name": "ipython",
    "version": 3
   },
   "file_extension": ".py",
   "mimetype": "text/x-python",
   "name": "python",
   "nbconvert_exporter": "python",
   "pygments_lexer": "ipython3",
   "version": "3.7.2"
  }
 },
 "nbformat": 4,
 "nbformat_minor": 2
}
