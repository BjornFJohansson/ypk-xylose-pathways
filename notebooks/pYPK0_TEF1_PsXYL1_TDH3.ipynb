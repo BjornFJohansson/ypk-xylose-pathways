{
 "cells": [
  {
   "cell_type": "markdown",
   "metadata": {},
   "source": [
    "# Construction of pYPK0_TEF1_PsXYL1_TDH3 (pMEC1126)\n",
    "\n",
    "\n",
    "[pYPKa_Z_TEF1](pYPKa_Z_TEF1.ipynb)\n",
    "\n",
    "[pYPKa_E_TDH3](pYPKa_E_TDH3.ipynb) "
   ]
  },
  {
   "cell_type": "code",
   "execution_count": 1,
   "metadata": {
    "collapsed": false
   },
   "outputs": [],
   "source": [
    "from pydna.all import *"
   ]
  },
  {
   "cell_type": "code",
   "execution_count": 2,
   "metadata": {
    "collapsed": false
   },
   "outputs": [],
   "source": [
    "p567,p577,p468,p467,p568,p578,p775,p778,p167,p166 = parse(\"yeast_pahtway_kit_standard_primers.txt\")"
   ]
  },
  {
   "cell_type": "markdown",
   "metadata": {},
   "source": [
    "[Yeast Pathway Kit Standard Primers](ypk_std_primers.ipynb)"
   ]
  },
  {
   "cell_type": "code",
   "execution_count": 3,
   "metadata": {
    "collapsed": true
   },
   "outputs": [],
   "source": [
    "from Bio.Restriction import ZraI, AjiI, EcoRV"
   ]
  },
  {
   "cell_type": "code",
   "execution_count": 4,
   "metadata": {
    "collapsed": true
   },
   "outputs": [],
   "source": [
    "pYPK0 = read(\"pYPK0.gb\")"
   ]
  },
  {
   "cell_type": "code",
   "execution_count": 5,
   "metadata": {
    "collapsed": true
   },
   "outputs": [],
   "source": [
    "promoter_clone = pYPKa_Z_TEF1 = read(\"pYPKa_Z_TEF1.gb\")"
   ]
  },
  {
   "cell_type": "markdown",
   "metadata": {},
   "source": [
    "[Genbank](http://www.ncbi.nlm.nih.gov/nuccore/X59465.1) record"
   ]
  },
  {
   "cell_type": "code",
   "execution_count": 6,
   "metadata": {
    "collapsed": false
   },
   "outputs": [
    {
     "data": {
      "text/html": [
       "\n",
       "        <iframe\n",
       "            width=\"100%\"\n",
       "            height=\"250\"\n",
       "            src=\"http://www.ncbi.nlm.nih.gov/pubmed/1756986\"\n",
       "            frameborder=\"0\"\n",
       "            allowfullscreen\n",
       "        ></iframe>\n",
       "        "
      ],
      "text/plain": [
       "<IPython.lib.display.IFrame at 0x7f0bb748d550>"
      ]
     },
     "execution_count": 6,
     "metadata": {},
     "output_type": "execute_result"
    }
   ],
   "source": [
    "from IPython.display import IFrame\n",
    "IFrame('http://www.ncbi.nlm.nih.gov/pubmed/1756986', width='100%', height=250)"
   ]
  },
  {
   "cell_type": "code",
   "execution_count": 7,
   "metadata": {
    "collapsed": false
   },
   "outputs": [],
   "source": [
    "gb =Genbank(\"bjornjobbb@gmail.com\")\n",
    "gene_template = gb.nucleotide(\"X59465.1\")"
   ]
  },
  {
   "cell_type": "code",
   "execution_count": 8,
   "metadata": {
    "collapsed": false
   },
   "outputs": [
    {
     "data": {
      "text/plain": [
       "+-----+------------------+-----+------+------+------+--------------+------+\n",
       "| Ft# | Label or Note    | Dir | Sta  | End  |  Len | type         | orf? |\n",
       "+-----+------------------+-----+------+------+------+--------------+------+\n",
       "|   0 | nd               | --> | 0    | 2052 | 2052 | source       |  no  |\n",
       "|   1 | nd               | --> | 0    | 355  |  355 | regulatory   |  no  |\n",
       "|   2 | nd               | --> | 192  | 199  |    7 | regulatory   |  no  |\n",
       "|   3 | nd               | --> | 272  | 281  |    9 | regulatory   |  no  |\n",
       "|   4 | nd               | --> | 287  | 301  |   14 | stem_loop    |  no  |\n",
       "|   5 | N:label:xyl1_cDN | --> | 342  | 1366 | 1024 | misc_feature |  no  |\n",
       "|   6 | nd               | --> | 355  | 1312 |  957 | gene         | yes  |\n",
       "|   7 | nd               | --> | 355  | 1312 |  957 | CDS          | yes  |\n",
       "|   8 | nd               | --> | 1334 | 1339 |    5 | polyA_site   |  no  |\n",
       "+-----+------------------+-----+------+------+------+--------------+------+"
      ]
     },
     "execution_count": 8,
     "metadata": {},
     "output_type": "execute_result"
    }
   ],
   "source": [
    "gene_template.list_features()"
   ]
  },
  {
   "cell_type": "code",
   "execution_count": 9,
   "metadata": {
    "collapsed": false
   },
   "outputs": [],
   "source": [
    "orf = gene_template.extract_feature(7)"
   ]
  },
  {
   "cell_type": "code",
   "execution_count": 10,
   "metadata": {
    "collapsed": false
   },
   "outputs": [
    {
     "data": {
      "text/plain": [
       "True"
      ]
     },
     "execution_count": 10,
     "metadata": {},
     "output_type": "execute_result"
    }
   ],
   "source": [
    "orf.isorf()"
   ]
  },
  {
   "cell_type": "code",
   "execution_count": 11,
   "metadata": {
    "collapsed": false
   },
   "outputs": [
    {
     "name": "stdout",
     "output_type": "stream",
     "text": [
      "ATGCCTTCTATTAAGTTGAACTCTGGTTACGACATGCCAGCCGTCGGTTTCGGCTGTTGGAAAGTCGACGTCGACACCTGTTCTGAACAGATCTACCGTGCTATCAAGACCGGTTACAGATTGTTCGACGGTGCCGAAGATTACGCCAACGAAAAGTTAGTTGGTGCCGGTGTCAAGAAGGCCATTGACGAAGGTATCGTCAAGCGTGAAGACTTGTTCCTTACCTCCAAGTTGTGGAACAACTACCACCACCCAGACAACGTCGAAAAGGCCTTGAACAGAACCCTTTCTGACTTGCAAGTTGACTACGTTGACTTGTTCTTGATCCACTTCCCAGTCACCTTCAAGTTCGTTCCATTAGAAGAAAAGTACCCACCAGGATTCTACTGTGGTAAGGGTGACAACTTCGACTACGAAGATGTTCCAATTTTAGAGACCTGGAAGGCTCTTGAAAAGTTGGTCAAGGCCGGTAAGATCAGATCTATCGGTGTTTCTAACTTCCCAGGTGCTTTGCTCTTGGACTTGTTGAGAGGTGCTACCATCAAGCCATCTGTCTTGCAAGTTGAACACCACCCATACTTGCAACAACCAAGATTGATCGAATTCGCTCAATCCCGTGGTATTGCTGTCACCGCTTACTCTTCGTTCGGTCCTCAATCTTTCGTTGAATTGAACCAAGGTAGAGCTTTGAACACTTCTCCATTGTTCGAGAACGAAACTATCAAGGCTATCGCTGCTAAGCACGGTAAGTCTCCAGCTCAAGTCTTGTTGAGATGGTCTTCCCAAAGAGGCATTGCCATCATTCCAAAGTCCAACACTGTCCCAAGATTGTTGGAAAACAAGGACGTCAACAGCTTCGACTTGGACGAACAAGATTTCGCTGACATTGCCAAGTTGGACATCAACTTGAGATTCAACGACCCATGGGACTGGGACAAGATTCCTATCTTCGTCTAA\n"
     ]
    }
   ],
   "source": [
    "print(orf.seq)"
   ]
  },
  {
   "cell_type": "code",
   "execution_count": 12,
   "metadata": {
    "collapsed": false
   },
   "outputs": [
    {
     "name": "stdout",
     "output_type": "stream",
     "text": [
      "957\n"
     ]
    },
    {
     "data": {
      "text/plain": [
       "lGWKlZ3EDAyY2V-7tTQoJRqgW6w"
      ]
     },
     "execution_count": 12,
     "metadata": {},
     "output_type": "execute_result"
    }
   ],
   "source": [
    "print(len(orf))\n",
    "orf.seguid()"
   ]
  },
  {
   "cell_type": "code",
   "execution_count": 13,
   "metadata": {
    "collapsed": false
   },
   "outputs": [
    {
     "name": "stdout",
     "output_type": "stream",
     "text": [
      "MPSIKLNSGYDMPAVGFGCWKVDVDTCSEQIYRAIKTGYRLFDGAEDYANEKLVGAGVKKAIDEGIVKREDLFLTSKLWNNYHHPDNVEKALNRTLSDLQVDYVDLFLIHFPVTFKFVPLEEKYPPGFYCGKGDNFDYEDVPILETWKALEKLVKAGKIRSIGVSNFPGALLLDLLRGATIKPSVLQVEHHPYLQQPRLIEFAQSRGIAVTAYSSFGPQSFVELNQGRALNTSPLFENETIKAIAAKHGKSPAQVLLRWSSQRGIAIIPKSNTVPRLLENKDVNSFDLDEQDFADIAKLDINLRFNDPWDWDKIPIFV*\n"
     ]
    }
   ],
   "source": [
    "print(str(orf.seq.translate()))"
   ]
  },
  {
   "cell_type": "code",
   "execution_count": 14,
   "metadata": {
    "collapsed": true
   },
   "outputs": [],
   "source": [
    "pf, pr =parse('''\n",
    "\n",
    ">XR_YPK_rec_fwd \n",
    "gtcgaggaacgccaggttgcccactttctcactagtgaAAATGCCTTCTATTAAGTTGAACTCTGG\n",
    ">XR_YPK_rec_rev \n",
    "ATTTAAatcctgatgcgtttgtctgcacagatggcgcgTTAGACGAAGATAGGAATCTTGTCCC\n",
    "\n",
    "''')"
   ]
  },
  {
   "cell_type": "code",
   "execution_count": 15,
   "metadata": {
    "collapsed": true
   },
   "outputs": [],
   "source": [
    "g =pcr( pf, pr, orf)"
   ]
  },
  {
   "cell_type": "code",
   "execution_count": 16,
   "metadata": {
    "collapsed": false
   },
   "outputs": [
    {
     "data": {
      "text/plain": [
       "                                        5ATGCCTTCTATTAAGTTGAACTCTGG...GGGACAAGATTCCTATCTTCGTCTAA3\n",
       "                                                                      |||||||||||||||||||||||||| tm 58.7 (dbd) 66.4\n",
       "                                                                     3CCCTGTTCTAAGGATAGAAGCAGATTgcgcggtagacacgtctgtttgcgtagtcctaAATTTA5\n",
       "5gtcgaggaacgccaggttgcccactttctcactagtgaAAATGCCTTCTATTAAGTTGAACTCTGG3\n",
       "                                         |||||||||||||||||||||||||| tm 57.9 (dbd) 64.7\n",
       "                                        3TACGGAAGATAATTCAACTTGAGACC...CCCTGTTCTAAGGATAGAAGCAGATT5"
      ]
     },
     "execution_count": 16,
     "metadata": {},
     "output_type": "execute_result"
    }
   ],
   "source": [
    "g.figure()"
   ]
  },
  {
   "cell_type": "code",
   "execution_count": 17,
   "metadata": {
    "collapsed": false
   },
   "outputs": [],
   "source": [
    "terminator_clone = pYPKa_E_TDH3 =read(\"pYPKa_E_TDH3.gb\")"
   ]
  },
  {
   "cell_type": "code",
   "execution_count": 18,
   "metadata": {
    "collapsed": false
   },
   "outputs": [],
   "source": [
    "p  = pcr( p167, p567, promoter_clone)\n",
    "t  = pcr( p568, p166, terminator_clone)"
   ]
  },
  {
   "cell_type": "code",
   "execution_count": 19,
   "metadata": {
    "collapsed": true
   },
   "outputs": [
    {
     "data": {
      "text/plain": [
       "(Dseqrecord(-5681), Dseqrecord(-81))"
      ]
     },
     "execution_count": 19,
     "metadata": {},
     "output_type": "execute_result"
    }
   ],
   "source": [
    "pYPK0_E_Z, stuffer = pYPK0.cut((EcoRV, ZraI))\n",
    "pYPK0_E_Z, stuffer"
   ]
  },
  {
   "cell_type": "code",
   "execution_count": 20,
   "metadata": {
    "collapsed": false
   },
   "outputs": [
    {
     "data": {
      "text/plain": [
       "(Dseqrecord(-5681), Amplicon(741), Amplicon(1035), Amplicon(804))"
      ]
     },
     "execution_count": 20,
     "metadata": {},
     "output_type": "execute_result"
    }
   ],
   "source": [
    "(pYPK0_E_Z, p, g, t)"
   ]
  },
  {
   "cell_type": "code",
   "execution_count": 21,
   "metadata": {
    "collapsed": false
   },
   "outputs": [],
   "source": [
    "asm =Assembly((pYPK0_E_Z, p, g, t), limit=29)"
   ]
  },
  {
   "cell_type": "code",
   "execution_count": 22,
   "metadata": {
    "collapsed": false
   },
   "outputs": [
    {
     "data": {
      "text/plain": [
       "Assembly\n",
       "fragments..: 5681bp 741bp 1035bp 804bp\n",
       "limit(bp)..: 29\n",
       "G.nodes....: 8\n",
       "algorithm..: common_sub_strings"
      ]
     },
     "execution_count": 22,
     "metadata": {},
     "output_type": "execute_result"
    }
   ],
   "source": [
    "asm"
   ]
  },
  {
   "cell_type": "code",
   "execution_count": 23,
   "metadata": {
    "collapsed": false
   },
   "outputs": [
    {
     "data": {
      "text/plain": [
       " -|name|98\n",
       "|       \\/\n",
       "|       /\\\n",
       "|       98|741bp_PCR_prod|38\n",
       "|                         \\/\n",
       "|                         /\\\n",
       "|                         38|1035bp_PCR_prod|35\n",
       "|                                            \\/\n",
       "|                                            /\\\n",
       "|                                            35|804bp_PCR_prod|61\n",
       "|                                                              \\/\n",
       "|                                                              /\\\n",
       "|                                                              61-\n",
       "|                                                                 |\n",
       " -----------------------------------------------------------------"
      ]
     },
     "execution_count": 23,
     "metadata": {},
     "output_type": "execute_result"
    }
   ],
   "source": [
    "candidate = asm.assemble_circular()[0]\n",
    "candidate.figure()"
   ]
  },
  {
   "cell_type": "code",
   "execution_count": 24,
   "metadata": {
    "collapsed": false
   },
   "outputs": [],
   "source": [
    "pYPK0_TEF1_PsXYL1_TDH3 = candidate.synced(pYPK0)"
   ]
  },
  {
   "cell_type": "markdown",
   "metadata": {},
   "source": [
    "The pYPK0_TEF1_PsXYL1_TDH3 has cseguid ```ak608NPPLpMmn_YIHGwQPcQzee0``` and 8015 bp"
   ]
  },
  {
   "cell_type": "code",
   "execution_count": 25,
   "metadata": {
    "collapsed": false
   },
   "outputs": [
    {
     "name": "stdout",
     "output_type": "stream",
     "text": [
      "8015\n"
     ]
    },
    {
     "data": {
      "text/plain": [
       "ak608NPPLpMmn_YIHGwQPcQzee0"
      ]
     },
     "execution_count": 25,
     "metadata": {},
     "output_type": "execute_result"
    }
   ],
   "source": [
    "print(len(pYPK0_TEF1_PsXYL1_TDH3))\n",
    "pYPK0_TEF1_PsXYL1_TDH3.cseguid()"
   ]
  },
  {
   "cell_type": "code",
   "execution_count": 26,
   "metadata": {
    "collapsed": false
   },
   "outputs": [
    {
     "data": {
      "text/plain": [
       "cSEGUID_ak608NPPLpMmn_YIHGwQPcQzee0"
      ]
     },
     "execution_count": 26,
     "metadata": {},
     "output_type": "execute_result"
    }
   ],
   "source": [
    "pYPK0_TEF1_PsXYL1_TDH3.name=\"pMEC1126\"\n",
    "#pYPK0_TEF1_PsXYL1_TDH3.description = \"pYPK0_TEF1_PsXYL1_TDH3tp\"\n",
    "pYPK0_TEF1_PsXYL1_TDH3.stamp()"
   ]
  },
  {
   "cell_type": "code",
   "execution_count": 27,
   "metadata": {
    "collapsed": false
   },
   "outputs": [
    {
     "data": {
      "text/html": [
       "<font face=monospace><a href='pYPK0_TEF1_PsXYL1_TDH3.gb' target='_blank'>pYPK0_TEF1_PsXYL1_TDH3.gb</a></font><br>"
      ]
     },
     "metadata": {},
     "output_type": "display_data"
    }
   ],
   "source": [
    "pYPK0_TEF1_PsXYL1_TDH3.write(\"pYPK0_TEF1_PsXYL1_TDH3.gb\")"
   ]
  },
  {
   "cell_type": "markdown",
   "metadata": {},
   "source": [
    "##Download sequence\n",
    "\n",
    "[pYPK0_TEF1_PsXYL1_TDH3](pYPK0_TEF1_PsXYL1_TDH3.gb)"
   ]
  },
  {
   "cell_type": "code",
   "execution_count": 28,
   "metadata": {
    "collapsed": false
   },
   "outputs": [],
   "source": [
    "reloaded =read(\"pYPK0_TEF1_PsXYL1_TDH3.gb\")"
   ]
  },
  {
   "cell_type": "code",
   "execution_count": 29,
   "metadata": {
    "collapsed": false
   },
   "outputs": [
    {
     "data": {
      "text/plain": [
       "ak608NPPLpMmn_YIHGwQPcQzee0"
      ]
     },
     "execution_count": 29,
     "metadata": {},
     "output_type": "execute_result"
    }
   ],
   "source": [
    "reloaded.cseguid()"
   ]
  },
  {
   "cell_type": "code",
   "execution_count": 30,
   "metadata": {
    "collapsed": true
   },
   "outputs": [],
   "source": []
  }
 ],
 "metadata": {
  "kernelspec": {
   "display_name": "Python 3",
   "language": "python",
   "name": "python3"
  },
  "language_info": {
   "codemirror_mode": {
    "name": "ipython",
    "version": 3
   },
   "file_extension": ".py",
   "mimetype": "text/x-python",
   "name": "python",
   "nbconvert_exporter": "python",
   "pygments_lexer": "ipython3",
   "version": "3.7.2"
  }
 },
 "nbformat": 4,
 "nbformat_minor": 2
}
