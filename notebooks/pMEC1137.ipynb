{
 "cells": [
  {
   "cell_type": "markdown",
   "metadata": {},
   "source": [
    "# pMEC1137\n",
    "\n",
    "Also referred to as pYPK0-T.\n",
    "This vector expresses four genes and was assembled from four single gene expression cassettes:\n",
    "\n",
    "Gene | Enzyme | Acronym | Cassette\n",
    "-------------------------------------------------- |-------------------|---|-----|\n",
    "[ScTKL1](http://www.yeastgenome.org/locus/S000006278/overview) |Transketolase |TKL | [pYPK0_PDC1_ScTKL1_RPS19b](pYPK0_PDC1_ScTKL1_RPS19b.ipynb)\n",
    "[ScRPE1](http://www.yeastgenome.org/locus/S000003657/overview) |xylitol dehydrogenase |RPE | [pYPK0_RPS19b_ScRPE1_RPS19a](pYPK0_RPS19b_ScRPE1_RPS19a.ipynb)\n",
    "[ScRKI1](http://www.yeastgenome.org/locus/S000005621/overview) |Xylulokinase |RKI | [pYPK0_RPS19a_ScRKI1_TPI1](pYPK0_RPS19a_ScRKI1_TPI1.ipynb)\n",
    "[CiGXF1](http://mic.sgmjournals.org/content/154/6/1646.full) |Transaldolase |GXF | [pYPK0_TPI1_CiGXF1_ENO2](pYPK0_TPI1_CiGXF1_ENO2.ipynb)\n"
   ]
  },
  {
   "cell_type": "markdown",
   "metadata": {},
   "source": [
    "[Yeast Pathway Kit Standard Primers](ypk_std_primers.ipynb)"
   ]
  },
  {
   "cell_type": "markdown",
   "metadata": {},
   "source": [
    "    PDC1_ScTKL1_RPS19btp\n",
    "                RPS19b_ScRPE1_RPS19atp\n",
    "                              RPS19a_ScRKI1_TPI1tp\n",
    "                                            TPI1_CiGXF1_ENO2tp\n",
    "                                                        \n",
    "    pYPK0-PDC1-ScTKL1-RPS19b-ScRPE1-RPS19a-ScRKI1-TPI1-CiGXF1-ScENO2\n",
    "\n"
   ]
  },
  {
   "cell_type": "code",
   "execution_count": 1,
   "metadata": {
    "collapsed": true
   },
   "outputs": [],
   "source": [
    "from pydna.all import *"
   ]
  },
  {
   "cell_type": "code",
   "execution_count": 2,
   "metadata": {},
   "outputs": [],
   "source": [
    "p567,p577,p468,p467,p568,p578,p775,p778,p167,p166 = parse(\"yeast_pahtway_kit_standard_primers.txt\")"
   ]
  },
  {
   "cell_type": "code",
   "execution_count": 3,
   "metadata": {},
   "outputs": [],
   "source": [
    "pYPK0 =read(\"pYPK0.gb\")"
   ]
  },
  {
   "cell_type": "code",
   "execution_count": 4,
   "metadata": {},
   "outputs": [
    {
     "data": {
      "text/plain": [
       "qSJ95NM815X60yBy4l6iI69a_Dw"
      ]
     },
     "execution_count": 4,
     "metadata": {},
     "output_type": "execute_result"
    }
   ],
   "source": [
    "pYPK0.cseguid()"
   ]
  },
  {
   "cell_type": "code",
   "execution_count": 5,
   "metadata": {
    "collapsed": true
   },
   "outputs": [],
   "source": [
    "from Bio.Restriction import ZraI, AjiI, EcoRV"
   ]
  },
  {
   "cell_type": "code",
   "execution_count": 6,
   "metadata": {},
   "outputs": [],
   "source": [
    "p417,p626 =parse('''>417_ScTEF1tpf (30-mer)\n",
    "                     TTAAATAACAATGCATACTTTGTACGTTCA\n",
    "                     >626_ScTEF1tpr_PacI (35-mer)\n",
    "                     taattaaTTTGTAATTAAAACTTAGATTAGATTGC''', ds=False)\n",
    "\n",
    "p415,p623 =parse(''' >415_ScTDH3tpf (29-mer)\n",
    "                      TTAAATAATAAAAAACACGCTTTTTCAGT\n",
    "                      >623_ScTDH3tpr_PacI (33-mer)\n",
    "                      taattaaTTTGTTTGTTTATGTGTGTTTATTCG''', ds=False)\n",
    "\n",
    "p549,p622 =parse(''' >549_ScPGI1tpf (27-mer)\n",
    "                      ttaaatAATTCAGTTTTCTGACTGAGT\n",
    "                      >622_ScPGI1tpr_PacI (28-mer)\n",
    "                      taattaaTTTTAGGCTGGTATCTTGATT''', ds=False)\n",
    "\n",
    "p409,p624 =parse('''>409_ScFBA1tpf (37-mer)\n",
    "                     TTAAATAATAACAATACTGACAGTACTAAATAATTGC\n",
    "                     >624_ScFBA1tpr_PacI (29-mer)\n",
    "                     taattaaTTTGAATATGTATTACTTGGTT''', ds=False)\n",
    "\n",
    "p411, p413, p419, p537, p539, p621, p625, p647, p648, p651, p652, p660  =parse('''\n",
    ">411_ScENO2tpf (23-mer)\n",
    "TTAAATACGCGGCGTTATGTCAC\n",
    ">413_ScPDC1tpf (24-mer)\n",
    "TTAAATAAGGGTAGCCTCCCCATA\n",
    ">419_ScTPI1tpf (32-mer)\n",
    "TTAAATTGTTTAAAGATTACGGATATTTAACT\n",
    ">537_ScRPS19btpf (27-mer)\n",
    "ttaaatCTTTATTATCTTTGGTTCTAT\n",
    ">539_ScRPS19atpf (26-mer)\n",
    "ttaaatTTTTACTCTATTTGTCGATC\n",
    ">621_ScTPI1tpr_PacI (35-mer)\n",
    "taattaaTTTTAGTTTATGTATGTGTTTTTTGTAG \n",
    ">625_ScPDC1tpr_PacI (34-mer)\n",
    "taattaaTTTGATTGATTTGACTGTGTTATTTTG\n",
    ">647_ScRPS19btpr_PacI\n",
    "taattaaCTTTATTATCTTTGGTTCTAT\n",
    ">648_ScRPS19btpf2\n",
    "ttaaatTCTAGTATGGTTTGAAACCT\n",
    ">651_ScRPS19atpr_PacI\n",
    "taattaaTTTTACTCTATTTGTCGATC\n",
    ">652_ScRPS19atpf2\n",
    "ttaaatGTTAACTGAAATGAAAATTT\n",
    ">660_ScENO2tpr_PacI\n",
    "taattaaTTATTATTGTATGTTATAGTATTAGTTGCTTG''')"
   ]
  },
  {
   "cell_type": "code",
   "execution_count": 7,
   "metadata": {
    "collapsed": true
   },
   "outputs": [],
   "source": [
    "p1 =read(\"pYPK0_PDC1_ScTKL1_RPS19b.gb\")\n",
    "p2 =read(\"pYPK0_RPS19b_ScRPE1_RPS19a.gb\")\n",
    "p3 =read(\"pYPK0_RPS19a_ScRKI1_TPI1.gb\")\n",
    "p4 =read(\"pYPK0_TPI1_CiGXF1_ENO2.gb\")"
   ]
  },
  {
   "cell_type": "code",
   "execution_count": 8,
   "metadata": {},
   "outputs": [],
   "source": [
    "cas1  =pcr( p167, p647, p1)\n",
    "cas2  =pcr( p648, p651, p2)\n",
    "cas3  =pcr( p652, p621, p3)\n",
    "cas4  =pcr( p419, p166, p4)"
   ]
  },
  {
   "cell_type": "code",
   "execution_count": 9,
   "metadata": {},
   "outputs": [],
   "source": [
    "pYPK0_E_Z, stuffer = pYPK0.cut((EcoRV, ZraI))"
   ]
  },
  {
   "cell_type": "code",
   "execution_count": 10,
   "metadata": {},
   "outputs": [
    {
     "data": {
      "text/plain": [
       "(Amplicon(3821), Amplicon(2005), Amplicon(2022), Amplicon(2906))"
      ]
     },
     "execution_count": 10,
     "metadata": {},
     "output_type": "execute_result"
    }
   ],
   "source": [
    "cas1, cas2, cas3, cas4"
   ]
  },
  {
   "cell_type": "code",
   "execution_count": 11,
   "metadata": {},
   "outputs": [],
   "source": [
    "asm =Assembly( [pYPK0_E_Z, cas1, cas2, cas3, cas4] , limit = 61)"
   ]
  },
  {
   "cell_type": "code",
   "execution_count": 12,
   "metadata": {},
   "outputs": [
    {
     "data": {
      "text/plain": [
       "Assembly\n",
       "fragments..: 5681bp 3821bp 2005bp 2022bp 2906bp\n",
       "limit(bp)..: 61\n",
       "G.nodes....: 12\n",
       "algorithm..: common_sub_strings"
      ]
     },
     "execution_count": 12,
     "metadata": {},
     "output_type": "execute_result"
    }
   ],
   "source": [
    "asm"
   ]
  },
  {
   "cell_type": "code",
   "execution_count": 13,
   "metadata": {},
   "outputs": [],
   "source": [
    "candidate = asm.assemble_circular()[0]"
   ]
  },
  {
   "cell_type": "code",
   "execution_count": 14,
   "metadata": {},
   "outputs": [
    {
     "data": {
      "text/plain": [
       " -|name|98\n",
       "|       \\/\n",
       "|       /\\\n",
       "|       98|3821bp_PCR_prod|639\n",
       "|                          \\/\n",
       "|                          /\\\n",
       "|                          639|2005bp_PCR_prod|557\n",
       "|                                              \\/\n",
       "|                                              /\\\n",
       "|                                              557|2022bp_PCR_prod|596\n",
       "|                                                                  \\/\n",
       "|                                                                  /\\\n",
       "|                                                                  596|2906bp_PCR_prod|61\n",
       "|                                                                                      \\/\n",
       "|                                                                                      /\\\n",
       "|                                                                                      61-\n",
       "|                                                                                         |\n",
       " -----------------------------------------------------------------------------------------"
      ]
     },
     "execution_count": 14,
     "metadata": {},
     "output_type": "execute_result"
    }
   ],
   "source": [
    "candidate.figure()"
   ]
  },
  {
   "cell_type": "code",
   "execution_count": 15,
   "metadata": {
    "collapsed": true
   },
   "outputs": [],
   "source": [
    "pw = candidate.synced(\"tcgcgcgtttcggtgatgacggtgaaaacctctg\")"
   ]
  },
  {
   "cell_type": "code",
   "execution_count": 16,
   "metadata": {},
   "outputs": [
    {
     "data": {
      "text/plain": [
       "14484"
      ]
     },
     "execution_count": 16,
     "metadata": {},
     "output_type": "execute_result"
    }
   ],
   "source": [
    "len(pw)"
   ]
  },
  {
   "cell_type": "code",
   "execution_count": 17,
   "metadata": {},
   "outputs": [
    {
     "data": {
      "text/plain": [
       "6E0AGs78NqyqjtuAWRWhkIGlLnI"
      ]
     },
     "execution_count": 17,
     "metadata": {},
     "output_type": "execute_result"
    }
   ],
   "source": [
    "pw.cseguid()"
   ]
  },
  {
   "cell_type": "code",
   "execution_count": 18,
   "metadata": {},
   "outputs": [
    {
     "data": {
      "text/plain": [
       "cSEGUID_6E0AGs78NqyqjtuAWRWhkIGlLnI"
      ]
     },
     "execution_count": 18,
     "metadata": {},
     "output_type": "execute_result"
    }
   ],
   "source": [
    "pw.name = \"pMEC1137\"\n",
    "pw.description=\" pYPK0-PDC1-ScTKL1-RPS19b-ScRPE1-RPS19a-ScRKI1-TPI1-CiGXF1-ScENO2\"\n",
    "pw.stamp()"
   ]
  },
  {
   "cell_type": "code",
   "execution_count": 19,
   "metadata": {},
   "outputs": [
    {
     "data": {
      "text/html": [
       "<font face=monospace><a href='pMEC1137.gb' target='_blank'>pMEC1137.gb</a></font><br>"
      ]
     },
     "metadata": {},
     "output_type": "display_data"
    }
   ],
   "source": [
    "pw.write(\"pMEC1137.gb\")"
   ]
  }
 ],
 "metadata": {
  "kernelspec": {
   "display_name": "Python [conda env:bjorn37]",
   "language": "python",
   "name": "conda-env-bjorn37-py"
  },
  "language_info": {
   "codemirror_mode": {
    "name": "ipython",
    "version": 3
   },
   "file_extension": ".py",
   "mimetype": "text/x-python",
   "name": "python",
   "nbconvert_exporter": "python",
   "pygments_lexer": "ipython3",
   "version": "3.7.2"
  }
 },
 "nbformat": 4,
 "nbformat_minor": 2
}
