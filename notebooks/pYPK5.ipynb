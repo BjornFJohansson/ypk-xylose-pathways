{
 "cells": [
  {
   "cell_type": "markdown",
   "metadata": {
    "deletable": true,
    "editable": true
   },
   "source": [
    "# pYPK5\n",
    "\n",
    "Cassette MX4 amplififcação:\n",
    "\n",
    " - primers 477 e 531\n",
    " - template pAG32.\n",
    "\n",
    "Cassette 2u amplificação:\n",
    "\n",
    " - primers 534 e 535\n",
    " - template pYPK0\n",
    "\n",
    "pYPK0 digerido com StuI."
   ]
  },
  {
   "cell_type": "code",
   "execution_count": 1,
   "metadata": {
    "collapsed": true,
    "deletable": true,
    "editable": true
   },
   "outputs": [],
   "source": [
    "from pydna.all import *"
   ]
  },
  {
   "cell_type": "code",
   "execution_count": 2,
   "metadata": {
    "collapsed": true,
    "deletable": true,
    "editable": true
   },
   "outputs": [],
   "source": [
    "pYPK0 = read(\"pYPK0.gb\")"
   ]
  },
  {
   "cell_type": "code",
   "execution_count": 3,
   "metadata": {
    "collapsed": false,
    "deletable": true,
    "editable": true
   },
   "outputs": [],
   "source": [
    "githubuser=\"BjornFJohansson\"\n",
    "gistid = \"c5424b7ebbf553c52053\"\n",
    "x=download_text('https://gist.githubusercontent.com/{u}/{gid}/raw'.format(u=githubuser, gid=gistid))\n",
    "pAG32 =read(x)"
   ]
  },
  {
   "cell_type": "code",
   "execution_count": 4,
   "metadata": {
    "collapsed": false,
    "deletable": true,
    "editable": true
   },
   "outputs": [
    {
     "data": {
      "text/plain": [
       "ttCV-qk-4UzU8BkVhaswwqdfGlg"
      ]
     },
     "execution_count": 4,
     "metadata": {},
     "output_type": "execute_result"
    }
   ],
   "source": [
    "pAG32.cseguid()"
   ]
  },
  {
   "cell_type": "markdown",
   "metadata": {
    "deletable": true,
    "editable": true
   },
   "source": [
    "[pAG32 sequence](https://gist.github.com/BjornFJohansson/c5424b7ebbf553c52053)"
   ]
  },
  {
   "cell_type": "code",
   "execution_count": 5,
   "metadata": {
    "collapsed": true,
    "deletable": true,
    "editable": true
   },
   "outputs": [],
   "source": [
    "p477, p531, p535, p534=parse(''' \n",
    ">477_bleMX4r\n",
    "agtggaacgaaaactcacgttaagggattttggtcatgaggagctcgttttcga\n",
    "\n",
    ">531_pSU1_MX4f (67-mer)\n",
    "taattctcatctttgacagcttatcatcgataagtccccgccgggtc\n",
    "\n",
    ">535_pSU0_2u_Fwd (21-mer)\n",
    "taactgtcagaccaagtttac\n",
    "\n",
    ">534_pSU0_2u_rev (27-mer)\n",
    "ttatcgatgataagctgtcaaagatga''')"
   ]
  },
  {
   "cell_type": "code",
   "execution_count": 6,
   "metadata": {
    "collapsed": true,
    "deletable": true,
    "editable": true
   },
   "outputs": [],
   "source": [
    "hygmarker = pcr(p477, p531, pAG32)"
   ]
  },
  {
   "cell_type": "code",
   "execution_count": 7,
   "metadata": {
    "collapsed": true,
    "deletable": true,
    "editable": true
   },
   "outputs": [],
   "source": [
    "two_micron =pcr(p534, p535, pYPK0)"
   ]
  },
  {
   "cell_type": "code",
   "execution_count": 8,
   "metadata": {
    "collapsed": true,
    "deletable": true,
    "editable": true
   },
   "outputs": [],
   "source": [
    "from Bio.Restriction import StuI"
   ]
  },
  {
   "cell_type": "code",
   "execution_count": 26,
   "metadata": {
    "collapsed": false,
    "deletable": true,
    "editable": true
   },
   "outputs": [
    {
     "data": {
      "text/plain": [
       "(Dseqrecord(-4982), Dseqrecord(-780))"
      ]
     },
     "execution_count": 26,
     "metadata": {},
     "output_type": "execute_result"
    }
   ],
   "source": [
    "vect,stuffer = pYPK0.cut(StuI)\n",
    "vect, stuffer"
   ]
  },
  {
   "cell_type": "code",
   "execution_count": 42,
   "metadata": {},
   "outputs": [],
   "source": [
    "vect.name=\"pYPK0\""
   ]
  },
  {
   "cell_type": "code",
   "execution_count": 43,
   "metadata": {
    "collapsed": false,
    "deletable": true,
    "editable": true
   },
   "outputs": [],
   "source": [
    "asm=Assembly( ( vect, hygmarker, two_micron ) )"
   ]
  },
  {
   "cell_type": "code",
   "execution_count": 44,
   "metadata": {
    "collapsed": false,
    "deletable": true,
    "editable": true
   },
   "outputs": [
    {
     "data": {
      "text/plain": [
       "Assembly\n",
       "fragments..: 4982bp 1721bp 1619bp\n",
       "limit(bp)..: 25\n",
       "G.nodes....: 8\n",
       "algorithm..: common_sub_strings"
      ]
     },
     "execution_count": 44,
     "metadata": {},
     "output_type": "execute_result"
    }
   ],
   "source": [
    "asm"
   ]
  },
  {
   "cell_type": "code",
   "execution_count": 45,
   "metadata": {
    "collapsed": false,
    "deletable": true,
    "editable": true
   },
   "outputs": [],
   "source": [
    "a,b,c,d,e,f,g,*h = asm.assemble_circular()"
   ]
  },
  {
   "cell_type": "code",
   "execution_count": 49,
   "metadata": {},
   "outputs": [
    {
     "data": {
      "text/plain": [
       "(Contig(o6427),\n",
       " Contig(o6427),\n",
       " Contig(o6427),\n",
       " Contig(o6299),\n",
       " Contig(o6299),\n",
       " Contig(o6299),\n",
       " Contig(o6299))"
      ]
     },
     "execution_count": 49,
     "metadata": {},
     "output_type": "execute_result"
    }
   ],
   "source": [
    "a,b,c,d,e,f,g"
   ]
  },
  {
   "cell_type": "code",
   "execution_count": 48,
   "metadata": {},
   "outputs": [
    {
     "data": {
      "text/plain": [
       " -|pYPK0|41\n",
       "|        \\/\n",
       "|        /\\\n",
       "|        41|1721bp_PCR_pr_rc|33\n",
       "|                            \\/\n",
       "|                            /\\\n",
       "|                            33|1619bp_PCR_prod|66\n",
       "|                                               \\/\n",
       "|                                               /\\\n",
       "|                                               66-\n",
       "|                                                  |\n",
       " --------------------------------------------------"
      ]
     },
     "execution_count": 48,
     "metadata": {},
     "output_type": "execute_result"
    }
   ],
   "source": [
    "f.figure()"
   ]
  },
  {
   "cell_type": "markdown",
   "metadata": {
    "deletable": true,
    "editable": true
   },
   "source": [
    "The larger recombination product x (6427 bp) contains the \n",
    "pYPK0 vector two times in a row\n",
    "the product we want is the f sequence (6299bp) see below.\n",
    "\n",
    "    a:\n",
    "     -|1619bp_PCR_prod|1505\n",
    "    |                  \\/\n",
    "    |                  /\\\n",
    "    |                  1505|pYPK0|66\n",
    "    |                             \\/\n",
    "    |                             /\\\n",
    "    |                             66|pYPK0|41\n",
    "    |                                      \\/\n",
    "    |                                      /\\\n",
    "    |                                      41|1721bp_PCR_pr_rc|33\n",
    "    |                                                          \\/\n",
    "    |                                                          /\\\n",
    "    |                                                          33-\n",
    "    |                                                             |\n",
    "     -------------------------------------------------------------\n",
    "\n",
    "\n",
    "    f:\n",
    "     -|1619bp_PCR_prod|66\n",
    "    |                  \\/\n",
    "    |                  /\\\n",
    "    |                  66|pYPK0|41\n",
    "    |                           \\/\n",
    "    |                           /\\\n",
    "    |                           41|1721bp_PCR_pr_rc|33\n",
    "    |                                               \\/\n",
    "    |                                               /\\\n",
    "    |                                               33-\n",
    "    |                                                  |\n",
    "     --------------------------------------------------"
   ]
  },
  {
   "cell_type": "code",
   "execution_count": 50,
   "metadata": {
    "collapsed": true,
    "deletable": true,
    "editable": true
   },
   "outputs": [],
   "source": [
    "pYPK5 = f.synced(pYPK0)"
   ]
  },
  {
   "cell_type": "code",
   "execution_count": 51,
   "metadata": {
    "collapsed": false
   },
   "outputs": [
    {
     "data": {
      "text/plain": [
       "6299"
      ]
     },
     "execution_count": 51,
     "metadata": {},
     "output_type": "execute_result"
    }
   ],
   "source": [
    "len(pYPK5)"
   ]
  },
  {
   "cell_type": "code",
   "execution_count": 52,
   "metadata": {
    "collapsed": false,
    "deletable": true,
    "editable": true
   },
   "outputs": [
    {
     "data": {
      "text/plain": [
       "bYXaKaxDTMFN5_B-QWoDqATVAb0"
      ]
     },
     "execution_count": 52,
     "metadata": {},
     "output_type": "execute_result"
    }
   ],
   "source": [
    "pYPK5.cseguid()"
   ]
  },
  {
   "cell_type": "code",
   "execution_count": 53,
   "metadata": {
    "collapsed": false,
    "deletable": true,
    "editable": true
   },
   "outputs": [
    {
     "data": {
      "text/plain": [
       "cSEGUID_bYXaKaxDTMFN5_B-QWoDqATVAb0"
      ]
     },
     "execution_count": 53,
     "metadata": {},
     "output_type": "execute_result"
    }
   ],
   "source": [
    "pYPK5.locus = \"pYPK5\"\n",
    "pYPK5.stamp()"
   ]
  },
  {
   "cell_type": "code",
   "execution_count": 54,
   "metadata": {
    "collapsed": false,
    "deletable": true,
    "editable": true
   },
   "outputs": [
    {
     "data": {
      "text/html": [
       "<font face=monospace><a href='pYPK5.gb' target='_blank'>pYPK5.gb</a></font><br>"
      ]
     },
     "metadata": {},
     "output_type": "display_data"
    }
   ],
   "source": [
    "pYPK5.write(\"pYPK5.gb\")"
   ]
  },
  {
   "cell_type": "code",
   "execution_count": 55,
   "metadata": {
    "collapsed": false,
    "deletable": true,
    "editable": true
   },
   "outputs": [],
   "source": [
    "from pydna.all import *\n",
    "r =read(\"pYPK5.gb\")\n",
    "assert r.cseguid() in r.definition"
   ]
  }
 ],
 "metadata": {
  "kernelspec": {
   "display_name": "Python [conda env:bjorn37]",
   "language": "python",
   "name": "conda-env-bjorn37-py"
  },
  "language_info": {
   "codemirror_mode": {
    "name": "ipython",
    "version": 3
   },
   "file_extension": ".py",
   "mimetype": "text/x-python",
   "name": "python",
   "nbconvert_exporter": "python",
   "pygments_lexer": "ipython3",
   "version": "3.7.2"
  }
 },
 "nbformat": 4,
 "nbformat_minor": 2
}
