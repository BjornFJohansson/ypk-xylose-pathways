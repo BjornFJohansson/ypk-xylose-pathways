{
 "cells": [
  {
   "cell_type": "markdown",
   "metadata": {},
   "source": [
    "# Construction of pYPK0_TPI1_CiGXF1_ENO2 (pMEC1134)\n",
    "\n",
    "[pYPKa_Z_TPI1](pYPKa_Z_TPI1.ipynb)\n",
    "\n",
    "[pYPKa_E_ENO2](pYPKa_E_ENO2.ipynb)"
   ]
  },
  {
   "cell_type": "code",
   "execution_count": 1,
   "metadata": {
    "collapsed": false
   },
   "outputs": [],
   "source": [
    "from pydna.all import *"
   ]
  },
  {
   "cell_type": "code",
   "execution_count": 2,
   "metadata": {
    "collapsed": true
   },
   "outputs": [],
   "source": [
    "p567,p577,p468,p467,p568,p578,p775,p778,p167,p166 = parse(\"yeast_pahtway_kit_standard_primers.txt\")"
   ]
  },
  {
   "cell_type": "markdown",
   "metadata": {},
   "source": [
    "[Yeast Pathway Kit Standard Primers](ypk_std_primers.ipynb)"
   ]
  },
  {
   "cell_type": "code",
   "execution_count": 3,
   "metadata": {
    "collapsed": true
   },
   "outputs": [],
   "source": [
    "from Bio.Restriction import ZraI, AjiI, EcoRV"
   ]
  },
  {
   "cell_type": "code",
   "execution_count": 4,
   "metadata": {
    "collapsed": true
   },
   "outputs": [],
   "source": [
    "pYPK0 =read(\"pYPK0.gb\")"
   ]
  },
  {
   "cell_type": "code",
   "execution_count": 5,
   "metadata": {
    "collapsed": true
   },
   "outputs": [],
   "source": [
    "promoter_clone = pYPKa_Z_TPI1 =read(\"pYPKa_Z_TPI1.gb\")"
   ]
  },
  {
   "cell_type": "markdown",
   "metadata": {},
   "source": [
    "[Genbank](http://www.ncbi.nlm.nih.gov/nucleotide/AJ937350.1) record"
   ]
  },
  {
   "cell_type": "code",
   "execution_count": 6,
   "metadata": {
    "collapsed": false
   },
   "outputs": [
    {
     "data": {
      "text/html": [
       "\n",
       "        <iframe\n",
       "            width=\"100%\"\n",
       "            height=\"250\"\n",
       "            src=\"http://www.ncbi.nlm.nih.gov/pubmed/16402921\"\n",
       "            frameborder=\"0\"\n",
       "            allowfullscreen\n",
       "        ></iframe>\n",
       "        "
      ],
      "text/plain": [
       "<IPython.lib.display.IFrame at 0x7f9784de3390>"
      ]
     },
     "execution_count": 6,
     "metadata": {},
     "output_type": "execute_result"
    }
   ],
   "source": [
    "# NBVAL_IGNORE_OUTPUT\n",
    "from IPython.display import IFrame\n",
    "IFrame('http://www.ncbi.nlm.nih.gov/pubmed/16402921', width='100%', height=250)"
   ]
  },
  {
   "cell_type": "code",
   "execution_count": 7,
   "metadata": {
    "collapsed": false
   },
   "outputs": [],
   "source": [
    "gb =Genbank(\"bjornjobbb@gmail.com\")\n",
    "gene_template = gb.nucleotide(\"AJ937350.1\") # plasmid pGXF1 Leandro et al. 2006"
   ]
  },
  {
   "cell_type": "code",
   "execution_count": 8,
   "metadata": {
    "collapsed": false
   },
   "outputs": [
    {
     "data": {
      "text/plain": [
       "+-----+---------------+-----+-----+------+------+--------+------+\n",
       "| Ft# | Label or Note | Dir | Sta | End  |  Len | type   | orf? |\n",
       "+-----+---------------+-----+-----+------+------+--------+------+\n",
       "|   0 | nd            | --> | 0   | 1644 | 1644 | source | yes  |\n",
       "|   1 | nd            | --> | 0   | 1644 | 1644 | gene   | yes  |\n",
       "|   2 | nd            | --> | 0   | 1644 | 1644 | CDS    | yes  |\n",
       "+-----+---------------+-----+-----+------+------+--------+------+"
      ]
     },
     "execution_count": 8,
     "metadata": {},
     "output_type": "execute_result"
    }
   ],
   "source": [
    "gene_template.list_features()"
   ]
  },
  {
   "cell_type": "code",
   "execution_count": 9,
   "metadata": {
    "collapsed": false
   },
   "outputs": [],
   "source": [
    "orf = gene_template.extract_feature(2)"
   ]
  },
  {
   "cell_type": "code",
   "execution_count": 10,
   "metadata": {
    "collapsed": false
   },
   "outputs": [
    {
     "data": {
      "text/plain": [
       "True"
      ]
     },
     "execution_count": 10,
     "metadata": {},
     "output_type": "execute_result"
    }
   ],
   "source": [
    "orf.isorf()"
   ]
  },
  {
   "cell_type": "code",
   "execution_count": 11,
   "metadata": {
    "collapsed": false
   },
   "outputs": [
    {
     "name": "stdout",
     "output_type": "stream",
     "text": [
      "1644\n"
     ]
    },
    {
     "data": {
      "text/plain": [
       "nRdsznd4WZFAGP2u0IIooDFQS90"
      ]
     },
     "execution_count": 11,
     "metadata": {},
     "output_type": "execute_result"
    }
   ],
   "source": [
    "print(len(orf))\n",
    "orf.seguid()"
   ]
  },
  {
   "cell_type": "code",
   "execution_count": 12,
   "metadata": {
    "collapsed": false
   },
   "outputs": [
    {
     "name": "stdout",
     "output_type": "stream",
     "text": [
      "MSQDSHSSGAATPVNGSILEKEKEDSPVLQVDAPQKGFKDYIVISIFCFMVAFGGFVFGFDTGTISGFVNMSDFKDRFGQHHADGTPYLSDVRVGLMISIFNVGCAVGGIFLCKVADVWGRRIGLMFSMAVYVVGIIIQISSSTKWYQFFIGRLIAGLAVGTVSVVSPLFISEVSPKQIRGTLVCCFQLCITLGIFLGYCTTYGTKTYTDSRQWRIPLGLCFAWAILLVVGMLNMPESPRYLVEKHRIDEAKRSIARSNKIPEEDPFVYTEVQLIQAGIEREALAGQASWKELITGKPKIFRRVIMGIMLQSLQQLTGDNYFFYYGTTIFQAVGLKDSFQTSIILGIVNFASTFVGIYVIERLGRRLCLLTGSAAMFICFIIYSLIGTQHLYKQGYSNETSNTYKASGNAMIFITCLYIFFFASTWAGGVYCIISESYPLRIRSKAMSIATAANWLWGFLISFFTPFITSAIHFYYGFVFTGCLAFSFFYVYFFVYETKGLSLEEVDEMYASGVLPLKSASWVPPNLEHMAHSAGYAGADKATDEQV*\n"
     ]
    }
   ],
   "source": [
    "print(str(orf.seq.translate()))"
   ]
  },
  {
   "cell_type": "code",
   "execution_count": 13,
   "metadata": {
    "collapsed": true
   },
   "outputs": [],
   "source": [
    "pf, pr =parse('''>580_GXF1_YPK_fwd (83-mer)\n",
    "                        gtcgaggaacgccaggttgcccactttctcactagtgaAAatgtcacaagattcgcattctt\n",
    "\n",
    "                        >579_GXF1_YPK_rev (83-mer)\n",
    "                        ATTTAAatcctgatgcgtttgtctgcacagatggcgcgttaaacctgttcgtcggtggcctt''')"
   ]
  },
  {
   "cell_type": "code",
   "execution_count": 14,
   "metadata": {
    "collapsed": true
   },
   "outputs": [],
   "source": [
    "g =pcr( pf, pr, orf)"
   ]
  },
  {
   "cell_type": "code",
   "execution_count": 15,
   "metadata": {
    "collapsed": false
   },
   "outputs": [
    {
     "data": {
      "text/plain": [
       "                                        5atgtcacaagattcgcattctt...aaggccaccgacgaacaggtttaa3\n",
       "                                                                  |||||||||||||||||||||||| tm 64.0 (dbd) 72.9\n",
       "                                                                 3ttccggtggctgcttgtccaaattgcgcggtagacacgtctgtttgcgtagtcctaAATTTA5\n",
       "5gtcgaggaacgccaggttgcccactttctcactagtgaAAatgtcacaagattcgcattctt3\n",
       "                                         |||||||||||||||||||||| tm 56.4 (dbd) 63.9\n",
       "                                        3tacagtgttctaagcgtaagaa...ttccggtggctgcttgtccaaatt5"
      ]
     },
     "execution_count": 15,
     "metadata": {},
     "output_type": "execute_result"
    }
   ],
   "source": [
    "g.figure()"
   ]
  },
  {
   "cell_type": "code",
   "execution_count": 16,
   "metadata": {
    "collapsed": false
   },
   "outputs": [],
   "source": [
    "terminator_clone = pYPKa_E_ENO2 =read(\"pYPKa_E_ENO2.gb\")"
   ]
  },
  {
   "cell_type": "code",
   "execution_count": 17,
   "metadata": {
    "collapsed": false
   },
   "outputs": [],
   "source": [
    "p  =pcr( p167, p567, promoter_clone)\n",
    "t  =pcr( p568, p166, terminator_clone)"
   ]
  },
  {
   "cell_type": "code",
   "execution_count": 18,
   "metadata": {
    "collapsed": true
   },
   "outputs": [],
   "source": [
    "pYPK0_E_Z, stuffer = pYPK0.cut((EcoRV, ZraI))"
   ]
  },
  {
   "cell_type": "code",
   "execution_count": 19,
   "metadata": {
    "collapsed": false
   },
   "outputs": [
    {
     "data": {
      "text/plain": [
       "(Dseqrecord(-5681), Amplicon(744), Amplicon(1722), Amplicon(625))"
      ]
     },
     "execution_count": 19,
     "metadata": {},
     "output_type": "execute_result"
    }
   ],
   "source": [
    "(pYPK0_E_Z, p, g, t)"
   ]
  },
  {
   "cell_type": "code",
   "execution_count": 20,
   "metadata": {
    "collapsed": false
   },
   "outputs": [],
   "source": [
    "asm =Assembly((pYPK0_E_Z, p, g, t), limit=31)"
   ]
  },
  {
   "cell_type": "code",
   "execution_count": 21,
   "metadata": {
    "collapsed": false
   },
   "outputs": [
    {
     "data": {
      "text/plain": [
       "Assembly\n",
       "fragments..: 5681bp 744bp 1722bp 625bp\n",
       "limit(bp)..: 31\n",
       "G.nodes....: 8\n",
       "algorithm..: common_sub_strings"
      ]
     },
     "execution_count": 21,
     "metadata": {},
     "output_type": "execute_result"
    }
   ],
   "source": [
    "asm"
   ]
  },
  {
   "cell_type": "code",
   "execution_count": 22,
   "metadata": {
    "collapsed": false
   },
   "outputs": [
    {
     "data": {
      "text/plain": [
       " -|name|98\n",
       "|       \\/\n",
       "|       /\\\n",
       "|       98|744bp_PCR_prod|38\n",
       "|                         \\/\n",
       "|                         /\\\n",
       "|                         38|1722bp_PCR_prod|35\n",
       "|                                            \\/\n",
       "|                                            /\\\n",
       "|                                            35|625bp_PCR_prod|61\n",
       "|                                                              \\/\n",
       "|                                                              /\\\n",
       "|                                                              61-\n",
       "|                                                                 |\n",
       " -----------------------------------------------------------------"
      ]
     },
     "execution_count": 22,
     "metadata": {},
     "output_type": "execute_result"
    }
   ],
   "source": [
    "candidate = asm.assemble_circular()[0]\n",
    "candidate.figure()"
   ]
  },
  {
   "cell_type": "code",
   "execution_count": 23,
   "metadata": {
    "collapsed": false
   },
   "outputs": [],
   "source": [
    "result = candidate.synced(pYPK0)"
   ]
  },
  {
   "cell_type": "markdown",
   "metadata": {},
   "source": [
    "The new construct should have cseguid ``` 0t3SB9dac_rF8FmwUiA95T8KlRA ``` and 8526 bp."
   ]
  },
  {
   "cell_type": "code",
   "execution_count": 24,
   "metadata": {
    "collapsed": false
   },
   "outputs": [
    {
     "name": "stdout",
     "output_type": "stream",
     "text": [
      "8526\n"
     ]
    },
    {
     "data": {
      "text/plain": [
       "0t3SB9dac_rF8FmwUiA95T8KlRA"
      ]
     },
     "execution_count": 24,
     "metadata": {},
     "output_type": "execute_result"
    }
   ],
   "source": [
    "print(len(result))\n",
    "result.cseguid()"
   ]
  },
  {
   "cell_type": "code",
   "execution_count": 25,
   "metadata": {
    "collapsed": false
   },
   "outputs": [
    {
     "data": {
      "text/plain": [
       "cSEGUID_0t3SB9dac_rF8FmwUiA95T8KlRA"
      ]
     },
     "execution_count": 25,
     "metadata": {},
     "output_type": "execute_result"
    }
   ],
   "source": [
    "result.name=\"pMEC1134\"\n",
    "result.description = \"pYPK0_TPI1_CiGXF1_ENO2tp\"\n",
    "result.stamp()"
   ]
  },
  {
   "cell_type": "code",
   "execution_count": 26,
   "metadata": {
    "collapsed": false
   },
   "outputs": [
    {
     "data": {
      "text/html": [
       "<font face=monospace><a href='pYPK0_TPI1_CiGXF1_ENO2.gb' target='_blank'>pYPK0_TPI1_CiGXF1_ENO2.gb</a></font><br>"
      ]
     },
     "metadata": {},
     "output_type": "display_data"
    }
   ],
   "source": [
    "result.write(\"pYPK0_TPI1_CiGXF1_ENO2.gb\")"
   ]
  },
  {
   "cell_type": "markdown",
   "metadata": {},
   "source": [
    "###[Download](pYPK0_TPI1_CiGXF1_ENO2.gb) genbank file."
   ]
  },
  {
   "cell_type": "code",
   "execution_count": 27,
   "metadata": {
    "collapsed": false
   },
   "outputs": [],
   "source": [
    "reloaded =read(\"pYPK0_TPI1_CiGXF1_ENO2.gb\")"
   ]
  },
  {
   "cell_type": "code",
   "execution_count": 28,
   "metadata": {
    "collapsed": false
   },
   "outputs": [
    {
     "data": {
      "text/plain": [
       "0t3SB9dac_rF8FmwUiA95T8KlRA"
      ]
     },
     "execution_count": 28,
     "metadata": {},
     "output_type": "execute_result"
    }
   ],
   "source": [
    "reloaded.cseguid()"
   ]
  },
  {
   "cell_type": "code",
   "execution_count": 29,
   "metadata": {
    "collapsed": false
   },
   "outputs": [
    {
     "data": {
      "text/plain": [
       "'pYPK0_TPI1_CiGXF1_ENO2tp cSEGUID_0t3SB9dac_rF8FmwUiA95T8KlRA_2018-05-15T07:38:21.736145'"
      ]
     },
     "execution_count": 29,
     "metadata": {},
     "output_type": "execute_result"
    }
   ],
   "source": [
    "reloaded.description"
   ]
  },
  {
   "cell_type": "markdown",
   "metadata": {},
   "source": [
    "[old](pYPK0_TPI1_CiGXF1_ENO2_OLD.gb)"
   ]
  },
  {
   "cell_type": "code",
   "execution_count": 30,
   "metadata": {
    "collapsed": true
   },
   "outputs": [],
   "source": []
  }
 ],
 "metadata": {
  "kernelspec": {
   "display_name": "Python 3",
   "language": "python",
   "name": "python3"
  },
  "language_info": {
   "codemirror_mode": {
    "name": "ipython",
    "version": 3
   },
   "file_extension": ".py",
   "mimetype": "text/x-python",
   "name": "python",
   "nbconvert_exporter": "python",
   "pygments_lexer": "ipython3",
   "version": "3.7.2"
  }
 },
 "nbformat": 4,
 "nbformat_minor": 0
}
