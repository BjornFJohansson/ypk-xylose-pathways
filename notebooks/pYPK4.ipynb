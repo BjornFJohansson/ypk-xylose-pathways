{
 "cells": [
  {
   "cell_type": "markdown",
   "metadata": {},
   "source": [
    "# pYPK4\n",
    "\n",
    "pYPK4 is a version of [pYPK1](pYPK1.ipynb) that has a 2µ yeast ori instead of the CEN6/ARS\n",
    "and a HphMX4 marker instead of the bleomycin marker."
   ]
  },
  {
   "cell_type": "code",
   "execution_count": 1,
   "metadata": {
    "collapsed": true
   },
   "outputs": [],
   "source": [
    "from pydna.all import *"
   ]
  },
  {
   "cell_type": "code",
   "execution_count": 2,
   "metadata": {
    "collapsed": false
   },
   "outputs": [],
   "source": [
    "githubuser=\"BjornFJohansson\"\n",
    "gistid = \"c5424b7ebbf553c52053\"\n",
    "x=download_text('https://gist.githubusercontent.com/{user}/{gistid}/raw'.format(user=githubuser, gistid=gistid))\n",
    "pAG32 =read(x)"
   ]
  },
  {
   "cell_type": "markdown",
   "metadata": {},
   "source": [
    "[pAG32 sequence](https://gist.github.com/BjornFJohansson/c5424b7ebbf553c52053)"
   ]
  },
  {
   "cell_type": "code",
   "execution_count": 3,
   "metadata": {
    "collapsed": false
   },
   "outputs": [],
   "source": [
    "p150,p149,p325,p324,p678,p666 =parse_primers('''\n",
    ">150_MX4fwd (25-mer) Primer in the Ashbya gossypi TEF promoter in forward direction. contaminated?\n",
    "AAAATCTTGCTAGGATACAGTTCTC\n",
    "\n",
    ">149_MX4rev (25-mer) Primer in the Ashbya gossypi TEF terminator in the reverse direction.\n",
    "ACAAATGACAAGTTCTTGAAAACAA\n",
    "\n",
    ">325_Hygfwd (27-mer)\n",
    "GATGTAGGAGGGCGTGGATATGTCCTG\n",
    "\n",
    ">324_Hygrev (27-mer)\n",
    "TGCATCATCGAAATTGCCGTCAACCAA\n",
    "\n",
    ">678_pYPK0_hygfwd: (77-mer)\n",
    "ctcacgttaagggattttggtcatgagCACATACGATTTAGGTGACACTATAGAAC\n",
    "\n",
    ">666_pYPK0_hygrev (70-mer)\n",
    "catctttgacagcttatcatcgataagctCGACTCACTATAGGGAGACC''')"
   ]
  },
  {
   "cell_type": "code",
   "execution_count": 4,
   "metadata": {
    "collapsed": false
   },
   "outputs": [],
   "source": [
    "hygmarker1 =pcr( p678, p324, pAG32 )"
   ]
  },
  {
   "cell_type": "code",
   "execution_count": 5,
   "metadata": {
    "collapsed": false
   },
   "outputs": [],
   "source": [
    "hygmarker2 =pcr( p325, p666, pAG32 )"
   ]
  },
  {
   "cell_type": "code",
   "execution_count": 6,
   "metadata": {
    "collapsed": false
   },
   "outputs": [],
   "source": [
    "pYPK0=read(\"pYPK0.gb\")"
   ]
  },
  {
   "cell_type": "code",
   "execution_count": 7,
   "metadata": {
    "collapsed": false
   },
   "outputs": [],
   "source": [
    "from Bio.Restriction import SbfI"
   ]
  },
  {
   "cell_type": "code",
   "execution_count": 8,
   "metadata": {
    "collapsed": false
   },
   "outputs": [],
   "source": [
    "vect = pYPK0.linearize(SbfI)"
   ]
  },
  {
   "cell_type": "code",
   "execution_count": 9,
   "metadata": {
    "collapsed": false
   },
   "outputs": [
    {
     "data": {
      "text/plain": [
       "Dseqrecord(-5766)"
      ]
     },
     "execution_count": 9,
     "metadata": {},
     "output_type": "execute_result"
    }
   ],
   "source": [
    "vect"
   ]
  },
  {
   "cell_type": "code",
   "execution_count": 10,
   "metadata": {
    "collapsed": false
   },
   "outputs": [
    {
     "data": {
      "text/plain": [
       "Assembly\n",
       "fragments..: 5766bp 1371bp 1262bp\n",
       "limit(bp)..: 25\n",
       "G.nodes....: 6\n",
       "algorithm..: common_sub_strings"
      ]
     },
     "execution_count": 10,
     "metadata": {},
     "output_type": "execute_result"
    }
   ],
   "source": [
    "asm=Assembly((vect,hygmarker1,hygmarker2 ))\n",
    "asm"
   ]
  },
  {
   "cell_type": "code",
   "execution_count": 11,
   "metadata": {
    "collapsed": false
   },
   "outputs": [],
   "source": [
    "candidate = asm.assemble_circular()[0]"
   ]
  },
  {
   "cell_type": "code",
   "execution_count": 12,
   "metadata": {
    "collapsed": false
   },
   "outputs": [
    {
     "data": {
      "text/plain": [
       " -|pYKP0_lin|27\n",
       "|            \\/\n",
       "|            /\\\n",
       "|            27|1371bp_PCR_prod|741\n",
       "|                               \\/\n",
       "|                               /\\\n",
       "|                               741|1262bp_PCR_prod|29\n",
       "|                                                   \\/\n",
       "|                                                   /\\\n",
       "|                                                   29-\n",
       "|                                                      |\n",
       " ------------------------------------------------------"
      ]
     },
     "execution_count": 12,
     "metadata": {},
     "output_type": "execute_result"
    }
   ],
   "source": [
    "candidate.figure()"
   ]
  },
  {
   "cell_type": "code",
   "execution_count": 13,
   "metadata": {
    "collapsed": false
   },
   "outputs": [],
   "source": [
    "pYPK4=candidate.synced(pYPK0)"
   ]
  },
  {
   "cell_type": "code",
   "execution_count": 14,
   "metadata": {
    "collapsed": false
   },
   "outputs": [
    {
     "data": {
      "text/plain": [
       "cSEGUID_X0SJzGGAj7ulCEqpSsK4YXZW9Bw"
      ]
     },
     "execution_count": 14,
     "metadata": {},
     "output_type": "execute_result"
    }
   ],
   "source": [
    "pYPK4.stamp()"
   ]
  },
  {
   "cell_type": "code",
   "execution_count": 15,
   "metadata": {
    "collapsed": false
   },
   "outputs": [],
   "source": [
    "pYPK4.locus = \"pYPK4\""
   ]
  },
  {
   "cell_type": "code",
   "execution_count": 16,
   "metadata": {
    "collapsed": false
   },
   "outputs": [
    {
     "data": {
      "text/html": [
       "<font face=monospace><a href='pYPK4.gb' target='_blank'>pYPK4.gb</a></font><br>"
      ]
     },
     "metadata": {},
     "output_type": "display_data"
    }
   ],
   "source": [
    "pYPK4.write(\"pYPK4.gb\")"
   ]
  },
  {
   "cell_type": "markdown",
   "metadata": {},
   "source": [
    "### [DOWNLOAD](pYPK4.gb)"
   ]
  },
  {
   "cell_type": "code",
   "execution_count": 17,
   "metadata": {
    "collapsed": false
   },
   "outputs": [],
   "source": [
    "from pydna.all import *\n",
    "reloaded=read(\"pYPK4.gb\")\n",
    "assert reloaded.cseguid() in reloaded.definition"
   ]
  }
 ],
 "metadata": {
  "kernelspec": {
   "display_name": "Python 3",
   "language": "python",
   "name": "python3"
  },
  "language_info": {
   "codemirror_mode": {
    "name": "ipython",
    "version": 3
   },
   "file_extension": ".py",
   "mimetype": "text/x-python",
   "name": "python",
   "nbconvert_exporter": "python",
   "pygments_lexer": "ipython3",
   "version": "3.7.2"
  }
 },
 "nbformat": 4,
 "nbformat_minor": 2
}
