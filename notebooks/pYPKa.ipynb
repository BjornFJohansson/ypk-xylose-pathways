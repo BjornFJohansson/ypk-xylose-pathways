{
 "cells": [
  {
   "cell_type": "markdown",
   "metadata": {},
   "source": [
    "#Construction of the pYPKa vector\n",
    "The pYPKa is a version of the pCAPs vector where a unique [AjiI](http://rebase.neb.com/rebase/enz/AjiI.html) site has been created by site directed mutagenesis and a AcsI site removed [AcsI](http://rebase.neb.com/rebase/enz/AcsI.html). The pCAPs plasmid was described by [Schlieper et al. 1998](http://www.ncbi.nlm.nih.gov/pubmed/9514792) (see below) The abstract is available from Pubmed. The pCAPs sequence is available from Genbank:"
   ]
  },
  {
   "cell_type": "code",
   "execution_count": 1,
   "metadata": {
    "collapsed": false
   },
   "outputs": [
    {
     "name": "stderr",
     "output_type": "stream",
     "text": [
      "/home/bjorn/anaconda3/envs/bjorn37/lib/python3.7/site-packages/IPython/core/display.py:689: UserWarning: Consider using IPython.display.IFrame instead\n",
      "  warnings.warn(\"Consider using IPython.display.IFrame instead\")\n"
     ]
    },
    {
     "data": {
      "text/html": [
       "<iframe src=http://www.ncbi.nlm.nih.gov/pubmed/9514792 width=100% height=250></iframe>"
      ],
      "text/plain": [
       "<IPython.core.display.HTML object>"
      ]
     },
     "execution_count": 1,
     "metadata": {},
     "output_type": "execute_result"
    }
   ],
   "source": [
    "from IPython.display import HTML\n",
    "HTML('<iframe src=http://www.ncbi.nlm.nih.gov/pubmed/9514792 width=100% height=250></iframe>')"
   ]
  },
  {
   "cell_type": "markdown",
   "metadata": {},
   "source": [
    "Importing the [pydna](https://pypi.python.org/pypi/pydna/) package.\n",
    "Pydna is [open source](https://github.com/BjornFJohansson/pydna), documentated [here](http://pydna.readthedocs.org/en/latest/) and has a support [forum](https://groups.google.com/forum/#!forum/pydna) as well as a publication:\n",
    "\n",
    "[Pereira F, Azevedo F, Carvalho Â, Ribeiro GF, Budde MW, Johansson B: Pydna: a simulation and documentation tool for DNA assembly strategies using python. BMC Bioinformatics 2015, 16:142.](http://www.biomedcentral.com/1471-2105/16/142/abstract)"
   ]
  },
  {
   "cell_type": "code",
   "execution_count": 2,
   "metadata": {
    "collapsed": false
   },
   "outputs": [],
   "source": [
    "from pydna.all import *"
   ]
  },
  {
   "cell_type": "markdown",
   "metadata": {},
   "source": [
    "The plasmid backbone sequence comes from a Genbank [record](http://www.ncbi.nlm.nih.gov/nuccore/AJ001614).\n",
    "Access to Genbank is needed in order to download the template.\n",
    "If you execute this script, change the email address below to your own.\n",
    "Always tell Genbank who you are, when using the service."
   ]
  },
  {
   "cell_type": "code",
   "execution_count": 3,
   "metadata": {
    "collapsed": false
   },
   "outputs": [],
   "source": [
    "gb =Genbank(\"bjornjobbb@gmail.com\")"
   ]
  },
  {
   "cell_type": "code",
   "execution_count": 4,
   "metadata": {
    "collapsed": false
   },
   "outputs": [],
   "source": [
    "pCAPs = gb.nucleotide(\"AJ001614.1\")"
   ]
  },
  {
   "cell_type": "markdown",
   "metadata": {
    "collapsed": true
   },
   "source": [
    "pCAPS cseguid shoud be ```S6GoB_Z13VCfGDTEqNclu4It614```"
   ]
  },
  {
   "cell_type": "code",
   "execution_count": 5,
   "metadata": {
    "collapsed": false
   },
   "outputs": [
    {
     "data": {
      "text/plain": [
       "S6GoB_Z13VCfGDTEqNclu4It614"
      ]
     },
     "execution_count": 5,
     "metadata": {},
     "output_type": "execute_result"
    }
   ],
   "source": [
    "pCAPs.cseguid()"
   ]
  },
  {
   "cell_type": "markdown",
   "metadata": {},
   "source": [
    "The first feature is removed for practical reasons since it covers the whole sequence."
   ]
  },
  {
   "cell_type": "code",
   "execution_count": 6,
   "metadata": {
    "collapsed": false
   },
   "outputs": [],
   "source": [
    "pCAPs.features = pCAPs.features [1:]"
   ]
  },
  {
   "cell_type": "markdown",
   "metadata": {},
   "source": [
    "The sequence to be mutated is contained withing the subsequence below:"
   ]
  },
  {
   "cell_type": "code",
   "execution_count": 7,
   "metadata": {
    "collapsed": false
   },
   "outputs": [
    {
     "name": "stdout",
     "output_type": "stream",
     "text": [
      "TTCTCACTAGTGACCTGCAGCCGGCGCGCCATCTGTGCAGACAAACGCA\n"
     ]
    }
   ],
   "source": [
    "print(str(pCAPs[555:604].seq))"
   ]
  },
  {
   "cell_type": "code",
   "execution_count": 8,
   "metadata": {
    "collapsed": false
   },
   "outputs": [
    {
     "name": "stdout",
     "output_type": "stream",
     "text": [
      "CACGTC\n",
      "False\n"
     ]
    }
   ],
   "source": [
    "from Bio.Restriction import AjiI\n",
    "print(AjiI.site)\n",
    "print(AjiI.is_palindromic())"
   ]
  },
  {
   "cell_type": "markdown",
   "metadata": {},
   "source": [
    "## Outline of the mutation strategy\n",
    "\n",
    "pCAPs sequence\n",
    "\n",
    "    TTCTCACTAGTGACCTGCAGCCGGCGCGCCATCTGTGCAGACAAACGCA   watson  \n",
    "    AAGAGTGATCACTGGACGTCGGCCGCGCGGTAGACACGTCTGTTTGCGT   crick\n",
    "                       <---ArgAla---\n",
    "\n",
    "Two aminoacids in the CRP coding sequence are indicated in the crick strand of pCAPs.\n",
    "\n",
    "\n",
    "Primers annealing to template\n",
    "                            \n",
    "    TTCTCACTAGTGACCTGCAGCCGGCGCGCCATCTGTGCAGACAAACGCA\n",
    "      |||||||||||||||||||||\n",
    "      gagtgatcactggacgtcggcTG\n",
    "                             GTGCcatctgtgcagacaaacg\n",
    "                                |||||||||||||||||||\n",
    "    AAGAGTGATCACTGGACGTCGGCCGCGCGGTAGACACGTCTGTTTGCGT\n",
    "    \n",
    "Resulting mutated seqence in pYPKa:    \n",
    "                                \n",
    "    ttctcactagtgacctgcagccgACGTGccatctgtgcagacaaacgca   watson\n",
    "    aagagtgatcactggacgtcggcTGCACggtagacacgtctgtttgcgt   crick\n",
    "                          ------                        AjiI site\n",
    "    \n",
    "                       <---ArgAla---\n",
    "    \n",
    "    \n",
    "The mutation is silent, the codons formed in the CRP orf on the crick strand encode the same aminoacids\n",
    "    \n",
    "          Ala Arg\n",
    "    \n",
    "    pCAPS gcg cgg\n",
    "    \n",
    "    pYPKa gca cgt\n",
    "   "
   ]
  },
  {
   "cell_type": "code",
   "execution_count": 9,
   "metadata": {
    "collapsed": false
   },
   "outputs": [],
   "source": [
    "primers =parse('''>568_pCAPsAjiIR (22-mer)\n",
    "                         GTGCcatctgtgcagacaaacg\n",
    "\n",
    "                         >567_pCAPsAjiIF (23-mer)\n",
    "                         GTcggctgcaggtcactagtgag''', ds=False)"
   ]
  },
  {
   "cell_type": "code",
   "execution_count": 10,
   "metadata": {
    "collapsed": false
   },
   "outputs": [],
   "source": [
    "pYPKa =pcr(primers, pCAPs).looped().synced(pCAPs)"
   ]
  },
  {
   "cell_type": "code",
   "execution_count": 11,
   "metadata": {
    "collapsed": false
   },
   "outputs": [
    {
     "data": {
      "text/plain": [
       "cSEGUID_aV1eIrzOiCjvw01yvKkxDXHKLMk"
      ]
     },
     "execution_count": 11,
     "metadata": {},
     "output_type": "execute_result"
    }
   ],
   "source": [
    "pYPKa.stamp()"
   ]
  },
  {
   "cell_type": "code",
   "execution_count": 12,
   "metadata": {
    "collapsed": false
   },
   "outputs": [],
   "source": [
    "pYPKa.name = \"pYPKa\""
   ]
  },
  {
   "cell_type": "code",
   "execution_count": 13,
   "metadata": {
    "collapsed": false
   },
   "outputs": [
    {
     "data": {
      "text/html": [
       "<font face=monospace><a href='pYPKa.gb' target='_blank'>pYPKa.gb</a></font><br>"
      ]
     },
     "metadata": {},
     "output_type": "display_data"
    }
   ],
   "source": [
    "pYPKa.write(\"pYPKa.gb\")"
   ]
  },
  {
   "cell_type": "markdown",
   "metadata": {},
   "source": [
    "### Download\n",
    "[pYPKa](pYPKa.gb)"
   ]
  },
  {
   "cell_type": "code",
   "execution_count": 14,
   "metadata": {
    "collapsed": true
   },
   "outputs": [],
   "source": [
    "reloaded =read(\"pYPKa.gb\")"
   ]
  },
  {
   "cell_type": "code",
   "execution_count": 15,
   "metadata": {
    "collapsed": false
   },
   "outputs": [],
   "source": [
    "assert reloaded.cseguid() in reloaded.definition"
   ]
  }
 ],
 "metadata": {
  "kernelspec": {
   "display_name": "Python 3",
   "language": "python",
   "name": "python3"
  },
  "language_info": {
   "codemirror_mode": {
    "name": "ipython",
    "version": 3
   },
   "file_extension": ".py",
   "mimetype": "text/x-python",
   "name": "python",
   "nbconvert_exporter": "python",
   "pygments_lexer": "ipython3",
   "version": "3.7.2"
  }
 },
 "nbformat": 4,
 "nbformat_minor": 0
}
