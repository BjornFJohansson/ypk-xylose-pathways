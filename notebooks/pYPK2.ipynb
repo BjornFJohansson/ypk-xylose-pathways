{
 "cells": [
  {
   "cell_type": "markdown",
   "metadata": {},
   "source": [
    "#pYPK2\n",
    "\n",
    "pYPK2 is a version of [pYPK1](pYPK1.ipynb) that has a CEN6/ARS yeast ori\n",
    "and a KanMX4 marker instead of the bleomycin marker."
   ]
  },
  {
   "cell_type": "code",
   "execution_count": 1,
   "metadata": {
    "collapsed": true
   },
   "outputs": [],
   "source": [
    "from pydna.all import *\n",
    "pYPK1 =read(\"pYPK1.gb\")\n",
    "gb =Genbank(\"bjornjobb@gmail.com\")"
   ]
  },
  {
   "cell_type": "code",
   "execution_count": 2,
   "metadata": {
    "collapsed": false
   },
   "outputs": [],
   "source": [
    "pFA6a_KanMX4 = gb.nucleotide(\"AJ002680.1\")"
   ]
  },
  {
   "cell_type": "code",
   "execution_count": 3,
   "metadata": {
    "collapsed": true
   },
   "outputs": [],
   "source": [
    "p478, p666 =parse('''\n",
    ">478_bleMX4f\n",
    "aatttaaattataattatttttatagcacgtgatgaaaaggtccccgccgggtc\n",
    "\n",
    ">666_pYPK0_hygrev (70-mer)\n",
    "catctttgacagcttatcatcgataagctCGACTCACTATAGGGAGACC''', ds=False)"
   ]
  },
  {
   "cell_type": "code",
   "execution_count": 4,
   "metadata": {
    "collapsed": true
   },
   "outputs": [],
   "source": [
    "kanmarker =pcr( p478, p666, pFA6a_KanMX4)"
   ]
  },
  {
   "cell_type": "code",
   "execution_count": 5,
   "metadata": {
    "collapsed": false
   },
   "outputs": [
    {
     "data": {
      "text/html": [
       "<font face=monospace><a href='pYPK2.gb' target='_blank'>pYPK2.gb</a></font><br>"
      ]
     },
     "metadata": {},
     "output_type": "display_data"
    }
   ],
   "source": [
    "from Bio.Restriction import PvuII\n",
    "\n",
    "vect = pYPK1.linearize(PvuII)\n",
    "\n",
    "a=Assembly([kanmarker, vect])\n",
    "\n",
    "pYPK2 = a.assemble_circular()[0]\n",
    "\n",
    "pYPK2 = pYPK2.synced(pYPK1)\n",
    "\n",
    "pYPK2.stamp()\n",
    "\n",
    "pYPK2.locus = \"pYPK2\"\n",
    "\n",
    "pYPK2.write(\"pYPK2.gb\")"
   ]
  },
  {
   "cell_type": "markdown",
   "metadata": {},
   "source": [
    "###[DOWNLOAD](pYPK2.gb)"
   ]
  },
  {
   "cell_type": "code",
   "execution_count": 6,
   "metadata": {
    "collapsed": false
   },
   "outputs": [],
   "source": [
    "from pydna.all import *\n",
    "reloaded=read(\"pYPK2.gb\")\n",
    "assert reloaded.cseguid() in reloaded.definition"
   ]
  },
  {
   "cell_type": "code",
   "execution_count": 7,
   "metadata": {
    "collapsed": true
   },
   "outputs": [],
   "source": []
  }
 ],
 "metadata": {
  "kernelspec": {
   "display_name": "Python 3",
   "language": "python",
   "name": "python3"
  },
  "language_info": {
   "codemirror_mode": {
    "name": "ipython",
    "version": 3
   },
   "file_extension": ".py",
   "mimetype": "text/x-python",
   "name": "python",
   "nbconvert_exporter": "python",
   "pygments_lexer": "ipython3",
   "version": "3.7.2"
  }
 },
 "nbformat": 4,
 "nbformat_minor": 0
}
