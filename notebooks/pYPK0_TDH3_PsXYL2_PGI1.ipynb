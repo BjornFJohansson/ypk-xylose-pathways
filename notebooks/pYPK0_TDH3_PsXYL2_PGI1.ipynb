{
 "cells": [
  {
   "cell_type": "markdown",
   "metadata": {},
   "source": [
    "# Construction of pYPK0_TDH3_PsXYL2_PGI1 (pMEC1128)\n",
    "\n",
    "[pYPKa_Z_TDH3](pYPKa_Z_TDH3.ipynb)\n",
    "\n",
    "[pYPKa_E_PGI1](pYPKa_E_PGI1.ipynb)"
   ]
  },
  {
   "cell_type": "code",
   "execution_count": 1,
   "metadata": {
    "collapsed": false
   },
   "outputs": [],
   "source": [
    "from pydna.all import *"
   ]
  },
  {
   "cell_type": "code",
   "execution_count": 2,
   "metadata": {
    "collapsed": false
   },
   "outputs": [],
   "source": [
    "p567,p577,p468,p467,p568,p578,p775,p778,p167,p166 = parse(\"yeast_pahtway_kit_standard_primers.txt\")"
   ]
  },
  {
   "cell_type": "markdown",
   "metadata": {},
   "source": [
    "[Yeast Pathway Kit Standard Primers](ypk_std_primers.ipynb)"
   ]
  },
  {
   "cell_type": "code",
   "execution_count": 3,
   "metadata": {
    "collapsed": true
   },
   "outputs": [],
   "source": [
    "from Bio.Restriction import ZraI, AjiI, EcoRV"
   ]
  },
  {
   "cell_type": "code",
   "execution_count": 4,
   "metadata": {
    "collapsed": true
   },
   "outputs": [],
   "source": [
    "pYPK0 =read(\"pYPK0.gb\")"
   ]
  },
  {
   "cell_type": "code",
   "execution_count": 5,
   "metadata": {
    "collapsed": true
   },
   "outputs": [],
   "source": [
    "promoter_clone = pYPKa_Z_TDH3 =read(\"pYPKa_Z_TDH3.gb\")"
   ]
  },
  {
   "cell_type": "markdown",
   "metadata": {},
   "source": [
    "[Genbank](http://www.ncbi.nlm.nih.gov/nuccore/A16166.1) record"
   ]
  },
  {
   "cell_type": "code",
   "execution_count": 6,
   "metadata": {
    "collapsed": false
   },
   "outputs": [
    {
     "data": {
      "text/html": [
       "\n",
       "        <iframe\n",
       "            width=\"100%\"\n",
       "            height=\"250\"\n",
       "            src=\"http://google.com/patents/EP0450430A2?cl=es\"\n",
       "            frameborder=\"0\"\n",
       "            allowfullscreen\n",
       "        ></iframe>\n",
       "        "
      ],
      "text/plain": [
       "<IPython.lib.display.IFrame at 0x7fd9f3e05f28>"
      ]
     },
     "execution_count": 6,
     "metadata": {},
     "output_type": "execute_result"
    }
   ],
   "source": [
    "from IPython.display import IFrame\n",
    "IFrame('http://google.com/patents/EP0450430A2?cl=es', width='100%', height=250)"
   ]
  },
  {
   "cell_type": "code",
   "execution_count": 7,
   "metadata": {
    "collapsed": false
   },
   "outputs": [],
   "source": [
    "gb =Genbank(\"bjornjobbb@gmail.com\")\n",
    "gene_template = gb.nucleotide(\"A16166.1\")"
   ]
  },
  {
   "cell_type": "code",
   "execution_count": 8,
   "metadata": {
    "collapsed": false
   },
   "outputs": [
    {
     "data": {
      "text/plain": [
       "+-----+---------------+-----+-----+------+------+--------+------+\n",
       "| Ft# | Label or Note | Dir | Sta | End  |  Len | type   | orf? |\n",
       "+-----+---------------+-----+-----+------+------+--------+------+\n",
       "|   0 | nd            | --> | 0   | 1963 | 1963 | source |  no  |\n",
       "|   1 | nd            | --> | 318 | 1410 | 1092 | CDS    | yes  |\n",
       "+-----+---------------+-----+-----+------+------+--------+------+"
      ]
     },
     "execution_count": 8,
     "metadata": {},
     "output_type": "execute_result"
    }
   ],
   "source": [
    "gene_template.list_features()"
   ]
  },
  {
   "cell_type": "code",
   "execution_count": 9,
   "metadata": {
    "collapsed": false
   },
   "outputs": [],
   "source": [
    "orf = gene_template.extract_feature(1)"
   ]
  },
  {
   "cell_type": "code",
   "execution_count": 10,
   "metadata": {
    "collapsed": false
   },
   "outputs": [
    {
     "name": "stdout",
     "output_type": "stream",
     "text": [
      "ATGACTGCTAACCCTTCCTTGGTGTTGAACAAGATCGACGACATTTCGTTCGAAACTTACGATGCCCCAGAAATCTCTGAACCTACCGATGTCCTCGTCCAGGTCAAGAAAACCGGTATCTGTGGTTCCGACATCCACTTCTACGCCCATGGTAGAATCGGTAACTTCGTTTTGACCAAGCCAATGGTCTTGGGTCACGAATCCGCCGGTACTGTTGTCCAGGTTGGTAAGGGTGTCACCTCTCTTAAGGTTGGTGACAACGTCGCTATCGAACCAGGTATTCCATCCAGATTCTCCGACGAATACAAGAGCGGTCACTACAACTTGTGTCCTCACATGGCCTTCGCCGCTACTCCTAACTCCAAGGAAGGCGAACCAAACCCACCAGGTACCTTATGTAAGTACTTCAAGTCGCCAGAAGACTTCTTGGTCAAGTTGCCAGACCACGTCAGCTTGGAACTCGGTGCTCTTGTTGAGCCATTGTCTGTTGGTGTCCACGCCTCCAAGTTGGGTTCCGTTGCTTTCGGCGACTACGTTGCCGTCTTTGGTGCTGGTCCTGTTGGTCTTTTGGCTGCTGCTGTCGCCAAGACCTTCGGTGCTAAGGGTGTCATCGTCGTTGACATTTTCGACAACAAGTTGAAGATGGCCAAGGACATTGGTGCTGCTACTCACACCTTCAACTCCAAGACCGGTGGTTCTGAAGAATTGATCAAGGCTTTCGGTGGTAACGTGCCAAACGTCGTTTTGGAATGTACTGGTGCTGAACCTTGTATCAAGTTGGGTGTTGACGCCATTGCCCCAGGTGGTCGTTTCGTTCAAGTTGGTAACGCTGCTGGTCCAGTCAGCTTCCCAATCACCGTTTTCGCCATGAAGGAATTGACTTTGTTCGGTTCTTTCAGATACGGATTCAACGACTACAAGACTGCTGTTGGAATCTTTGACACTAACTACCAAAACGGTAGAGAAAATGCTCCAATTGACTTTGAACAATTGATCACCCACAGATACAAGTTCAAGGACGCTATTGAAGCCTACGACTTGGTCAGAGCCGGTAAGGGTGCTGTCAAGTGTCTCATTGACGGCCCTGAGTAA\n"
     ]
    }
   ],
   "source": [
    "print(orf.seq)"
   ]
  },
  {
   "cell_type": "code",
   "execution_count": 11,
   "metadata": {
    "collapsed": false
   },
   "outputs": [
    {
     "data": {
      "text/plain": [
       "True"
      ]
     },
     "execution_count": 11,
     "metadata": {},
     "output_type": "execute_result"
    }
   ],
   "source": [
    "orf.isorf()"
   ]
  },
  {
   "cell_type": "code",
   "execution_count": 12,
   "metadata": {
    "collapsed": false
   },
   "outputs": [
    {
     "name": "stdout",
     "output_type": "stream",
     "text": [
      "1092\n"
     ]
    },
    {
     "data": {
      "text/plain": [
       "CyliZ1T5FR7RZCWuSzPm9dOHmM0"
      ]
     },
     "execution_count": 12,
     "metadata": {},
     "output_type": "execute_result"
    }
   ],
   "source": [
    "print(len(orf))\n",
    "orf.seguid()"
   ]
  },
  {
   "cell_type": "code",
   "execution_count": 13,
   "metadata": {
    "collapsed": false
   },
   "outputs": [
    {
     "name": "stdout",
     "output_type": "stream",
     "text": [
      "MTANPSLVLNKIDDISFETYDAPEISEPTDVLVQVKKTGICGSDIHFYAHGRIGNFVLTKPMVLGHESAGTVVQVGKGVTSLKVGDNVAIEPGIPSRFSDEYKSGHYNLCPHMAFAATPNSKEGEPNPPGTLCKYFKSPEDFLVKLPDHVSLELGALVEPLSVGVHASKLGSVAFGDYVAVFGAGPVGLLAAAVAKTFGAKGVIVVDIFDNKLKMAKDIGAATHTFNSKTGGSEELIKAFGGNVPNVVLECTGAEPCIKLGVDAIAPGGRFVQVGNAAGPVSFPITVFAMKELTLFGSFRYGFNDYKTAVGIFDTNYQNGRENAPIDFEQLITHRYKFKDAIEAYDLVRAGKGAVKCLIDGPE*\n"
     ]
    }
   ],
   "source": [
    "print(str(orf.seq.translate()))"
   ]
  },
  {
   "cell_type": "code",
   "execution_count": 14,
   "metadata": {
    "collapsed": true
   },
   "outputs": [],
   "source": [
    "pf, pr =parse('''>XDH_YPK_rec_fwd \n",
    "                        gtcgaggaacgccaggttgcccactttctcactagtgaAAATGACTGCTAACCCTTCCTTGGTG\n",
    "                        >XDH_YPK_rec_rev \n",
    "                        ATTTAAatcctgatgcgtttgtctgcacagatggcgcgTTACTCAGGGCCGTCAATGAGACA''')"
   ]
  },
  {
   "cell_type": "code",
   "execution_count": 15,
   "metadata": {
    "collapsed": true
   },
   "outputs": [],
   "source": [
    "g =pcr( pf, pr, orf)"
   ]
  },
  {
   "cell_type": "code",
   "execution_count": 16,
   "metadata": {
    "collapsed": false
   },
   "outputs": [
    {
     "data": {
      "text/plain": [
       "                                        5ATGACTGCTAACCCTTCCTTGGTG...TGTCTCATTGACGGCCCTGAGTAA3\n",
       "                                                                    |||||||||||||||||||||||| tm 62.8 (dbd) 71.8\n",
       "                                                                   3ACAGAGTAACTGCCGGGACTCATTgcgcggtagacacgtctgtttgcgtagtcctaAATTTA5\n",
       "5gtcgaggaacgccaggttgcccactttctcactagtgaAAATGACTGCTAACCCTTCCTTGGTG3\n",
       "                                         |||||||||||||||||||||||| tm 61.8 (dbd) 69.3\n",
       "                                        3TACTGACGATTGGGAAGGAACCAC...ACAGAGTAACTGCCGGGACTCATT5"
      ]
     },
     "execution_count": 16,
     "metadata": {},
     "output_type": "execute_result"
    }
   ],
   "source": [
    "g.figure()"
   ]
  },
  {
   "cell_type": "code",
   "execution_count": 17,
   "metadata": {
    "collapsed": false
   },
   "outputs": [],
   "source": [
    "terminator_clone = pYPKa_E_PGI1 =read(\"pYPKa_E_PGI1.gb\")"
   ]
  },
  {
   "cell_type": "code",
   "execution_count": 18,
   "metadata": {
    "collapsed": false
   },
   "outputs": [],
   "source": [
    "p  =pcr( p167, p567, promoter_clone)\n",
    "t  =pcr( p568, p166, terminator_clone)"
   ]
  },
  {
   "cell_type": "code",
   "execution_count": 19,
   "metadata": {
    "collapsed": true
   },
   "outputs": [],
   "source": [
    "pYPK0_E_Z, stuffer = pYPK0.cut((EcoRV, ZraI))"
   ]
  },
  {
   "cell_type": "code",
   "execution_count": 20,
   "metadata": {
    "collapsed": false
   },
   "outputs": [
    {
     "data": {
      "text/plain": [
       "(Dseqrecord(-5681), Amplicon(860), Amplicon(1170), Amplicon(1105))"
      ]
     },
     "execution_count": 20,
     "metadata": {},
     "output_type": "execute_result"
    }
   ],
   "source": [
    "(pYPK0_E_Z, p, g, t)"
   ]
  },
  {
   "cell_type": "code",
   "execution_count": 21,
   "metadata": {
    "collapsed": false
   },
   "outputs": [],
   "source": [
    "asm =Assembly((pYPK0_E_Z, p, g, t), limit=31)"
   ]
  },
  {
   "cell_type": "code",
   "execution_count": 22,
   "metadata": {
    "collapsed": false
   },
   "outputs": [
    {
     "data": {
      "text/plain": [
       "Assembly\n",
       "fragments..: 5681bp 860bp 1170bp 1105bp\n",
       "limit(bp)..: 31\n",
       "G.nodes....: 8\n",
       "algorithm..: common_sub_strings"
      ]
     },
     "execution_count": 22,
     "metadata": {},
     "output_type": "execute_result"
    }
   ],
   "source": [
    "asm"
   ]
  },
  {
   "cell_type": "code",
   "execution_count": 23,
   "metadata": {
    "collapsed": false
   },
   "outputs": [
    {
     "data": {
      "text/plain": [
       " -|name|98\n",
       "|       \\/\n",
       "|       /\\\n",
       "|       98|860bp_PCR_prod|38\n",
       "|                         \\/\n",
       "|                         /\\\n",
       "|                         38|1170bp_PCR_prod|35\n",
       "|                                            \\/\n",
       "|                                            /\\\n",
       "|                                            35|1105bp_PCR_prod|61\n",
       "|                                                               \\/\n",
       "|                                                               /\\\n",
       "|                                                               61-\n",
       "|                                                                  |\n",
       " ------------------------------------------------------------------"
      ]
     },
     "execution_count": 23,
     "metadata": {},
     "output_type": "execute_result"
    }
   ],
   "source": [
    "candidate = asm.assemble_circular()[0]\n",
    "candidate.figure()"
   ]
  },
  {
   "cell_type": "code",
   "execution_count": 24,
   "metadata": {
    "collapsed": false
   },
   "outputs": [],
   "source": [
    "pYPK0_TDH3_PsXYL2_PGI1 = candidate.synced(pYPK0)"
   ]
  },
  {
   "cell_type": "markdown",
   "metadata": {},
   "source": [
    "The pYPK0_TDH3_PsXYL2_PGI1 has cseguid ```ycHQ8EOwqQihZOUFmIbCiwHhMZ0``` and 8015 bp"
   ]
  },
  {
   "cell_type": "code",
   "execution_count": 25,
   "metadata": {
    "collapsed": false
   },
   "outputs": [
    {
     "name": "stdout",
     "output_type": "stream",
     "text": [
      "8570\n"
     ]
    },
    {
     "data": {
      "text/plain": [
       "ycHQ8EOwqQihZOUFmIbCiwHhMZ0"
      ]
     },
     "execution_count": 25,
     "metadata": {},
     "output_type": "execute_result"
    }
   ],
   "source": [
    "print(len(pYPK0_TDH3_PsXYL2_PGI1))\n",
    "pYPK0_TDH3_PsXYL2_PGI1.cseguid()"
   ]
  },
  {
   "cell_type": "code",
   "execution_count": 26,
   "metadata": {
    "collapsed": false
   },
   "outputs": [
    {
     "data": {
      "text/plain": [
       "cSEGUID_ycHQ8EOwqQihZOUFmIbCiwHhMZ0"
      ]
     },
     "execution_count": 26,
     "metadata": {},
     "output_type": "execute_result"
    }
   ],
   "source": [
    "pYPK0_TDH3_PsXYL2_PGI1.name=\"pMEC1128\"\n",
    "#pYPK0_TDH3_PsXYL2_PGI1.description = \"pYPK0_TDH3_PsXYL2_PGI1tp\"\n",
    "pYPK0_TDH3_PsXYL2_PGI1.stamp()"
   ]
  },
  {
   "cell_type": "code",
   "execution_count": 27,
   "metadata": {
    "collapsed": false
   },
   "outputs": [
    {
     "data": {
      "text/html": [
       "<font face=monospace><a href='pYPK0_TDH3_PsXYL2_PGI1.gb' target='_blank'>pYPK0_TDH3_PsXYL2_PGI1.gb</a></font><br>"
      ]
     },
     "metadata": {},
     "output_type": "display_data"
    }
   ],
   "source": [
    "pYPK0_TDH3_PsXYL2_PGI1.write(\"pYPK0_TDH3_PsXYL2_PGI1.gb\")"
   ]
  },
  {
   "cell_type": "markdown",
   "metadata": {},
   "source": [
    "##Download sequence\n",
    "\n",
    "[pYPK0_TDH3_PsXYL2_PGI1tpp](pYPK0_TDH3_PsXYL2_PGI1.gb)"
   ]
  },
  {
   "cell_type": "code",
   "execution_count": 28,
   "metadata": {
    "collapsed": false
   },
   "outputs": [],
   "source": [
    "reloaded =read(\"pYPK0_TDH3_PsXYL2_PGI1.gb\")"
   ]
  },
  {
   "cell_type": "code",
   "execution_count": 29,
   "metadata": {
    "collapsed": false
   },
   "outputs": [
    {
     "data": {
      "text/plain": [
       "ycHQ8EOwqQihZOUFmIbCiwHhMZ0"
      ]
     },
     "execution_count": 29,
     "metadata": {},
     "output_type": "execute_result"
    }
   ],
   "source": [
    "reloaded.cseguid()"
   ]
  },
  {
   "cell_type": "code",
   "execution_count": 30,
   "metadata": {
    "collapsed": false
   },
   "outputs": [
    {
     "data": {
      "text/plain": [
       "'cSEGUID_ycHQ8EOwqQihZOUFmIbCiwHhMZ0_2018-05-15T07:38:25.887910'"
      ]
     },
     "execution_count": 30,
     "metadata": {},
     "output_type": "execute_result"
    }
   ],
   "source": [
    "reloaded.description"
   ]
  },
  {
   "cell_type": "code",
   "execution_count": 31,
   "metadata": {
    "collapsed": true
   },
   "outputs": [],
   "source": []
  }
 ],
 "metadata": {
  "kernelspec": {
   "display_name": "Python 3",
   "language": "python",
   "name": "python3"
  },
  "language_info": {
   "codemirror_mode": {
    "name": "ipython",
    "version": 3
   },
   "file_extension": ".py",
   "mimetype": "text/x-python",
   "name": "python",
   "nbconvert_exporter": "python",
   "pygments_lexer": "ipython3",
   "version": "3.7.2"
  }
 },
 "nbformat": 4,
 "nbformat_minor": 0
}
