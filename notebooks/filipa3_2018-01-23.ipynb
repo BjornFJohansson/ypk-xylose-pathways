{
 "cells": [
  {
   "cell_type": "markdown",
   "metadata": {},
   "source": [
    "# filipa3_2018-01-23 (pMEC1137)\n",
    "\n",
    "\n",
    "This vector expresses four genes and was assembled from four single gene expression cassettes:\n",
    "\n",
    "Gene | Enzyme | Acronym | Cassette\n",
    "-------------------------------------------------- |-------------------|---|-----|\n",
    "[ScTKL1](http://www.yeastgenome.org/locus/S000006278/overview) |Transketolase |TKL | [pYPK0_PDC1_ScTKL1_RPS19b](pYPK0_PDC1_ScTKL1_RPS19b.ipynb)\n",
    "[ScRPE1](http://www.yeastgenome.org/locus/S000003657/overview) |xylitol dehydrogenase |RPE | [pYPK0_RPS19b_ScRPE1_RPS19a](pYPK0_RPS19b_ScRPE1_RPS19a.ipynb)\n",
    "[ScRKI1](http://www.yeastgenome.org/locus/S000005621/overview) |Xylulokinase |RKI | [pYPK0_RPS19a_ScRKI1_TPI1](pYPK0_RPS19a_ScRKI1_TPI1.ipynb)\n",
    "[CiGXF1](http://mic.sgmjournals.org/content/154/6/1646.full) |Transaldolase |GXF | [pYPK0_TPI1_CiGXF1_ENO2](pYPK0_TPI1_CiGXF1_ENO2.ipynb)\n"
   ]
  },
  {
   "cell_type": "markdown",
   "metadata": {},
   "source": [
    "[Yeast Pathway Kit Standard Primers](ypk_std_primers.ipynb)"
   ]
  },
  {
   "cell_type": "markdown",
   "metadata": {},
   "source": [
    "    PDC1_ScTKL1_RPS19btp\n",
    "                RPS19b_ScRPE1_RPS19atp\n",
    "                              RPS19a_ScRKI1_TPI1tp\n",
    "                                            TPI1_CiGXF1_ENO2tp\n",
    "                                                        \n",
    "    pYPK0-PDC1-ScTKL1-RPS19b-ScRPE1-RPS19a-ScRKI1-TPI1-CiGXF1-ScENO2\n",
    "\n"
   ]
  },
  {
   "cell_type": "code",
   "execution_count": 1,
   "metadata": {},
   "outputs": [],
   "source": [
    "from pydna.all import *"
   ]
  },
  {
   "cell_type": "code",
   "execution_count": 2,
   "metadata": {},
   "outputs": [],
   "source": [
    "p567,p577,p468,p467,p568,p578,p775,p778,p167,p166 = parse(\"yeast_pahtway_kit_standard_primers.txt\")"
   ]
  },
  {
   "cell_type": "code",
   "execution_count": 3,
   "metadata": {},
   "outputs": [],
   "source": [
    "pYPKp3 = read(\"pYPKp3.gb\")"
   ]
  },
  {
   "cell_type": "code",
   "execution_count": 4,
   "metadata": {},
   "outputs": [],
   "source": [
    "from Bio.Restriction import EcoRV"
   ]
  },
  {
   "cell_type": "code",
   "execution_count": 5,
   "metadata": {},
   "outputs": [],
   "source": [
    "p1 =read(\"pYPK0_PDC1_ScTKL1_RPS19b.gb\")\n",
    "p2 =read(\"pYPK0_RPS19b_ScRPE1_RPS19a.gb\")\n",
    "p3 =read(\"pYPK0_RPS19a_ScRKI1_TPI1.gb\")\n",
    "p4 =read(\"pYPK0_TPI1_CiGXF1_ENO2.gb\")"
   ]
  },
  {
   "cell_type": "code",
   "execution_count": 6,
   "metadata": {},
   "outputs": [
    {
     "data": {
      "text/html": [
       "Amplicon(2047)"
      ],
      "text/plain": [
       "Amplicon(2047)"
      ]
     },
     "execution_count": 6,
     "metadata": {},
     "output_type": "execute_result"
    }
   ],
   "source": [
    "pcr( p775, p778, p3)"
   ]
  },
  {
   "cell_type": "code",
   "execution_count": 7,
   "metadata": {},
   "outputs": [],
   "source": [
    "cas1  =pcr( p577, p778, p1)\n",
    "cas2  =pcr( p775, p778, p2)\n",
    "cas3  =pcr( p775, p778, p3)\n",
    "cas4  =pcr( p775, p578, p4)"
   ]
  },
  {
   "cell_type": "code",
   "execution_count": 8,
   "metadata": {},
   "outputs": [],
   "source": [
    "lin_vector = pYPKp3.linearize(EcoRV)"
   ]
  },
  {
   "cell_type": "code",
   "execution_count": 9,
   "metadata": {},
   "outputs": [],
   "source": [
    "asm = Assembly( [lin_vector, cas1, cas2, cas3, cas4], limit = 61) # This limit is important!"
   ]
  },
  {
   "cell_type": "code",
   "execution_count": 10,
   "metadata": {},
   "outputs": [
    {
     "data": {
      "text/plain": [
       "Assembly\n",
       "fragments..: 5129bp 3904bp 2030bp 2047bp 3152bp\n",
       "limit(bp)..: 61\n",
       "G.nodes....: 12\n",
       "algorithm..: common_sub_strings"
      ]
     },
     "execution_count": 10,
     "metadata": {},
     "output_type": "execute_result"
    }
   ],
   "source": [
    "asm"
   ]
  },
  {
   "cell_type": "code",
   "execution_count": 11,
   "metadata": {},
   "outputs": [],
   "source": [
    "candidate = asm.assemble_circular()[0]"
   ]
  },
  {
   "cell_type": "code",
   "execution_count": 12,
   "metadata": {},
   "outputs": [
    {
     "data": {
      "text/plain": [
       " -|pYPKp3_lin|124\n",
       "|             \\/\n",
       "|             /\\\n",
       "|             124|3904bp_PCR_prod|639\n",
       "|                                 \\/\n",
       "|                                 /\\\n",
       "|                                 639|2030bp_PCR_prod|557\n",
       "|                                                     \\/\n",
       "|                                                     /\\\n",
       "|                                                     557|2047bp_PCR_prod|596\n",
       "|                                                                         \\/\n",
       "|                                                                         /\\\n",
       "|                                                                         596|3152bp_PCR_prod|242\n",
       "|                                                                                             \\/\n",
       "|                                                                                             /\\\n",
       "|                                                                                             242-\n",
       "|                                                                                                |\n",
       " ------------------------------------------------------------------------------------------------"
      ]
     },
     "execution_count": 12,
     "metadata": {},
     "output_type": "execute_result"
    }
   ],
   "source": [
    "candidate.figure()"
   ]
  },
  {
   "cell_type": "code",
   "execution_count": 13,
   "metadata": {},
   "outputs": [
    {
     "data": {
      "text/plain": [
       "tgvhIH110nJjoBUSnn0xajU4gk4"
      ]
     },
     "execution_count": 13,
     "metadata": {},
     "output_type": "execute_result"
    }
   ],
   "source": [
    "asm.assemble_circular()[0].cseguid()"
   ]
  },
  {
   "cell_type": "code",
   "execution_count": 14,
   "metadata": {},
   "outputs": [],
   "source": []
  }
 ],
 "metadata": {
  "kernelspec": {
   "display_name": "Python 3",
   "language": "python",
   "name": "python3"
  },
  "language_info": {
   "codemirror_mode": {
    "name": "ipython",
    "version": 3
   },
   "file_extension": ".py",
   "mimetype": "text/x-python",
   "name": "python",
   "nbconvert_exporter": "python",
   "pygments_lexer": "ipython3",
   "version": "3.7.2"
  }
 },
 "nbformat": 4,
 "nbformat_minor": 2
}
