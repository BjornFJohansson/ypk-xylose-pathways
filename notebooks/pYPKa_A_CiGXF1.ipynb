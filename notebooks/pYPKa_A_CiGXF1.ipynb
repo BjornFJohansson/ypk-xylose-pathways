{
 "cells": [
  {
   "cell_type": "code",
   "execution_count": 1,
   "metadata": {
    "collapsed": true
   },
   "outputs": [],
   "source": [
    "from pydna.all import *"
   ]
  },
  {
   "cell_type": "code",
   "execution_count": 2,
   "metadata": {
    "collapsed": false
   },
   "outputs": [],
   "source": [
    "pYPKa=read(\"pYPKa.gb\")\n",
    "\n",
    "\n",
    "from Bio.Restriction import ZraI, AjiI, EcoRV\n",
    "\n",
    "gb =Genbank(\"bjornjobbb@gmail.com\")\n",
    "\n",
    "enz = AjiI\n",
    "\n",
    "gene = gb.nucleotide(\"AJ937350\") # Candida intermedia gxf1 gene for glucose/xylose facilitator 1\n",
    "\n",
    "primers =parse('''\n",
    ">553_GXF1_YPK_fwd (29-mer)\n",
    "CGCGCCAAAatgtcacaagattcgcattc\n",
    "\n",
    ">552_GXF1_YPK_rev (22-mer)\n",
    "GGttaaacctgttcgtcggtgg\n",
    "''', ds=False)\n",
    "\n",
    "pYPKa_cut = pYPKa.cut(enz)[0]\n",
    "\n",
    "gene =pcr( primers, gene)\n",
    "\n",
    "pYPKa_enz_gene = (pYPKa_cut + gene).looped()\n",
    "\n",
    "pYPKa_enz_gene = pYPKa_enz_gene.synced(pYPKa)\n",
    "\n",
    "pYPKa_A_CiGXF1 = pYPKa_enz_gene"
   ]
  },
  {
   "cell_type": "code",
   "execution_count": 3,
   "metadata": {
    "collapsed": false
   },
   "outputs": [
    {
     "data": {
      "text/html": [
       "<font face=monospace><a href='pYPKa_A_CiGXF1.gb' target='_blank'>pYPKa_A_CiGXF1.gb</a></font><br>"
      ]
     },
     "metadata": {},
     "output_type": "display_data"
    }
   ],
   "source": [
    "pYPKa_A_CiGXF1.write(\"pYPKa_A_CiGXF1.gb\")"
   ]
  },
  {
   "cell_type": "code",
   "execution_count": 4,
   "metadata": {
    "collapsed": true
   },
   "outputs": [],
   "source": []
  }
 ],
 "metadata": {
  "anaconda-cloud": {},
  "kernelspec": {
   "display_name": "Python 3",
   "language": "python",
   "name": "python3"
  },
  "language_info": {
   "codemirror_mode": {
    "name": "ipython",
    "version": 3
   },
   "file_extension": ".py",
   "mimetype": "text/x-python",
   "name": "python",
   "nbconvert_exporter": "python",
   "pygments_lexer": "ipython3",
   "version": "3.7.2"
  }
 },
 "nbformat": 4,
 "nbformat_minor": 0
}
