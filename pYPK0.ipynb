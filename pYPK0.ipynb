{
 "cells": [
  {
   "cell_type": "markdown",
   "metadata": {},
   "source": [
    "#Construction of the pYPK0 vector\n",
    "The pYPK0 is a yeast / E. coli shuttle vector version of the pCAPs vector that was made through in-vivo homologous recombination with [pMEC1030](pMEC1030.ipynb). The pCAPs vector is described in detail in the notebook describing the [pYPKa](pYPKa.ipynb) vector.\n",
    "\n",
    "Important features are:\n",
    "* unique [ZraI](http://rebase.neb.com/rebase/enz/ZraI.html) site\n",
    "* unique [EcoRV](http://rebase.neb.com/rebase/enz/EcoRV.html) site\n",
    "* [URA3 marker](http://www.yeastgenome.org/locus/S000000747/overview)\n",
    "\n",
    "The pYPK0 is mainly used as a backbone for the tp_gene_tp cassettes (single gene cassettes).\n",
    "\n",
    "The strategy used to combine the pMEC1030 and pCAPs vectors into a yeas shuttle vector were described by [Iizasa & Nagano 2006](http://www.biotechniques.com/BiotechniquesJournal/2006/January/Highly-efficient-yeast-based-in-vivo-DNA-cloning-of-multiple-DNA-fragments-and-the-simultaneous-construction-of-yeast-Escherichia-coli-shuttle-vectors/biotechniques-45641.html?pageNum=1)\n",
    "\n",
    "![using pSU0](using_pSU0.jpg \"This figure is from the paper above\")\n",
    "\n",
    "Briefly, the pMEC1030 vector is digested with BamHI and EcoRI removing a small stuffer fragment. The target vector is digested in the ampicillin marker gene (using PstI in the figure). The linear vectors recombine between the amp marker and the pUC origin of replication."
   ]
  },
  {
   "cell_type": "code",
   "execution_count": 1,
   "metadata": {
    "collapsed": false
   },
   "outputs": [],
   "source": [
    "import pydna\n",
    "from pydna import ipynb_importer"
   ]
  },
  {
   "cell_type": "code",
   "execution_count": 2,
   "metadata": {
    "collapsed": false
   },
   "outputs": [],
   "source": [
    "pMEC1030=pydna.read(\"pMEC1030.gb\")"
   ]
  },
  {
   "cell_type": "markdown",
   "metadata": {},
   "source": [
    "pMEC1030 (4398 bp)should have cseguid \n",
    "```bg67Zek8TFW0rvcIs6-d4X6cV_w```"
   ]
  },
  {
   "cell_type": "code",
   "execution_count": 3,
   "metadata": {
    "collapsed": false
   },
   "outputs": [
    {
     "name": "stdout",
     "output_type": "stream",
     "text": [
      "4398\n"
     ]
    },
    {
     "data": {
      "text/plain": [
       "bg67Zek8TFW0rvcIs6-d4X6cV_w"
      ]
     },
     "execution_count": 3,
     "metadata": {},
     "output_type": "execute_result"
    }
   ],
   "source": [
    "print len(pMEC1030)\n",
    "pMEC1030.cseguid()"
   ]
  },
  {
   "cell_type": "code",
   "execution_count": 4,
   "metadata": {
    "collapsed": false
   },
   "outputs": [
    {
     "data": {
      "text/plain": [
       "'cSEGUID_bg67Zek8TFW0rvcIs6-d4X6cV_w_2015-07-15T11:54:18.887866'"
      ]
     },
     "execution_count": 4,
     "metadata": {},
     "output_type": "execute_result"
    }
   ],
   "source": [
    "pMEC1030.description"
   ]
  },
  {
   "cell_type": "markdown",
   "metadata": {},
   "source": [
    "The pCAPs part comes from a Genbank [record](http://www.ncbi.nlm.nih.gov/nuccore/AJ001614).\n",
    "Access to Genbank is needed in order to download the template.\n",
    "If you execute this script, change the email address below to your own.\n",
    "Always tell Genbank who you are, when using their web service."
   ]
  },
  {
   "cell_type": "code",
   "execution_count": 5,
   "metadata": {
    "collapsed": true
   },
   "outputs": [],
   "source": [
    "gb = pydna.Genbank(\"bjornjobbb@gmail.com\")"
   ]
  },
  {
   "cell_type": "code",
   "execution_count": 6,
   "metadata": {
    "collapsed": true
   },
   "outputs": [],
   "source": [
    "pCAPs = gb.nucleotide(\"AJ001614.1\")"
   ]
  },
  {
   "cell_type": "markdown",
   "metadata": {},
   "source": [
    "The restriction enzymes needed are imported from [Biopython](http://biopython.org/wiki/Main_Page)"
   ]
  },
  {
   "cell_type": "code",
   "execution_count": 7,
   "metadata": {
    "collapsed": true
   },
   "outputs": [],
   "source": [
    "from Bio.Restriction import BamHI, EcoRI, PvuI"
   ]
  },
  {
   "cell_type": "markdown",
   "metadata": {},
   "source": [
    "The pMEC1030 is cut with BamHI and EcoRI and the pCAPs is cut with PvuI in the amp marker. PvuI was chosen over PstI since in the pCAPs vector PstI cuts in thecrp gene and not in the amp marker."
   ]
  },
  {
   "cell_type": "code",
   "execution_count": 8,
   "metadata": {
    "collapsed": false
   },
   "outputs": [
    {
     "data": {
      "text/plain": [
       "[Dseqrecord(-3130)]"
      ]
     },
     "execution_count": 8,
     "metadata": {},
     "output_type": "execute_result"
    }
   ],
   "source": [
    "pCAPs.cut(PvuI)"
   ]
  },
  {
   "cell_type": "code",
   "execution_count": 9,
   "metadata": {
    "collapsed": true
   },
   "outputs": [],
   "source": [
    "psu_bam_eco, stuffer = pMEC1030.cut(BamHI, EcoRI)\n",
    "pcaps_pvu = pCAPs.linearize(PvuI)"
   ]
  },
  {
   "cell_type": "code",
   "execution_count": 10,
   "metadata": {
    "collapsed": false
   },
   "outputs": [],
   "source": [
    "asm = pydna.Assembly((pcaps_pvu, psu_bam_eco), limit=200)"
   ]
  },
  {
   "cell_type": "code",
   "execution_count": 11,
   "metadata": {
    "collapsed": true
   },
   "outputs": [],
   "source": [
    "candidate = asm.circular_products[0]"
   ]
  },
  {
   "cell_type": "code",
   "execution_count": 12,
   "metadata": {
    "collapsed": false
   },
   "outputs": [
    {
     "data": {
      "text/plain": [
       " -|pMEC1030|700\n",
       "|           \\/\n",
       "|           /\\\n",
       "|           700|AJ001614_rc|245\n",
       "|                           \\/\n",
       "|                           /\\\n",
       "|                           245-\n",
       "|                              |\n",
       " ------------------------------"
      ]
     },
     "execution_count": 12,
     "metadata": {},
     "output_type": "execute_result"
    }
   ],
   "source": [
    "candidate.figure()"
   ]
  },
  {
   "cell_type": "code",
   "execution_count": 13,
   "metadata": {
    "collapsed": true
   },
   "outputs": [],
   "source": [
    "pYPK0 = candidate.synced(pCAPs)"
   ]
  },
  {
   "cell_type": "markdown",
   "metadata": {},
   "source": [
    "The cseguid of pYPK0 should be qSJ95NM815X60yBy4l6iI69a_Dw and the size 5762 bp."
   ]
  },
  {
   "cell_type": "code",
   "execution_count": 14,
   "metadata": {
    "collapsed": false
   },
   "outputs": [
    {
     "name": "stdout",
     "output_type": "stream",
     "text": [
      "5762\n"
     ]
    },
    {
     "data": {
      "text/plain": [
       "qSJ95NM815X60yBy4l6iI69a_Dw"
      ]
     },
     "execution_count": 14,
     "metadata": {},
     "output_type": "execute_result"
    }
   ],
   "source": [
    "print len(pYPK0)\n",
    "pYPK0.cseguid()"
   ]
  },
  {
   "cell_type": "code",
   "execution_count": 15,
   "metadata": {
    "collapsed": false
   },
   "outputs": [
    {
     "data": {
      "text/plain": [
       "cSEGUID_qSJ95NM815X60yBy4l6iI69a_Dw_2015-07-15T11:55:09.522091"
      ]
     },
     "execution_count": 15,
     "metadata": {},
     "output_type": "execute_result"
    }
   ],
   "source": [
    "pYPK0.stamp()"
   ]
  },
  {
   "cell_type": "code",
   "execution_count": 16,
   "metadata": {
    "collapsed": false
   },
   "outputs": [],
   "source": [
    "pYPK0.name = \"pYKP0\""
   ]
  },
  {
   "cell_type": "code",
   "execution_count": 17,
   "metadata": {
    "collapsed": false
   },
   "outputs": [
    {
     "data": {
      "text/markdown": [
       "###[pYPK0](pYPK0.gb)"
      ],
      "text/plain": [
       "<IPython.core.display.Markdown object>"
      ]
     },
     "execution_count": 17,
     "metadata": {},
     "output_type": "execute_result"
    }
   ],
   "source": [
    "pYPK0.write(\"pYPK0.gb\")"
   ]
  },
  {
   "cell_type": "markdown",
   "metadata": {},
   "source": [
    "### Download\n",
    "[pYPK0](pYPK0.gb)"
   ]
  },
  {
   "cell_type": "code",
   "execution_count": 21,
   "metadata": {
    "collapsed": false
   },
   "outputs": [
    {
     "data": {
      "text/plain": [
       "cSEGUID_qSJ95NM815X60yBy4l6iI69a_Dw"
      ]
     },
     "execution_count": 21,
     "metadata": {},
     "output_type": "execute_result"
    }
   ],
   "source": [
    "import pydna\n",
    "reloaded = pydna.read(\"pYPK0.gb\")\n",
    "reloaded.verify_stamp()"
   ]
  },
  {
   "cell_type": "code",
   "execution_count": null,
   "metadata": {
    "collapsed": true
   },
   "outputs": [],
   "source": []
  }
 ],
 "metadata": {
  "kernelspec": {
   "display_name": "Python 2",
   "language": "python",
   "name": "python2"
  },
  "language_info": {
   "codemirror_mode": {
    "name": "ipython",
    "version": 2
   },
   "file_extension": ".py",
   "mimetype": "text/x-python",
   "name": "python",
   "nbconvert_exporter": "python",
   "pygments_lexer": "ipython2",
   "version": "2.7.10"
  }
 },
 "nbformat": 4,
 "nbformat_minor": 0
}
